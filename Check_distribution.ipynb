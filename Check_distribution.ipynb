{
 "cells": [
  {
   "cell_type": "code",
   "execution_count": 7,
   "metadata": {
    "collapsed": true,
    "ExecuteTime": {
     "start_time": "2024-07-17T19:16:27.920157Z",
     "end_time": "2024-07-17T19:16:27.934619Z"
    }
   },
   "outputs": [],
   "source": [
    "import pandas as pd\n",
    "import numpy as np\n",
    "import warnings"
   ]
  },
  {
   "cell_type": "code",
   "execution_count": 20,
   "outputs": [],
   "source": [
    "from src.validation import DataValidation\n",
    "from src.helpers import distribution"
   ],
   "metadata": {
    "collapsed": false,
    "ExecuteTime": {
     "start_time": "2024-07-17T19:23:31.579659Z",
     "end_time": "2024-07-17T19:23:31.592958Z"
    }
   }
  },
  {
   "cell_type": "code",
   "execution_count": 5,
   "outputs": [],
   "source": [
    "warnings.filterwarnings('ignore')"
   ],
   "metadata": {
    "collapsed": false,
    "ExecuteTime": {
     "start_time": "2024-07-17T19:15:35.447895Z",
     "end_time": "2024-07-17T19:15:35.460678Z"
    }
   }
  },
  {
   "cell_type": "code",
   "execution_count": 6,
   "outputs": [],
   "source": [
    "train_df_clear = pd.read_csv('./data/df_train_preprop_clear.csv')\n",
    "train_df = pd.read_csv('./data/df_train_preprop.csv')\n",
    "test_df = pd.read_csv('./data/df_test_preprop.csv')"
   ],
   "metadata": {
    "collapsed": false,
    "ExecuteTime": {
     "start_time": "2024-07-17T19:15:36.297939Z",
     "end_time": "2024-07-17T19:15:38.222258Z"
    }
   }
  },
  {
   "cell_type": "code",
   "execution_count": 8,
   "outputs": [],
   "source": [
    "numerical_columns = np.load('./data/vars/all_numerical_columns.npy')"
   ],
   "metadata": {
    "collapsed": false,
    "ExecuteTime": {
     "start_time": "2024-07-17T19:16:29.912474Z",
     "end_time": "2024-07-17T19:16:29.928415Z"
    }
   }
  },
  {
   "cell_type": "code",
   "execution_count": 11,
   "outputs": [],
   "source": [
    "idx = np.argwhere(numerical_columns=='item_losses')\n",
    "numerical_columns = np.delete(numerical_columns, idx)"
   ],
   "metadata": {
    "collapsed": false,
    "ExecuteTime": {
     "start_time": "2024-07-17T19:17:18.195974Z",
     "end_time": "2024-07-17T19:17:18.225680Z"
    }
   }
  },
  {
   "cell_type": "markdown",
   "source": [
    "### Clear train and test"
   ],
   "metadata": {
    "collapsed": false
   }
  },
  {
   "cell_type": "code",
   "execution_count": 15,
   "outputs": [],
   "source": [
    "params = {\n",
    "    'control': train_df_clear,\n",
    "    'test': test_df,\n",
    "    'score_column': 'item_price',\n",
    "    'num_bins': 10,\n",
    "    'metric': 'PSI'\n",
    "}"
   ],
   "metadata": {
    "collapsed": false,
    "ExecuteTime": {
     "start_time": "2024-07-17T19:19:42.320110Z",
     "end_time": "2024-07-17T19:19:42.335833Z"
    }
   }
  },
  {
   "cell_type": "code",
   "execution_count": 16,
   "outputs": [
    {
     "name": "stdout",
     "output_type": "stream",
     "text": [
      "Переменная: departure_country \n",
      "Результат проверки: Distribution is stable \n",
      "Значение PSI: 3.561348960673753e-06\n",
      "Переменная: departure_city \n",
      "Результат проверки: Distribution is stable \n",
      "Значение PSI: 0.0011904910861705767\n",
      "Переменная: departure_region \n",
      "Результат проверки: Distribution is stable \n",
      "Значение PSI: 0.003888997470647736\n",
      "Переменная: arrival_country \n",
      "Результат проверки: Distribution is stable \n",
      "Значение PSI: 2.6071940919439546e-05\n",
      "Переменная: arrival_city \n",
      "Результат проверки: Distribution is stable \n",
      "Значение PSI: 0.0009780680034270368\n",
      "Переменная: arrival_region \n",
      "Результат проверки: Distribution is stable \n",
      "Значение PSI: 0.006066681041654985\n",
      "Переменная: item_type \n",
      "Результат проверки: Distribution is stable \n",
      "Значение PSI: 0.0\n",
      "Переменная: client_device_type \n",
      "Результат проверки: Distribution is stable \n",
      "Значение PSI: 0.0012178423342238368\n",
      "Переменная: client_browser \n",
      "Результат проверки: Distribution is stable \n",
      "Значение PSI: 0.002942517312952483\n",
      "Переменная: client_is_app \n",
      "Результат проверки: Distribution is stable \n",
      "Значение PSI: 0.0004421904115316748\n",
      "Переменная: order_tracking_available \n",
      "Результат проверки: Distribution is stable \n",
      "Значение PSI: 0.0\n",
      "Переменная: type_prepayment \n",
      "Результат проверки: Critical changes in distribution \n",
      "Значение PSI: 6.832227607297595\n",
      "Переменная: item_price \n",
      "Результат проверки: Distribution is stable \n",
      "Значение PSI: 0.05232680771858381\n"
     ]
    }
   ],
   "source": [
    "for i in numerical_columns:\n",
    "    params['score_column'] = i\n",
    "    check_distribution = DataValidation(**params)\n",
    "    psi_result, psi_value, buckets = check_distribution.calculate_stability()\n",
    "    print(f'Переменная: {i} \\nРезультат проверки: {psi_result} \\nЗначение PSI: {psi_value}')"
   ],
   "metadata": {
    "collapsed": false,
    "ExecuteTime": {
     "start_time": "2024-07-17T19:19:42.707157Z",
     "end_time": "2024-07-17T19:19:46.037650Z"
    }
   }
  },
  {
   "cell_type": "code",
   "execution_count": 14,
   "outputs": [],
   "source": [
    "# Переменная type_prepayment содержит критические изменения, сравним полный тренировочный и тестовый датасеты"
   ],
   "metadata": {
    "collapsed": false,
    "ExecuteTime": {
     "start_time": "2024-07-17T19:18:43.712944Z",
     "end_time": "2024-07-17T19:18:43.735124Z"
    }
   }
  },
  {
   "cell_type": "markdown",
   "source": [
    "### Full train and test"
   ],
   "metadata": {
    "collapsed": false
   }
  },
  {
   "cell_type": "code",
   "execution_count": 17,
   "outputs": [],
   "source": [
    "params = {\n",
    "    'control': train_df,\n",
    "    'test': test_df,\n",
    "    'score_column': 'item_price',\n",
    "    'num_bins': 10,\n",
    "    'metric': 'PSI'\n",
    "}"
   ],
   "metadata": {
    "collapsed": false,
    "ExecuteTime": {
     "start_time": "2024-07-17T19:20:18.203399Z",
     "end_time": "2024-07-17T19:20:18.216884Z"
    }
   }
  },
  {
   "cell_type": "code",
   "execution_count": 18,
   "outputs": [
    {
     "name": "stdout",
     "output_type": "stream",
     "text": [
      "Переменная: departure_country \n",
      "Результат проверки: Distribution is stable \n",
      "Значение PSI: 0.00019171381460214159\n",
      "Переменная: departure_city \n",
      "Результат проверки: Distribution is stable \n",
      "Значение PSI: 0.0022098500180672185\n",
      "Переменная: departure_region \n",
      "Результат проверки: Distribution is stable \n",
      "Значение PSI: 0.008624287181294195\n",
      "Переменная: arrival_country \n",
      "Результат проверки: Distribution is stable \n",
      "Значение PSI: 0.00040832436731915215\n",
      "Переменная: arrival_city \n",
      "Результат проверки: Distribution is stable \n",
      "Значение PSI: 0.0012689950840358065\n",
      "Переменная: arrival_region \n",
      "Результат проверки: Distribution is stable \n",
      "Значение PSI: 0.010611638091023638\n",
      "Переменная: item_type \n",
      "Результат проверки: Distribution is stable \n",
      "Значение PSI: 0.0\n",
      "Переменная: client_device_type \n",
      "Результат проверки: Distribution is stable \n",
      "Значение PSI: 0.001937750965000689\n",
      "Переменная: client_browser \n",
      "Результат проверки: Distribution is stable \n",
      "Значение PSI: 0.002787284209414549\n",
      "Переменная: client_is_app \n",
      "Результат проверки: Distribution is stable \n",
      "Значение PSI: 0.0016977190712445173\n",
      "Переменная: order_tracking_available \n",
      "Результат проверки: Distribution is stable \n",
      "Значение PSI: 0.0\n",
      "Переменная: type_prepayment \n",
      "Результат проверки: Critical changes in distribution \n",
      "Значение PSI: 6.9124314537359\n",
      "Переменная: item_price \n",
      "Результат проверки: Distribution is stable \n",
      "Значение PSI: 0.009004643047731806\n"
     ]
    }
   ],
   "source": [
    "for i in numerical_columns:\n",
    "    params['score_column'] = i\n",
    "    check_distribution = DataValidation(**params)\n",
    "    psi_result, psi_value, buckets = check_distribution.calculate_stability()\n",
    "    print(f'Переменная: {i} \\nРезультат проверки: {psi_result} \\nЗначение PSI: {psi_value}')"
   ],
   "metadata": {
    "collapsed": false,
    "ExecuteTime": {
     "start_time": "2024-07-17T19:20:19.035696Z",
     "end_time": "2024-07-17T19:20:26.127319Z"
    }
   }
  },
  {
   "cell_type": "code",
   "execution_count": 26,
   "outputs": [],
   "source": [
    "# Аналогичная картина, изменения в распределении не связаны с очисткой обучающего набора данных. Но может негативно сказаться на точности предсказания на тестовой выборке."
   ],
   "metadata": {
    "collapsed": false,
    "ExecuteTime": {
     "start_time": "2024-07-17T19:26:59.150932Z",
     "end_time": "2024-07-17T19:26:59.156433Z"
    }
   }
  },
  {
   "cell_type": "markdown",
   "source": [
    "### Check type_prepayment distribution"
   ],
   "metadata": {
    "collapsed": false
   }
  },
  {
   "cell_type": "code",
   "execution_count": 22,
   "outputs": [],
   "source": [
    "train_df = pd.read_csv('./data/df_train.csv')\n",
    "test_df = pd.read_csv('./data/df_test.csv')"
   ],
   "metadata": {
    "collapsed": false,
    "ExecuteTime": {
     "start_time": "2024-07-17T19:25:10.714390Z",
     "end_time": "2024-07-17T19:25:13.181758Z"
    }
   }
  },
  {
   "cell_type": "code",
   "execution_count": 24,
   "outputs": [
    {
     "data": {
      "text/plain": "2    0.835213\n1    0.090321\n0    0.074380\n3    0.000087\nName: type_prepayment, dtype: float64"
     },
     "execution_count": 24,
     "metadata": {},
     "output_type": "execute_result"
    }
   ],
   "source": [
    "train_df['type_prepayment'].value_counts(normalize=True)"
   ],
   "metadata": {
    "collapsed": false,
    "ExecuteTime": {
     "start_time": "2024-07-17T19:26:03.534101Z",
     "end_time": "2024-07-17T19:26:03.541349Z"
    }
   }
  },
  {
   "cell_type": "code",
   "execution_count": 25,
   "outputs": [
    {
     "data": {
      "text/plain": "1    0.602438\n0    0.396277\n3    0.001285\nName: type_prepayment, dtype: float64"
     },
     "execution_count": 25,
     "metadata": {},
     "output_type": "execute_result"
    }
   ],
   "source": [
    "test_df['type_prepayment'].value_counts(normalize=True)"
   ],
   "metadata": {
    "collapsed": false,
    "ExecuteTime": {
     "start_time": "2024-07-17T19:26:14.026095Z",
     "end_time": "2024-07-17T19:26:14.054170Z"
    }
   }
  },
  {
   "cell_type": "code",
   "execution_count": 27,
   "outputs": [],
   "source": [
    "# Признак не вносит существенный вклад в обобщающую способность модели, не будем использовать его для обучения."
   ],
   "metadata": {
    "collapsed": false,
    "ExecuteTime": {
     "start_time": "2024-07-17T19:28:45.705575Z",
     "end_time": "2024-07-17T19:28:45.734624Z"
    }
   }
  },
  {
   "cell_type": "code",
   "execution_count": 28,
   "outputs": [],
   "source": [
    "# Перейдем к обучению модели Training.ipynb"
   ],
   "metadata": {
    "collapsed": false,
    "ExecuteTime": {
     "start_time": "2024-07-17T19:29:38.697254Z",
     "end_time": "2024-07-17T19:29:38.738850Z"
    }
   }
  },
  {
   "cell_type": "code",
   "execution_count": null,
   "outputs": [],
   "source": [],
   "metadata": {
    "collapsed": false
   }
  }
 ],
 "metadata": {
  "kernelspec": {
   "display_name": "Python 3",
   "language": "python",
   "name": "python3"
  },
  "language_info": {
   "codemirror_mode": {
    "name": "ipython",
    "version": 2
   },
   "file_extension": ".py",
   "mimetype": "text/x-python",
   "name": "python",
   "nbconvert_exporter": "python",
   "pygments_lexer": "ipython2",
   "version": "2.7.6"
  }
 },
 "nbformat": 4,
 "nbformat_minor": 0
}
