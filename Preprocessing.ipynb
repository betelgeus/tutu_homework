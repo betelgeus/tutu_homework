{
 "cells": [
  {
   "cell_type": "code",
   "execution_count": 7,
   "metadata": {
    "collapsed": true,
    "ExecuteTime": {
     "start_time": "2024-07-17T19:14:47.164404Z",
     "end_time": "2024-07-17T19:14:47.167320Z"
    }
   },
   "outputs": [],
   "source": [
    "import pandas as pd\n",
    "import numpy as np"
   ]
  },
  {
   "cell_type": "code",
   "execution_count": 8,
   "outputs": [],
   "source": [
    "categorical_features = np.load('./data/vars/categorical_columns.npy')\n",
    "date_features = np.load('./data/vars/date_features_columns.npy')\n",
    "columns_for_drop = np.load('./data/vars/columns_for_drop.npy')"
   ],
   "metadata": {
    "collapsed": false,
    "ExecuteTime": {
     "start_time": "2024-07-17T19:14:47.673636Z",
     "end_time": "2024-07-17T19:14:47.687492Z"
    }
   }
  },
  {
   "cell_type": "code",
   "execution_count": 9,
   "outputs": [],
   "source": [
    "train_df = pd.read_csv('./data/df_train.csv')\n",
    "test_df = pd.read_csv('./data/df_test.csv')"
   ],
   "metadata": {
    "collapsed": false,
    "ExecuteTime": {
     "start_time": "2024-07-17T19:14:48.522880Z",
     "end_time": "2024-07-17T19:14:51.733234Z"
    }
   }
  },
  {
   "cell_type": "code",
   "execution_count": 10,
   "outputs": [],
   "source": [
    "train_df.drop(train_df.columns[0], axis=1, inplace=True)\n",
    "test_df.drop(test_df.columns[0], axis=1, inplace=True)"
   ],
   "metadata": {
    "collapsed": false,
    "ExecuteTime": {
     "start_time": "2024-07-17T19:14:56.549459Z",
     "end_time": "2024-07-17T19:14:56.574733Z"
    }
   }
  },
  {
   "cell_type": "code",
   "execution_count": 11,
   "outputs": [],
   "source": [
    "train_df['client_is_app'] = train_df['client_is_app'].astype('int')\n",
    "test_df['client_is_app'] = test_df['client_is_app'].astype('int')"
   ],
   "metadata": {
    "collapsed": false,
    "ExecuteTime": {
     "start_time": "2024-07-17T19:14:57.305633Z",
     "end_time": "2024-07-17T19:14:57.323012Z"
    }
   }
  },
  {
   "cell_type": "code",
   "execution_count": 12,
   "outputs": [],
   "source": [
    "train_df['order_hour'] = pd.to_datetime(train_df[date_features[0]], format='%Y-%m-%d', errors='coerce').dt.hour\n",
    "test_df['order_hour'] = pd.to_datetime(test_df[date_features[0]], format='%Y-%m-%d', errors='coerce').dt.hour"
   ],
   "metadata": {
    "collapsed": false,
    "ExecuteTime": {
     "start_time": "2024-07-17T19:14:58.932662Z",
     "end_time": "2024-07-17T19:14:58.987503Z"
    }
   }
  },
  {
   "cell_type": "code",
   "execution_count": 13,
   "outputs": [],
   "source": [
    "train_df[date_features[0]] = pd.to_datetime(train_df[date_features[0]], format='%Y-%m-%d', errors='coerce').dt.date\n",
    "train_df[date_features[1]] = pd.to_datetime(train_df[date_features[1]], format='%H-%M-%S %Y-%m-%d', errors='coerce').dt.date\n",
    "train_df[date_features[2]] = pd.to_datetime(train_df[date_features[2]], format='%H-%M-%S %Y-%m-%d', errors='coerce').dt.date\n",
    "train_df[date_features[3]] = pd.to_datetime(train_df[date_features[3]], format='%H-%M-%S %Y-%m-%d', errors='coerce').dt.date\n",
    "\n",
    "test_df[date_features[0]] = pd.to_datetime(test_df[date_features[0]], format='%Y-%m-%d', errors='coerce').dt.date\n",
    "test_df[date_features[1]] = pd.to_datetime(test_df[date_features[1]], format='%H-%M-%S %Y-%m-%d', errors='coerce').dt.date\n",
    "test_df[date_features[2]] = pd.to_datetime(test_df[date_features[2]], format='%H-%M-%S %Y-%m-%d', errors='coerce').dt.date\n",
    "test_df[date_features[3]] = pd.to_datetime(test_df[date_features[3]], format='%H-%M-%S %Y-%m-%d', errors='coerce').dt.date"
   ],
   "metadata": {
    "collapsed": false,
    "ExecuteTime": {
     "start_time": "2024-07-17T19:15:00.819500Z",
     "end_time": "2024-07-17T19:15:07.939321Z"
    }
   }
  },
  {
   "cell_type": "code",
   "execution_count": 14,
   "outputs": [],
   "source": [
    "train_df['order_arrival_diff'] = (pd.to_datetime(train_df[date_features[3]]) - pd.to_datetime(train_df[date_features[0]])).dt.days\n",
    "train_df['order_stock_diff'] = (pd.to_datetime(train_df[date_features[1]]) - pd.to_datetime(train_df[date_features[0]])).dt.days\n",
    "train_df['stock_delivery_service_diff'] = (pd.to_datetime(train_df[date_features[2]]) - pd.to_datetime(train_df[date_features[1]])).dt.days\n",
    "train_df['delivery_service_arrival_diff'] = (pd.to_datetime(train_df[date_features[3]]) - pd.to_datetime(train_df[date_features[2]])).dt.days\n",
    "\n",
    "test_df['order_arrival_diff'] = (pd.to_datetime(test_df[date_features[3]]) - pd.to_datetime(test_df[date_features[0]])).dt.days\n",
    "test_df['order_stock_diff'] = (pd.to_datetime(test_df[date_features[1]]) - pd.to_datetime(test_df[date_features[0]])).dt.days\n",
    "test_df['stock_delivery_service_diff'] = (pd.to_datetime(test_df[date_features[2]]) - pd.to_datetime(test_df[date_features[1]])).dt.days\n",
    "test_df['delivery_service_arrival_diff'] = (pd.to_datetime(test_df[date_features[3]]) - pd.to_datetime(test_df[date_features[2]])).dt.days"
   ],
   "metadata": {
    "collapsed": false,
    "ExecuteTime": {
     "start_time": "2024-07-17T19:15:07.965795Z",
     "end_time": "2024-07-17T19:15:08.637665Z"
    }
   }
  },
  {
   "cell_type": "code",
   "execution_count": 15,
   "outputs": [],
   "source": [
    "train_df['order_day'] = pd.to_datetime(train_df[date_features[0]]).dt.day_name()\n",
    "train_df['stock_departure_day'] = pd.to_datetime(train_df[date_features[1]]).dt.day_name()\n",
    "train_df['delivery_service_departure_day'] = pd.to_datetime(train_df[date_features[2]]).dt.day_name()\n",
    "train_df['client_arrival_day'] = pd.to_datetime(train_df[date_features[3]]).dt.day_name()\n",
    "\n",
    "test_df['order_day'] = pd.to_datetime(test_df[date_features[0]]).dt.day_name()\n",
    "test_df['stock_departure_day'] = pd.to_datetime(test_df[date_features[1]]).dt.day_name()\n",
    "test_df['delivery_service_departure_day'] = pd.to_datetime(test_df[date_features[2]]).dt.day_name()\n",
    "test_df['client_arrival_day'] = pd.to_datetime(test_df[date_features[3]]).dt.day_name()"
   ],
   "metadata": {
    "collapsed": false,
    "ExecuteTime": {
     "start_time": "2024-07-17T19:15:08.663769Z",
     "end_time": "2024-07-17T19:15:09.786228Z"
    }
   }
  },
  {
   "cell_type": "code",
   "execution_count": 16,
   "outputs": [
    {
     "name": "stdout",
     "output_type": "stream",
     "text": [
      "['client_keywords' 'order_id' 'item_losses' 'order_date'\n",
      " 'stock_departure_date' 'delivery_service_departure_date'\n",
      " 'client_arrival_date']\n"
     ]
    }
   ],
   "source": [
    "print(columns_for_drop)"
   ],
   "metadata": {
    "collapsed": false,
    "ExecuteTime": {
     "start_time": "2024-07-17T19:15:09.788003Z",
     "end_time": "2024-07-17T19:15:09.800598Z"
    }
   }
  },
  {
   "cell_type": "code",
   "execution_count": 17,
   "outputs": [],
   "source": [
    "idx = np.argwhere(columns_for_drop=='item_losses')\n",
    "columns_for_drop = np.delete(columns_for_drop, idx)"
   ],
   "metadata": {
    "collapsed": false,
    "ExecuteTime": {
     "start_time": "2024-07-17T19:15:09.794625Z",
     "end_time": "2024-07-17T19:15:09.800855Z"
    }
   }
  },
  {
   "cell_type": "code",
   "execution_count": 18,
   "outputs": [],
   "source": [
    "train_df.drop(columns_for_drop, axis=1, inplace=True)\n",
    "test_df.drop(columns_for_drop, axis=1, inplace=True)"
   ],
   "metadata": {
    "collapsed": false,
    "ExecuteTime": {
     "start_time": "2024-07-17T19:15:09.799940Z",
     "end_time": "2024-07-17T19:15:09.979953Z"
    }
   }
  },
  {
   "cell_type": "code",
   "execution_count": 19,
   "outputs": [],
   "source": [
    "train_df_clear = train_df[train_df['item_losses'] > 0]\n",
    "train_df_clear = train_df_clear[train_df_clear['item_losses'].round(6) != 180.042271]"
   ],
   "metadata": {
    "collapsed": false,
    "ExecuteTime": {
     "start_time": "2024-07-17T19:15:09.982920Z",
     "end_time": "2024-07-17T19:15:10.188336Z"
    }
   }
  },
  {
   "cell_type": "code",
   "execution_count": 20,
   "outputs": [],
   "source": [
    "train_df.to_csv('./data/df_train_preprop.csv', index=False)\n",
    "train_df_clear.to_csv('./data/df_train_preprop_clear.csv', index=False)\n",
    "test_df.to_csv('./data/df_test_preprop.csv', index=False)"
   ],
   "metadata": {
    "collapsed": false,
    "ExecuteTime": {
     "start_time": "2024-07-17T19:15:10.191973Z",
     "end_time": "2024-07-17T19:15:17.165712Z"
    }
   }
  },
  {
   "cell_type": "code",
   "execution_count": 21,
   "outputs": [],
   "source": [
    "# Сравним распределения в Check_distribution.ipynb"
   ],
   "metadata": {
    "collapsed": false,
    "ExecuteTime": {
     "start_time": "2024-07-17T19:15:17.166677Z",
     "end_time": "2024-07-17T19:15:17.169511Z"
    }
   }
  },
  {
   "cell_type": "code",
   "execution_count": null,
   "outputs": [],
   "source": [],
   "metadata": {
    "collapsed": false
   }
  }
 ],
 "metadata": {
  "kernelspec": {
   "display_name": "Python 3",
   "language": "python",
   "name": "python3"
  },
  "language_info": {
   "codemirror_mode": {
    "name": "ipython",
    "version": 2
   },
   "file_extension": ".py",
   "mimetype": "text/x-python",
   "name": "python",
   "nbconvert_exporter": "python",
   "pygments_lexer": "ipython2",
   "version": "2.7.6"
  }
 },
 "nbformat": 4,
 "nbformat_minor": 0
}
