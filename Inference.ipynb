{
 "cells": [
  {
   "cell_type": "code",
   "execution_count": 1,
   "metadata": {
    "collapsed": true,
    "ExecuteTime": {
     "start_time": "2024-07-17T20:39:01.039274Z",
     "end_time": "2024-07-17T20:39:01.233732Z"
    }
   },
   "outputs": [],
   "source": [
    "import pandas as pd\n",
    "import numpy as np\n",
    "from catboost import CatBoostRegressor, Pool"
   ]
  },
  {
   "cell_type": "code",
   "execution_count": 4,
   "outputs": [],
   "source": [
    "df = pd.read_csv('./data/df_test.csv')\n",
    "test_df = pd.read_csv('./data/df_test_preprop.csv')"
   ],
   "metadata": {
    "collapsed": false,
    "ExecuteTime": {
     "start_time": "2024-07-17T20:41:49.998212Z",
     "end_time": "2024-07-17T20:41:51.168341Z"
    }
   }
  },
  {
   "cell_type": "code",
   "execution_count": 5,
   "outputs": [],
   "source": [
    "cat_features = np.load('./data/vars/categorical_columns.npy')\n",
    "columns_for_drop = ['type_prepayment', 'order_hour', 'departure_region', 'item_package_type', 'stock_delivery_service_diff', 'stock_departure_day', 'client_device_type', 'client_browser', 'arrival_country', 'delivery_service_departure_day', 'client_arrival_day', 'order_day', 'item_type', 'departure_country', 'client_is_app', 'order_tracking_available']"
   ],
   "metadata": {
    "collapsed": false,
    "ExecuteTime": {
     "start_time": "2024-07-17T20:41:54.813180Z",
     "end_time": "2024-07-17T20:41:54.824566Z"
    }
   }
  },
  {
   "cell_type": "code",
   "execution_count": 6,
   "outputs": [],
   "source": [
    "test_df.drop(columns_for_drop, axis=1, inplace=True)"
   ],
   "metadata": {
    "collapsed": false,
    "ExecuteTime": {
     "start_time": "2024-07-17T20:41:55.306355Z",
     "end_time": "2024-07-17T20:41:55.318140Z"
    }
   }
  },
  {
   "cell_type": "code",
   "execution_count": 7,
   "outputs": [],
   "source": [
    "cat_features = [i for i in cat_features if i not in columns_for_drop]"
   ],
   "metadata": {
    "collapsed": false,
    "ExecuteTime": {
     "start_time": "2024-07-17T20:42:02.882597Z",
     "end_time": "2024-07-17T20:42:02.970809Z"
    }
   }
  },
  {
   "cell_type": "code",
   "execution_count": 8,
   "outputs": [],
   "source": [
    "test_df[cat_features] = test_df[cat_features].astype(str)\n",
    "test_df[cat_features] = test_df[cat_features].fillna('None')"
   ],
   "metadata": {
    "collapsed": false,
    "ExecuteTime": {
     "start_time": "2024-07-17T20:42:17.429816Z",
     "end_time": "2024-07-17T20:42:17.692540Z"
    }
   }
  },
  {
   "cell_type": "code",
   "execution_count": 9,
   "outputs": [],
   "source": [
    "ctb_reg = CatBoostRegressor()"
   ],
   "metadata": {
    "collapsed": false,
    "ExecuteTime": {
     "start_time": "2024-07-17T20:42:45.206259Z",
     "end_time": "2024-07-17T20:42:45.228748Z"
    }
   }
  },
  {
   "cell_type": "code",
   "execution_count": 11,
   "outputs": [
    {
     "data": {
      "text/plain": "<catboost.core.CatBoostRegressor at 0x7f9ed3cc7820>"
     },
     "execution_count": 11,
     "metadata": {},
     "output_type": "execute_result"
    }
   ],
   "source": [
    "ctb_reg.load_model('./model/best_model')"
   ],
   "metadata": {
    "collapsed": false,
    "ExecuteTime": {
     "start_time": "2024-07-17T20:43:22.513234Z",
     "end_time": "2024-07-17T20:43:22.522053Z"
    }
   }
  },
  {
   "cell_type": "code",
   "execution_count": 12,
   "outputs": [],
   "source": [
    "y_pred = ctb_reg.predict(test_df)"
   ],
   "metadata": {
    "collapsed": false,
    "ExecuteTime": {
     "start_time": "2024-07-17T20:43:46.348457Z",
     "end_time": "2024-07-17T20:43:46.402098Z"
    }
   }
  },
  {
   "cell_type": "code",
   "execution_count": 15,
   "outputs": [],
   "source": [
    "df = pd.concat([df, pd.Series(y_pred)], axis=1)"
   ],
   "metadata": {
    "collapsed": false,
    "ExecuteTime": {
     "start_time": "2024-07-17T20:45:12.899065Z",
     "end_time": "2024-07-17T20:45:12.919988Z"
    }
   }
  },
  {
   "cell_type": "code",
   "execution_count": 16,
   "outputs": [],
   "source": [
    "df = df.rename(columns={0: 'item_loss'})"
   ],
   "metadata": {
    "collapsed": false,
    "ExecuteTime": {
     "start_time": "2024-07-17T20:45:40.788478Z",
     "end_time": "2024-07-17T20:45:40.851161Z"
    }
   }
  },
  {
   "cell_type": "code",
   "execution_count": 18,
   "outputs": [],
   "source": [
    "df.to_csv('./data/output/output.csv', index=False)"
   ],
   "metadata": {
    "collapsed": false,
    "ExecuteTime": {
     "start_time": "2024-07-17T20:46:58.663863Z",
     "end_time": "2024-07-17T20:47:00.524176Z"
    }
   }
  },
  {
   "cell_type": "code",
   "execution_count": null,
   "outputs": [],
   "source": [],
   "metadata": {
    "collapsed": false
   }
  }
 ],
 "metadata": {
  "kernelspec": {
   "display_name": "Python 3",
   "language": "python",
   "name": "python3"
  },
  "language_info": {
   "codemirror_mode": {
    "name": "ipython",
    "version": 2
   },
   "file_extension": ".py",
   "mimetype": "text/x-python",
   "name": "python",
   "nbconvert_exporter": "python",
   "pygments_lexer": "ipython2",
   "version": "2.7.6"
  }
 },
 "nbformat": 4,
 "nbformat_minor": 0
}
