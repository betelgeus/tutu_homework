{
 "cells": [
  {
   "cell_type": "code",
   "execution_count": 119,
   "metadata": {
    "collapsed": true,
    "ExecuteTime": {
     "start_time": "2024-07-17T18:48:48.544829Z",
     "end_time": "2024-07-17T18:48:48.650063Z"
    }
   },
   "outputs": [],
   "source": [
    "import pandas as pd\n",
    "import numpy as np\n",
    "import matplotlib.pyplot as plt\n",
    "import seaborn as sns\n",
    "import shap\n",
    "import warnings\n",
    "\n",
    "from catboost import CatBoostRegressor, Pool\n",
    "from sklearn.model_selection import train_test_split\n",
    "from sklearn.metrics import mean_absolute_error, mean_squared_error, r2_score\n",
    "from shap import TreeExplainer"
   ]
  },
  {
   "cell_type": "code",
   "execution_count": 145,
   "outputs": [],
   "source": [
    "import sklearn"
   ],
   "metadata": {
    "collapsed": false,
    "ExecuteTime": {
     "start_time": "2024-07-17T20:52:52.214166Z",
     "end_time": "2024-07-17T20:52:52.264955Z"
    }
   }
  },
  {
   "cell_type": "code",
   "execution_count": 147,
   "outputs": [
    {
     "ename": "NameError",
     "evalue": "name 'python' is not defined",
     "output_type": "error",
     "traceback": [
      "\u001B[0;31m---------------------------------------------------------------------------\u001B[0m",
      "\u001B[0;31mNameError\u001B[0m                                 Traceback (most recent call last)",
      "Input \u001B[0;32mIn [147]\u001B[0m, in \u001B[0;36m<cell line: 1>\u001B[0;34m()\u001B[0m\n\u001B[0;32m----> 1\u001B[0m \u001B[43mpython\u001B[49m\u001B[38;5;241m.\u001B[39m__version__\n",
      "\u001B[0;31mNameError\u001B[0m: name 'python' is not defined"
     ]
    }
   ],
   "source": [
    "python.__version__"
   ],
   "metadata": {
    "collapsed": false,
    "ExecuteTime": {
     "start_time": "2024-07-17T20:52:56.579704Z",
     "end_time": "2024-07-17T20:52:56.630378Z"
    }
   }
  },
  {
   "cell_type": "code",
   "execution_count": 2,
   "outputs": [],
   "source": [
    "from src.helpers import find_columns_type, find_na_columns, distribution"
   ],
   "metadata": {
    "collapsed": false,
    "ExecuteTime": {
     "start_time": "2024-07-17T17:06:04.204942Z",
     "end_time": "2024-07-17T17:06:04.224361Z"
    }
   }
  },
  {
   "cell_type": "code",
   "execution_count": 120,
   "outputs": [],
   "source": [
    "warnings.filterwarnings('ignore')"
   ],
   "metadata": {
    "collapsed": false,
    "ExecuteTime": {
     "start_time": "2024-07-17T18:48:53.046648Z",
     "end_time": "2024-07-17T18:48:53.139508Z"
    }
   }
  },
  {
   "cell_type": "code",
   "execution_count": 121,
   "outputs": [
    {
     "data": {
      "text/plain": "((276205, 26), (77837, 27))"
     },
     "execution_count": 121,
     "metadata": {},
     "output_type": "execute_result"
    }
   ],
   "source": [
    "train_df = pd.read_csv('./data/df_train.csv')\n",
    "test_df = pd.read_csv('./data/df_test.csv')\n",
    "train_df.shape, test_df.shape"
   ],
   "metadata": {
    "collapsed": false,
    "ExecuteTime": {
     "start_time": "2024-07-17T18:54:56.547452Z",
     "end_time": "2024-07-17T18:55:00.077709Z"
    }
   }
  },
  {
   "cell_type": "code",
   "execution_count": 122,
   "outputs": [
    {
     "data": {
      "text/plain": "        Unnamed: 0                              order_id  departure_country  \\\n106245      106245  e6d82e9c-ae38-433f-9689-cfca46b70c8a                 12   \n208852      208852  25779f87-cc86-4cac-83a2-c4a5ceb7cce0                 12   \n104719      104719  9501a0d8-1ff3-4359-b0c4-1dc67fe30973                 12   \n\n        departure_city  departure_region  arrival_country  arrival_city  \\\n106245            41.0              1447               12         125.0   \n208852           121.0              1405               14         541.0   \n104719           499.0              1743               12          98.0   \n\n        arrival_region           order_date stock_departure_date  ...  \\\n106245             824  2017-04-29 12:24:00  20-12-00 2017-06-20  ...   \n208852             839  2017-06-19 23:11:28  22-20-00 2017-06-24  ...   \n104719            1090  2017-09-18 20:18:41  22-34-00 2017-10-07  ...   \n\n                           item_package_type client_is_app  \\\n106245  c82a2ea6-cbf1-46af-98c5-acd43b174f5d          True   \n208852  43c32a76-e5a3-4874-85c3-5377fa50b515          True   \n104719  c82a2ea6-cbf1-46af-98c5-acd43b174f5d          True   \n\n        order_tracking_available  \\\n106245                         0   \n208852                         1   \n104719                         0   \n\n                                               brand_name  \\\n106245                                                 []   \n208852  ['507d2a03-9104-40ef-8c8e-dd0dd31245cc', 'f970...   \n104719                                                 []   \n\n                                     item_id  \\\n106245  ffc23d76-f03a-42c8-ab9d-04283436804a   \n208852  0134bf91-15c0-4b1e-9ae7-f56eb437e5ad   \n104719  d54810ff-a8d6-4e79-9b30-628b1798c8da   \n\n                               item_category  \\\n106245  25f9f297-40a8-45d9-bb67-4b0f6dad1315   \n208852  25f9f297-40a8-45d9-bb67-4b0f6dad1315   \n104719  25f9f297-40a8-45d9-bb67-4b0f6dad1315   \n\n                       delivery_service_name  type_prepayment   item_price  \\\n106245  5c8a6701-853f-4721-86f0-86e79f7220c4                2   734.651392   \n208852  3f1e3d6a-a194-4cf9-9026-bb03a8f544c2                2  1632.087691   \n104719  5c8a6701-853f-4721-86f0-86e79f7220c4                2   975.030039   \n\n       item_losses  \n106245    0.000000  \n208852    0.000000  \n104719  104.559179  \n\n[3 rows x 26 columns]",
      "text/html": "<div>\n<style scoped>\n    .dataframe tbody tr th:only-of-type {\n        vertical-align: middle;\n    }\n\n    .dataframe tbody tr th {\n        vertical-align: top;\n    }\n\n    .dataframe thead th {\n        text-align: right;\n    }\n</style>\n<table border=\"1\" class=\"dataframe\">\n  <thead>\n    <tr style=\"text-align: right;\">\n      <th></th>\n      <th>Unnamed: 0</th>\n      <th>order_id</th>\n      <th>departure_country</th>\n      <th>departure_city</th>\n      <th>departure_region</th>\n      <th>arrival_country</th>\n      <th>arrival_city</th>\n      <th>arrival_region</th>\n      <th>order_date</th>\n      <th>stock_departure_date</th>\n      <th>...</th>\n      <th>item_package_type</th>\n      <th>client_is_app</th>\n      <th>order_tracking_available</th>\n      <th>brand_name</th>\n      <th>item_id</th>\n      <th>item_category</th>\n      <th>delivery_service_name</th>\n      <th>type_prepayment</th>\n      <th>item_price</th>\n      <th>item_losses</th>\n    </tr>\n  </thead>\n  <tbody>\n    <tr>\n      <th>106245</th>\n      <td>106245</td>\n      <td>e6d82e9c-ae38-433f-9689-cfca46b70c8a</td>\n      <td>12</td>\n      <td>41.0</td>\n      <td>1447</td>\n      <td>12</td>\n      <td>125.0</td>\n      <td>824</td>\n      <td>2017-04-29 12:24:00</td>\n      <td>20-12-00 2017-06-20</td>\n      <td>...</td>\n      <td>c82a2ea6-cbf1-46af-98c5-acd43b174f5d</td>\n      <td>True</td>\n      <td>0</td>\n      <td>[]</td>\n      <td>ffc23d76-f03a-42c8-ab9d-04283436804a</td>\n      <td>25f9f297-40a8-45d9-bb67-4b0f6dad1315</td>\n      <td>5c8a6701-853f-4721-86f0-86e79f7220c4</td>\n      <td>2</td>\n      <td>734.651392</td>\n      <td>0.000000</td>\n    </tr>\n    <tr>\n      <th>208852</th>\n      <td>208852</td>\n      <td>25779f87-cc86-4cac-83a2-c4a5ceb7cce0</td>\n      <td>12</td>\n      <td>121.0</td>\n      <td>1405</td>\n      <td>14</td>\n      <td>541.0</td>\n      <td>839</td>\n      <td>2017-06-19 23:11:28</td>\n      <td>22-20-00 2017-06-24</td>\n      <td>...</td>\n      <td>43c32a76-e5a3-4874-85c3-5377fa50b515</td>\n      <td>True</td>\n      <td>1</td>\n      <td>['507d2a03-9104-40ef-8c8e-dd0dd31245cc', 'f970...</td>\n      <td>0134bf91-15c0-4b1e-9ae7-f56eb437e5ad</td>\n      <td>25f9f297-40a8-45d9-bb67-4b0f6dad1315</td>\n      <td>3f1e3d6a-a194-4cf9-9026-bb03a8f544c2</td>\n      <td>2</td>\n      <td>1632.087691</td>\n      <td>0.000000</td>\n    </tr>\n    <tr>\n      <th>104719</th>\n      <td>104719</td>\n      <td>9501a0d8-1ff3-4359-b0c4-1dc67fe30973</td>\n      <td>12</td>\n      <td>499.0</td>\n      <td>1743</td>\n      <td>12</td>\n      <td>98.0</td>\n      <td>1090</td>\n      <td>2017-09-18 20:18:41</td>\n      <td>22-34-00 2017-10-07</td>\n      <td>...</td>\n      <td>c82a2ea6-cbf1-46af-98c5-acd43b174f5d</td>\n      <td>True</td>\n      <td>0</td>\n      <td>[]</td>\n      <td>d54810ff-a8d6-4e79-9b30-628b1798c8da</td>\n      <td>25f9f297-40a8-45d9-bb67-4b0f6dad1315</td>\n      <td>5c8a6701-853f-4721-86f0-86e79f7220c4</td>\n      <td>2</td>\n      <td>975.030039</td>\n      <td>104.559179</td>\n    </tr>\n  </tbody>\n</table>\n<p>3 rows × 26 columns</p>\n</div>"
     },
     "execution_count": 122,
     "metadata": {},
     "output_type": "execute_result"
    }
   ],
   "source": [
    "train_df.sample(3)"
   ],
   "metadata": {
    "collapsed": false,
    "ExecuteTime": {
     "start_time": "2024-07-17T18:55:00.074718Z",
     "end_time": "2024-07-17T18:55:00.189924Z"
    }
   }
  },
  {
   "cell_type": "code",
   "execution_count": 123,
   "outputs": [
    {
     "data": {
      "text/plain": "       departure_country  departure_city  departure_region  arrival_country  \\\n32328                 12           121.0               355               12   \n5359                  12           507.0               263               12   \n35361                 12           121.0              1732               12   \n\n       arrival_city  arrival_region  item_type  client_device_type  \\\n32328         355.0             108          0                   2   \n5359          121.0             351          0                   0   \n35361         125.0             824          0                   0   \n\n       client_browser                     item_package_type  ...   item_price  \\\n32328               1  c82a2ea6-cbf1-46af-98c5-acd43b174f5d  ...   149.075263   \n5359                0  c82a2ea6-cbf1-46af-98c5-acd43b174f5d  ...   408.894128   \n35361               0  c82a2ea6-cbf1-46af-98c5-acd43b174f5d  ...  1890.760103   \n\n       order_hour order_arrival_diff order_stock_diff  \\\n32328          21                  7                7   \n5359           13                 29               28   \n35361           4                 15               14   \n\n      stock_delivery_service_diff delivery_service_arrival_diff  order_day  \\\n32328                           0                             0     Sunday   \n5359                            0                             1     Sunday   \n35361                           0                             1    Tuesday   \n\n       stock_departure_day  delivery_service_departure_day  client_arrival_day  \n32328               Sunday                          Sunday              Sunday  \n5359                Sunday                          Sunday              Monday  \n35361              Tuesday                         Tuesday           Wednesday  \n\n[3 rows x 27 columns]",
      "text/html": "<div>\n<style scoped>\n    .dataframe tbody tr th:only-of-type {\n        vertical-align: middle;\n    }\n\n    .dataframe tbody tr th {\n        vertical-align: top;\n    }\n\n    .dataframe thead th {\n        text-align: right;\n    }\n</style>\n<table border=\"1\" class=\"dataframe\">\n  <thead>\n    <tr style=\"text-align: right;\">\n      <th></th>\n      <th>departure_country</th>\n      <th>departure_city</th>\n      <th>departure_region</th>\n      <th>arrival_country</th>\n      <th>arrival_city</th>\n      <th>arrival_region</th>\n      <th>item_type</th>\n      <th>client_device_type</th>\n      <th>client_browser</th>\n      <th>item_package_type</th>\n      <th>...</th>\n      <th>item_price</th>\n      <th>order_hour</th>\n      <th>order_arrival_diff</th>\n      <th>order_stock_diff</th>\n      <th>stock_delivery_service_diff</th>\n      <th>delivery_service_arrival_diff</th>\n      <th>order_day</th>\n      <th>stock_departure_day</th>\n      <th>delivery_service_departure_day</th>\n      <th>client_arrival_day</th>\n    </tr>\n  </thead>\n  <tbody>\n    <tr>\n      <th>32328</th>\n      <td>12</td>\n      <td>121.0</td>\n      <td>355</td>\n      <td>12</td>\n      <td>355.0</td>\n      <td>108</td>\n      <td>0</td>\n      <td>2</td>\n      <td>1</td>\n      <td>c82a2ea6-cbf1-46af-98c5-acd43b174f5d</td>\n      <td>...</td>\n      <td>149.075263</td>\n      <td>21</td>\n      <td>7</td>\n      <td>7</td>\n      <td>0</td>\n      <td>0</td>\n      <td>Sunday</td>\n      <td>Sunday</td>\n      <td>Sunday</td>\n      <td>Sunday</td>\n    </tr>\n    <tr>\n      <th>5359</th>\n      <td>12</td>\n      <td>507.0</td>\n      <td>263</td>\n      <td>12</td>\n      <td>121.0</td>\n      <td>351</td>\n      <td>0</td>\n      <td>0</td>\n      <td>0</td>\n      <td>c82a2ea6-cbf1-46af-98c5-acd43b174f5d</td>\n      <td>...</td>\n      <td>408.894128</td>\n      <td>13</td>\n      <td>29</td>\n      <td>28</td>\n      <td>0</td>\n      <td>1</td>\n      <td>Sunday</td>\n      <td>Sunday</td>\n      <td>Sunday</td>\n      <td>Monday</td>\n    </tr>\n    <tr>\n      <th>35361</th>\n      <td>12</td>\n      <td>121.0</td>\n      <td>1732</td>\n      <td>12</td>\n      <td>125.0</td>\n      <td>824</td>\n      <td>0</td>\n      <td>0</td>\n      <td>0</td>\n      <td>c82a2ea6-cbf1-46af-98c5-acd43b174f5d</td>\n      <td>...</td>\n      <td>1890.760103</td>\n      <td>4</td>\n      <td>15</td>\n      <td>14</td>\n      <td>0</td>\n      <td>1</td>\n      <td>Tuesday</td>\n      <td>Tuesday</td>\n      <td>Tuesday</td>\n      <td>Wednesday</td>\n    </tr>\n  </tbody>\n</table>\n<p>3 rows × 27 columns</p>\n</div>"
     },
     "execution_count": 123,
     "metadata": {},
     "output_type": "execute_result"
    }
   ],
   "source": [
    "test_df.sample(3)"
   ],
   "metadata": {
    "collapsed": false,
    "ExecuteTime": {
     "start_time": "2024-07-17T18:55:00.111283Z",
     "end_time": "2024-07-17T18:55:00.226774Z"
    }
   }
  },
  {
   "cell_type": "code",
   "execution_count": 124,
   "outputs": [],
   "source": [
    "train_df.drop(train_df.columns[0], axis=1, inplace=True)\n",
    "test_df.drop(test_df.columns[0], axis=1, inplace=True)"
   ],
   "metadata": {
    "collapsed": false,
    "ExecuteTime": {
     "start_time": "2024-07-17T18:55:00.134114Z",
     "end_time": "2024-07-17T18:55:00.465600Z"
    }
   }
  },
  {
   "cell_type": "markdown",
   "source": [
    "### Find Features Types"
   ],
   "metadata": {
    "collapsed": false
   }
  },
  {
   "cell_type": "code",
   "execution_count": 125,
   "outputs": [
    {
     "data": {
      "text/plain": "array([dtype('O'), dtype('int64'), dtype('float64'), dtype('bool')],\n      dtype=object)"
     },
     "execution_count": 125,
     "metadata": {},
     "output_type": "execute_result"
    }
   ],
   "source": [
    "train_df.dtypes.unique()"
   ],
   "metadata": {
    "collapsed": false,
    "ExecuteTime": {
     "start_time": "2024-07-17T18:55:00.735455Z",
     "end_time": "2024-07-17T18:55:01.027121Z"
    }
   }
  },
  {
   "cell_type": "code",
   "execution_count": 126,
   "outputs": [],
   "source": [
    "train_numerical_columns, train_categorical_columns, train_bool_columns, train_other_types_columns = find_columns_type(train_df)\n",
    "test_numerical_columns, test_categorical_columns, test_bool_columns, test_other_types_columns = find_columns_type(test_df)"
   ],
   "metadata": {
    "collapsed": false,
    "ExecuteTime": {
     "start_time": "2024-07-17T18:55:05.545322Z",
     "end_time": "2024-07-17T18:55:05.592058Z"
    }
   }
  },
  {
   "cell_type": "code",
   "execution_count": 127,
   "outputs": [
    {
     "data": {
      "text/plain": "(0, 0)"
     },
     "execution_count": 127,
     "metadata": {},
     "output_type": "execute_result"
    }
   ],
   "source": [
    "len(train_other_types_columns), len(test_other_types_columns)"
   ],
   "metadata": {
    "collapsed": false,
    "ExecuteTime": {
     "start_time": "2024-07-17T18:55:07.113003Z",
     "end_time": "2024-07-17T18:55:07.190231Z"
    }
   }
  },
  {
   "cell_type": "code",
   "execution_count": 128,
   "outputs": [
    {
     "data": {
      "text/plain": "(False, False, False)"
     },
     "execution_count": 128,
     "metadata": {},
     "output_type": "execute_result"
    }
   ],
   "source": [
    "train_numerical_columns == test_numerical_columns, train_categorical_columns == test_categorical_columns, train_bool_columns == test_bool_columns"
   ],
   "metadata": {
    "collapsed": false,
    "ExecuteTime": {
     "start_time": "2024-07-17T18:55:07.808980Z",
     "end_time": "2024-07-17T18:55:07.822186Z"
    }
   }
  },
  {
   "cell_type": "code",
   "execution_count": 129,
   "outputs": [
    {
     "data": {
      "text/plain": "({'departure_country', 'item_losses'},\n {'client_is_app',\n  'delivery_service_arrival_diff',\n  'order_arrival_diff',\n  'order_hour',\n  'order_stock_diff',\n  'stock_delivery_service_diff'})"
     },
     "execution_count": 129,
     "metadata": {},
     "output_type": "execute_result"
    }
   ],
   "source": [
    "unique_in_train = set(train_numerical_columns) - set(test_numerical_columns)\n",
    "unique_in_test = set(test_numerical_columns) - set(train_numerical_columns)\n",
    "unique_in_train, unique_in_test"
   ],
   "metadata": {
    "collapsed": false,
    "ExecuteTime": {
     "start_time": "2024-07-17T18:55:08.521277Z",
     "end_time": "2024-07-17T18:55:08.582592Z"
    }
   }
  },
  {
   "cell_type": "code",
   "execution_count": 130,
   "outputs": [
    {
     "data": {
      "text/plain": "(13, 11, 1)"
     },
     "execution_count": 130,
     "metadata": {},
     "output_type": "execute_result"
    }
   ],
   "source": [
    "len(train_numerical_columns), len(train_categorical_columns), len(train_bool_columns)"
   ],
   "metadata": {
    "collapsed": false,
    "ExecuteTime": {
     "start_time": "2024-07-17T18:55:09.438869Z",
     "end_time": "2024-07-17T18:55:09.449573Z"
    }
   }
  },
  {
   "cell_type": "code",
   "execution_count": 131,
   "outputs": [],
   "source": [
    "train_df[train_bool_columns] = train_df[train_bool_columns].astype('int')\n",
    "test_df[train_bool_columns] = test_df[train_bool_columns].astype('int')"
   ],
   "metadata": {
    "collapsed": false,
    "ExecuteTime": {
     "start_time": "2024-07-17T18:55:11.391976Z",
     "end_time": "2024-07-17T18:55:11.440881Z"
    }
   }
  },
  {
   "cell_type": "code",
   "execution_count": 132,
   "outputs": [],
   "source": [
    "train_numerical_columns, train_categorical_columns, train_bool_columns, train_other_types_columns = find_columns_type(train_df)\n",
    "test_numerical_columns, test_categorical_columns, test_bool_columns, test_other_types_columns = find_columns_type(test_df)"
   ],
   "metadata": {
    "collapsed": false,
    "ExecuteTime": {
     "start_time": "2024-07-17T18:55:11.993877Z",
     "end_time": "2024-07-17T18:55:12.041168Z"
    }
   }
  },
  {
   "cell_type": "code",
   "execution_count": 133,
   "outputs": [
    {
     "data": {
      "text/plain": "(14, 11, 0)"
     },
     "execution_count": 133,
     "metadata": {},
     "output_type": "execute_result"
    }
   ],
   "source": [
    "len(train_numerical_columns), len(train_categorical_columns), len(train_bool_columns)"
   ],
   "metadata": {
    "collapsed": false,
    "ExecuteTime": {
     "start_time": "2024-07-17T18:55:12.834629Z",
     "end_time": "2024-07-17T18:55:12.936675Z"
    }
   }
  },
  {
   "cell_type": "code",
   "execution_count": 135,
   "outputs": [],
   "source": [
    "np.save('./data/vars/all_numerical_columns.npy', train_numerical_columns)"
   ],
   "metadata": {
    "collapsed": false,
    "ExecuteTime": {
     "start_time": "2024-07-17T19:05:31.890935Z",
     "end_time": "2024-07-17T19:05:31.962132Z"
    }
   }
  },
  {
   "cell_type": "markdown",
   "source": [
    "### Find NAN"
   ],
   "metadata": {
    "collapsed": false
   }
  },
  {
   "cell_type": "code",
   "execution_count": 16,
   "outputs": [
    {
     "data": {
      "text/plain": "({'departure_city': 6320, 'arrival_city': 8863, 'client_keywords': 214992},\n {'departure_city': 1747, 'arrival_city': 2419, 'client_keywords': 63118})"
     },
     "execution_count": 16,
     "metadata": {},
     "output_type": "execute_result"
    }
   ],
   "source": [
    "train_na_columns = find_na_columns(train_df)\n",
    "test_na_columns = find_na_columns(test_df)\n",
    "train_na_columns, test_na_columns"
   ],
   "metadata": {
    "collapsed": false,
    "ExecuteTime": {
     "start_time": "2024-07-17T17:06:08.530169Z",
     "end_time": "2024-07-17T17:06:09.068815Z"
    }
   }
  },
  {
   "cell_type": "code",
   "execution_count": 17,
   "outputs": [
    {
     "data": {
      "text/plain": "[0.022881555366485038, 0.032088485002081786, 0.7783783783783784]"
     },
     "execution_count": 17,
     "metadata": {},
     "output_type": "execute_result"
    }
   ],
   "source": [
    "[i / train_df.shape[0] for i in list(train_na_columns.values())]"
   ],
   "metadata": {
    "collapsed": false,
    "ExecuteTime": {
     "start_time": "2024-07-17T17:06:09.067146Z",
     "end_time": "2024-07-17T17:06:09.076837Z"
    }
   }
  },
  {
   "cell_type": "code",
   "execution_count": 18,
   "outputs": [
    {
     "data": {
      "text/plain": "[0.022444338810591363, 0.031077765073165717, 0.8108997006565001]"
     },
     "execution_count": 18,
     "metadata": {},
     "output_type": "execute_result"
    }
   ],
   "source": [
    "[i / test_df.shape[0] for i in list(test_na_columns.values())]"
   ],
   "metadata": {
    "collapsed": false,
    "ExecuteTime": {
     "start_time": "2024-07-17T17:06:09.076092Z",
     "end_time": "2024-07-17T17:06:09.082626Z"
    }
   }
  },
  {
   "cell_type": "markdown",
   "source": [
    "### Set columns for drop"
   ],
   "metadata": {
    "collapsed": false
   }
  },
  {
   "cell_type": "code",
   "execution_count": 19,
   "outputs": [],
   "source": [
    "columns_for_drop = []"
   ],
   "metadata": {
    "collapsed": false,
    "ExecuteTime": {
     "start_time": "2024-07-17T17:06:09.080582Z",
     "end_time": "2024-07-17T17:06:09.138483Z"
    }
   }
  },
  {
   "cell_type": "code",
   "execution_count": 20,
   "outputs": [],
   "source": [
    "columns_for_drop.append('client_keywords')\n",
    "columns_for_drop.append('order_id')\n",
    "columns_for_drop.append('item_losses')"
   ],
   "metadata": {
    "collapsed": false,
    "ExecuteTime": {
     "start_time": "2024-07-17T17:06:09.088323Z",
     "end_time": "2024-07-17T17:06:09.173628Z"
    }
   }
  },
  {
   "cell_type": "markdown",
   "source": [
    "### Check distribution for numerical features"
   ],
   "metadata": {
    "collapsed": false
   }
  },
  {
   "cell_type": "code",
   "execution_count": 21,
   "outputs": [
    {
     "data": {
      "text/plain": "       departure_country  departure_city  departure_region  arrival_country  \\\ncount      276205.000000   269885.000000     276205.000000    276205.000000   \nmean           11.829728      232.526139        934.976499        11.753010   \nstd             1.206116      175.040157        523.889072         1.591248   \nmin             1.000000        0.000000          0.000000         1.000000   \n25%            12.000000      121.000000        452.000000        12.000000   \n50%            12.000000      125.000000        856.000000        12.000000   \n75%            12.000000      352.000000       1405.000000        12.000000   \nmax            13.000000      714.000000       1755.000000        14.000000   \n\n        arrival_city  arrival_region      item_type  client_device_type  \\\ncount  267342.000000   276205.000000  276205.000000       276205.000000   \nmean      252.725737      937.165033       0.099861            3.776108   \nstd       183.106162      521.315965       0.358597           32.975989   \nmin         0.000000        0.000000       0.000000            0.000000   \n25%       121.000000      496.000000       0.000000            1.000000   \n50%       125.000000      856.000000       0.000000            2.000000   \n75%       386.000000     1405.000000       0.000000            2.000000   \nmax       714.000000     1755.000000       2.000000         1152.000000   \n\n       client_browser  client_is_app  order_tracking_available  \\\ncount   276205.000000  276205.000000             276205.000000   \nmean         1.471617       0.964208                  0.036368   \nstd          1.817060       0.185772                  0.187204   \nmin          0.000000       0.000000                  0.000000   \n25%          0.000000       1.000000                  0.000000   \n50%          1.000000       1.000000                  0.000000   \n75%          2.000000       1.000000                  0.000000   \nmax          9.000000       1.000000                  1.000000   \n\n       type_prepayment     item_price    item_losses  \ncount    276205.000000  276205.000000  276205.000000  \nmean          1.761007     635.585094      23.584252  \nstd           0.575160     565.005843      47.763472  \nmin           0.000000       0.000000    -480.848430  \n25%           2.000000     261.426184       0.000000  \n50%           2.000000     489.399183       0.000000  \n75%           2.000000     827.864100      34.209188  \nmax           3.000000   13787.240979    1234.954697  ",
      "text/html": "<div>\n<style scoped>\n    .dataframe tbody tr th:only-of-type {\n        vertical-align: middle;\n    }\n\n    .dataframe tbody tr th {\n        vertical-align: top;\n    }\n\n    .dataframe thead th {\n        text-align: right;\n    }\n</style>\n<table border=\"1\" class=\"dataframe\">\n  <thead>\n    <tr style=\"text-align: right;\">\n      <th></th>\n      <th>departure_country</th>\n      <th>departure_city</th>\n      <th>departure_region</th>\n      <th>arrival_country</th>\n      <th>arrival_city</th>\n      <th>arrival_region</th>\n      <th>item_type</th>\n      <th>client_device_type</th>\n      <th>client_browser</th>\n      <th>client_is_app</th>\n      <th>order_tracking_available</th>\n      <th>type_prepayment</th>\n      <th>item_price</th>\n      <th>item_losses</th>\n    </tr>\n  </thead>\n  <tbody>\n    <tr>\n      <th>count</th>\n      <td>276205.000000</td>\n      <td>269885.000000</td>\n      <td>276205.000000</td>\n      <td>276205.000000</td>\n      <td>267342.000000</td>\n      <td>276205.000000</td>\n      <td>276205.000000</td>\n      <td>276205.000000</td>\n      <td>276205.000000</td>\n      <td>276205.000000</td>\n      <td>276205.000000</td>\n      <td>276205.000000</td>\n      <td>276205.000000</td>\n      <td>276205.000000</td>\n    </tr>\n    <tr>\n      <th>mean</th>\n      <td>11.829728</td>\n      <td>232.526139</td>\n      <td>934.976499</td>\n      <td>11.753010</td>\n      <td>252.725737</td>\n      <td>937.165033</td>\n      <td>0.099861</td>\n      <td>3.776108</td>\n      <td>1.471617</td>\n      <td>0.964208</td>\n      <td>0.036368</td>\n      <td>1.761007</td>\n      <td>635.585094</td>\n      <td>23.584252</td>\n    </tr>\n    <tr>\n      <th>std</th>\n      <td>1.206116</td>\n      <td>175.040157</td>\n      <td>523.889072</td>\n      <td>1.591248</td>\n      <td>183.106162</td>\n      <td>521.315965</td>\n      <td>0.358597</td>\n      <td>32.975989</td>\n      <td>1.817060</td>\n      <td>0.185772</td>\n      <td>0.187204</td>\n      <td>0.575160</td>\n      <td>565.005843</td>\n      <td>47.763472</td>\n    </tr>\n    <tr>\n      <th>min</th>\n      <td>1.000000</td>\n      <td>0.000000</td>\n      <td>0.000000</td>\n      <td>1.000000</td>\n      <td>0.000000</td>\n      <td>0.000000</td>\n      <td>0.000000</td>\n      <td>0.000000</td>\n      <td>0.000000</td>\n      <td>0.000000</td>\n      <td>0.000000</td>\n      <td>0.000000</td>\n      <td>0.000000</td>\n      <td>-480.848430</td>\n    </tr>\n    <tr>\n      <th>25%</th>\n      <td>12.000000</td>\n      <td>121.000000</td>\n      <td>452.000000</td>\n      <td>12.000000</td>\n      <td>121.000000</td>\n      <td>496.000000</td>\n      <td>0.000000</td>\n      <td>1.000000</td>\n      <td>0.000000</td>\n      <td>1.000000</td>\n      <td>0.000000</td>\n      <td>2.000000</td>\n      <td>261.426184</td>\n      <td>0.000000</td>\n    </tr>\n    <tr>\n      <th>50%</th>\n      <td>12.000000</td>\n      <td>125.000000</td>\n      <td>856.000000</td>\n      <td>12.000000</td>\n      <td>125.000000</td>\n      <td>856.000000</td>\n      <td>0.000000</td>\n      <td>2.000000</td>\n      <td>1.000000</td>\n      <td>1.000000</td>\n      <td>0.000000</td>\n      <td>2.000000</td>\n      <td>489.399183</td>\n      <td>0.000000</td>\n    </tr>\n    <tr>\n      <th>75%</th>\n      <td>12.000000</td>\n      <td>352.000000</td>\n      <td>1405.000000</td>\n      <td>12.000000</td>\n      <td>386.000000</td>\n      <td>1405.000000</td>\n      <td>0.000000</td>\n      <td>2.000000</td>\n      <td>2.000000</td>\n      <td>1.000000</td>\n      <td>0.000000</td>\n      <td>2.000000</td>\n      <td>827.864100</td>\n      <td>34.209188</td>\n    </tr>\n    <tr>\n      <th>max</th>\n      <td>13.000000</td>\n      <td>714.000000</td>\n      <td>1755.000000</td>\n      <td>14.000000</td>\n      <td>714.000000</td>\n      <td>1755.000000</td>\n      <td>2.000000</td>\n      <td>1152.000000</td>\n      <td>9.000000</td>\n      <td>1.000000</td>\n      <td>1.000000</td>\n      <td>3.000000</td>\n      <td>13787.240979</td>\n      <td>1234.954697</td>\n    </tr>\n  </tbody>\n</table>\n</div>"
     },
     "execution_count": 21,
     "metadata": {},
     "output_type": "execute_result"
    }
   ],
   "source": [
    "train_df[train_numerical_columns].describe()"
   ],
   "metadata": {
    "collapsed": false,
    "ExecuteTime": {
     "start_time": "2024-07-17T17:06:09.119115Z",
     "end_time": "2024-07-17T17:06:09.380992Z"
    }
   }
  },
  {
   "cell_type": "code",
   "execution_count": 22,
   "outputs": [
    {
     "data": {
      "text/plain": "       departure_country  departure_city  departure_region  arrival_country  \\\ncount       77837.000000    76090.000000      77837.000000     77837.000000   \nmean           11.856534      235.254068        908.080527        11.787967   \nstd             1.106796      175.389198        517.183543         1.479152   \nmin             1.000000        0.000000          0.000000         0.000000   \n25%            12.000000      121.000000        361.000000        12.000000   \n50%            12.000000      125.000000        834.000000        12.000000   \n75%            12.000000      352.000000       1405.000000        12.000000   \nmax            13.000000      713.000000       1755.000000        14.000000   \n\n       arrival_city  arrival_region     item_type  client_device_type  \\\ncount  75418.000000    77837.000000  77837.000000        77837.000000   \nmean     256.902742      907.935442      0.130336            6.853707   \nstd      182.855503      515.678074      0.400305           48.007364   \nmin        0.000000        0.000000      0.000000            0.000000   \n25%      121.000000      392.000000      0.000000            1.000000   \n50%      142.000000      838.000000      0.000000            2.000000   \n75%      393.000000     1405.000000      0.000000            2.000000   \nmax      713.000000     1755.000000      2.000000         1162.000000   \n\n       client_browser  client_is_app  order_tracking_available  \\\ncount    77837.000000   77837.000000              77837.000000   \nmean         1.580392       0.956165                  0.024898   \nstd          1.936277       0.204730                  0.155816   \nmin          0.000000       0.000000                  0.000000   \n25%          0.000000       1.000000                  0.000000   \n50%          1.000000       1.000000                  0.000000   \n75%          2.000000       1.000000                  0.000000   \nmax          8.000000       1.000000                  1.000000   \n\n       type_prepayment    item_price  \ncount     77837.000000  77837.000000  \nmean          0.606293    651.817828  \nstd           0.496401    567.794804  \nmin           0.000000      0.000000  \n25%           0.000000    259.683252  \n50%           1.000000    509.487482  \n75%           1.000000    877.077580  \nmax           3.000000  11154.156027  ",
      "text/html": "<div>\n<style scoped>\n    .dataframe tbody tr th:only-of-type {\n        vertical-align: middle;\n    }\n\n    .dataframe tbody tr th {\n        vertical-align: top;\n    }\n\n    .dataframe thead th {\n        text-align: right;\n    }\n</style>\n<table border=\"1\" class=\"dataframe\">\n  <thead>\n    <tr style=\"text-align: right;\">\n      <th></th>\n      <th>departure_country</th>\n      <th>departure_city</th>\n      <th>departure_region</th>\n      <th>arrival_country</th>\n      <th>arrival_city</th>\n      <th>arrival_region</th>\n      <th>item_type</th>\n      <th>client_device_type</th>\n      <th>client_browser</th>\n      <th>client_is_app</th>\n      <th>order_tracking_available</th>\n      <th>type_prepayment</th>\n      <th>item_price</th>\n    </tr>\n  </thead>\n  <tbody>\n    <tr>\n      <th>count</th>\n      <td>77837.000000</td>\n      <td>76090.000000</td>\n      <td>77837.000000</td>\n      <td>77837.000000</td>\n      <td>75418.000000</td>\n      <td>77837.000000</td>\n      <td>77837.000000</td>\n      <td>77837.000000</td>\n      <td>77837.000000</td>\n      <td>77837.000000</td>\n      <td>77837.000000</td>\n      <td>77837.000000</td>\n      <td>77837.000000</td>\n    </tr>\n    <tr>\n      <th>mean</th>\n      <td>11.856534</td>\n      <td>235.254068</td>\n      <td>908.080527</td>\n      <td>11.787967</td>\n      <td>256.902742</td>\n      <td>907.935442</td>\n      <td>0.130336</td>\n      <td>6.853707</td>\n      <td>1.580392</td>\n      <td>0.956165</td>\n      <td>0.024898</td>\n      <td>0.606293</td>\n      <td>651.817828</td>\n    </tr>\n    <tr>\n      <th>std</th>\n      <td>1.106796</td>\n      <td>175.389198</td>\n      <td>517.183543</td>\n      <td>1.479152</td>\n      <td>182.855503</td>\n      <td>515.678074</td>\n      <td>0.400305</td>\n      <td>48.007364</td>\n      <td>1.936277</td>\n      <td>0.204730</td>\n      <td>0.155816</td>\n      <td>0.496401</td>\n      <td>567.794804</td>\n    </tr>\n    <tr>\n      <th>min</th>\n      <td>1.000000</td>\n      <td>0.000000</td>\n      <td>0.000000</td>\n      <td>0.000000</td>\n      <td>0.000000</td>\n      <td>0.000000</td>\n      <td>0.000000</td>\n      <td>0.000000</td>\n      <td>0.000000</td>\n      <td>0.000000</td>\n      <td>0.000000</td>\n      <td>0.000000</td>\n      <td>0.000000</td>\n    </tr>\n    <tr>\n      <th>25%</th>\n      <td>12.000000</td>\n      <td>121.000000</td>\n      <td>361.000000</td>\n      <td>12.000000</td>\n      <td>121.000000</td>\n      <td>392.000000</td>\n      <td>0.000000</td>\n      <td>1.000000</td>\n      <td>0.000000</td>\n      <td>1.000000</td>\n      <td>0.000000</td>\n      <td>0.000000</td>\n      <td>259.683252</td>\n    </tr>\n    <tr>\n      <th>50%</th>\n      <td>12.000000</td>\n      <td>125.000000</td>\n      <td>834.000000</td>\n      <td>12.000000</td>\n      <td>142.000000</td>\n      <td>838.000000</td>\n      <td>0.000000</td>\n      <td>2.000000</td>\n      <td>1.000000</td>\n      <td>1.000000</td>\n      <td>0.000000</td>\n      <td>1.000000</td>\n      <td>509.487482</td>\n    </tr>\n    <tr>\n      <th>75%</th>\n      <td>12.000000</td>\n      <td>352.000000</td>\n      <td>1405.000000</td>\n      <td>12.000000</td>\n      <td>393.000000</td>\n      <td>1405.000000</td>\n      <td>0.000000</td>\n      <td>2.000000</td>\n      <td>2.000000</td>\n      <td>1.000000</td>\n      <td>0.000000</td>\n      <td>1.000000</td>\n      <td>877.077580</td>\n    </tr>\n    <tr>\n      <th>max</th>\n      <td>13.000000</td>\n      <td>713.000000</td>\n      <td>1755.000000</td>\n      <td>14.000000</td>\n      <td>713.000000</td>\n      <td>1755.000000</td>\n      <td>2.000000</td>\n      <td>1162.000000</td>\n      <td>8.000000</td>\n      <td>1.000000</td>\n      <td>1.000000</td>\n      <td>3.000000</td>\n      <td>11154.156027</td>\n    </tr>\n  </tbody>\n</table>\n</div>"
     },
     "execution_count": 22,
     "metadata": {},
     "output_type": "execute_result"
    }
   ],
   "source": [
    "test_df[test_numerical_columns].describe()"
   ],
   "metadata": {
    "collapsed": false,
    "ExecuteTime": {
     "start_time": "2024-07-17T17:06:10.201765Z",
     "end_time": "2024-07-17T17:06:10.297610Z"
    }
   }
  },
  {
   "cell_type": "code",
   "execution_count": 23,
   "outputs": [],
   "source": [
    "# Признаки 'departure_country', 'departure_city', 'departure_region', 'arrival_country', 'arrival_city',  'arrival_region',  'item_type','client_device_type', 'client_browser', 'client_is_app', 'order_tracking_available', 'type_prepayment' - это закодированные категориальные переменные. Переместим им в массив кат. переменных\n",
    "not_numerical = ['departure_country', 'departure_city', 'departure_region', 'arrival_country', 'arrival_city', 'arrival_region', 'item_type','client_device_type', 'client_browser', 'client_is_app', 'order_tracking_available','type_prepayment']\n",
    "\n",
    "for i in not_numerical:\n",
    "    train_categorical_columns.append(i)\n",
    "    train_numerical_columns.remove(i)\n",
    "\n",
    "test_categorical_columns = train_categorical_columns\n",
    "test_numerical_columns = train_numerical_columns"
   ],
   "metadata": {
    "collapsed": false,
    "ExecuteTime": {
     "start_time": "2024-07-17T17:06:10.627783Z",
     "end_time": "2024-07-17T17:06:10.629898Z"
    }
   }
  },
  {
   "cell_type": "code",
   "execution_count": 24,
   "outputs": [
    {
     "data": {
      "text/plain": "<Figure size 864x576 with 1 Axes>",
      "image/png": "[encoded data removed]"
     },
     "metadata": {},
     "output_type": "display_data"
    }
   ],
   "source": [
    "# Посмотрим корреляцию между item_price и таргетом\n",
    "plt.figure(figsize=(12, 8))\n",
    "sns.scatterplot(x='item_price', y='item_losses', data=train_df)\n",
    "plt.xlabel(' Item price')\n",
    "plt.ylabel('Item loss')\n",
    "plt.gca().yaxis.set_major_locator(plt.MultipleLocator(50))\n",
    "plt.show()"
   ],
   "metadata": {
    "collapsed": false,
    "ExecuteTime": {
     "start_time": "2024-07-17T17:06:12.311207Z",
     "end_time": "2024-07-17T17:06:13.656305Z"
    }
   }
  },
  {
   "cell_type": "code",
   "execution_count": 25,
   "outputs": [],
   "source": [
    "# Мы видим, что item_price хорошо объясняет поведение целевой переменной, кроме случаев когда таргет принимает значения 0 и ~ 180. Зафиксируем этот и вернемся к нему позже, возможно один из категориальных признаков объяснит такое поведение таргета."
   ],
   "metadata": {
    "collapsed": false,
    "ExecuteTime": {
     "start_time": "2024-07-17T17:06:18.873168Z",
     "end_time": "2024-07-17T17:06:18.925035Z"
    }
   }
  },
  {
   "cell_type": "markdown",
   "source": [
    "### Categorical features exploration"
   ],
   "metadata": {
    "collapsed": false
   }
  },
  {
   "cell_type": "code",
   "execution_count": 26,
   "outputs": [
    {
     "data": {
      "text/plain": "                                    order_id           order_date  \\\n255156  a61e1b6f-bbda-404c-9bf9-9d0bec61e0b5  2017-08-09 17:34:28   \n57614   e50195cf-ca16-481a-b114-af130cbb5fc5  2016-11-14 21:26:45   \n210772  07d11be6-4f59-4209-9f9b-dd4801842def  2016-11-14 12:52:04   \n\n       stock_departure_date delivery_service_departure_date  \\\n255156  19-58-00 2017-08-23             04-20-00 2017-08-24   \n57614   19-47-00 2016-11-18             19-47-00 2016-11-18   \n210772  22-50-00 2016-11-20             22-50-00 2016-11-20   \n\n        client_arrival_date client_keywords  \\\n255156  14-07-00 2017-08-25            None   \n57614   21-12-00 2016-11-18            None   \n210772  10-04-00 2016-11-21            None   \n\n                           item_package_type  \\\n255156  4b30b1ff-54b0-4aac-ac8a-6df7bb59548e   \n57614   c82a2ea6-cbf1-46af-98c5-acd43b174f5d   \n210772  43c32a76-e5a3-4874-85c3-5377fa50b515   \n\n                                               brand_name  \\\n255156                                                 []   \n57614   ['d6031746-5020-4a5b-af39-416ba1befd5a', '9e89...   \n210772  ['70f77f1d-7e52-4e98-a100-ae826dd1793e', '9e89...   \n\n                                     item_id  \\\n255156  631b2ec1-2564-4f4f-bd8b-ea4e8f129f67   \n57614   617fd321-515e-4d4e-9f63-29f75d5d7137   \n210772  dbbc9130-47e1-4cf6-a48d-d6a20ab3d2d0   \n\n                               item_category  ... departure_region  \\\n255156  25f9f297-40a8-45d9-bb67-4b0f6dad1315  ...              280   \n57614   5554bea4-f3cd-4432-bb13-73698f52de88  ...             1405   \n210772  ea77a36e-4b0c-4e8d-bf09-4c8398609ae1  ...             1732   \n\n        arrival_country  arrival_city  arrival_region  item_type  \\\n255156               12         402.0             347          1   \n57614                12         370.0             167          0   \n210772               12         346.0             169          0   \n\n        client_device_type  client_browser  client_is_app  \\\n255156                   2               3              1   \n57614                    1               0              1   \n210772                   1               0              1   \n\n        order_tracking_available  type_prepayment  \n255156                         1                2  \n57614                          0                2  \n210772                         0                2  \n\n[3 rows x 23 columns]",
      "text/html": "<div>\n<style scoped>\n    .dataframe tbody tr th:only-of-type {\n        vertical-align: middle;\n    }\n\n    .dataframe tbody tr th {\n        vertical-align: top;\n    }\n\n    .dataframe thead th {\n        text-align: right;\n    }\n</style>\n<table border=\"1\" class=\"dataframe\">\n  <thead>\n    <tr style=\"text-align: right;\">\n      <th></th>\n      <th>order_id</th>\n      <th>order_date</th>\n      <th>stock_departure_date</th>\n      <th>delivery_service_departure_date</th>\n      <th>client_arrival_date</th>\n      <th>client_keywords</th>\n      <th>item_package_type</th>\n      <th>brand_name</th>\n      <th>item_id</th>\n      <th>item_category</th>\n      <th>...</th>\n      <th>departure_region</th>\n      <th>arrival_country</th>\n      <th>arrival_city</th>\n      <th>arrival_region</th>\n      <th>item_type</th>\n      <th>client_device_type</th>\n      <th>client_browser</th>\n      <th>client_is_app</th>\n      <th>order_tracking_available</th>\n      <th>type_prepayment</th>\n    </tr>\n  </thead>\n  <tbody>\n    <tr>\n      <th>255156</th>\n      <td>a61e1b6f-bbda-404c-9bf9-9d0bec61e0b5</td>\n      <td>2017-08-09 17:34:28</td>\n      <td>19-58-00 2017-08-23</td>\n      <td>04-20-00 2017-08-24</td>\n      <td>14-07-00 2017-08-25</td>\n      <td>None</td>\n      <td>4b30b1ff-54b0-4aac-ac8a-6df7bb59548e</td>\n      <td>[]</td>\n      <td>631b2ec1-2564-4f4f-bd8b-ea4e8f129f67</td>\n      <td>25f9f297-40a8-45d9-bb67-4b0f6dad1315</td>\n      <td>...</td>\n      <td>280</td>\n      <td>12</td>\n      <td>402.0</td>\n      <td>347</td>\n      <td>1</td>\n      <td>2</td>\n      <td>3</td>\n      <td>1</td>\n      <td>1</td>\n      <td>2</td>\n    </tr>\n    <tr>\n      <th>57614</th>\n      <td>e50195cf-ca16-481a-b114-af130cbb5fc5</td>\n      <td>2016-11-14 21:26:45</td>\n      <td>19-47-00 2016-11-18</td>\n      <td>19-47-00 2016-11-18</td>\n      <td>21-12-00 2016-11-18</td>\n      <td>None</td>\n      <td>c82a2ea6-cbf1-46af-98c5-acd43b174f5d</td>\n      <td>['d6031746-5020-4a5b-af39-416ba1befd5a', '9e89...</td>\n      <td>617fd321-515e-4d4e-9f63-29f75d5d7137</td>\n      <td>5554bea4-f3cd-4432-bb13-73698f52de88</td>\n      <td>...</td>\n      <td>1405</td>\n      <td>12</td>\n      <td>370.0</td>\n      <td>167</td>\n      <td>0</td>\n      <td>1</td>\n      <td>0</td>\n      <td>1</td>\n      <td>0</td>\n      <td>2</td>\n    </tr>\n    <tr>\n      <th>210772</th>\n      <td>07d11be6-4f59-4209-9f9b-dd4801842def</td>\n      <td>2016-11-14 12:52:04</td>\n      <td>22-50-00 2016-11-20</td>\n      <td>22-50-00 2016-11-20</td>\n      <td>10-04-00 2016-11-21</td>\n      <td>None</td>\n      <td>43c32a76-e5a3-4874-85c3-5377fa50b515</td>\n      <td>['70f77f1d-7e52-4e98-a100-ae826dd1793e', '9e89...</td>\n      <td>dbbc9130-47e1-4cf6-a48d-d6a20ab3d2d0</td>\n      <td>ea77a36e-4b0c-4e8d-bf09-4c8398609ae1</td>\n      <td>...</td>\n      <td>1732</td>\n      <td>12</td>\n      <td>346.0</td>\n      <td>169</td>\n      <td>0</td>\n      <td>1</td>\n      <td>0</td>\n      <td>1</td>\n      <td>0</td>\n      <td>2</td>\n    </tr>\n  </tbody>\n</table>\n<p>3 rows × 23 columns</p>\n</div>"
     },
     "execution_count": 26,
     "metadata": {},
     "output_type": "execute_result"
    }
   ],
   "source": [
    "train_df[train_categorical_columns].sample(3)"
   ],
   "metadata": {
    "collapsed": false,
    "ExecuteTime": {
     "start_time": "2024-07-17T17:06:20.390109Z",
     "end_time": "2024-07-17T17:06:20.570687Z"
    }
   }
  },
  {
   "cell_type": "code",
   "execution_count": 27,
   "outputs": [
    {
     "name": "stdout",
     "output_type": "stream",
     "text": [
      "['order_date', 'stock_departure_date', 'delivery_service_departure_date', 'client_arrival_date'] ['item_package_type', 'brand_name', 'item_id', 'item_category', 'delivery_service_name', 'departure_country', 'departure_city', 'departure_region', 'arrival_country', 'arrival_city', 'arrival_region', 'item_type', 'client_device_type', 'client_browser', 'client_is_app', 'order_tracking_available', 'type_prepayment']\n"
     ]
    }
   ],
   "source": [
    "date_features = train_categorical_columns[1:5]\n",
    "order_features = train_categorical_columns[6:]\n",
    "print(date_features, order_features)"
   ],
   "metadata": {
    "collapsed": false,
    "ExecuteTime": {
     "start_time": "2024-07-17T17:06:25.330635Z",
     "end_time": "2024-07-17T17:06:25.350601Z"
    }
   }
  },
  {
   "cell_type": "code",
   "execution_count": 28,
   "outputs": [
    {
     "name": "stderr",
     "output_type": "stream",
     "text": [
      "\n",
      "A value is trying to be set on a copy of a slice from a DataFrame\n",
      "\n",
      "See the caveats in the documentation: https://pandas.pydata.org/pandas-docs/stable/user_guide/indexing.html#returning-a-view-versus-a-copy\n"
     ]
    }
   ],
   "source": [
    "# Поищем зависимости между атипичным поведением таргета и категориальными переменными\n",
    "train_df['typical'] = np.nan\n",
    "train_df['typical'][train_df['item_losses'] == 0] = False\n",
    "train_df['typical'][train_df['item_losses'] != 0] = True\n",
    "columns_for_drop.append('typical')"
   ],
   "metadata": {
    "collapsed": false,
    "ExecuteTime": {
     "start_time": "2024-07-17T17:06:25.967437Z",
     "end_time": "2024-07-17T17:06:26.016727Z"
    }
   }
  },
  {
   "cell_type": "code",
   "execution_count": 29,
   "outputs": [
    {
     "data": {
      "text/plain": "5"
     },
     "execution_count": 29,
     "metadata": {},
     "output_type": "execute_result"
    }
   ],
   "source": [
    "train_df[order_features[0]].nunique()"
   ],
   "metadata": {
    "collapsed": false,
    "ExecuteTime": {
     "start_time": "2024-07-17T17:06:54.959696Z",
     "end_time": "2024-07-17T17:06:54.999486Z"
    }
   }
  },
  {
   "cell_type": "code",
   "execution_count": 30,
   "outputs": [
    {
     "data": {
      "text/plain": "                      item_package_type  typical  dist_in_group  dist_in_total\n8  c82a2ea6-cbf1-46af-98c5-acd43b174f5d    False       0.735290       0.876296\n9  c82a2ea6-cbf1-46af-98c5-acd43b174f5d     True       0.269640       0.876296\n4  4b30b1ff-54b0-4aac-ac8a-6df7bb59548e    False       0.807248       0.103930\n5  4b30b1ff-54b0-4aac-ac8a-6df7bb59548e     True       0.204898       0.103930\n2  43c32a76-e5a3-4874-85c3-5377fa50b515    False       0.782484       0.063151\n3  43c32a76-e5a3-4874-85c3-5377fa50b515     True       0.224152       0.063151\n6  7b0818f4-617e-4843-a5c1-634d2c2a3c2f    False       0.768227       0.043997\n7  7b0818f4-617e-4843-a5c1-634d2c2a3c2f     True       0.239887       0.043997\n0  1d030b8e-b455-4e27-9d19-c68c1d7924a4    False       0.598826       0.002644\n1  1d030b8e-b455-4e27-9d19-c68c1d7924a4     True       0.403131       0.002644",
      "text/html": "<div>\n<style scoped>\n    .dataframe tbody tr th:only-of-type {\n        vertical-align: middle;\n    }\n\n    .dataframe tbody tr th {\n        vertical-align: top;\n    }\n\n    .dataframe thead th {\n        text-align: right;\n    }\n</style>\n<table border=\"1\" class=\"dataframe\">\n  <thead>\n    <tr style=\"text-align: right;\">\n      <th></th>\n      <th>item_package_type</th>\n      <th>typical</th>\n      <th>dist_in_group</th>\n      <th>dist_in_total</th>\n    </tr>\n  </thead>\n  <tbody>\n    <tr>\n      <th>8</th>\n      <td>c82a2ea6-cbf1-46af-98c5-acd43b174f5d</td>\n      <td>False</td>\n      <td>0.735290</td>\n      <td>0.876296</td>\n    </tr>\n    <tr>\n      <th>9</th>\n      <td>c82a2ea6-cbf1-46af-98c5-acd43b174f5d</td>\n      <td>True</td>\n      <td>0.269640</td>\n      <td>0.876296</td>\n    </tr>\n    <tr>\n      <th>4</th>\n      <td>4b30b1ff-54b0-4aac-ac8a-6df7bb59548e</td>\n      <td>False</td>\n      <td>0.807248</td>\n      <td>0.103930</td>\n    </tr>\n    <tr>\n      <th>5</th>\n      <td>4b30b1ff-54b0-4aac-ac8a-6df7bb59548e</td>\n      <td>True</td>\n      <td>0.204898</td>\n      <td>0.103930</td>\n    </tr>\n    <tr>\n      <th>2</th>\n      <td>43c32a76-e5a3-4874-85c3-5377fa50b515</td>\n      <td>False</td>\n      <td>0.782484</td>\n      <td>0.063151</td>\n    </tr>\n    <tr>\n      <th>3</th>\n      <td>43c32a76-e5a3-4874-85c3-5377fa50b515</td>\n      <td>True</td>\n      <td>0.224152</td>\n      <td>0.063151</td>\n    </tr>\n    <tr>\n      <th>6</th>\n      <td>7b0818f4-617e-4843-a5c1-634d2c2a3c2f</td>\n      <td>False</td>\n      <td>0.768227</td>\n      <td>0.043997</td>\n    </tr>\n    <tr>\n      <th>7</th>\n      <td>7b0818f4-617e-4843-a5c1-634d2c2a3c2f</td>\n      <td>True</td>\n      <td>0.239887</td>\n      <td>0.043997</td>\n    </tr>\n    <tr>\n      <th>0</th>\n      <td>1d030b8e-b455-4e27-9d19-c68c1d7924a4</td>\n      <td>False</td>\n      <td>0.598826</td>\n      <td>0.002644</td>\n    </tr>\n    <tr>\n      <th>1</th>\n      <td>1d030b8e-b455-4e27-9d19-c68c1d7924a4</td>\n      <td>True</td>\n      <td>0.403131</td>\n      <td>0.002644</td>\n    </tr>\n  </tbody>\n</table>\n</div>"
     },
     "execution_count": 30,
     "metadata": {},
     "output_type": "execute_result"
    }
   ],
   "source": [
    "distribution(train_df, order_features[0])"
   ],
   "metadata": {
    "collapsed": false,
    "ExecuteTime": {
     "start_time": "2024-07-17T17:06:57.375149Z",
     "end_time": "2024-07-17T17:06:57.722977Z"
    }
   }
  },
  {
   "cell_type": "code",
   "execution_count": 31,
   "outputs": [],
   "source": [
    "# есть незначительные отклонения в 1d030b8e-b455-4e27-9d19-c68c1d7924a4, но доля крайне мала."
   ],
   "metadata": {
    "collapsed": false,
    "ExecuteTime": {
     "start_time": "2024-07-17T16:23:33.150646Z",
     "end_time": "2024-07-17T16:23:33.168314Z"
    }
   }
  },
  {
   "cell_type": "code",
   "execution_count": 31,
   "outputs": [
    {
     "data": {
      "text/plain": "113"
     },
     "execution_count": 31,
     "metadata": {},
     "output_type": "execute_result"
    }
   ],
   "source": [
    "train_df[order_features[1]].nunique()"
   ],
   "metadata": {
    "collapsed": false,
    "ExecuteTime": {
     "start_time": "2024-07-17T17:08:03.826656Z",
     "end_time": "2024-07-17T17:08:03.884849Z"
    }
   }
  },
  {
   "cell_type": "code",
   "execution_count": 32,
   "outputs": [
    {
     "data": {
      "text/plain": "                                            brand_name  typical  \\\n221                                                 []     True   \n220                                                 []    False   \n211           ['f4e0584f-4dd0-494a-a2e1-8e1f0197df31']     True   \n210           ['f4e0584f-4dd0-494a-a2e1-8e1f0197df31']    False   \n202           ['e5154844-2e6c-48ba-883b-2564eb8b8261']    False   \n..                                                 ...      ...   \n14   ['15fa33ce-c07b-483d-b0be-5c9f99caaecb', '7eeb...     True   \n174           ['caf89326-3ec5-4a8d-b179-8c47d4f969e2']    False   \n171           ['c5677df9-354a-47c6-98cf-7394b8522c03']     True   \n160           ['b0c30def-4db0-4086-9544-d35f76a0b299']    False   \n12            ['13c54d7c-f0ed-4319-8d1b-7fa572eeda31']    False   \n\n     dist_in_group  dist_in_total  \n221       0.270245       0.511429  \n220       0.742481       0.511429  \n211       0.239293       0.135303  \n210       0.769195       0.135303  \n202       0.718168       0.063590  \n..             ...            ...  \n14        0.500000       0.000010  \n174       0.500000       0.000010  \n171       1.000000       0.000005  \n160       1.000000       0.000005  \n12        1.000000       0.000005  \n\n[222 rows x 4 columns]",
      "text/html": "<div>\n<style scoped>\n    .dataframe tbody tr th:only-of-type {\n        vertical-align: middle;\n    }\n\n    .dataframe tbody tr th {\n        vertical-align: top;\n    }\n\n    .dataframe thead th {\n        text-align: right;\n    }\n</style>\n<table border=\"1\" class=\"dataframe\">\n  <thead>\n    <tr style=\"text-align: right;\">\n      <th></th>\n      <th>brand_name</th>\n      <th>typical</th>\n      <th>dist_in_group</th>\n      <th>dist_in_total</th>\n    </tr>\n  </thead>\n  <tbody>\n    <tr>\n      <th>221</th>\n      <td>[]</td>\n      <td>True</td>\n      <td>0.270245</td>\n      <td>0.511429</td>\n    </tr>\n    <tr>\n      <th>220</th>\n      <td>[]</td>\n      <td>False</td>\n      <td>0.742481</td>\n      <td>0.511429</td>\n    </tr>\n    <tr>\n      <th>211</th>\n      <td>['f4e0584f-4dd0-494a-a2e1-8e1f0197df31']</td>\n      <td>True</td>\n      <td>0.239293</td>\n      <td>0.135303</td>\n    </tr>\n    <tr>\n      <th>210</th>\n      <td>['f4e0584f-4dd0-494a-a2e1-8e1f0197df31']</td>\n      <td>False</td>\n      <td>0.769195</td>\n      <td>0.135303</td>\n    </tr>\n    <tr>\n      <th>202</th>\n      <td>['e5154844-2e6c-48ba-883b-2564eb8b8261']</td>\n      <td>False</td>\n      <td>0.718168</td>\n      <td>0.063590</td>\n    </tr>\n    <tr>\n      <th>...</th>\n      <td>...</td>\n      <td>...</td>\n      <td>...</td>\n      <td>...</td>\n    </tr>\n    <tr>\n      <th>14</th>\n      <td>['15fa33ce-c07b-483d-b0be-5c9f99caaecb', '7eeb...</td>\n      <td>True</td>\n      <td>0.500000</td>\n      <td>0.000010</td>\n    </tr>\n    <tr>\n      <th>174</th>\n      <td>['caf89326-3ec5-4a8d-b179-8c47d4f969e2']</td>\n      <td>False</td>\n      <td>0.500000</td>\n      <td>0.000010</td>\n    </tr>\n    <tr>\n      <th>171</th>\n      <td>['c5677df9-354a-47c6-98cf-7394b8522c03']</td>\n      <td>True</td>\n      <td>1.000000</td>\n      <td>0.000005</td>\n    </tr>\n    <tr>\n      <th>160</th>\n      <td>['b0c30def-4db0-4086-9544-d35f76a0b299']</td>\n      <td>False</td>\n      <td>1.000000</td>\n      <td>0.000005</td>\n    </tr>\n    <tr>\n      <th>12</th>\n      <td>['13c54d7c-f0ed-4319-8d1b-7fa572eeda31']</td>\n      <td>False</td>\n      <td>1.000000</td>\n      <td>0.000005</td>\n    </tr>\n  </tbody>\n</table>\n<p>222 rows × 4 columns</p>\n</div>"
     },
     "execution_count": 32,
     "metadata": {},
     "output_type": "execute_result"
    }
   ],
   "source": [
    "distribution(train_df, order_features[1])"
   ],
   "metadata": {
    "collapsed": false,
    "ExecuteTime": {
     "start_time": "2024-07-17T17:08:38.070015Z",
     "end_time": "2024-07-17T17:08:38.498779Z"
    }
   }
  },
  {
   "cell_type": "code",
   "execution_count": 33,
   "outputs": [
    {
     "data": {
      "text/plain": "1866"
     },
     "execution_count": 33,
     "metadata": {},
     "output_type": "execute_result"
    }
   ],
   "source": [
    "train_df[order_features[2]].nunique()"
   ],
   "metadata": {
    "collapsed": false,
    "ExecuteTime": {
     "start_time": "2024-07-17T17:09:15.935597Z",
     "end_time": "2024-07-17T17:09:16.017565Z"
    }
   }
  },
  {
   "cell_type": "code",
   "execution_count": 36,
   "outputs": [
    {
     "data": {
      "text/plain": "                                   item_id  typical  dist_in_group  \\\n875   3f9b04ee-957a-4f82-85ba-23c914e1869a     True       0.222759   \n874   3f9b04ee-957a-4f82-85ba-23c914e1869a    False       0.786207   \n1337  6067214d-3b34-44ac-8330-f4c7aeae96c7     True       0.196958   \n1336  6067214d-3b34-44ac-8330-f4c7aeae96c7    False       0.811407   \n1525  6fc1477e-fd04-444c-96a1-9eb890198c69    False       0.800323   \n...                                    ...      ...            ...   \n1312  5dbbc6ba-d254-4b83-b0d5-e43df6501fa1    False       1.000000   \n2416  b3f02078-8b4d-4311-84a3-d4d3ded29c21    False       1.000000   \n3159  f0e201b6-6fb2-4ab6-b419-4b92447a218a    False       1.000000   \n2401  b317948d-114f-43fc-946a-6716091b75f1    False       1.000000   \n2539  bf8ab862-35f6-4e78-b97a-a22f1a154dbb    False       1.000000   \n\n      dist_in_total  \n875        0.007502  \n874        0.007502  \n1337       0.006803  \n1336       0.006803  \n1525       0.006400  \n...             ...  \n1312       0.000005  \n2416       0.000005  \n3159       0.000005  \n2401       0.000005  \n2539       0.000005  \n\n[3362 rows x 4 columns]",
      "text/html": "<div>\n<style scoped>\n    .dataframe tbody tr th:only-of-type {\n        vertical-align: middle;\n    }\n\n    .dataframe tbody tr th {\n        vertical-align: top;\n    }\n\n    .dataframe thead th {\n        text-align: right;\n    }\n</style>\n<table border=\"1\" class=\"dataframe\">\n  <thead>\n    <tr style=\"text-align: right;\">\n      <th></th>\n      <th>item_id</th>\n      <th>typical</th>\n      <th>dist_in_group</th>\n      <th>dist_in_total</th>\n    </tr>\n  </thead>\n  <tbody>\n    <tr>\n      <th>875</th>\n      <td>3f9b04ee-957a-4f82-85ba-23c914e1869a</td>\n      <td>True</td>\n      <td>0.222759</td>\n      <td>0.007502</td>\n    </tr>\n    <tr>\n      <th>874</th>\n      <td>3f9b04ee-957a-4f82-85ba-23c914e1869a</td>\n      <td>False</td>\n      <td>0.786207</td>\n      <td>0.007502</td>\n    </tr>\n    <tr>\n      <th>1337</th>\n      <td>6067214d-3b34-44ac-8330-f4c7aeae96c7</td>\n      <td>True</td>\n      <td>0.196958</td>\n      <td>0.006803</td>\n    </tr>\n    <tr>\n      <th>1336</th>\n      <td>6067214d-3b34-44ac-8330-f4c7aeae96c7</td>\n      <td>False</td>\n      <td>0.811407</td>\n      <td>0.006803</td>\n    </tr>\n    <tr>\n      <th>1525</th>\n      <td>6fc1477e-fd04-444c-96a1-9eb890198c69</td>\n      <td>False</td>\n      <td>0.800323</td>\n      <td>0.006400</td>\n    </tr>\n    <tr>\n      <th>...</th>\n      <td>...</td>\n      <td>...</td>\n      <td>...</td>\n      <td>...</td>\n    </tr>\n    <tr>\n      <th>1312</th>\n      <td>5dbbc6ba-d254-4b83-b0d5-e43df6501fa1</td>\n      <td>False</td>\n      <td>1.000000</td>\n      <td>0.000005</td>\n    </tr>\n    <tr>\n      <th>2416</th>\n      <td>b3f02078-8b4d-4311-84a3-d4d3ded29c21</td>\n      <td>False</td>\n      <td>1.000000</td>\n      <td>0.000005</td>\n    </tr>\n    <tr>\n      <th>3159</th>\n      <td>f0e201b6-6fb2-4ab6-b419-4b92447a218a</td>\n      <td>False</td>\n      <td>1.000000</td>\n      <td>0.000005</td>\n    </tr>\n    <tr>\n      <th>2401</th>\n      <td>b317948d-114f-43fc-946a-6716091b75f1</td>\n      <td>False</td>\n      <td>1.000000</td>\n      <td>0.000005</td>\n    </tr>\n    <tr>\n      <th>2539</th>\n      <td>bf8ab862-35f6-4e78-b97a-a22f1a154dbb</td>\n      <td>False</td>\n      <td>1.000000</td>\n      <td>0.000005</td>\n    </tr>\n  </tbody>\n</table>\n<p>3362 rows × 4 columns</p>\n</div>"
     },
     "execution_count": 36,
     "metadata": {},
     "output_type": "execute_result"
    }
   ],
   "source": [
    "distribution(train_df, order_features[2])"
   ],
   "metadata": {
    "collapsed": false,
    "ExecuteTime": {
     "start_time": "2024-07-17T17:11:20.458351Z",
     "end_time": "2024-07-17T17:11:20.912645Z"
    }
   }
  },
  {
   "cell_type": "code",
   "execution_count": 37,
   "outputs": [
    {
     "data": {
      "text/plain": "6"
     },
     "execution_count": 37,
     "metadata": {},
     "output_type": "execute_result"
    }
   ],
   "source": [
    "train_df[order_features[3]].nunique()"
   ],
   "metadata": {
    "collapsed": false,
    "ExecuteTime": {
     "start_time": "2024-07-17T17:13:03.294188Z",
     "end_time": "2024-07-17T17:13:03.337153Z"
    }
   }
  },
  {
   "cell_type": "code",
   "execution_count": 38,
   "outputs": [
    {
     "data": {
      "text/plain": "                           item_category  typical  dist_in_group  \\\n10  ea77a36e-4b0c-4e8d-bf09-4c8398609ae1    False       0.738837   \n11  ea77a36e-4b0c-4e8d-bf09-4c8398609ae1     True       0.273222   \n6   5554bea4-f3cd-4432-bb13-73698f52de88    False       0.747983   \n7   5554bea4-f3cd-4432-bb13-73698f52de88     True       0.259503   \n2   25f9f297-40a8-45d9-bb67-4b0f6dad1315    False       0.762712   \n3   25f9f297-40a8-45d9-bb67-4b0f6dad1315     True       0.252033   \n8   60959c0c-9c1a-434b-8442-3b8c2fc73655    False       0.773536   \n9   60959c0c-9c1a-434b-8442-3b8c2fc73655     True       0.237416   \n0   243f0bd2-7e7b-4b32-96f9-5bd080948936    False       0.740741   \n1   243f0bd2-7e7b-4b32-96f9-5bd080948936     True       0.267806   \n4   38541b4d-f0d3-4471-abbc-574f4f1779c8    False       0.680503   \n5   38541b4d-f0d3-4471-abbc-574f4f1779c8     True       0.327044   \n\n    dist_in_total  \n10       0.349237  \n11       0.349237  \n6        0.327606  \n7        0.327606  \n2        0.262101  \n3        0.262101  \n8        0.051494  \n9        0.051494  \n0        0.005448  \n1        0.005448  \n4        0.004113  \n5        0.004113  ",
      "text/html": "<div>\n<style scoped>\n    .dataframe tbody tr th:only-of-type {\n        vertical-align: middle;\n    }\n\n    .dataframe tbody tr th {\n        vertical-align: top;\n    }\n\n    .dataframe thead th {\n        text-align: right;\n    }\n</style>\n<table border=\"1\" class=\"dataframe\">\n  <thead>\n    <tr style=\"text-align: right;\">\n      <th></th>\n      <th>item_category</th>\n      <th>typical</th>\n      <th>dist_in_group</th>\n      <th>dist_in_total</th>\n    </tr>\n  </thead>\n  <tbody>\n    <tr>\n      <th>10</th>\n      <td>ea77a36e-4b0c-4e8d-bf09-4c8398609ae1</td>\n      <td>False</td>\n      <td>0.738837</td>\n      <td>0.349237</td>\n    </tr>\n    <tr>\n      <th>11</th>\n      <td>ea77a36e-4b0c-4e8d-bf09-4c8398609ae1</td>\n      <td>True</td>\n      <td>0.273222</td>\n      <td>0.349237</td>\n    </tr>\n    <tr>\n      <th>6</th>\n      <td>5554bea4-f3cd-4432-bb13-73698f52de88</td>\n      <td>False</td>\n      <td>0.747983</td>\n      <td>0.327606</td>\n    </tr>\n    <tr>\n      <th>7</th>\n      <td>5554bea4-f3cd-4432-bb13-73698f52de88</td>\n      <td>True</td>\n      <td>0.259503</td>\n      <td>0.327606</td>\n    </tr>\n    <tr>\n      <th>2</th>\n      <td>25f9f297-40a8-45d9-bb67-4b0f6dad1315</td>\n      <td>False</td>\n      <td>0.762712</td>\n      <td>0.262101</td>\n    </tr>\n    <tr>\n      <th>3</th>\n      <td>25f9f297-40a8-45d9-bb67-4b0f6dad1315</td>\n      <td>True</td>\n      <td>0.252033</td>\n      <td>0.262101</td>\n    </tr>\n    <tr>\n      <th>8</th>\n      <td>60959c0c-9c1a-434b-8442-3b8c2fc73655</td>\n      <td>False</td>\n      <td>0.773536</td>\n      <td>0.051494</td>\n    </tr>\n    <tr>\n      <th>9</th>\n      <td>60959c0c-9c1a-434b-8442-3b8c2fc73655</td>\n      <td>True</td>\n      <td>0.237416</td>\n      <td>0.051494</td>\n    </tr>\n    <tr>\n      <th>0</th>\n      <td>243f0bd2-7e7b-4b32-96f9-5bd080948936</td>\n      <td>False</td>\n      <td>0.740741</td>\n      <td>0.005448</td>\n    </tr>\n    <tr>\n      <th>1</th>\n      <td>243f0bd2-7e7b-4b32-96f9-5bd080948936</td>\n      <td>True</td>\n      <td>0.267806</td>\n      <td>0.005448</td>\n    </tr>\n    <tr>\n      <th>4</th>\n      <td>38541b4d-f0d3-4471-abbc-574f4f1779c8</td>\n      <td>False</td>\n      <td>0.680503</td>\n      <td>0.004113</td>\n    </tr>\n    <tr>\n      <th>5</th>\n      <td>38541b4d-f0d3-4471-abbc-574f4f1779c8</td>\n      <td>True</td>\n      <td>0.327044</td>\n      <td>0.004113</td>\n    </tr>\n  </tbody>\n</table>\n</div>"
     },
     "execution_count": 38,
     "metadata": {},
     "output_type": "execute_result"
    }
   ],
   "source": [
    "distribution(train_df, order_features[3])"
   ],
   "metadata": {
    "collapsed": false,
    "ExecuteTime": {
     "start_time": "2024-07-17T17:13:14.228992Z",
     "end_time": "2024-07-17T17:13:14.616804Z"
    }
   }
  },
  {
   "cell_type": "code",
   "execution_count": 39,
   "outputs": [
    {
     "data": {
      "text/plain": "25"
     },
     "execution_count": 39,
     "metadata": {},
     "output_type": "execute_result"
    }
   ],
   "source": [
    "train_df[order_features[4]].nunique()"
   ],
   "metadata": {
    "collapsed": false,
    "ExecuteTime": {
     "start_time": "2024-07-17T17:13:49.302084Z",
     "end_time": "2024-07-17T17:13:49.341752Z"
    }
   }
  },
  {
   "cell_type": "code",
   "execution_count": 40,
   "outputs": [
    {
     "data": {
      "text/plain": "                   delivery_service_name  typical  dist_in_group  \\\n18  5c8a6701-853f-4721-86f0-86e79f7220c4     True       0.271485   \n17  5c8a6701-853f-4721-86f0-86e79f7220c4    False       0.740513   \n42  eec00286-b56b-44b0-8882-7b7022355a8f     True       0.239502   \n41  eec00286-b56b-44b0-8882-7b7022355a8f    False       0.768852   \n9   409f1e13-81ae-4e36-9bd2-6a6c53d38601     True       0.225189   \n8   409f1e13-81ae-4e36-9bd2-6a6c53d38601    False       0.784689   \n44  fcaa3980-7779-4590-9c18-8ce1c03b6ee9     True       0.212412   \n43  fcaa3980-7779-4590-9c18-8ce1c03b6ee9    False       0.789414   \n24  85282487-c17a-41ff-bedd-d0461a3e7330     True       0.230132   \n23  85282487-c17a-41ff-bedd-d0461a3e7330    False       0.785141   \n7   3f1e3d6a-a194-4cf9-9026-bb03a8f544c2     True       0.190264   \n6   3f1e3d6a-a194-4cf9-9026-bb03a8f544c2    False       0.818641   \n36  bcf8f840-043b-4637-a283-16e561d6a86c     True       0.274176   \n35  bcf8f840-043b-4637-a283-16e561d6a86c    False       0.738576   \n12  56ecf0d7-73dd-4fee-80c3-9165a889088d    False       0.775320   \n13  56ecf0d7-73dd-4fee-80c3-9165a889088d     True       0.233993   \n11  42f718fe-d3b9-40e6-b5c7-e1cb31e7a7b5     True       0.259819   \n10  42f718fe-d3b9-40e6-b5c7-e1cb31e7a7b5    False       0.746224   \n4   202230b2-235b-4dda-ad57-3a722d4cce5b     True       0.246073   \n3   202230b2-235b-4dda-ad57-3a722d4cce5b    False       0.769634   \n1   12fbc04a-c648-492c-9493-e21a792f228e     True       0.237467   \n0   12fbc04a-c648-492c-9493-e21a792f228e    False       0.773087   \n33  b56d0da5-84b6-457a-9594-fdd0cd2cae13    False       0.744589   \n34  b56d0da5-84b6-457a-9594-fdd0cd2cae13     True       0.268398   \n29  99e0a8dc-c1f1-4b62-bbd8-e429dbb18c31    False       0.759494   \n30  99e0a8dc-c1f1-4b62-bbd8-e429dbb18c31     True       0.246835   \n25  8742ac10-bec1-4d59-8514-604173977b8d    False       0.814815   \n26  8742ac10-bec1-4d59-8514-604173977b8d     True       0.203704   \n21  831e66de-a6e9-4cff-b411-8c644b15e8a0    False       0.789474   \n22  831e66de-a6e9-4cff-b411-8c644b15e8a0     True       0.210526   \n31  a3fbdc94-4e7f-4d9e-bce6-33836a18e294    False       0.622642   \n32  a3fbdc94-4e7f-4d9e-bce6-33836a18e294     True       0.377358   \n20  6aa940a0-5d1a-4b33-8346-6a5c8c9d8af4     True       0.250000   \n19  6aa940a0-5d1a-4b33-8346-6a5c8c9d8af4    False       0.750000   \n15  5b3f20f0-d81d-4abe-add6-cbc79ab88cab     True       0.400000   \n14  5b3f20f0-d81d-4abe-add6-cbc79ab88cab    False       0.600000   \n37  bf42578f-62fd-4022-bb3d-ade42eb27b1e    False       0.500000   \n38  bf42578f-62fd-4022-bb3d-ade42eb27b1e     True       0.500000   \n2   1b24a233-92c5-486a-acce-a337ff14fa21    False       1.000000   \n39  d71d71fb-0694-4b3d-bd23-5b9a9c59da03    False       0.500000   \n40  d71d71fb-0694-4b3d-bd23-5b9a9c59da03     True       0.500000   \n28  9592add2-1b12-499e-a397-1791c2b3d294     True       1.000000   \n27  8fa9cc7f-20ae-4533-894f-0369a2db3ec6    False       1.000000   \n16  5be9f326-8e85-4e64-8e3d-115cbe050fff    False       1.000000   \n5   2df23a19-e607-4a38-a41d-f7d8a01a16d1    False       1.000000   \n\n    dist_in_total  \n18       0.746451  \n17       0.746451  \n42       0.138729  \n41       0.138729  \n9        0.033521  \n8        0.033521  \n44       0.022676  \n43       0.022676  \n24       0.019986  \n23       0.019986  \n7        0.017430  \n6        0.017430  \n36       0.004868  \n35       0.004868  \n12       0.004444  \n13       0.004444  \n11       0.003425  \n10       0.003425  \n4        0.002965  \n3        0.002965  \n1        0.001961  \n0        0.001961  \n33       0.001195  \n34       0.001195  \n29       0.000817  \n30       0.000817  \n25       0.000559  \n26       0.000559  \n21       0.000393  \n22       0.000393  \n31       0.000274  \n32       0.000274  \n20       0.000207  \n19       0.000207  \n15       0.000026  \n14       0.000026  \n37       0.000021  \n38       0.000021  \n2        0.000021  \n39       0.000010  \n40       0.000010  \n28       0.000005  \n27       0.000005  \n16       0.000005  \n5        0.000005  ",
      "text/html": "<div>\n<style scoped>\n    .dataframe tbody tr th:only-of-type {\n        vertical-align: middle;\n    }\n\n    .dataframe tbody tr th {\n        vertical-align: top;\n    }\n\n    .dataframe thead th {\n        text-align: right;\n    }\n</style>\n<table border=\"1\" class=\"dataframe\">\n  <thead>\n    <tr style=\"text-align: right;\">\n      <th></th>\n      <th>delivery_service_name</th>\n      <th>typical</th>\n      <th>dist_in_group</th>\n      <th>dist_in_total</th>\n    </tr>\n  </thead>\n  <tbody>\n    <tr>\n      <th>18</th>\n      <td>5c8a6701-853f-4721-86f0-86e79f7220c4</td>\n      <td>True</td>\n      <td>0.271485</td>\n      <td>0.746451</td>\n    </tr>\n    <tr>\n      <th>17</th>\n      <td>5c8a6701-853f-4721-86f0-86e79f7220c4</td>\n      <td>False</td>\n      <td>0.740513</td>\n      <td>0.746451</td>\n    </tr>\n    <tr>\n      <th>42</th>\n      <td>eec00286-b56b-44b0-8882-7b7022355a8f</td>\n      <td>True</td>\n      <td>0.239502</td>\n      <td>0.138729</td>\n    </tr>\n    <tr>\n      <th>41</th>\n      <td>eec00286-b56b-44b0-8882-7b7022355a8f</td>\n      <td>False</td>\n      <td>0.768852</td>\n      <td>0.138729</td>\n    </tr>\n    <tr>\n      <th>9</th>\n      <td>409f1e13-81ae-4e36-9bd2-6a6c53d38601</td>\n      <td>True</td>\n      <td>0.225189</td>\n      <td>0.033521</td>\n    </tr>\n    <tr>\n      <th>8</th>\n      <td>409f1e13-81ae-4e36-9bd2-6a6c53d38601</td>\n      <td>False</td>\n      <td>0.784689</td>\n      <td>0.033521</td>\n    </tr>\n    <tr>\n      <th>44</th>\n      <td>fcaa3980-7779-4590-9c18-8ce1c03b6ee9</td>\n      <td>True</td>\n      <td>0.212412</td>\n      <td>0.022676</td>\n    </tr>\n    <tr>\n      <th>43</th>\n      <td>fcaa3980-7779-4590-9c18-8ce1c03b6ee9</td>\n      <td>False</td>\n      <td>0.789414</td>\n      <td>0.022676</td>\n    </tr>\n    <tr>\n      <th>24</th>\n      <td>85282487-c17a-41ff-bedd-d0461a3e7330</td>\n      <td>True</td>\n      <td>0.230132</td>\n      <td>0.019986</td>\n    </tr>\n    <tr>\n      <th>23</th>\n      <td>85282487-c17a-41ff-bedd-d0461a3e7330</td>\n      <td>False</td>\n      <td>0.785141</td>\n      <td>0.019986</td>\n    </tr>\n    <tr>\n      <th>7</th>\n      <td>3f1e3d6a-a194-4cf9-9026-bb03a8f544c2</td>\n      <td>True</td>\n      <td>0.190264</td>\n      <td>0.017430</td>\n    </tr>\n    <tr>\n      <th>6</th>\n      <td>3f1e3d6a-a194-4cf9-9026-bb03a8f544c2</td>\n      <td>False</td>\n      <td>0.818641</td>\n      <td>0.017430</td>\n    </tr>\n    <tr>\n      <th>36</th>\n      <td>bcf8f840-043b-4637-a283-16e561d6a86c</td>\n      <td>True</td>\n      <td>0.274176</td>\n      <td>0.004868</td>\n    </tr>\n    <tr>\n      <th>35</th>\n      <td>bcf8f840-043b-4637-a283-16e561d6a86c</td>\n      <td>False</td>\n      <td>0.738576</td>\n      <td>0.004868</td>\n    </tr>\n    <tr>\n      <th>12</th>\n      <td>56ecf0d7-73dd-4fee-80c3-9165a889088d</td>\n      <td>False</td>\n      <td>0.775320</td>\n      <td>0.004444</td>\n    </tr>\n    <tr>\n      <th>13</th>\n      <td>56ecf0d7-73dd-4fee-80c3-9165a889088d</td>\n      <td>True</td>\n      <td>0.233993</td>\n      <td>0.004444</td>\n    </tr>\n    <tr>\n      <th>11</th>\n      <td>42f718fe-d3b9-40e6-b5c7-e1cb31e7a7b5</td>\n      <td>True</td>\n      <td>0.259819</td>\n      <td>0.003425</td>\n    </tr>\n    <tr>\n      <th>10</th>\n      <td>42f718fe-d3b9-40e6-b5c7-e1cb31e7a7b5</td>\n      <td>False</td>\n      <td>0.746224</td>\n      <td>0.003425</td>\n    </tr>\n    <tr>\n      <th>4</th>\n      <td>202230b2-235b-4dda-ad57-3a722d4cce5b</td>\n      <td>True</td>\n      <td>0.246073</td>\n      <td>0.002965</td>\n    </tr>\n    <tr>\n      <th>3</th>\n      <td>202230b2-235b-4dda-ad57-3a722d4cce5b</td>\n      <td>False</td>\n      <td>0.769634</td>\n      <td>0.002965</td>\n    </tr>\n    <tr>\n      <th>1</th>\n      <td>12fbc04a-c648-492c-9493-e21a792f228e</td>\n      <td>True</td>\n      <td>0.237467</td>\n      <td>0.001961</td>\n    </tr>\n    <tr>\n      <th>0</th>\n      <td>12fbc04a-c648-492c-9493-e21a792f228e</td>\n      <td>False</td>\n      <td>0.773087</td>\n      <td>0.001961</td>\n    </tr>\n    <tr>\n      <th>33</th>\n      <td>b56d0da5-84b6-457a-9594-fdd0cd2cae13</td>\n      <td>False</td>\n      <td>0.744589</td>\n      <td>0.001195</td>\n    </tr>\n    <tr>\n      <th>34</th>\n      <td>b56d0da5-84b6-457a-9594-fdd0cd2cae13</td>\n      <td>True</td>\n      <td>0.268398</td>\n      <td>0.001195</td>\n    </tr>\n    <tr>\n      <th>29</th>\n      <td>99e0a8dc-c1f1-4b62-bbd8-e429dbb18c31</td>\n      <td>False</td>\n      <td>0.759494</td>\n      <td>0.000817</td>\n    </tr>\n    <tr>\n      <th>30</th>\n      <td>99e0a8dc-c1f1-4b62-bbd8-e429dbb18c31</td>\n      <td>True</td>\n      <td>0.246835</td>\n      <td>0.000817</td>\n    </tr>\n    <tr>\n      <th>25</th>\n      <td>8742ac10-bec1-4d59-8514-604173977b8d</td>\n      <td>False</td>\n      <td>0.814815</td>\n      <td>0.000559</td>\n    </tr>\n    <tr>\n      <th>26</th>\n      <td>8742ac10-bec1-4d59-8514-604173977b8d</td>\n      <td>True</td>\n      <td>0.203704</td>\n      <td>0.000559</td>\n    </tr>\n    <tr>\n      <th>21</th>\n      <td>831e66de-a6e9-4cff-b411-8c644b15e8a0</td>\n      <td>False</td>\n      <td>0.789474</td>\n      <td>0.000393</td>\n    </tr>\n    <tr>\n      <th>22</th>\n      <td>831e66de-a6e9-4cff-b411-8c644b15e8a0</td>\n      <td>True</td>\n      <td>0.210526</td>\n      <td>0.000393</td>\n    </tr>\n    <tr>\n      <th>31</th>\n      <td>a3fbdc94-4e7f-4d9e-bce6-33836a18e294</td>\n      <td>False</td>\n      <td>0.622642</td>\n      <td>0.000274</td>\n    </tr>\n    <tr>\n      <th>32</th>\n      <td>a3fbdc94-4e7f-4d9e-bce6-33836a18e294</td>\n      <td>True</td>\n      <td>0.377358</td>\n      <td>0.000274</td>\n    </tr>\n    <tr>\n      <th>20</th>\n      <td>6aa940a0-5d1a-4b33-8346-6a5c8c9d8af4</td>\n      <td>True</td>\n      <td>0.250000</td>\n      <td>0.000207</td>\n    </tr>\n    <tr>\n      <th>19</th>\n      <td>6aa940a0-5d1a-4b33-8346-6a5c8c9d8af4</td>\n      <td>False</td>\n      <td>0.750000</td>\n      <td>0.000207</td>\n    </tr>\n    <tr>\n      <th>15</th>\n      <td>5b3f20f0-d81d-4abe-add6-cbc79ab88cab</td>\n      <td>True</td>\n      <td>0.400000</td>\n      <td>0.000026</td>\n    </tr>\n    <tr>\n      <th>14</th>\n      <td>5b3f20f0-d81d-4abe-add6-cbc79ab88cab</td>\n      <td>False</td>\n      <td>0.600000</td>\n      <td>0.000026</td>\n    </tr>\n    <tr>\n      <th>37</th>\n      <td>bf42578f-62fd-4022-bb3d-ade42eb27b1e</td>\n      <td>False</td>\n      <td>0.500000</td>\n      <td>0.000021</td>\n    </tr>\n    <tr>\n      <th>38</th>\n      <td>bf42578f-62fd-4022-bb3d-ade42eb27b1e</td>\n      <td>True</td>\n      <td>0.500000</td>\n      <td>0.000021</td>\n    </tr>\n    <tr>\n      <th>2</th>\n      <td>1b24a233-92c5-486a-acce-a337ff14fa21</td>\n      <td>False</td>\n      <td>1.000000</td>\n      <td>0.000021</td>\n    </tr>\n    <tr>\n      <th>39</th>\n      <td>d71d71fb-0694-4b3d-bd23-5b9a9c59da03</td>\n      <td>False</td>\n      <td>0.500000</td>\n      <td>0.000010</td>\n    </tr>\n    <tr>\n      <th>40</th>\n      <td>d71d71fb-0694-4b3d-bd23-5b9a9c59da03</td>\n      <td>True</td>\n      <td>0.500000</td>\n      <td>0.000010</td>\n    </tr>\n    <tr>\n      <th>28</th>\n      <td>9592add2-1b12-499e-a397-1791c2b3d294</td>\n      <td>True</td>\n      <td>1.000000</td>\n      <td>0.000005</td>\n    </tr>\n    <tr>\n      <th>27</th>\n      <td>8fa9cc7f-20ae-4533-894f-0369a2db3ec6</td>\n      <td>False</td>\n      <td>1.000000</td>\n      <td>0.000005</td>\n    </tr>\n    <tr>\n      <th>16</th>\n      <td>5be9f326-8e85-4e64-8e3d-115cbe050fff</td>\n      <td>False</td>\n      <td>1.000000</td>\n      <td>0.000005</td>\n    </tr>\n    <tr>\n      <th>5</th>\n      <td>2df23a19-e607-4a38-a41d-f7d8a01a16d1</td>\n      <td>False</td>\n      <td>1.000000</td>\n      <td>0.000005</td>\n    </tr>\n  </tbody>\n</table>\n</div>"
     },
     "execution_count": 40,
     "metadata": {},
     "output_type": "execute_result"
    }
   ],
   "source": [
    "distribution(train_df, order_features[4])"
   ],
   "metadata": {
    "collapsed": false,
    "ExecuteTime": {
     "start_time": "2024-07-17T17:13:57.110027Z",
     "end_time": "2024-07-17T17:13:57.476381Z"
    }
   }
  },
  {
   "cell_type": "code",
   "execution_count": 41,
   "outputs": [
    {
     "data": {
      "text/plain": "12"
     },
     "execution_count": 41,
     "metadata": {},
     "output_type": "execute_result"
    }
   ],
   "source": [
    "train_df[order_features[5]].nunique()"
   ],
   "metadata": {
    "collapsed": false,
    "ExecuteTime": {
     "start_time": "2024-07-17T17:14:22.905666Z",
     "end_time": "2024-07-17T17:14:22.940073Z"
    }
   }
  },
  {
   "cell_type": "code",
   "execution_count": 42,
   "outputs": [
    {
     "data": {
      "text/plain": "    departure_country  typical  dist_in_group  dist_in_total\n19                 12     True       0.261871       0.980511\n18                 12    False       0.749315       0.980511\n4                   3    False       0.787091       0.010741\n5                   3     True       0.216763       0.010741\n2                   2    False       0.748201       0.002157\n3                   2     True       0.270983       0.002157\n14                  8     True       0.252404       0.002152\n13                  8    False       0.771635       0.002152\n6                   4    False       0.688442       0.002059\n7                   4     True       0.326633       0.002059\n17                 11     True       0.275229       0.001128\n16                 11    False       0.747706       0.001128\n0                   1    False       0.735043       0.000605\n1                   1     True       0.264957       0.000605\n11                  6     True       0.215909       0.000455\n10                  6    False       0.784091       0.000455\n9                   5     True       0.285714       0.000145\n8                   5    False       0.785714       0.000145\n20                 13    False       0.571429       0.000036\n21                 13     True       0.428571       0.000036\n15                 10    False       1.000000       0.000005\n12                  7    False       1.000000       0.000005",
      "text/html": "<div>\n<style scoped>\n    .dataframe tbody tr th:only-of-type {\n        vertical-align: middle;\n    }\n\n    .dataframe tbody tr th {\n        vertical-align: top;\n    }\n\n    .dataframe thead th {\n        text-align: right;\n    }\n</style>\n<table border=\"1\" class=\"dataframe\">\n  <thead>\n    <tr style=\"text-align: right;\">\n      <th></th>\n      <th>departure_country</th>\n      <th>typical</th>\n      <th>dist_in_group</th>\n      <th>dist_in_total</th>\n    </tr>\n  </thead>\n  <tbody>\n    <tr>\n      <th>19</th>\n      <td>12</td>\n      <td>True</td>\n      <td>0.261871</td>\n      <td>0.980511</td>\n    </tr>\n    <tr>\n      <th>18</th>\n      <td>12</td>\n      <td>False</td>\n      <td>0.749315</td>\n      <td>0.980511</td>\n    </tr>\n    <tr>\n      <th>4</th>\n      <td>3</td>\n      <td>False</td>\n      <td>0.787091</td>\n      <td>0.010741</td>\n    </tr>\n    <tr>\n      <th>5</th>\n      <td>3</td>\n      <td>True</td>\n      <td>0.216763</td>\n      <td>0.010741</td>\n    </tr>\n    <tr>\n      <th>2</th>\n      <td>2</td>\n      <td>False</td>\n      <td>0.748201</td>\n      <td>0.002157</td>\n    </tr>\n    <tr>\n      <th>3</th>\n      <td>2</td>\n      <td>True</td>\n      <td>0.270983</td>\n      <td>0.002157</td>\n    </tr>\n    <tr>\n      <th>14</th>\n      <td>8</td>\n      <td>True</td>\n      <td>0.252404</td>\n      <td>0.002152</td>\n    </tr>\n    <tr>\n      <th>13</th>\n      <td>8</td>\n      <td>False</td>\n      <td>0.771635</td>\n      <td>0.002152</td>\n    </tr>\n    <tr>\n      <th>6</th>\n      <td>4</td>\n      <td>False</td>\n      <td>0.688442</td>\n      <td>0.002059</td>\n    </tr>\n    <tr>\n      <th>7</th>\n      <td>4</td>\n      <td>True</td>\n      <td>0.326633</td>\n      <td>0.002059</td>\n    </tr>\n    <tr>\n      <th>17</th>\n      <td>11</td>\n      <td>True</td>\n      <td>0.275229</td>\n      <td>0.001128</td>\n    </tr>\n    <tr>\n      <th>16</th>\n      <td>11</td>\n      <td>False</td>\n      <td>0.747706</td>\n      <td>0.001128</td>\n    </tr>\n    <tr>\n      <th>0</th>\n      <td>1</td>\n      <td>False</td>\n      <td>0.735043</td>\n      <td>0.000605</td>\n    </tr>\n    <tr>\n      <th>1</th>\n      <td>1</td>\n      <td>True</td>\n      <td>0.264957</td>\n      <td>0.000605</td>\n    </tr>\n    <tr>\n      <th>11</th>\n      <td>6</td>\n      <td>True</td>\n      <td>0.215909</td>\n      <td>0.000455</td>\n    </tr>\n    <tr>\n      <th>10</th>\n      <td>6</td>\n      <td>False</td>\n      <td>0.784091</td>\n      <td>0.000455</td>\n    </tr>\n    <tr>\n      <th>9</th>\n      <td>5</td>\n      <td>True</td>\n      <td>0.285714</td>\n      <td>0.000145</td>\n    </tr>\n    <tr>\n      <th>8</th>\n      <td>5</td>\n      <td>False</td>\n      <td>0.785714</td>\n      <td>0.000145</td>\n    </tr>\n    <tr>\n      <th>20</th>\n      <td>13</td>\n      <td>False</td>\n      <td>0.571429</td>\n      <td>0.000036</td>\n    </tr>\n    <tr>\n      <th>21</th>\n      <td>13</td>\n      <td>True</td>\n      <td>0.428571</td>\n      <td>0.000036</td>\n    </tr>\n    <tr>\n      <th>15</th>\n      <td>10</td>\n      <td>False</td>\n      <td>1.000000</td>\n      <td>0.000005</td>\n    </tr>\n    <tr>\n      <th>12</th>\n      <td>7</td>\n      <td>False</td>\n      <td>1.000000</td>\n      <td>0.000005</td>\n    </tr>\n  </tbody>\n</table>\n</div>"
     },
     "execution_count": 42,
     "metadata": {},
     "output_type": "execute_result"
    }
   ],
   "source": [
    "distribution(train_df, order_features[5])"
   ],
   "metadata": {
    "collapsed": false,
    "ExecuteTime": {
     "start_time": "2024-07-17T17:14:31.286487Z",
     "end_time": "2024-07-17T17:14:31.593447Z"
    }
   }
  },
  {
   "cell_type": "code",
   "execution_count": 43,
   "outputs": [
    {
     "data": {
      "text/plain": "587"
     },
     "execution_count": 43,
     "metadata": {},
     "output_type": "execute_result"
    }
   ],
   "source": [
    "train_df[order_features[6]].nunique()"
   ],
   "metadata": {
    "collapsed": false,
    "ExecuteTime": {
     "start_time": "2024-07-17T17:15:02.423024Z",
     "end_time": "2024-07-17T17:15:02.483535Z"
    }
   }
  },
  {
   "cell_type": "code",
   "execution_count": 44,
   "outputs": [
    {
     "data": {
      "text/plain": "      departure_city  typical  dist_in_group  dist_in_total\n181            121.0     True       0.256197       0.358814\n180            121.0    False       0.752988       0.358814\n188            125.0    False       0.756348       0.146303\n189            125.0     True       0.253448       0.146303\n653            418.0     True       0.268055       0.019629\n...              ...      ...            ...            ...\n122             85.0    False       1.000000       0.000005\n746            482.0    False       1.000000       0.000005\n449            292.0    False       1.000000       0.000005\n450            292.0     True       1.000000       0.000005\n1088           714.0     True       1.000000       0.000005\n\n[1089 rows x 4 columns]",
      "text/html": "<div>\n<style scoped>\n    .dataframe tbody tr th:only-of-type {\n        vertical-align: middle;\n    }\n\n    .dataframe tbody tr th {\n        vertical-align: top;\n    }\n\n    .dataframe thead th {\n        text-align: right;\n    }\n</style>\n<table border=\"1\" class=\"dataframe\">\n  <thead>\n    <tr style=\"text-align: right;\">\n      <th></th>\n      <th>departure_city</th>\n      <th>typical</th>\n      <th>dist_in_group</th>\n      <th>dist_in_total</th>\n    </tr>\n  </thead>\n  <tbody>\n    <tr>\n      <th>181</th>\n      <td>121.0</td>\n      <td>True</td>\n      <td>0.256197</td>\n      <td>0.358814</td>\n    </tr>\n    <tr>\n      <th>180</th>\n      <td>121.0</td>\n      <td>False</td>\n      <td>0.752988</td>\n      <td>0.358814</td>\n    </tr>\n    <tr>\n      <th>188</th>\n      <td>125.0</td>\n      <td>False</td>\n      <td>0.756348</td>\n      <td>0.146303</td>\n    </tr>\n    <tr>\n      <th>189</th>\n      <td>125.0</td>\n      <td>True</td>\n      <td>0.253448</td>\n      <td>0.146303</td>\n    </tr>\n    <tr>\n      <th>653</th>\n      <td>418.0</td>\n      <td>True</td>\n      <td>0.268055</td>\n      <td>0.019629</td>\n    </tr>\n    <tr>\n      <th>...</th>\n      <td>...</td>\n      <td>...</td>\n      <td>...</td>\n      <td>...</td>\n    </tr>\n    <tr>\n      <th>122</th>\n      <td>85.0</td>\n      <td>False</td>\n      <td>1.000000</td>\n      <td>0.000005</td>\n    </tr>\n    <tr>\n      <th>746</th>\n      <td>482.0</td>\n      <td>False</td>\n      <td>1.000000</td>\n      <td>0.000005</td>\n    </tr>\n    <tr>\n      <th>449</th>\n      <td>292.0</td>\n      <td>False</td>\n      <td>1.000000</td>\n      <td>0.000005</td>\n    </tr>\n    <tr>\n      <th>450</th>\n      <td>292.0</td>\n      <td>True</td>\n      <td>1.000000</td>\n      <td>0.000005</td>\n    </tr>\n    <tr>\n      <th>1088</th>\n      <td>714.0</td>\n      <td>True</td>\n      <td>1.000000</td>\n      <td>0.000005</td>\n    </tr>\n  </tbody>\n</table>\n<p>1089 rows × 4 columns</p>\n</div>"
     },
     "execution_count": 44,
     "metadata": {},
     "output_type": "execute_result"
    }
   ],
   "source": [
    "distribution(train_df, order_features[6])"
   ],
   "metadata": {
    "collapsed": false,
    "ExecuteTime": {
     "start_time": "2024-07-17T17:15:17.043954Z",
     "end_time": "2024-07-17T17:15:17.383155Z"
    }
   }
  },
  {
   "cell_type": "code",
   "execution_count": 45,
   "outputs": [
    {
     "data": {
      "text/plain": "1220"
     },
     "execution_count": 45,
     "metadata": {},
     "output_type": "execute_result"
    }
   ],
   "source": [
    "train_df[order_features[7]].nunique()"
   ],
   "metadata": {
    "collapsed": false,
    "ExecuteTime": {
     "start_time": "2024-07-17T17:15:42.206001Z",
     "end_time": "2024-07-17T17:15:42.273443Z"
    }
   }
  },
  {
   "cell_type": "code",
   "execution_count": 48,
   "outputs": [
    {
     "data": {
      "text/plain": "      departure_region  typical  dist_in_group  dist_in_total\n969                824    False       0.756438       0.120336\n970                824     True       0.253321       0.120336\n2023              1732     True       0.246253       0.108747\n2022              1732    False       0.762310       0.108747\n405                351    False       0.754450       0.083711\n...                ...      ...            ...            ...\n1402              1198    False       1.000000       0.000005\n172                146    False       1.000000       0.000005\n1068               909     True       1.000000       0.000005\n378                331     True       1.000000       0.000005\n113                 92    False       1.000000       0.000005\n\n[2049 rows x 4 columns]",
      "text/html": "<div>\n<style scoped>\n    .dataframe tbody tr th:only-of-type {\n        vertical-align: middle;\n    }\n\n    .dataframe tbody tr th {\n        vertical-align: top;\n    }\n\n    .dataframe thead th {\n        text-align: right;\n    }\n</style>\n<table border=\"1\" class=\"dataframe\">\n  <thead>\n    <tr style=\"text-align: right;\">\n      <th></th>\n      <th>departure_region</th>\n      <th>typical</th>\n      <th>dist_in_group</th>\n      <th>dist_in_total</th>\n    </tr>\n  </thead>\n  <tbody>\n    <tr>\n      <th>969</th>\n      <td>824</td>\n      <td>False</td>\n      <td>0.756438</td>\n      <td>0.120336</td>\n    </tr>\n    <tr>\n      <th>970</th>\n      <td>824</td>\n      <td>True</td>\n      <td>0.253321</td>\n      <td>0.120336</td>\n    </tr>\n    <tr>\n      <th>2023</th>\n      <td>1732</td>\n      <td>True</td>\n      <td>0.246253</td>\n      <td>0.108747</td>\n    </tr>\n    <tr>\n      <th>2022</th>\n      <td>1732</td>\n      <td>False</td>\n      <td>0.762310</td>\n      <td>0.108747</td>\n    </tr>\n    <tr>\n      <th>405</th>\n      <td>351</td>\n      <td>False</td>\n      <td>0.754450</td>\n      <td>0.083711</td>\n    </tr>\n    <tr>\n      <th>...</th>\n      <td>...</td>\n      <td>...</td>\n      <td>...</td>\n      <td>...</td>\n    </tr>\n    <tr>\n      <th>1402</th>\n      <td>1198</td>\n      <td>False</td>\n      <td>1.000000</td>\n      <td>0.000005</td>\n    </tr>\n    <tr>\n      <th>172</th>\n      <td>146</td>\n      <td>False</td>\n      <td>1.000000</td>\n      <td>0.000005</td>\n    </tr>\n    <tr>\n      <th>1068</th>\n      <td>909</td>\n      <td>True</td>\n      <td>1.000000</td>\n      <td>0.000005</td>\n    </tr>\n    <tr>\n      <th>378</th>\n      <td>331</td>\n      <td>True</td>\n      <td>1.000000</td>\n      <td>0.000005</td>\n    </tr>\n    <tr>\n      <th>113</th>\n      <td>92</td>\n      <td>False</td>\n      <td>1.000000</td>\n      <td>0.000005</td>\n    </tr>\n  </tbody>\n</table>\n<p>2049 rows × 4 columns</p>\n</div>"
     },
     "execution_count": 48,
     "metadata": {},
     "output_type": "execute_result"
    }
   ],
   "source": [
    "distribution(train_df, order_features[7])"
   ],
   "metadata": {
    "collapsed": false,
    "ExecuteTime": {
     "start_time": "2024-07-17T17:16:31.596156Z",
     "end_time": "2024-07-17T17:16:32.075612Z"
    }
   }
  },
  {
   "cell_type": "code",
   "execution_count": 49,
   "outputs": [
    {
     "data": {
      "text/plain": "13"
     },
     "execution_count": 49,
     "metadata": {},
     "output_type": "execute_result"
    }
   ],
   "source": [
    "train_df[order_features[8]].nunique()"
   ],
   "metadata": {
    "collapsed": false,
    "ExecuteTime": {
     "start_time": "2024-07-17T17:16:36.338366Z",
     "end_time": "2024-07-17T17:16:36.389622Z"
    }
   }
  },
  {
   "cell_type": "code",
   "execution_count": 50,
   "outputs": [
    {
     "data": {
      "text/plain": "    arrival_country  typical  dist_in_group  dist_in_total\n21               12     True       0.263842       0.954321\n20               12    False       0.747331       0.954321\n4                 3    False       0.792881       0.016861\n5                 3     True       0.217858       0.016861\n24               14     True       0.185529       0.016732\n23               14    False       0.823129       0.016732\n2                 2    False       0.782462       0.003068\n3                 2     True       0.236088       0.003068\n13                8     True       0.257862       0.002468\n12                8    False       0.758910       0.002468\n7                 4     True       0.252796       0.002313\n6                 4    False       0.760626       0.002313\n18               11    False       0.766509       0.002194\n19               11     True       0.254717       0.002194\n1                 1     True       0.238806       0.000693\n0                 1    False       0.761194       0.000693\n10                6    False       0.801724       0.000600\n11                6     True       0.198276       0.000600\n9                 5     True       0.226804       0.000502\n8                 5    False       0.783505       0.000502\n14                9    False       0.812500       0.000166\n15                9     True       0.187500       0.000166\n16               10    False       0.600000       0.000052\n17               10     True       0.400000       0.000052\n22               13    False       1.000000       0.000031",
      "text/html": "<div>\n<style scoped>\n    .dataframe tbody tr th:only-of-type {\n        vertical-align: middle;\n    }\n\n    .dataframe tbody tr th {\n        vertical-align: top;\n    }\n\n    .dataframe thead th {\n        text-align: right;\n    }\n</style>\n<table border=\"1\" class=\"dataframe\">\n  <thead>\n    <tr style=\"text-align: right;\">\n      <th></th>\n      <th>arrival_country</th>\n      <th>typical</th>\n      <th>dist_in_group</th>\n      <th>dist_in_total</th>\n    </tr>\n  </thead>\n  <tbody>\n    <tr>\n      <th>21</th>\n      <td>12</td>\n      <td>True</td>\n      <td>0.263842</td>\n      <td>0.954321</td>\n    </tr>\n    <tr>\n      <th>20</th>\n      <td>12</td>\n      <td>False</td>\n      <td>0.747331</td>\n      <td>0.954321</td>\n    </tr>\n    <tr>\n      <th>4</th>\n      <td>3</td>\n      <td>False</td>\n      <td>0.792881</td>\n      <td>0.016861</td>\n    </tr>\n    <tr>\n      <th>5</th>\n      <td>3</td>\n      <td>True</td>\n      <td>0.217858</td>\n      <td>0.016861</td>\n    </tr>\n    <tr>\n      <th>24</th>\n      <td>14</td>\n      <td>True</td>\n      <td>0.185529</td>\n      <td>0.016732</td>\n    </tr>\n    <tr>\n      <th>23</th>\n      <td>14</td>\n      <td>False</td>\n      <td>0.823129</td>\n      <td>0.016732</td>\n    </tr>\n    <tr>\n      <th>2</th>\n      <td>2</td>\n      <td>False</td>\n      <td>0.782462</td>\n      <td>0.003068</td>\n    </tr>\n    <tr>\n      <th>3</th>\n      <td>2</td>\n      <td>True</td>\n      <td>0.236088</td>\n      <td>0.003068</td>\n    </tr>\n    <tr>\n      <th>13</th>\n      <td>8</td>\n      <td>True</td>\n      <td>0.257862</td>\n      <td>0.002468</td>\n    </tr>\n    <tr>\n      <th>12</th>\n      <td>8</td>\n      <td>False</td>\n      <td>0.758910</td>\n      <td>0.002468</td>\n    </tr>\n    <tr>\n      <th>7</th>\n      <td>4</td>\n      <td>True</td>\n      <td>0.252796</td>\n      <td>0.002313</td>\n    </tr>\n    <tr>\n      <th>6</th>\n      <td>4</td>\n      <td>False</td>\n      <td>0.760626</td>\n      <td>0.002313</td>\n    </tr>\n    <tr>\n      <th>18</th>\n      <td>11</td>\n      <td>False</td>\n      <td>0.766509</td>\n      <td>0.002194</td>\n    </tr>\n    <tr>\n      <th>19</th>\n      <td>11</td>\n      <td>True</td>\n      <td>0.254717</td>\n      <td>0.002194</td>\n    </tr>\n    <tr>\n      <th>1</th>\n      <td>1</td>\n      <td>True</td>\n      <td>0.238806</td>\n      <td>0.000693</td>\n    </tr>\n    <tr>\n      <th>0</th>\n      <td>1</td>\n      <td>False</td>\n      <td>0.761194</td>\n      <td>0.000693</td>\n    </tr>\n    <tr>\n      <th>10</th>\n      <td>6</td>\n      <td>False</td>\n      <td>0.801724</td>\n      <td>0.000600</td>\n    </tr>\n    <tr>\n      <th>11</th>\n      <td>6</td>\n      <td>True</td>\n      <td>0.198276</td>\n      <td>0.000600</td>\n    </tr>\n    <tr>\n      <th>9</th>\n      <td>5</td>\n      <td>True</td>\n      <td>0.226804</td>\n      <td>0.000502</td>\n    </tr>\n    <tr>\n      <th>8</th>\n      <td>5</td>\n      <td>False</td>\n      <td>0.783505</td>\n      <td>0.000502</td>\n    </tr>\n    <tr>\n      <th>14</th>\n      <td>9</td>\n      <td>False</td>\n      <td>0.812500</td>\n      <td>0.000166</td>\n    </tr>\n    <tr>\n      <th>15</th>\n      <td>9</td>\n      <td>True</td>\n      <td>0.187500</td>\n      <td>0.000166</td>\n    </tr>\n    <tr>\n      <th>16</th>\n      <td>10</td>\n      <td>False</td>\n      <td>0.600000</td>\n      <td>0.000052</td>\n    </tr>\n    <tr>\n      <th>17</th>\n      <td>10</td>\n      <td>True</td>\n      <td>0.400000</td>\n      <td>0.000052</td>\n    </tr>\n    <tr>\n      <th>22</th>\n      <td>13</td>\n      <td>False</td>\n      <td>1.000000</td>\n      <td>0.000031</td>\n    </tr>\n  </tbody>\n</table>\n</div>"
     },
     "execution_count": 50,
     "metadata": {},
     "output_type": "execute_result"
    }
   ],
   "source": [
    "distribution(train_df, order_features[8])"
   ],
   "metadata": {
    "collapsed": false,
    "ExecuteTime": {
     "start_time": "2024-07-17T17:16:36.718207Z",
     "end_time": "2024-07-17T17:16:37.138647Z"
    }
   }
  },
  {
   "cell_type": "code",
   "execution_count": 51,
   "outputs": [
    {
     "data": {
      "text/plain": "671"
     },
     "execution_count": 51,
     "metadata": {},
     "output_type": "execute_result"
    }
   ],
   "source": [
    "train_df[order_features[9]].nunique()"
   ],
   "metadata": {
    "collapsed": false,
    "ExecuteTime": {
     "start_time": "2024-07-17T17:16:56.774012Z",
     "end_time": "2024-07-17T17:16:56.809609Z"
    }
   }
  },
  {
   "cell_type": "code",
   "execution_count": 52,
   "outputs": [
    {
     "data": {
      "text/plain": "      arrival_city  typical  dist_in_group  dist_in_total\n204          121.0    False       0.746881       0.278699\n205          121.0     True       0.263180       0.278699\n211          125.0    False       0.758473       0.147312\n212          125.0     True       0.250623       0.147312\n275          162.0     True       0.277429       0.020607\n...            ...      ...            ...            ...\n595          345.0    False       1.000000       0.000005\n870          504.0    False       1.000000       0.000005\n1119         646.0     True       1.000000       0.000005\n71            46.0    False       1.000000       0.000005\n1236         714.0    False       1.000000       0.000005\n\n[1237 rows x 4 columns]",
      "text/html": "<div>\n<style scoped>\n    .dataframe tbody tr th:only-of-type {\n        vertical-align: middle;\n    }\n\n    .dataframe tbody tr th {\n        vertical-align: top;\n    }\n\n    .dataframe thead th {\n        text-align: right;\n    }\n</style>\n<table border=\"1\" class=\"dataframe\">\n  <thead>\n    <tr style=\"text-align: right;\">\n      <th></th>\n      <th>arrival_city</th>\n      <th>typical</th>\n      <th>dist_in_group</th>\n      <th>dist_in_total</th>\n    </tr>\n  </thead>\n  <tbody>\n    <tr>\n      <th>204</th>\n      <td>121.0</td>\n      <td>False</td>\n      <td>0.746881</td>\n      <td>0.278699</td>\n    </tr>\n    <tr>\n      <th>205</th>\n      <td>121.0</td>\n      <td>True</td>\n      <td>0.263180</td>\n      <td>0.278699</td>\n    </tr>\n    <tr>\n      <th>211</th>\n      <td>125.0</td>\n      <td>False</td>\n      <td>0.758473</td>\n      <td>0.147312</td>\n    </tr>\n    <tr>\n      <th>212</th>\n      <td>125.0</td>\n      <td>True</td>\n      <td>0.250623</td>\n      <td>0.147312</td>\n    </tr>\n    <tr>\n      <th>275</th>\n      <td>162.0</td>\n      <td>True</td>\n      <td>0.277429</td>\n      <td>0.020607</td>\n    </tr>\n    <tr>\n      <th>...</th>\n      <td>...</td>\n      <td>...</td>\n      <td>...</td>\n      <td>...</td>\n    </tr>\n    <tr>\n      <th>595</th>\n      <td>345.0</td>\n      <td>False</td>\n      <td>1.000000</td>\n      <td>0.000005</td>\n    </tr>\n    <tr>\n      <th>870</th>\n      <td>504.0</td>\n      <td>False</td>\n      <td>1.000000</td>\n      <td>0.000005</td>\n    </tr>\n    <tr>\n      <th>1119</th>\n      <td>646.0</td>\n      <td>True</td>\n      <td>1.000000</td>\n      <td>0.000005</td>\n    </tr>\n    <tr>\n      <th>71</th>\n      <td>46.0</td>\n      <td>False</td>\n      <td>1.000000</td>\n      <td>0.000005</td>\n    </tr>\n    <tr>\n      <th>1236</th>\n      <td>714.0</td>\n      <td>False</td>\n      <td>1.000000</td>\n      <td>0.000005</td>\n    </tr>\n  </tbody>\n</table>\n<p>1237 rows × 4 columns</p>\n</div>"
     },
     "execution_count": 52,
     "metadata": {},
     "output_type": "execute_result"
    }
   ],
   "source": [
    "distribution(train_df, order_features[9])"
   ],
   "metadata": {
    "collapsed": false,
    "ExecuteTime": {
     "start_time": "2024-07-17T17:17:06.518282Z",
     "end_time": "2024-07-17T17:17:06.867685Z"
    }
   }
  },
  {
   "cell_type": "code",
   "execution_count": 53,
   "outputs": [
    {
     "data": {
      "text/plain": "1395"
     },
     "execution_count": 53,
     "metadata": {},
     "output_type": "execute_result"
    }
   ],
   "source": [
    "train_df[order_features[10]].nunique()"
   ],
   "metadata": {
    "collapsed": false,
    "ExecuteTime": {
     "start_time": "2024-07-17T17:17:30.874504Z",
     "end_time": "2024-07-17T17:17:30.909835Z"
    }
   }
  },
  {
   "cell_type": "code",
   "execution_count": 54,
   "outputs": [
    {
     "data": {
      "text/plain": "      arrival_region  typical  dist_in_group  dist_in_total\n1097             824     True       0.247068       0.121309\n1096             824    False       0.761974       0.121309\n2308            1732    False       0.765145       0.100608\n2309            1732     True       0.244112       0.100608\n468              351    False       0.745205       0.062845\n...              ...      ...            ...            ...\n1365            1035     True       1.000000       0.000005\n1385            1048    False       1.000000       0.000005\n279              210    False       1.000000       0.000005\n1404            1062    False       1.000000       0.000005\n1168             877    False       1.000000       0.000005\n\n[2337 rows x 4 columns]",
      "text/html": "<div>\n<style scoped>\n    .dataframe tbody tr th:only-of-type {\n        vertical-align: middle;\n    }\n\n    .dataframe tbody tr th {\n        vertical-align: top;\n    }\n\n    .dataframe thead th {\n        text-align: right;\n    }\n</style>\n<table border=\"1\" class=\"dataframe\">\n  <thead>\n    <tr style=\"text-align: right;\">\n      <th></th>\n      <th>arrival_region</th>\n      <th>typical</th>\n      <th>dist_in_group</th>\n      <th>dist_in_total</th>\n    </tr>\n  </thead>\n  <tbody>\n    <tr>\n      <th>1097</th>\n      <td>824</td>\n      <td>True</td>\n      <td>0.247068</td>\n      <td>0.121309</td>\n    </tr>\n    <tr>\n      <th>1096</th>\n      <td>824</td>\n      <td>False</td>\n      <td>0.761974</td>\n      <td>0.121309</td>\n    </tr>\n    <tr>\n      <th>2308</th>\n      <td>1732</td>\n      <td>False</td>\n      <td>0.765145</td>\n      <td>0.100608</td>\n    </tr>\n    <tr>\n      <th>2309</th>\n      <td>1732</td>\n      <td>True</td>\n      <td>0.244112</td>\n      <td>0.100608</td>\n    </tr>\n    <tr>\n      <th>468</th>\n      <td>351</td>\n      <td>False</td>\n      <td>0.745205</td>\n      <td>0.062845</td>\n    </tr>\n    <tr>\n      <th>...</th>\n      <td>...</td>\n      <td>...</td>\n      <td>...</td>\n      <td>...</td>\n    </tr>\n    <tr>\n      <th>1365</th>\n      <td>1035</td>\n      <td>True</td>\n      <td>1.000000</td>\n      <td>0.000005</td>\n    </tr>\n    <tr>\n      <th>1385</th>\n      <td>1048</td>\n      <td>False</td>\n      <td>1.000000</td>\n      <td>0.000005</td>\n    </tr>\n    <tr>\n      <th>279</th>\n      <td>210</td>\n      <td>False</td>\n      <td>1.000000</td>\n      <td>0.000005</td>\n    </tr>\n    <tr>\n      <th>1404</th>\n      <td>1062</td>\n      <td>False</td>\n      <td>1.000000</td>\n      <td>0.000005</td>\n    </tr>\n    <tr>\n      <th>1168</th>\n      <td>877</td>\n      <td>False</td>\n      <td>1.000000</td>\n      <td>0.000005</td>\n    </tr>\n  </tbody>\n</table>\n<p>2337 rows × 4 columns</p>\n</div>"
     },
     "execution_count": 54,
     "metadata": {},
     "output_type": "execute_result"
    }
   ],
   "source": [
    "distribution(train_df, order_features[10])"
   ],
   "metadata": {
    "collapsed": false,
    "ExecuteTime": {
     "start_time": "2024-07-17T17:17:40.429468Z",
     "end_time": "2024-07-17T17:17:40.829951Z"
    }
   }
  },
  {
   "cell_type": "code",
   "execution_count": 55,
   "outputs": [
    {
     "data": {
      "text/plain": "3"
     },
     "execution_count": 55,
     "metadata": {},
     "output_type": "execute_result"
    }
   ],
   "source": [
    "train_df[order_features[11]].nunique()"
   ],
   "metadata": {
    "collapsed": false,
    "ExecuteTime": {
     "start_time": "2024-07-17T17:17:57.190908Z",
     "end_time": "2024-07-17T17:17:57.258830Z"
    }
   }
  },
  {
   "cell_type": "code",
   "execution_count": 56,
   "outputs": [
    {
     "data": {
      "text/plain": "   item_type  typical  dist_in_group  dist_in_total\n0          0    False       0.740328       0.979010\n1          0     True       0.265004       0.979010\n2          1    False       0.750867       0.071604\n3          1     True       0.250361       0.071604\n4          2    False       1.000000       0.024167",
      "text/html": "<div>\n<style scoped>\n    .dataframe tbody tr th:only-of-type {\n        vertical-align: middle;\n    }\n\n    .dataframe tbody tr th {\n        vertical-align: top;\n    }\n\n    .dataframe thead th {\n        text-align: right;\n    }\n</style>\n<table border=\"1\" class=\"dataframe\">\n  <thead>\n    <tr style=\"text-align: right;\">\n      <th></th>\n      <th>item_type</th>\n      <th>typical</th>\n      <th>dist_in_group</th>\n      <th>dist_in_total</th>\n    </tr>\n  </thead>\n  <tbody>\n    <tr>\n      <th>0</th>\n      <td>0</td>\n      <td>False</td>\n      <td>0.740328</td>\n      <td>0.979010</td>\n    </tr>\n    <tr>\n      <th>1</th>\n      <td>0</td>\n      <td>True</td>\n      <td>0.265004</td>\n      <td>0.979010</td>\n    </tr>\n    <tr>\n      <th>2</th>\n      <td>1</td>\n      <td>False</td>\n      <td>0.750867</td>\n      <td>0.071604</td>\n    </tr>\n    <tr>\n      <th>3</th>\n      <td>1</td>\n      <td>True</td>\n      <td>0.250361</td>\n      <td>0.071604</td>\n    </tr>\n    <tr>\n      <th>4</th>\n      <td>2</td>\n      <td>False</td>\n      <td>1.000000</td>\n      <td>0.024167</td>\n    </tr>\n  </tbody>\n</table>\n</div>"
     },
     "execution_count": 56,
     "metadata": {},
     "output_type": "execute_result"
    }
   ],
   "source": [
    "distribution(train_df, order_features[11])"
   ],
   "metadata": {
    "collapsed": false,
    "ExecuteTime": {
     "start_time": "2024-07-17T17:18:06.423579Z",
     "end_time": "2024-07-17T17:18:06.769254Z"
    }
   }
  },
  {
   "cell_type": "code",
   "execution_count": 57,
   "outputs": [
    {
     "data": {
      "text/plain": "468"
     },
     "execution_count": 57,
     "metadata": {},
     "output_type": "execute_result"
    }
   ],
   "source": [
    "train_df[order_features[12]].nunique()"
   ],
   "metadata": {
    "collapsed": false,
    "ExecuteTime": {
     "start_time": "2024-07-17T17:18:55.601537Z",
     "end_time": "2024-07-17T17:18:55.638144Z"
    }
   }
  },
  {
   "cell_type": "code",
   "execution_count": 58,
   "outputs": [
    {
     "data": {
      "text/plain": "     client_device_type  typical  dist_in_group  dist_in_total\n4                     2    False       0.756446       0.627486\n5                     2     True       0.254001       0.627486\n2                     1    False       0.740414       0.158409\n3                     1     True       0.272552       0.158409\n0                     0    False       0.733279       0.152930\n..                  ...      ...            ...            ...\n434                 539    False       1.000000       0.000005\n442                 564     True       1.000000       0.000005\n449                 571    False       1.000000       0.000005\n451                 574    False       1.000000       0.000005\n634                1152    False       1.000000       0.000005\n\n[635 rows x 4 columns]",
      "text/html": "<div>\n<style scoped>\n    .dataframe tbody tr th:only-of-type {\n        vertical-align: middle;\n    }\n\n    .dataframe tbody tr th {\n        vertical-align: top;\n    }\n\n    .dataframe thead th {\n        text-align: right;\n    }\n</style>\n<table border=\"1\" class=\"dataframe\">\n  <thead>\n    <tr style=\"text-align: right;\">\n      <th></th>\n      <th>client_device_type</th>\n      <th>typical</th>\n      <th>dist_in_group</th>\n      <th>dist_in_total</th>\n    </tr>\n  </thead>\n  <tbody>\n    <tr>\n      <th>4</th>\n      <td>2</td>\n      <td>False</td>\n      <td>0.756446</td>\n      <td>0.627486</td>\n    </tr>\n    <tr>\n      <th>5</th>\n      <td>2</td>\n      <td>True</td>\n      <td>0.254001</td>\n      <td>0.627486</td>\n    </tr>\n    <tr>\n      <th>2</th>\n      <td>1</td>\n      <td>False</td>\n      <td>0.740414</td>\n      <td>0.158409</td>\n    </tr>\n    <tr>\n      <th>3</th>\n      <td>1</td>\n      <td>True</td>\n      <td>0.272552</td>\n      <td>0.158409</td>\n    </tr>\n    <tr>\n      <th>0</th>\n      <td>0</td>\n      <td>False</td>\n      <td>0.733279</td>\n      <td>0.152930</td>\n    </tr>\n    <tr>\n      <th>...</th>\n      <td>...</td>\n      <td>...</td>\n      <td>...</td>\n      <td>...</td>\n    </tr>\n    <tr>\n      <th>434</th>\n      <td>539</td>\n      <td>False</td>\n      <td>1.000000</td>\n      <td>0.000005</td>\n    </tr>\n    <tr>\n      <th>442</th>\n      <td>564</td>\n      <td>True</td>\n      <td>1.000000</td>\n      <td>0.000005</td>\n    </tr>\n    <tr>\n      <th>449</th>\n      <td>571</td>\n      <td>False</td>\n      <td>1.000000</td>\n      <td>0.000005</td>\n    </tr>\n    <tr>\n      <th>451</th>\n      <td>574</td>\n      <td>False</td>\n      <td>1.000000</td>\n      <td>0.000005</td>\n    </tr>\n    <tr>\n      <th>634</th>\n      <td>1152</td>\n      <td>False</td>\n      <td>1.000000</td>\n      <td>0.000005</td>\n    </tr>\n  </tbody>\n</table>\n<p>635 rows × 4 columns</p>\n</div>"
     },
     "execution_count": 58,
     "metadata": {},
     "output_type": "execute_result"
    }
   ],
   "source": [
    "distribution(train_df, order_features[12])"
   ],
   "metadata": {
    "collapsed": false,
    "ExecuteTime": {
     "start_time": "2024-07-17T17:19:11.759440Z",
     "end_time": "2024-07-17T17:19:12.105650Z"
    }
   }
  },
  {
   "cell_type": "code",
   "execution_count": 59,
   "outputs": [
    {
     "data": {
      "text/plain": "8"
     },
     "execution_count": 59,
     "metadata": {},
     "output_type": "execute_result"
    }
   ],
   "source": [
    "train_df[order_features[13]].nunique()"
   ],
   "metadata": {
    "collapsed": false,
    "ExecuteTime": {
     "start_time": "2024-07-17T17:19:35.002523Z",
     "end_time": "2024-07-17T17:19:35.039517Z"
    }
   }
  },
  {
   "cell_type": "code",
   "execution_count": 60,
   "outputs": [
    {
     "data": {
      "text/plain": "    client_browser  typical  dist_in_group  dist_in_total\n2                1    False       0.755455       0.409041\n3                1     True       0.254917       0.409041\n0                0    False       0.741564       0.339288\n1                0     True       0.270925       0.339288\n12               6    False       0.759815       0.087240\n13               6     True       0.251987       0.087240\n6                3    False       0.746715       0.055907\n7                3     True       0.263557       0.055907\n4                2    False       0.765673       0.050009\n5                2     True       0.243534       0.050009\n8                4    False       0.703273       0.033355\n9                4     True       0.308050       0.033355\n10               5    False       0.765323       0.025155\n11               5     True       0.244550       0.025155\n14               9     True       1.000000       0.000005",
      "text/html": "<div>\n<style scoped>\n    .dataframe tbody tr th:only-of-type {\n        vertical-align: middle;\n    }\n\n    .dataframe tbody tr th {\n        vertical-align: top;\n    }\n\n    .dataframe thead th {\n        text-align: right;\n    }\n</style>\n<table border=\"1\" class=\"dataframe\">\n  <thead>\n    <tr style=\"text-align: right;\">\n      <th></th>\n      <th>client_browser</th>\n      <th>typical</th>\n      <th>dist_in_group</th>\n      <th>dist_in_total</th>\n    </tr>\n  </thead>\n  <tbody>\n    <tr>\n      <th>2</th>\n      <td>1</td>\n      <td>False</td>\n      <td>0.755455</td>\n      <td>0.409041</td>\n    </tr>\n    <tr>\n      <th>3</th>\n      <td>1</td>\n      <td>True</td>\n      <td>0.254917</td>\n      <td>0.409041</td>\n    </tr>\n    <tr>\n      <th>0</th>\n      <td>0</td>\n      <td>False</td>\n      <td>0.741564</td>\n      <td>0.339288</td>\n    </tr>\n    <tr>\n      <th>1</th>\n      <td>0</td>\n      <td>True</td>\n      <td>0.270925</td>\n      <td>0.339288</td>\n    </tr>\n    <tr>\n      <th>12</th>\n      <td>6</td>\n      <td>False</td>\n      <td>0.759815</td>\n      <td>0.087240</td>\n    </tr>\n    <tr>\n      <th>13</th>\n      <td>6</td>\n      <td>True</td>\n      <td>0.251987</td>\n      <td>0.087240</td>\n    </tr>\n    <tr>\n      <th>6</th>\n      <td>3</td>\n      <td>False</td>\n      <td>0.746715</td>\n      <td>0.055907</td>\n    </tr>\n    <tr>\n      <th>7</th>\n      <td>3</td>\n      <td>True</td>\n      <td>0.263557</td>\n      <td>0.055907</td>\n    </tr>\n    <tr>\n      <th>4</th>\n      <td>2</td>\n      <td>False</td>\n      <td>0.765673</td>\n      <td>0.050009</td>\n    </tr>\n    <tr>\n      <th>5</th>\n      <td>2</td>\n      <td>True</td>\n      <td>0.243534</td>\n      <td>0.050009</td>\n    </tr>\n    <tr>\n      <th>8</th>\n      <td>4</td>\n      <td>False</td>\n      <td>0.703273</td>\n      <td>0.033355</td>\n    </tr>\n    <tr>\n      <th>9</th>\n      <td>4</td>\n      <td>True</td>\n      <td>0.308050</td>\n      <td>0.033355</td>\n    </tr>\n    <tr>\n      <th>10</th>\n      <td>5</td>\n      <td>False</td>\n      <td>0.765323</td>\n      <td>0.025155</td>\n    </tr>\n    <tr>\n      <th>11</th>\n      <td>5</td>\n      <td>True</td>\n      <td>0.244550</td>\n      <td>0.025155</td>\n    </tr>\n    <tr>\n      <th>14</th>\n      <td>9</td>\n      <td>True</td>\n      <td>1.000000</td>\n      <td>0.000005</td>\n    </tr>\n  </tbody>\n</table>\n</div>"
     },
     "execution_count": 60,
     "metadata": {},
     "output_type": "execute_result"
    }
   ],
   "source": [
    "distribution(train_df, order_features[13])"
   ],
   "metadata": {
    "collapsed": false,
    "ExecuteTime": {
     "start_time": "2024-07-17T17:19:44.465045Z",
     "end_time": "2024-07-17T17:19:45.196504Z"
    }
   }
  },
  {
   "cell_type": "code",
   "execution_count": 61,
   "outputs": [
    {
     "data": {
      "text/plain": "2"
     },
     "execution_count": 61,
     "metadata": {},
     "output_type": "execute_result"
    }
   ],
   "source": [
    "train_df[order_features[14]].nunique()"
   ],
   "metadata": {
    "collapsed": false,
    "ExecuteTime": {
     "start_time": "2024-07-17T17:20:04.687532Z",
     "end_time": "2024-07-17T17:20:04.724787Z"
    }
   }
  },
  {
   "cell_type": "code",
   "execution_count": 62,
   "outputs": [
    {
     "data": {
      "text/plain": "   client_is_app  typical  dist_in_group  dist_in_total\n2              1    False       0.751054       0.962252\n3              1     True       0.260167       0.962252\n0              0    False       0.713816       0.037748\n1              0     True       0.296053       0.037748",
      "text/html": "<div>\n<style scoped>\n    .dataframe tbody tr th:only-of-type {\n        vertical-align: middle;\n    }\n\n    .dataframe tbody tr th {\n        vertical-align: top;\n    }\n\n    .dataframe thead th {\n        text-align: right;\n    }\n</style>\n<table border=\"1\" class=\"dataframe\">\n  <thead>\n    <tr style=\"text-align: right;\">\n      <th></th>\n      <th>client_is_app</th>\n      <th>typical</th>\n      <th>dist_in_group</th>\n      <th>dist_in_total</th>\n    </tr>\n  </thead>\n  <tbody>\n    <tr>\n      <th>2</th>\n      <td>1</td>\n      <td>False</td>\n      <td>0.751054</td>\n      <td>0.962252</td>\n    </tr>\n    <tr>\n      <th>3</th>\n      <td>1</td>\n      <td>True</td>\n      <td>0.260167</td>\n      <td>0.962252</td>\n    </tr>\n    <tr>\n      <th>0</th>\n      <td>0</td>\n      <td>False</td>\n      <td>0.713816</td>\n      <td>0.037748</td>\n    </tr>\n    <tr>\n      <th>1</th>\n      <td>0</td>\n      <td>True</td>\n      <td>0.296053</td>\n      <td>0.037748</td>\n    </tr>\n  </tbody>\n</table>\n</div>"
     },
     "execution_count": 62,
     "metadata": {},
     "output_type": "execute_result"
    }
   ],
   "source": [
    "distribution(train_df, order_features[14])"
   ],
   "metadata": {
    "collapsed": false,
    "ExecuteTime": {
     "start_time": "2024-07-17T17:20:15.252648Z",
     "end_time": "2024-07-17T17:20:15.609055Z"
    }
   }
  },
  {
   "cell_type": "code",
   "execution_count": 63,
   "outputs": [
    {
     "data": {
      "text/plain": "2"
     },
     "execution_count": 63,
     "metadata": {},
     "output_type": "execute_result"
    }
   ],
   "source": [
    "train_df[order_features[15]].nunique()"
   ],
   "metadata": {
    "collapsed": false,
    "ExecuteTime": {
     "start_time": "2024-07-17T17:20:32.227766Z",
     "end_time": "2024-07-17T17:20:32.271003Z"
    }
   }
  },
  {
   "cell_type": "code",
   "execution_count": 64,
   "outputs": [
    {
     "data": {
      "text/plain": "   order_tracking_available  typical  dist_in_group  dist_in_total\n0                         0    False       0.748341       0.969356\n1                         0     True       0.262830       0.969356\n2                         1    False       0.790984       0.030644\n3                         1     True       0.220159       0.030644",
      "text/html": "<div>\n<style scoped>\n    .dataframe tbody tr th:only-of-type {\n        vertical-align: middle;\n    }\n\n    .dataframe tbody tr th {\n        vertical-align: top;\n    }\n\n    .dataframe thead th {\n        text-align: right;\n    }\n</style>\n<table border=\"1\" class=\"dataframe\">\n  <thead>\n    <tr style=\"text-align: right;\">\n      <th></th>\n      <th>order_tracking_available</th>\n      <th>typical</th>\n      <th>dist_in_group</th>\n      <th>dist_in_total</th>\n    </tr>\n  </thead>\n  <tbody>\n    <tr>\n      <th>0</th>\n      <td>0</td>\n      <td>False</td>\n      <td>0.748341</td>\n      <td>0.969356</td>\n    </tr>\n    <tr>\n      <th>1</th>\n      <td>0</td>\n      <td>True</td>\n      <td>0.262830</td>\n      <td>0.969356</td>\n    </tr>\n    <tr>\n      <th>2</th>\n      <td>1</td>\n      <td>False</td>\n      <td>0.790984</td>\n      <td>0.030644</td>\n    </tr>\n    <tr>\n      <th>3</th>\n      <td>1</td>\n      <td>True</td>\n      <td>0.220159</td>\n      <td>0.030644</td>\n    </tr>\n  </tbody>\n</table>\n</div>"
     },
     "execution_count": 64,
     "metadata": {},
     "output_type": "execute_result"
    }
   ],
   "source": [
    "distribution(train_df, order_features[15])"
   ],
   "metadata": {
    "collapsed": false,
    "ExecuteTime": {
     "start_time": "2024-07-17T17:20:43.405437Z",
     "end_time": "2024-07-17T17:20:43.719083Z"
    }
   }
  },
  {
   "cell_type": "code",
   "execution_count": 65,
   "outputs": [
    {
     "data": {
      "text/plain": "4"
     },
     "execution_count": 65,
     "metadata": {},
     "output_type": "execute_result"
    }
   ],
   "source": [
    "train_df[order_features[16]].nunique()"
   ],
   "metadata": {
    "collapsed": false,
    "ExecuteTime": {
     "start_time": "2024-07-17T17:21:09.198321Z",
     "end_time": "2024-07-17T17:21:09.237360Z"
    }
   }
  },
  {
   "cell_type": "code",
   "execution_count": 66,
   "outputs": [
    {
     "data": {
      "text/plain": "   type_prepayment  typical  dist_in_group  dist_in_total\n4                2    False       0.752077       0.830933\n5                2     True       0.259374       0.830933\n2                1    False       0.730882       0.089914\n3                1     True       0.279418       0.089914\n0                0    False       0.745419       0.079055\n1                0     True       0.263809       0.079055\n6                3    False       0.789474       0.000098\n7                3     True       0.210526       0.000098",
      "text/html": "<div>\n<style scoped>\n    .dataframe tbody tr th:only-of-type {\n        vertical-align: middle;\n    }\n\n    .dataframe tbody tr th {\n        vertical-align: top;\n    }\n\n    .dataframe thead th {\n        text-align: right;\n    }\n</style>\n<table border=\"1\" class=\"dataframe\">\n  <thead>\n    <tr style=\"text-align: right;\">\n      <th></th>\n      <th>type_prepayment</th>\n      <th>typical</th>\n      <th>dist_in_group</th>\n      <th>dist_in_total</th>\n    </tr>\n  </thead>\n  <tbody>\n    <tr>\n      <th>4</th>\n      <td>2</td>\n      <td>False</td>\n      <td>0.752077</td>\n      <td>0.830933</td>\n    </tr>\n    <tr>\n      <th>5</th>\n      <td>2</td>\n      <td>True</td>\n      <td>0.259374</td>\n      <td>0.830933</td>\n    </tr>\n    <tr>\n      <th>2</th>\n      <td>1</td>\n      <td>False</td>\n      <td>0.730882</td>\n      <td>0.089914</td>\n    </tr>\n    <tr>\n      <th>3</th>\n      <td>1</td>\n      <td>True</td>\n      <td>0.279418</td>\n      <td>0.089914</td>\n    </tr>\n    <tr>\n      <th>0</th>\n      <td>0</td>\n      <td>False</td>\n      <td>0.745419</td>\n      <td>0.079055</td>\n    </tr>\n    <tr>\n      <th>1</th>\n      <td>0</td>\n      <td>True</td>\n      <td>0.263809</td>\n      <td>0.079055</td>\n    </tr>\n    <tr>\n      <th>6</th>\n      <td>3</td>\n      <td>False</td>\n      <td>0.789474</td>\n      <td>0.000098</td>\n    </tr>\n    <tr>\n      <th>7</th>\n      <td>3</td>\n      <td>True</td>\n      <td>0.210526</td>\n      <td>0.000098</td>\n    </tr>\n  </tbody>\n</table>\n</div>"
     },
     "execution_count": 66,
     "metadata": {},
     "output_type": "execute_result"
    }
   ],
   "source": [
    "distribution(train_df, order_features[16])"
   ],
   "metadata": {
    "collapsed": false,
    "ExecuteTime": {
     "start_time": "2024-07-17T17:21:18.901287Z",
     "end_time": "2024-07-17T17:21:19.297157Z"
    }
   }
  },
  {
   "cell_type": "code",
   "execution_count": null,
   "outputs": [],
   "source": [
    "# Каких-то существенных взаимосвязей не выявлено"
   ],
   "metadata": {
    "collapsed": false
   }
  },
  {
   "cell_type": "markdown",
   "source": [
    "### Date features preprocessing"
   ],
   "metadata": {
    "collapsed": false
   }
  },
  {
   "cell_type": "code",
   "execution_count": 68,
   "outputs": [
    {
     "data": {
      "text/plain": "('2016-09-12 00:47:20',\n '2018-03-01 00:34:19',\n '2018-03-01 00:37:48',\n '2018-06-01 00:32:40')"
     },
     "execution_count": 68,
     "metadata": {},
     "output_type": "execute_result"
    }
   ],
   "source": [
    "train_df[date_features[0]].min(), train_df[date_features[0]].max(), test_df[date_features[0]].min(), test_df[date_features[0]].max()"
   ],
   "metadata": {
    "collapsed": false,
    "ExecuteTime": {
     "start_time": "2024-07-17T17:22:59.422602Z",
     "end_time": "2024-07-17T17:22:59.472602Z"
    }
   }
  },
  {
   "cell_type": "code",
   "execution_count": 71,
   "outputs": [
    {
     "data": {
      "text/plain": "                 order_date stock_departure_date  \\\n214614  2017-11-30 09:02:11  10-21-00 2017-12-01   \n163000  2017-12-13 19:58:04  19-24-00 2017-12-30   \n119188  2017-10-08 19:47:08  14-38-00 2017-10-29   \n\n       delivery_service_departure_date  client_arrival_date  \n214614             10-21-00 2017-12-01  15-43-00 2017-12-01  \n163000             19-24-00 2017-12-30  22-25-00 2017-12-30  \n119188             14-38-00 2017-10-29  08-53-00 2017-10-30  ",
      "text/html": "<div>\n<style scoped>\n    .dataframe tbody tr th:only-of-type {\n        vertical-align: middle;\n    }\n\n    .dataframe tbody tr th {\n        vertical-align: top;\n    }\n\n    .dataframe thead th {\n        text-align: right;\n    }\n</style>\n<table border=\"1\" class=\"dataframe\">\n  <thead>\n    <tr style=\"text-align: right;\">\n      <th></th>\n      <th>order_date</th>\n      <th>stock_departure_date</th>\n      <th>delivery_service_departure_date</th>\n      <th>client_arrival_date</th>\n    </tr>\n  </thead>\n  <tbody>\n    <tr>\n      <th>214614</th>\n      <td>2017-11-30 09:02:11</td>\n      <td>10-21-00 2017-12-01</td>\n      <td>10-21-00 2017-12-01</td>\n      <td>15-43-00 2017-12-01</td>\n    </tr>\n    <tr>\n      <th>163000</th>\n      <td>2017-12-13 19:58:04</td>\n      <td>19-24-00 2017-12-30</td>\n      <td>19-24-00 2017-12-30</td>\n      <td>22-25-00 2017-12-30</td>\n    </tr>\n    <tr>\n      <th>119188</th>\n      <td>2017-10-08 19:47:08</td>\n      <td>14-38-00 2017-10-29</td>\n      <td>14-38-00 2017-10-29</td>\n      <td>08-53-00 2017-10-30</td>\n    </tr>\n  </tbody>\n</table>\n</div>"
     },
     "execution_count": 71,
     "metadata": {},
     "output_type": "execute_result"
    }
   ],
   "source": [
    "train_df[date_features].sample(3)"
   ],
   "metadata": {
    "collapsed": false,
    "ExecuteTime": {
     "start_time": "2024-07-17T17:23:46.479666Z",
     "end_time": "2024-07-17T17:23:46.536443Z"
    }
   }
  },
  {
   "cell_type": "code",
   "execution_count": 69,
   "outputs": [],
   "source": [
    "train_df['order_hour'] = pd.to_datetime(train_df[date_features[0]], format='%Y-%m-%d', errors='coerce').dt.hour"
   ],
   "metadata": {
    "collapsed": false,
    "ExecuteTime": {
     "start_time": "2024-07-17T17:23:10.536368Z",
     "end_time": "2024-07-17T17:23:10.559824Z"
    }
   }
  },
  {
   "cell_type": "code",
   "execution_count": 72,
   "outputs": [],
   "source": [
    "train_df[date_features[0]] = pd.to_datetime(train_df[date_features[0]], format='%Y-%m-%d', errors='coerce').dt.date\n",
    "train_df[date_features[1]] = pd.to_datetime(train_df[date_features[1]], format='%H-%M-%S %Y-%m-%d', errors='coerce').dt.date\n",
    "train_df[date_features[2]] = pd.to_datetime(train_df[date_features[2]], format='%H-%M-%S %Y-%m-%d', errors='coerce').dt.date\n",
    "train_df[date_features[3]] = pd.to_datetime(train_df[date_features[3]], format='%H-%M-%S %Y-%m-%d', errors='coerce').dt.date"
   ],
   "metadata": {
    "collapsed": false,
    "ExecuteTime": {
     "start_time": "2024-07-17T17:23:58.588964Z",
     "end_time": "2024-07-17T17:24:02.081133Z"
    }
   }
  },
  {
   "cell_type": "code",
   "execution_count": 73,
   "outputs": [],
   "source": [
    "train_df['order_arrival_diff'] = (pd.to_datetime(train_df[date_features[3]]) - pd.to_datetime(train_df[date_features[0]])).dt.days\n",
    "train_df['order_stock_diff'] = (pd.to_datetime(train_df[date_features[1]]) - pd.to_datetime(train_df[date_features[0]])).dt.days\n",
    "train_df['stock_delivery_service_diff'] = (pd.to_datetime(train_df[date_features[2]]) - pd.to_datetime(train_df[date_features[1]])).dt.days\n",
    "train_df['delivery_service_arrival_diff'] = (pd.to_datetime(train_df[date_features[3]]) - pd.to_datetime(train_df[date_features[2]])).dt.days"
   ],
   "metadata": {
    "collapsed": false,
    "ExecuteTime": {
     "start_time": "2024-07-17T17:24:27.994363Z",
     "end_time": "2024-07-17T17:24:28.301613Z"
    }
   }
  },
  {
   "cell_type": "code",
   "execution_count": 74,
   "outputs": [],
   "source": [
    "train_df['order_day'] = pd.to_datetime(train_df[date_features[0]]).dt.day_name()\n",
    "train_df['stock_departure_day'] = pd.to_datetime(train_df[date_features[1]]).dt.day_name()\n",
    "train_df['delivery_service_departure_day'] = pd.to_datetime(train_df[date_features[2]]).dt.day_name()\n",
    "train_df['client_arrival_day'] = pd.to_datetime(train_df[date_features[3]]).dt.day_name()"
   ],
   "metadata": {
    "collapsed": false,
    "ExecuteTime": {
     "start_time": "2024-07-17T17:24:39.549373Z",
     "end_time": "2024-07-17T17:24:40.094351Z"
    }
   }
  },
  {
   "cell_type": "code",
   "execution_count": 75,
   "outputs": [
    {
     "data": {
      "text/plain": "['client_keywords', 'order_id', 'item_losses', 'typical']"
     },
     "execution_count": 75,
     "metadata": {},
     "output_type": "execute_result"
    }
   ],
   "source": [
    "columns_for_drop"
   ],
   "metadata": {
    "collapsed": false,
    "ExecuteTime": {
     "start_time": "2024-07-17T17:24:45.947971Z",
     "end_time": "2024-07-17T17:24:45.969788Z"
    }
   }
  },
  {
   "cell_type": "code",
   "execution_count": 76,
   "outputs": [],
   "source": [
    "columns_for_drop.append('order_date')\n",
    "columns_for_drop.append('stock_departure_date')\n",
    "columns_for_drop.append('delivery_service_departure_date')\n",
    "columns_for_drop.append('client_arrival_date')"
   ],
   "metadata": {
    "collapsed": false,
    "ExecuteTime": {
     "start_time": "2024-07-17T17:24:53.595163Z",
     "end_time": "2024-07-17T17:24:53.638314Z"
    }
   }
  },
  {
   "cell_type": "code",
   "execution_count": 77,
   "outputs": [],
   "source": [
    "train_categorical_columns.append('order_hour')\n",
    "train_categorical_columns.append('order_day')\n",
    "train_categorical_columns.append('stock_departure_day')\n",
    "train_categorical_columns.append('delivery_service_departure_day')\n",
    "train_categorical_columns.append('client_arrival_day')"
   ],
   "metadata": {
    "collapsed": false,
    "ExecuteTime": {
     "start_time": "2024-07-17T17:25:52.201677Z",
     "end_time": "2024-07-17T17:25:52.226113Z"
    }
   }
  },
  {
   "cell_type": "markdown",
   "source": [
    "### Baseilne"
   ],
   "metadata": {
    "collapsed": false
   }
  },
  {
   "cell_type": "code",
   "execution_count": null,
   "outputs": [],
   "source": [
    "# Построим модель, возможно она сможет найти неочевидные закономерности"
   ],
   "metadata": {
    "collapsed": false
   }
  },
  {
   "cell_type": "code",
   "execution_count": 78,
   "outputs": [],
   "source": [
    "train_numerical_columns = [i for i in train_numerical_columns if i not in columns_for_drop]\n",
    "train_categorical_columns = [i for i in train_categorical_columns if i not in columns_for_drop]"
   ],
   "metadata": {
    "collapsed": false,
    "ExecuteTime": {
     "start_time": "2024-07-17T17:27:33.558543Z",
     "end_time": "2024-07-17T17:27:33.582450Z"
    }
   }
  },
  {
   "cell_type": "code",
   "execution_count": 79,
   "outputs": [],
   "source": [
    "train_df[train_categorical_columns] = train_df[train_categorical_columns].astype(str)\n",
    "train_df[train_categorical_columns] = train_df[train_categorical_columns].fillna('None')"
   ],
   "metadata": {
    "collapsed": false,
    "ExecuteTime": {
     "start_time": "2024-07-17T17:27:37.613938Z",
     "end_time": "2024-07-17T17:27:44.580322Z"
    }
   }
  },
  {
   "cell_type": "code",
   "execution_count": 80,
   "outputs": [],
   "source": [
    "target_var = 'item_losses'"
   ],
   "metadata": {
    "collapsed": false,
    "ExecuteTime": {
     "start_time": "2024-07-17T17:27:45.793658Z",
     "end_time": "2024-07-17T17:27:45.814992Z"
    }
   }
  },
  {
   "cell_type": "code",
   "execution_count": 81,
   "outputs": [],
   "source": [
    "y = train_df[target_var]\n",
    "X = train_df.drop(columns_for_drop, axis=1)"
   ],
   "metadata": {
    "collapsed": false,
    "ExecuteTime": {
     "start_time": "2024-07-17T17:27:57.362883Z",
     "end_time": "2024-07-17T17:27:57.489001Z"
    }
   }
  },
  {
   "cell_type": "code",
   "execution_count": 82,
   "outputs": [],
   "source": [
    "X_train, X_val, y_train, y_val = train_test_split(X, y, test_size=.1, random_state=42)"
   ],
   "metadata": {
    "collapsed": false,
    "ExecuteTime": {
     "start_time": "2024-07-17T17:27:58.663267Z",
     "end_time": "2024-07-17T17:28:00.407147Z"
    }
   }
  },
  {
   "cell_type": "code",
   "execution_count": 83,
   "outputs": [],
   "source": [
    "model_params = {\n",
    "    'learning_rate': 1,\n",
    "    'max_depth': 5,\n",
    "    'iterations': 100,\n",
    "    'loss_function': 'RMSE'\n",
    "}"
   ],
   "metadata": {
    "collapsed": false,
    "ExecuteTime": {
     "start_time": "2024-07-17T17:28:13.152145Z",
     "end_time": "2024-07-17T17:28:13.191038Z"
    }
   }
  },
  {
   "cell_type": "code",
   "execution_count": 84,
   "outputs": [],
   "source": [
    "train_pool = Pool(X_train, y_train, cat_features=train_categorical_columns)\n",
    "val_pool = Pool(X_val, y_val, cat_features=train_categorical_columns)"
   ],
   "metadata": {
    "collapsed": false,
    "ExecuteTime": {
     "start_time": "2024-07-17T17:28:15.411717Z",
     "end_time": "2024-07-17T17:28:17.243087Z"
    }
   }
  },
  {
   "cell_type": "code",
   "execution_count": 85,
   "outputs": [],
   "source": [
    "ctb_reg = CatBoostRegressor(**model_params)"
   ],
   "metadata": {
    "collapsed": false,
    "ExecuteTime": {
     "start_time": "2024-07-17T17:28:18.446646Z",
     "end_time": "2024-07-17T17:28:18.489897Z"
    }
   }
  },
  {
   "cell_type": "code",
   "execution_count": 86,
   "outputs": [
    {
     "name": "stdout",
     "output_type": "stream",
     "text": [
      "0:\tlearn: 46.9541394\ttest: 47.1267670\tbest: 47.1267670 (0)\ttotal: 361ms\tremaining: 35.7s\n",
      "1:\tlearn: 46.6936225\ttest: 46.8669634\tbest: 46.8669634 (1)\ttotal: 464ms\tremaining: 22.7s\n",
      "2:\tlearn: 46.5651468\ttest: 46.7276616\tbest: 46.7276616 (2)\ttotal: 596ms\tremaining: 19.3s\n",
      "3:\tlearn: 46.4645676\ttest: 46.6419717\tbest: 46.6419717 (3)\ttotal: 726ms\tremaining: 17.4s\n",
      "4:\tlearn: 46.3364390\ttest: 46.4549115\tbest: 46.4549115 (4)\ttotal: 818ms\tremaining: 15.6s\n",
      "5:\tlearn: 46.2553729\ttest: 46.3739700\tbest: 46.3739700 (5)\ttotal: 913ms\tremaining: 14.3s\n",
      "6:\tlearn: 46.1910331\ttest: 46.3574995\tbest: 46.3574995 (6)\ttotal: 998ms\tremaining: 13.3s\n",
      "7:\tlearn: 46.1638780\ttest: 46.3455950\tbest: 46.3455950 (7)\ttotal: 1.08s\tremaining: 12.4s\n",
      "8:\tlearn: 46.1244833\ttest: 46.2885194\tbest: 46.2885194 (8)\ttotal: 1.17s\tremaining: 11.9s\n",
      "9:\tlearn: 46.0893790\ttest: 46.2667943\tbest: 46.2667943 (9)\ttotal: 1.27s\tremaining: 11.5s\n",
      "10:\tlearn: 46.0721432\ttest: 46.2478567\tbest: 46.2478567 (10)\ttotal: 1.36s\tremaining: 11s\n",
      "11:\tlearn: 46.0500315\ttest: 46.2342662\tbest: 46.2342662 (11)\ttotal: 1.44s\tremaining: 10.5s\n",
      "12:\tlearn: 46.0090203\ttest: 46.2035091\tbest: 46.2035091 (12)\ttotal: 1.54s\tremaining: 10.3s\n",
      "13:\tlearn: 45.9578675\ttest: 46.0447284\tbest: 46.0447284 (13)\ttotal: 1.62s\tremaining: 9.98s\n",
      "14:\tlearn: 45.8717791\ttest: 46.1168253\tbest: 46.0447284 (13)\ttotal: 1.75s\tremaining: 9.89s\n",
      "15:\tlearn: 45.8380492\ttest: 46.0187891\tbest: 46.0187891 (15)\ttotal: 1.83s\tremaining: 9.63s\n",
      "16:\tlearn: 45.8160609\ttest: 45.9929691\tbest: 45.9929691 (16)\ttotal: 1.96s\tremaining: 9.57s\n",
      "17:\tlearn: 45.7597476\ttest: 46.0151482\tbest: 45.9929691 (16)\ttotal: 2.05s\tremaining: 9.36s\n",
      "18:\tlearn: 45.7407358\ttest: 46.0134105\tbest: 45.9929691 (16)\ttotal: 2.16s\tremaining: 9.2s\n",
      "19:\tlearn: 45.7007217\ttest: 46.0111157\tbest: 45.9929691 (16)\ttotal: 2.25s\tremaining: 8.99s\n",
      "20:\tlearn: 45.6672745\ttest: 45.9871862\tbest: 45.9871862 (20)\ttotal: 2.32s\tremaining: 8.74s\n",
      "21:\tlearn: 45.6428968\ttest: 46.0110356\tbest: 45.9871862 (20)\ttotal: 2.42s\tremaining: 8.57s\n",
      "22:\tlearn: 45.5954616\ttest: 45.9749696\tbest: 45.9749696 (22)\ttotal: 2.51s\tremaining: 8.41s\n",
      "23:\tlearn: 45.5799822\ttest: 45.9634995\tbest: 45.9634995 (23)\ttotal: 2.6s\tremaining: 8.24s\n",
      "24:\tlearn: 45.5746142\ttest: 45.9649478\tbest: 45.9634995 (23)\ttotal: 2.7s\tremaining: 8.09s\n",
      "25:\tlearn: 45.5533337\ttest: 45.9335545\tbest: 45.9335545 (25)\ttotal: 2.78s\tremaining: 7.91s\n",
      "26:\tlearn: 45.5454899\ttest: 45.9253244\tbest: 45.9253244 (26)\ttotal: 2.85s\tremaining: 7.71s\n",
      "27:\tlearn: 45.5290671\ttest: 45.9062683\tbest: 45.9062683 (27)\ttotal: 2.93s\tremaining: 7.54s\n",
      "28:\tlearn: 45.5106186\ttest: 45.8848259\tbest: 45.8848259 (28)\ttotal: 3.01s\tremaining: 7.36s\n",
      "29:\tlearn: 45.4934296\ttest: 45.8723186\tbest: 45.8723186 (29)\ttotal: 3.08s\tremaining: 7.2s\n",
      "30:\tlearn: 45.4741729\ttest: 45.8570583\tbest: 45.8570583 (30)\ttotal: 3.16s\tremaining: 7.04s\n",
      "31:\tlearn: 45.4650857\ttest: 45.8476535\tbest: 45.8476535 (31)\ttotal: 3.24s\tremaining: 6.89s\n",
      "32:\tlearn: 45.4629100\ttest: 45.8472939\tbest: 45.8472939 (32)\ttotal: 3.33s\tremaining: 6.76s\n",
      "33:\tlearn: 45.4314865\ttest: 45.8252242\tbest: 45.8252242 (33)\ttotal: 3.41s\tremaining: 6.62s\n",
      "34:\tlearn: 45.3902999\ttest: 45.7665672\tbest: 45.7665672 (34)\ttotal: 3.49s\tremaining: 6.49s\n",
      "35:\tlearn: 45.3634934\ttest: 45.7412757\tbest: 45.7412757 (35)\ttotal: 3.57s\tremaining: 6.34s\n",
      "36:\tlearn: 45.3619781\ttest: 45.7411671\tbest: 45.7411671 (36)\ttotal: 3.66s\tremaining: 6.23s\n",
      "37:\tlearn: 45.3470078\ttest: 45.7264057\tbest: 45.7264057 (37)\ttotal: 3.74s\tremaining: 6.1s\n",
      "38:\tlearn: 45.3406289\ttest: 45.7284463\tbest: 45.7264057 (37)\ttotal: 3.82s\tremaining: 5.98s\n",
      "39:\tlearn: 45.3394910\ttest: 45.7281469\tbest: 45.7264057 (37)\ttotal: 3.9s\tremaining: 5.86s\n",
      "40:\tlearn: 45.3320261\ttest: 45.7340657\tbest: 45.7264057 (37)\ttotal: 3.97s\tremaining: 5.72s\n",
      "41:\tlearn: 45.3286174\ttest: 45.7284415\tbest: 45.7264057 (37)\ttotal: 4.04s\tremaining: 5.58s\n",
      "42:\tlearn: 45.3141776\ttest: 45.7087901\tbest: 45.7087901 (42)\ttotal: 4.13s\tremaining: 5.48s\n",
      "43:\tlearn: 45.2993335\ttest: 45.7151316\tbest: 45.7087901 (42)\ttotal: 4.21s\tremaining: 5.36s\n",
      "44:\tlearn: 45.2858033\ttest: 45.7196844\tbest: 45.7087901 (42)\ttotal: 4.29s\tremaining: 5.25s\n",
      "45:\tlearn: 45.2852419\ttest: 45.7196123\tbest: 45.7087901 (42)\ttotal: 4.37s\tremaining: 5.13s\n",
      "46:\tlearn: 45.2767378\ttest: 45.7246104\tbest: 45.7087901 (42)\ttotal: 4.44s\tremaining: 5.01s\n",
      "47:\tlearn: 45.2699608\ttest: 45.7294778\tbest: 45.7087901 (42)\ttotal: 4.51s\tremaining: 4.89s\n",
      "48:\tlearn: 45.2595261\ttest: 45.7258381\tbest: 45.7087901 (42)\ttotal: 4.59s\tremaining: 4.77s\n",
      "49:\tlearn: 45.2430461\ttest: 45.7056048\tbest: 45.7056048 (49)\ttotal: 4.65s\tremaining: 4.65s\n",
      "50:\tlearn: 45.2305579\ttest: 45.7387175\tbest: 45.7056048 (49)\ttotal: 4.72s\tremaining: 4.54s\n",
      "51:\tlearn: 45.2256320\ttest: 45.7358636\tbest: 45.7056048 (49)\ttotal: 4.79s\tremaining: 4.43s\n",
      "52:\tlearn: 45.2060795\ttest: 45.7260562\tbest: 45.7056048 (49)\ttotal: 4.88s\tremaining: 4.32s\n",
      "53:\tlearn: 45.1882886\ttest: 45.7149012\tbest: 45.7056048 (49)\ttotal: 4.95s\tremaining: 4.22s\n",
      "54:\tlearn: 45.1853408\ttest: 45.7095701\tbest: 45.7056048 (49)\ttotal: 5.03s\tremaining: 4.12s\n",
      "55:\tlearn: 45.1707515\ttest: 45.6981919\tbest: 45.6981919 (55)\ttotal: 5.12s\tremaining: 4.02s\n",
      "56:\tlearn: 45.1611023\ttest: 45.6945933\tbest: 45.6945933 (56)\ttotal: 5.18s\tremaining: 3.91s\n",
      "57:\tlearn: 45.1553668\ttest: 45.6840775\tbest: 45.6840775 (57)\ttotal: 5.26s\tremaining: 3.81s\n",
      "58:\tlearn: 45.1415541\ttest: 45.7007367\tbest: 45.6840775 (57)\ttotal: 5.34s\tremaining: 3.71s\n",
      "59:\tlearn: 45.1350131\ttest: 45.6953911\tbest: 45.6840775 (57)\ttotal: 5.42s\tremaining: 3.61s\n",
      "60:\tlearn: 45.1235532\ttest: 45.6859471\tbest: 45.6840775 (57)\ttotal: 5.5s\tremaining: 3.52s\n",
      "61:\tlearn: 45.1085978\ttest: 45.6837439\tbest: 45.6837439 (61)\ttotal: 5.58s\tremaining: 3.42s\n",
      "62:\tlearn: 45.0964440\ttest: 45.6761797\tbest: 45.6761797 (62)\ttotal: 5.66s\tremaining: 3.32s\n",
      "63:\tlearn: 45.0706764\ttest: 45.6716753\tbest: 45.6716753 (63)\ttotal: 5.73s\tremaining: 3.22s\n",
      "64:\tlearn: 45.0643261\ttest: 45.6671256\tbest: 45.6671256 (64)\ttotal: 5.81s\tremaining: 3.13s\n",
      "65:\tlearn: 45.0624401\ttest: 45.6642091\tbest: 45.6642091 (65)\ttotal: 5.88s\tremaining: 3.03s\n",
      "66:\tlearn: 45.0594136\ttest: 45.6700659\tbest: 45.6642091 (65)\ttotal: 5.95s\tremaining: 2.93s\n",
      "67:\tlearn: 45.0339422\ttest: 45.6578286\tbest: 45.6578286 (67)\ttotal: 6.03s\tremaining: 2.84s\n",
      "68:\tlearn: 45.0244133\ttest: 45.6424740\tbest: 45.6424740 (68)\ttotal: 6.11s\tremaining: 2.75s\n",
      "69:\tlearn: 45.0238201\ttest: 45.6407233\tbest: 45.6407233 (69)\ttotal: 6.19s\tremaining: 2.65s\n",
      "70:\tlearn: 45.0032404\ttest: 45.6212222\tbest: 45.6212222 (70)\ttotal: 6.27s\tremaining: 2.56s\n",
      "71:\tlearn: 44.9960664\ttest: 45.6203134\tbest: 45.6203134 (71)\ttotal: 6.35s\tremaining: 2.47s\n",
      "72:\tlearn: 44.9892797\ttest: 45.6189436\tbest: 45.6189436 (72)\ttotal: 6.43s\tremaining: 2.38s\n",
      "73:\tlearn: 44.9799015\ttest: 45.6108405\tbest: 45.6108405 (73)\ttotal: 6.51s\tremaining: 2.29s\n",
      "74:\tlearn: 44.9796126\ttest: 45.6108413\tbest: 45.6108405 (73)\ttotal: 6.58s\tremaining: 2.19s\n",
      "75:\tlearn: 44.9789931\ttest: 45.6099263\tbest: 45.6099263 (75)\ttotal: 6.66s\tremaining: 2.1s\n",
      "76:\tlearn: 44.9787169\ttest: 45.6094579\tbest: 45.6094579 (76)\ttotal: 6.74s\tremaining: 2.01s\n",
      "77:\tlearn: 44.9617400\ttest: 45.5941855\tbest: 45.5941855 (77)\ttotal: 6.81s\tremaining: 1.92s\n",
      "78:\tlearn: 44.9483645\ttest: 45.5709674\tbest: 45.5709674 (78)\ttotal: 6.89s\tremaining: 1.83s\n",
      "79:\tlearn: 44.9318409\ttest: 45.5500756\tbest: 45.5500756 (79)\ttotal: 6.97s\tremaining: 1.74s\n",
      "80:\tlearn: 44.9228297\ttest: 45.5416945\tbest: 45.5416945 (80)\ttotal: 7.05s\tremaining: 1.65s\n",
      "81:\tlearn: 44.9123441\ttest: 45.5424325\tbest: 45.5416945 (80)\ttotal: 7.13s\tremaining: 1.56s\n",
      "82:\tlearn: 44.8987380\ttest: 45.5253823\tbest: 45.5253823 (82)\ttotal: 7.21s\tremaining: 1.48s\n",
      "83:\tlearn: 44.8648153\ttest: 45.4934600\tbest: 45.4934600 (83)\ttotal: 7.29s\tremaining: 1.39s\n",
      "84:\tlearn: 44.8507121\ttest: 45.4979967\tbest: 45.4934600 (83)\ttotal: 7.37s\tremaining: 1.3s\n",
      "85:\tlearn: 44.8365070\ttest: 45.5040022\tbest: 45.4934600 (83)\ttotal: 7.44s\tremaining: 1.21s\n",
      "86:\tlearn: 44.8282165\ttest: 45.5015579\tbest: 45.4934600 (83)\ttotal: 7.51s\tremaining: 1.12s\n",
      "87:\tlearn: 44.8189566\ttest: 45.4895690\tbest: 45.4895690 (87)\ttotal: 7.59s\tremaining: 1.03s\n",
      "88:\tlearn: 44.8003121\ttest: 45.4937031\tbest: 45.4895690 (87)\ttotal: 7.67s\tremaining: 948ms\n",
      "89:\tlearn: 44.7805998\ttest: 45.4879525\tbest: 45.4879525 (89)\ttotal: 7.75s\tremaining: 862ms\n",
      "90:\tlearn: 44.7797932\ttest: 45.4895064\tbest: 45.4879525 (89)\ttotal: 7.84s\tremaining: 775ms\n",
      "91:\tlearn: 44.7709999\ttest: 45.4858909\tbest: 45.4858909 (91)\ttotal: 7.92s\tremaining: 689ms\n",
      "92:\tlearn: 44.7585204\ttest: 45.4823131\tbest: 45.4823131 (92)\ttotal: 8s\tremaining: 602ms\n",
      "93:\tlearn: 44.7535057\ttest: 45.4848471\tbest: 45.4823131 (92)\ttotal: 8.08s\tremaining: 516ms\n",
      "94:\tlearn: 44.7364484\ttest: 45.4827152\tbest: 45.4823131 (92)\ttotal: 8.17s\tremaining: 430ms\n",
      "95:\tlearn: 44.7222634\ttest: 45.4678958\tbest: 45.4678958 (95)\ttotal: 8.25s\tremaining: 344ms\n",
      "96:\tlearn: 44.7095751\ttest: 45.4843643\tbest: 45.4678958 (95)\ttotal: 8.33s\tremaining: 258ms\n",
      "97:\tlearn: 44.6768745\ttest: 45.4749587\tbest: 45.4678958 (95)\ttotal: 8.41s\tremaining: 172ms\n",
      "98:\tlearn: 44.6764793\ttest: 45.4744012\tbest: 45.4678958 (95)\ttotal: 8.48s\tremaining: 85.7ms\n",
      "99:\tlearn: 44.6705969\ttest: 45.4808199\tbest: 45.4678958 (95)\ttotal: 8.56s\tremaining: 0us\n",
      "\n",
      "bestTest = 45.46789578\n",
      "bestIteration = 95\n",
      "\n",
      "Shrink model to first 96 iterations.\n"
     ]
    },
    {
     "data": {
      "text/plain": "<catboost.core.CatBoostRegressor at 0x7ff3f47229a0>"
     },
     "execution_count": 86,
     "metadata": {},
     "output_type": "execute_result"
    }
   ],
   "source": [
    "ctb_reg.fit(train_pool, eval_set=val_pool, verbose=True)"
   ],
   "metadata": {
    "collapsed": false,
    "ExecuteTime": {
     "start_time": "2024-07-17T17:28:20.446874Z",
     "end_time": "2024-07-17T17:28:29.543707Z"
    }
   }
  },
  {
   "cell_type": "code",
   "execution_count": 88,
   "outputs": [],
   "source": [
    "y_pred = ctb_reg.predict(X_val)"
   ],
   "metadata": {
    "collapsed": false,
    "ExecuteTime": {
     "start_time": "2024-07-17T17:29:12.828141Z",
     "end_time": "2024-07-17T17:29:12.937234Z"
    }
   }
  },
  {
   "cell_type": "code",
   "execution_count": 89,
   "outputs": [
    {
     "name": "stdout",
     "output_type": "stream",
     "text": [
      "Mean Absolute Error (MAE): 31.53034945173836\n",
      "Mean Squared Error (MSE): 2067.329544179232\n",
      "Root Mean Squared Error (RMSE): 45.46789575270921\n",
      "R^2 Score: 0.10010227142430739\n"
     ]
    }
   ],
   "source": [
    "mae = mean_absolute_error(y_val, y_pred)\n",
    "mse = mean_squared_error(y_val, y_pred)\n",
    "rmse = np.sqrt(mse)\n",
    "r2 = r2_score(y_val, y_pred)\n",
    "\n",
    "print(f'Mean Absolute Error (MAE): {mae}')\n",
    "print(f'Mean Squared Error (MSE): {mse}')\n",
    "print(f'Root Mean Squared Error (RMSE): {rmse}')\n",
    "print(f'R^2 Score: {r2}')"
   ],
   "metadata": {
    "collapsed": false,
    "ExecuteTime": {
     "start_time": "2024-07-17T17:29:16.192351Z",
     "end_time": "2024-07-17T17:29:16.230841Z"
    }
   }
  },
  {
   "cell_type": "code",
   "execution_count": 90,
   "outputs": [],
   "source": [
    "# Модель показывает весьма слабую обобщающую способность, низкий показатель R^2"
   ],
   "metadata": {
    "collapsed": false,
    "ExecuteTime": {
     "start_time": "2024-07-17T17:30:26.384389Z",
     "end_time": "2024-07-17T17:30:26.405608Z"
    }
   }
  },
  {
   "cell_type": "code",
   "execution_count": 91,
   "outputs": [
    {
     "data": {
      "text/plain": "<Figure size 576x684 with 2 Axes>",
      "image/png": "[encoded data removed]"
     },
     "metadata": {},
     "output_type": "display_data"
    }
   ],
   "source": [
    "explainer = TreeExplainer(ctb_reg)\n",
    "shap_values = explainer.shap_values(X_val, y_val)\n",
    "shap.summary_plot(shap_values, X_val, X_val.columns)"
   ],
   "metadata": {
    "collapsed": false,
    "ExecuteTime": {
     "start_time": "2024-07-17T17:30:30.345571Z",
     "end_time": "2024-07-17T17:30:34.642254Z"
    }
   }
  },
  {
   "cell_type": "code",
   "execution_count": 92,
   "outputs": [],
   "source": [
    "# по item_price каша, крайне малый вклад большей части категориальных переменных."
   ],
   "metadata": {
    "collapsed": false,
    "ExecuteTime": {
     "start_time": "2024-07-17T17:32:56.688667Z",
     "end_time": "2024-07-17T17:32:56.718945Z"
    }
   }
  },
  {
   "cell_type": "code",
   "execution_count": 93,
   "outputs": [],
   "source": [
    "residuals = y_val - y_pred"
   ],
   "metadata": {
    "collapsed": false,
    "ExecuteTime": {
     "start_time": "2024-07-17T17:32:58.904886Z",
     "end_time": "2024-07-17T17:32:58.924663Z"
    }
   }
  },
  {
   "cell_type": "code",
   "execution_count": 94,
   "outputs": [
    {
     "data": {
      "text/plain": "<Figure size 720x432 with 1 Axes>",
      "image/png": "[encoded data removed]"
     },
     "metadata": {},
     "output_type": "display_data"
    }
   ],
   "source": [
    "plt.figure(figsize=(10, 6))\n",
    "plt.scatter(y_pred, residuals, alpha=0.6)\n",
    "plt.axhline(y=0, color='r', linestyle='--')\n",
    "plt.xlabel('Предсказанные значения')\n",
    "plt.ylabel('Остатки')\n",
    "plt.title('График остатков')\n",
    "plt.show()"
   ],
   "metadata": {
    "collapsed": false,
    "ExecuteTime": {
     "start_time": "2024-07-17T17:33:02.961543Z",
     "end_time": "2024-07-17T17:33:03.174945Z"
    }
   }
  },
  {
   "cell_type": "code",
   "execution_count": 95,
   "outputs": [],
   "source": [
    "# Модель крайне плохо обобщает таргет при значении 0 и ~ 180"
   ],
   "metadata": {
    "collapsed": false,
    "ExecuteTime": {
     "start_time": "2024-07-17T17:34:15.211072Z",
     "end_time": "2024-07-17T17:34:15.232128Z"
    }
   }
  },
  {
   "cell_type": "markdown",
   "source": [
    "### Выдвинем гипотезу, что часть наблюдений - это мусор и почистим датасет"
   ],
   "metadata": {
    "collapsed": false
   }
  },
  {
   "cell_type": "code",
   "execution_count": 97,
   "outputs": [
    {
     "data": {
      "text/plain": "-480.8484299516908"
     },
     "execution_count": 97,
     "metadata": {},
     "output_type": "execute_result"
    }
   ],
   "source": [
    "train_df['item_losses'].min()"
   ],
   "metadata": {
    "collapsed": false,
    "ExecuteTime": {
     "start_time": "2024-07-17T17:35:20.003814Z",
     "end_time": "2024-07-17T17:35:20.051603Z"
    }
   }
  },
  {
   "cell_type": "code",
   "execution_count": 98,
   "outputs": [],
   "source": [
    "train_df = train_df[train_df['item_losses'] > 0]"
   ],
   "metadata": {
    "collapsed": false,
    "ExecuteTime": {
     "start_time": "2024-07-17T17:36:21.641341Z",
     "end_time": "2024-07-17T17:36:22.587740Z"
    }
   }
  },
  {
   "cell_type": "code",
   "execution_count": 99,
   "outputs": [],
   "source": [
    "train_df = train_df[train_df['item_losses'].round(6) != 180.042271]"
   ],
   "metadata": {
    "collapsed": false,
    "ExecuteTime": {
     "start_time": "2024-07-17T17:36:59.169323Z",
     "end_time": "2024-07-17T17:36:59.291940Z"
    }
   }
  },
  {
   "cell_type": "code",
   "execution_count": 101,
   "outputs": [
    {
     "data": {
      "text/plain": "(75041, 35)"
     },
     "execution_count": 101,
     "metadata": {},
     "output_type": "execute_result"
    }
   ],
   "source": [
    "train_df.shape"
   ],
   "metadata": {
    "collapsed": false,
    "ExecuteTime": {
     "start_time": "2024-07-17T17:38:46.956594Z",
     "end_time": "2024-07-17T17:38:46.996712Z"
    }
   }
  },
  {
   "cell_type": "code",
   "execution_count": 100,
   "outputs": [],
   "source": [
    "y = train_df[target_var]\n",
    "X = train_df.drop(columns_for_drop, axis=1)"
   ],
   "metadata": {
    "collapsed": false,
    "ExecuteTime": {
     "start_time": "2024-07-17T17:38:25.323770Z",
     "end_time": "2024-07-17T17:38:25.330162Z"
    }
   }
  },
  {
   "cell_type": "code",
   "execution_count": 102,
   "outputs": [],
   "source": [
    "X_train, X_val, y_train, y_val = train_test_split(X, y, test_size=.1, random_state=42)"
   ],
   "metadata": {
    "collapsed": false,
    "ExecuteTime": {
     "start_time": "2024-07-17T17:38:55.859526Z",
     "end_time": "2024-07-17T17:38:56.311172Z"
    }
   }
  },
  {
   "cell_type": "code",
   "execution_count": 103,
   "outputs": [],
   "source": [
    "train_pool = Pool(X_train, y_train, cat_features=train_categorical_columns)\n",
    "val_pool = Pool(X_val, y_val, cat_features=train_categorical_columns)"
   ],
   "metadata": {
    "collapsed": false,
    "ExecuteTime": {
     "start_time": "2024-07-17T17:39:09.195836Z",
     "end_time": "2024-07-17T17:39:09.872318Z"
    }
   }
  },
  {
   "cell_type": "code",
   "execution_count": 104,
   "outputs": [
    {
     "name": "stdout",
     "output_type": "stream",
     "text": [
      "0:\tlearn: 38.2480814\ttest: 38.2482782\tbest: 38.2482782 (0)\ttotal: 22.2ms\tremaining: 2.2s\n",
      "1:\tlearn: 36.7515538\ttest: 36.2917075\tbest: 36.2917075 (1)\ttotal: 50.9ms\tremaining: 2.49s\n",
      "2:\tlearn: 36.2759358\ttest: 35.8694604\tbest: 35.8694604 (2)\ttotal: 72.3ms\tremaining: 2.34s\n",
      "3:\tlearn: 35.6668959\ttest: 34.6244661\tbest: 34.6244661 (3)\ttotal: 90.5ms\tremaining: 2.17s\n",
      "4:\tlearn: 35.1666419\ttest: 33.7984783\tbest: 33.7984783 (4)\ttotal: 115ms\tremaining: 2.18s\n",
      "5:\tlearn: 34.6634676\ttest: 34.0547978\tbest: 33.7984783 (4)\ttotal: 143ms\tremaining: 2.23s\n",
      "6:\tlearn: 34.4329739\ttest: 33.8905867\tbest: 33.7984783 (4)\ttotal: 161ms\tremaining: 2.14s\n",
      "7:\tlearn: 34.2782970\ttest: 33.6273101\tbest: 33.6273101 (7)\ttotal: 178ms\tremaining: 2.05s\n",
      "8:\tlearn: 34.1482936\ttest: 33.4905963\tbest: 33.4905963 (8)\ttotal: 199ms\tremaining: 2.01s\n",
      "9:\tlearn: 34.0142476\ttest: 33.6298058\tbest: 33.4905963 (8)\ttotal: 217ms\tremaining: 1.96s\n",
      "10:\tlearn: 33.8327868\ttest: 33.5254664\tbest: 33.4905963 (8)\ttotal: 234ms\tremaining: 1.89s\n",
      "11:\tlearn: 33.6143078\ttest: 33.4308587\tbest: 33.4308587 (11)\ttotal: 251ms\tremaining: 1.84s\n",
      "12:\tlearn: 33.4768700\ttest: 33.4326691\tbest: 33.4308587 (11)\ttotal: 270ms\tremaining: 1.8s\n",
      "13:\tlearn: 33.1954468\ttest: 33.1956066\tbest: 33.1956066 (13)\ttotal: 288ms\tremaining: 1.77s\n",
      "14:\tlearn: 33.0780254\ttest: 33.3132814\tbest: 33.1956066 (13)\ttotal: 308ms\tremaining: 1.75s\n",
      "15:\tlearn: 33.0008601\ttest: 33.4783201\tbest: 33.1956066 (13)\ttotal: 332ms\tremaining: 1.74s\n",
      "16:\tlearn: 32.8939133\ttest: 33.3503299\tbest: 33.1956066 (13)\ttotal: 350ms\tremaining: 1.71s\n",
      "17:\tlearn: 32.8128368\ttest: 33.4037304\tbest: 33.1956066 (13)\ttotal: 369ms\tremaining: 1.68s\n",
      "18:\tlearn: 32.6396834\ttest: 33.3166051\tbest: 33.1956066 (13)\ttotal: 388ms\tremaining: 1.65s\n",
      "19:\tlearn: 32.6377515\ttest: 33.3169793\tbest: 33.1956066 (13)\ttotal: 411ms\tremaining: 1.64s\n",
      "20:\tlearn: 32.3967912\ttest: 33.2604308\tbest: 33.1956066 (13)\ttotal: 427ms\tremaining: 1.6s\n",
      "21:\tlearn: 32.3425918\ttest: 33.1954559\tbest: 33.1954559 (21)\ttotal: 443ms\tremaining: 1.57s\n",
      "22:\tlearn: 32.1708206\ttest: 33.1201304\tbest: 33.1201304 (22)\ttotal: 459ms\tremaining: 1.54s\n",
      "23:\tlearn: 32.0771690\ttest: 33.1475485\tbest: 33.1201304 (22)\ttotal: 476ms\tremaining: 1.51s\n",
      "24:\tlearn: 32.0020871\ttest: 33.0326965\tbest: 33.0326965 (24)\ttotal: 491ms\tremaining: 1.47s\n",
      "25:\tlearn: 31.9768170\ttest: 33.1221191\tbest: 33.0326965 (24)\ttotal: 510ms\tremaining: 1.45s\n",
      "26:\tlearn: 31.9066294\ttest: 33.2147401\tbest: 33.0326965 (24)\ttotal: 530ms\tremaining: 1.43s\n",
      "27:\tlearn: 31.7491968\ttest: 33.0720827\tbest: 33.0326965 (24)\ttotal: 550ms\tremaining: 1.41s\n",
      "28:\tlearn: 31.6809372\ttest: 33.0717871\tbest: 33.0326965 (24)\ttotal: 575ms\tremaining: 1.41s\n",
      "29:\tlearn: 31.6120713\ttest: 33.1297022\tbest: 33.0326965 (24)\ttotal: 594ms\tremaining: 1.39s\n",
      "30:\tlearn: 31.5723173\ttest: 33.1470698\tbest: 33.0326965 (24)\ttotal: 613ms\tremaining: 1.36s\n",
      "31:\tlearn: 31.5311761\ttest: 33.1068766\tbest: 33.0326965 (24)\ttotal: 630ms\tremaining: 1.34s\n",
      "32:\tlearn: 31.4551240\ttest: 33.0526947\tbest: 33.0326965 (24)\ttotal: 649ms\tremaining: 1.32s\n",
      "33:\tlearn: 31.1656570\ttest: 33.0720469\tbest: 33.0326965 (24)\ttotal: 666ms\tremaining: 1.29s\n",
      "34:\tlearn: 31.1041541\ttest: 33.0832552\tbest: 33.0326965 (24)\ttotal: 690ms\tremaining: 1.28s\n",
      "35:\tlearn: 31.0575123\ttest: 32.9630391\tbest: 32.9630391 (35)\ttotal: 712ms\tremaining: 1.26s\n",
      "36:\tlearn: 31.0567208\ttest: 32.9614551\tbest: 32.9614551 (36)\ttotal: 729ms\tremaining: 1.24s\n",
      "37:\tlearn: 31.0321170\ttest: 33.1395178\tbest: 32.9614551 (36)\ttotal: 747ms\tremaining: 1.22s\n",
      "38:\tlearn: 30.9978182\ttest: 33.1152318\tbest: 32.9614551 (36)\ttotal: 769ms\tremaining: 1.2s\n",
      "39:\tlearn: 30.9799439\ttest: 33.1325037\tbest: 32.9614551 (36)\ttotal: 789ms\tremaining: 1.18s\n",
      "40:\tlearn: 30.9389673\ttest: 33.1975209\tbest: 32.9614551 (36)\ttotal: 807ms\tremaining: 1.16s\n",
      "41:\tlearn: 30.9269676\ttest: 33.2079860\tbest: 32.9614551 (36)\ttotal: 825ms\tremaining: 1.14s\n",
      "42:\tlearn: 30.9210010\ttest: 33.2066073\tbest: 32.9614551 (36)\ttotal: 842ms\tremaining: 1.11s\n",
      "43:\tlearn: 30.8323484\ttest: 33.1286124\tbest: 32.9614551 (36)\ttotal: 860ms\tremaining: 1.09s\n",
      "44:\tlearn: 30.8195348\ttest: 33.0979514\tbest: 32.9614551 (36)\ttotal: 878ms\tremaining: 1.07s\n",
      "45:\tlearn: 30.7851700\ttest: 33.0356809\tbest: 32.9614551 (36)\ttotal: 896ms\tremaining: 1.05s\n",
      "46:\tlearn: 30.7431114\ttest: 33.1006668\tbest: 32.9614551 (36)\ttotal: 920ms\tremaining: 1.04s\n",
      "47:\tlearn: 30.6941150\ttest: 33.0160011\tbest: 32.9614551 (36)\ttotal: 940ms\tremaining: 1.02s\n",
      "48:\tlearn: 30.6395781\ttest: 33.0484439\tbest: 32.9614551 (36)\ttotal: 959ms\tremaining: 998ms\n",
      "49:\tlearn: 30.5800668\ttest: 32.9331451\tbest: 32.9331451 (49)\ttotal: 978ms\tremaining: 978ms\n",
      "50:\tlearn: 30.4893818\ttest: 32.9434025\tbest: 32.9331451 (49)\ttotal: 998ms\tremaining: 959ms\n",
      "51:\tlearn: 30.4325923\ttest: 32.9742456\tbest: 32.9331451 (49)\ttotal: 1.02s\tremaining: 940ms\n",
      "52:\tlearn: 30.3914041\ttest: 33.0137513\tbest: 32.9331451 (49)\ttotal: 1.04s\tremaining: 920ms\n",
      "53:\tlearn: 30.3750271\ttest: 33.0137558\tbest: 32.9331451 (49)\ttotal: 1.06s\tremaining: 900ms\n",
      "54:\tlearn: 30.3414902\ttest: 32.9296093\tbest: 32.9296093 (54)\ttotal: 1.07s\tremaining: 880ms\n",
      "55:\tlearn: 30.3114325\ttest: 32.7504904\tbest: 32.7504904 (55)\ttotal: 1.09s\tremaining: 861ms\n",
      "56:\tlearn: 30.2677052\ttest: 32.7292058\tbest: 32.7292058 (56)\ttotal: 1.12s\tremaining: 842ms\n",
      "57:\tlearn: 30.2539395\ttest: 32.7369745\tbest: 32.7292058 (56)\ttotal: 1.14s\tremaining: 822ms\n",
      "58:\tlearn: 30.2447469\ttest: 32.7463086\tbest: 32.7292058 (56)\ttotal: 1.15s\tremaining: 802ms\n",
      "59:\tlearn: 30.1697823\ttest: 32.7702412\tbest: 32.7292058 (56)\ttotal: 1.18s\tremaining: 784ms\n",
      "60:\tlearn: 30.1319770\ttest: 32.8461322\tbest: 32.7292058 (56)\ttotal: 1.22s\tremaining: 781ms\n",
      "61:\tlearn: 30.0798233\ttest: 32.8948931\tbest: 32.7292058 (56)\ttotal: 1.26s\tremaining: 775ms\n",
      "62:\tlearn: 30.0536462\ttest: 32.8787170\tbest: 32.7292058 (56)\ttotal: 1.3s\tremaining: 764ms\n",
      "63:\tlearn: 30.0175430\ttest: 32.9381037\tbest: 32.7292058 (56)\ttotal: 1.32s\tremaining: 743ms\n",
      "64:\tlearn: 29.9775043\ttest: 32.9248873\tbest: 32.7292058 (56)\ttotal: 1.34s\tremaining: 721ms\n",
      "65:\tlearn: 29.9715368\ttest: 32.9124526\tbest: 32.7292058 (56)\ttotal: 1.36s\tremaining: 700ms\n",
      "66:\tlearn: 29.9466160\ttest: 32.8928976\tbest: 32.7292058 (56)\ttotal: 1.38s\tremaining: 680ms\n",
      "67:\tlearn: 29.8945212\ttest: 32.8075696\tbest: 32.7292058 (56)\ttotal: 1.4s\tremaining: 659ms\n",
      "68:\tlearn: 29.8837884\ttest: 32.7766964\tbest: 32.7292058 (56)\ttotal: 1.42s\tremaining: 638ms\n",
      "69:\tlearn: 29.8190093\ttest: 32.7749235\tbest: 32.7292058 (56)\ttotal: 1.44s\tremaining: 617ms\n",
      "70:\tlearn: 29.7964835\ttest: 32.7498682\tbest: 32.7292058 (56)\ttotal: 1.46s\tremaining: 597ms\n",
      "71:\tlearn: 29.7760787\ttest: 32.7774927\tbest: 32.7292058 (56)\ttotal: 1.48s\tremaining: 576ms\n",
      "72:\tlearn: 29.7501271\ttest: 32.9218173\tbest: 32.7292058 (56)\ttotal: 1.5s\tremaining: 554ms\n",
      "73:\tlearn: 29.6387383\ttest: 32.8731546\tbest: 32.7292058 (56)\ttotal: 1.52s\tremaining: 534ms\n",
      "74:\tlearn: 29.5774271\ttest: 32.9027560\tbest: 32.7292058 (56)\ttotal: 1.54s\tremaining: 515ms\n",
      "75:\tlearn: 29.4428214\ttest: 33.0234443\tbest: 32.7292058 (56)\ttotal: 1.56s\tremaining: 494ms\n",
      "76:\tlearn: 29.3471998\ttest: 32.8773415\tbest: 32.7292058 (56)\ttotal: 1.59s\tremaining: 475ms\n",
      "77:\tlearn: 29.2390215\ttest: 33.0390988\tbest: 32.7292058 (56)\ttotal: 1.61s\tremaining: 455ms\n",
      "78:\tlearn: 29.1901393\ttest: 33.0006671\tbest: 32.7292058 (56)\ttotal: 1.63s\tremaining: 434ms\n",
      "79:\tlearn: 29.1649849\ttest: 32.9480185\tbest: 32.7292058 (56)\ttotal: 1.65s\tremaining: 414ms\n",
      "80:\tlearn: 29.1522764\ttest: 32.8700395\tbest: 32.7292058 (56)\ttotal: 1.67s\tremaining: 393ms\n",
      "81:\tlearn: 29.1216140\ttest: 32.8586014\tbest: 32.7292058 (56)\ttotal: 1.69s\tremaining: 371ms\n",
      "82:\tlearn: 29.0854526\ttest: 32.8489257\tbest: 32.7292058 (56)\ttotal: 1.71s\tremaining: 351ms\n",
      "83:\tlearn: 29.0588219\ttest: 32.9262594\tbest: 32.7292058 (56)\ttotal: 1.73s\tremaining: 330ms\n",
      "84:\tlearn: 29.0107308\ttest: 32.8361555\tbest: 32.7292058 (56)\ttotal: 1.75s\tremaining: 309ms\n",
      "85:\tlearn: 28.9207710\ttest: 32.8653752\tbest: 32.7292058 (56)\ttotal: 1.77s\tremaining: 289ms\n",
      "86:\tlearn: 28.8502429\ttest: 32.8117055\tbest: 32.7292058 (56)\ttotal: 1.79s\tremaining: 268ms\n",
      "87:\tlearn: 28.8497491\ttest: 32.8114768\tbest: 32.7292058 (56)\ttotal: 1.82s\tremaining: 248ms\n",
      "88:\tlearn: 28.8276896\ttest: 32.7961696\tbest: 32.7292058 (56)\ttotal: 1.84s\tremaining: 227ms\n",
      "89:\tlearn: 28.8046693\ttest: 32.8149524\tbest: 32.7292058 (56)\ttotal: 1.86s\tremaining: 206ms\n",
      "90:\tlearn: 28.7924935\ttest: 32.7887526\tbest: 32.7292058 (56)\ttotal: 1.88s\tremaining: 186ms\n",
      "91:\tlearn: 28.7037492\ttest: 32.8712452\tbest: 32.7292058 (56)\ttotal: 1.9s\tremaining: 165ms\n",
      "92:\tlearn: 28.6940110\ttest: 32.8586153\tbest: 32.7292058 (56)\ttotal: 1.92s\tremaining: 144ms\n",
      "93:\tlearn: 28.6774119\ttest: 32.8403040\tbest: 32.7292058 (56)\ttotal: 1.94s\tremaining: 124ms\n",
      "94:\tlearn: 28.6481547\ttest: 32.8345009\tbest: 32.7292058 (56)\ttotal: 1.96s\tremaining: 103ms\n",
      "95:\tlearn: 28.6190625\ttest: 32.8399924\tbest: 32.7292058 (56)\ttotal: 1.98s\tremaining: 82.4ms\n",
      "96:\tlearn: 28.5861740\ttest: 32.7330158\tbest: 32.7292058 (56)\ttotal: 2s\tremaining: 61.8ms\n",
      "97:\tlearn: 28.5268103\ttest: 32.8106898\tbest: 32.7292058 (56)\ttotal: 2.02s\tremaining: 41.3ms\n",
      "98:\tlearn: 28.5241247\ttest: 32.8107051\tbest: 32.7292058 (56)\ttotal: 2.04s\tremaining: 20.6ms\n",
      "99:\tlearn: 28.4898882\ttest: 32.8097247\tbest: 32.7292058 (56)\ttotal: 2.06s\tremaining: 0us\n",
      "\n",
      "bestTest = 32.72920579\n",
      "bestIteration = 56\n",
      "\n",
      "Shrink model to first 57 iterations.\n"
     ]
    },
    {
     "data": {
      "text/plain": "<catboost.core.CatBoostRegressor at 0x7ff3f47229a0>"
     },
     "execution_count": 104,
     "metadata": {},
     "output_type": "execute_result"
    }
   ],
   "source": [
    "ctb_reg.fit(train_pool, eval_set=val_pool, verbose=True)"
   ],
   "metadata": {
    "collapsed": false,
    "ExecuteTime": {
     "start_time": "2024-07-17T17:39:37.405543Z",
     "end_time": "2024-07-17T17:39:39.557999Z"
    }
   }
  },
  {
   "cell_type": "code",
   "execution_count": 105,
   "outputs": [],
   "source": [
    "y_pred = ctb_reg.predict(X_val)"
   ],
   "metadata": {
    "collapsed": false,
    "ExecuteTime": {
     "start_time": "2024-07-17T17:40:13.437385Z",
     "end_time": "2024-07-17T17:40:13.481820Z"
    }
   }
  },
  {
   "cell_type": "code",
   "execution_count": 106,
   "outputs": [
    {
     "data": {
      "text/plain": "(0,)"
     },
     "execution_count": 106,
     "metadata": {},
     "output_type": "execute_result"
    }
   ],
   "source": [
    "y_pred[y_pred < 0].shape"
   ],
   "metadata": {
    "collapsed": false,
    "ExecuteTime": {
     "start_time": "2024-07-17T17:40:25.419295Z",
     "end_time": "2024-07-17T17:40:25.458954Z"
    }
   }
  },
  {
   "cell_type": "code",
   "execution_count": 107,
   "outputs": [
    {
     "name": "stdout",
     "output_type": "stream",
     "text": [
      "Mean Absolute Error (MAE): 17.38923502764319\n",
      "Mean Squared Error (MSE): 1566.0888372831623\n",
      "Root Mean Squared Error (RMSE): 39.57384031507635\n",
      "R^2 Score: 0.4904065350662079\n"
     ]
    }
   ],
   "source": [
    "mae = mean_absolute_error(y_val, y_pred)\n",
    "mse = mean_squared_error(y_val, y_pred)\n",
    "rmse = np.sqrt(mse)\n",
    "r2 = r2_score(y_val, y_pred)\n",
    "\n",
    "print(f'Mean Absolute Error (MAE): {mae}')\n",
    "print(f'Mean Squared Error (MSE): {mse}')\n",
    "print(f'Root Mean Squared Error (RMSE): {rmse}')\n",
    "print(f'R^2 Score: {r2}')"
   ],
   "metadata": {
    "collapsed": false,
    "ExecuteTime": {
     "start_time": "2024-07-17T17:40:47.271206Z",
     "end_time": "2024-07-17T17:40:47.312918Z"
    }
   }
  },
  {
   "cell_type": "code",
   "execution_count": 108,
   "outputs": [
    {
     "data": {
      "text/plain": "<Figure size 576x684 with 2 Axes>",
      "image/png": "[encoded data removed]"
     },
     "metadata": {},
     "output_type": "display_data"
    }
   ],
   "source": [
    "explainer = TreeExplainer(ctb_reg)\n",
    "shap_values = explainer.shap_values(X_val, y_val)\n",
    "shap.summary_plot(shap_values, X_val, X_val.columns)"
   ],
   "metadata": {
    "collapsed": false,
    "ExecuteTime": {
     "start_time": "2024-07-17T17:41:37.830492Z",
     "end_time": "2024-07-17T17:41:39.572387Z"
    }
   }
  },
  {
   "cell_type": "code",
   "execution_count": 109,
   "outputs": [],
   "source": [
    "residuals = y_val - y_pred"
   ],
   "metadata": {
    "collapsed": false,
    "ExecuteTime": {
     "start_time": "2024-07-17T17:42:50.557015Z",
     "end_time": "2024-07-17T17:42:50.580808Z"
    }
   }
  },
  {
   "cell_type": "code",
   "execution_count": 110,
   "outputs": [
    {
     "data": {
      "text/plain": "<Figure size 720x432 with 1 Axes>",
      "image/png": "[encoded data removed]"
     },
     "metadata": {},
     "output_type": "display_data"
    }
   ],
   "source": [
    "plt.figure(figsize=(10, 6))\n",
    "plt.scatter(y_pred, residuals, alpha=0.6)\n",
    "plt.axhline(y=0, color='r', linestyle='--')\n",
    "plt.xlabel('Предсказанные значения')\n",
    "plt.ylabel('Остатки')\n",
    "plt.title('График остатков')\n",
    "plt.show()"
   ],
   "metadata": {
    "collapsed": false,
    "ExecuteTime": {
     "start_time": "2024-07-17T17:42:52.450919Z",
     "end_time": "2024-07-17T17:42:52.689631Z"
    }
   }
  },
  {
   "cell_type": "code",
   "execution_count": 112,
   "outputs": [],
   "source": [
    "# Стало значительно лучше. Теперь сравним распределения переменных в очищенном и тестовом датасете"
   ],
   "metadata": {
    "collapsed": false,
    "ExecuteTime": {
     "start_time": "2024-07-17T17:48:21.880527Z",
     "end_time": "2024-07-17T17:48:21.918822Z"
    }
   }
  },
  {
   "cell_type": "code",
   "execution_count": 113,
   "outputs": [],
   "source": [
    "# Предварительно предобработаем датасеты в Preprocessing.ipynb"
   ],
   "metadata": {
    "collapsed": false,
    "ExecuteTime": {
     "start_time": "2024-07-17T17:56:58.008052Z",
     "end_time": "2024-07-17T17:56:58.071033Z"
    }
   }
  },
  {
   "cell_type": "code",
   "execution_count": 115,
   "outputs": [],
   "source": [
    "columns_for_drop.remove('typical')"
   ],
   "metadata": {
    "collapsed": false,
    "ExecuteTime": {
     "start_time": "2024-07-17T17:59:49.160076Z",
     "end_time": "2024-07-17T17:59:49.209493Z"
    }
   }
  },
  {
   "cell_type": "code",
   "execution_count": 118,
   "outputs": [],
   "source": [
    "np.save('./data/vars/categorical_columns.npy', train_categorical_columns)\n",
    "np.save('./data/vars/date_features_columns.npy', date_features)\n",
    "np.save('./data/vars/columns_for_drop.npy', columns_for_drop)"
   ],
   "metadata": {
    "collapsed": false,
    "ExecuteTime": {
     "start_time": "2024-07-17T18:06:31.193701Z",
     "end_time": "2024-07-17T18:06:31.256932Z"
    }
   }
  }
 ],
 "metadata": {
  "kernelspec": {
   "display_name": "Python 3",
   "language": "python",
   "name": "python3"
  },
  "language_info": {
   "codemirror_mode": {
    "name": "ipython",
    "version": 2
   },
   "file_extension": ".py",
   "mimetype": "text/x-python",
   "name": "python",
   "nbconvert_exporter": "python",
   "pygments_lexer": "ipython2",
   "version": "2.7.6"
  }
 },
 "nbformat": 4,
 "nbformat_minor": 0
}
