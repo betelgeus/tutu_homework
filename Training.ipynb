{
 "cells": [
  {
   "cell_type": "code",
   "execution_count": 77,
   "metadata": {
    "collapsed": true,
    "ExecuteTime": {
     "start_time": "2024-07-17T20:05:41.867802Z",
     "end_time": "2024-07-17T20:05:41.871294Z"
    }
   },
   "outputs": [],
   "source": [
    "import pandas as pd\n",
    "import numpy as np\n",
    "import matplotlib.pyplot as plt\n",
    "import shap\n",
    "\n",
    "from catboost import CatBoostRegressor, Pool\n",
    "from sklearn.model_selection import train_test_split, KFold\n",
    "from sklearn.metrics import mean_absolute_error, mean_squared_error, r2_score\n",
    "from shap import TreeExplainer"
   ]
  },
  {
   "cell_type": "code",
   "execution_count": 18,
   "outputs": [],
   "source": [
    "train_df = pd.read_csv('./data/df_train_preprop_clear.csv')"
   ],
   "metadata": {
    "collapsed": false,
    "ExecuteTime": {
     "start_time": "2024-07-17T19:42:06.985906Z",
     "end_time": "2024-07-17T19:42:07.422279Z"
    }
   }
  },
  {
   "cell_type": "code",
   "execution_count": 20,
   "outputs": [],
   "source": [
    "cat_features = np.load('./data/vars/categorical_columns.npy')\n",
    "columns_for_drop = ['type_prepayment']"
   ],
   "metadata": {
    "collapsed": false,
    "ExecuteTime": {
     "start_time": "2024-07-17T19:42:19.498913Z",
     "end_time": "2024-07-17T19:42:19.510157Z"
    }
   }
  },
  {
   "cell_type": "code",
   "execution_count": 21,
   "outputs": [],
   "source": [
    "train_df.drop(columns_for_drop, axis=1, inplace=True)"
   ],
   "metadata": {
    "collapsed": false,
    "ExecuteTime": {
     "start_time": "2024-07-17T19:42:20.018691Z",
     "end_time": "2024-07-17T19:42:20.024813Z"
    }
   }
  },
  {
   "cell_type": "code",
   "execution_count": 22,
   "outputs": [],
   "source": [
    "cat_features = [i for i in cat_features if i not in columns_for_drop]"
   ],
   "metadata": {
    "collapsed": false,
    "ExecuteTime": {
     "start_time": "2024-07-17T19:42:20.565068Z",
     "end_time": "2024-07-17T19:42:20.578372Z"
    }
   }
  },
  {
   "cell_type": "code",
   "execution_count": 23,
   "outputs": [],
   "source": [
    "train_df[cat_features] = train_df[cat_features].astype(str)\n",
    "train_df[cat_features] = train_df[cat_features].fillna('None')"
   ],
   "metadata": {
    "collapsed": false,
    "ExecuteTime": {
     "start_time": "2024-07-17T19:42:21.043268Z",
     "end_time": "2024-07-17T19:42:22.370463Z"
    }
   }
  },
  {
   "cell_type": "code",
   "execution_count": 24,
   "outputs": [],
   "source": [
    "target_var = 'item_losses'"
   ],
   "metadata": {
    "collapsed": false,
    "ExecuteTime": {
     "start_time": "2024-07-17T19:42:34.530788Z",
     "end_time": "2024-07-17T19:42:34.542199Z"
    }
   }
  },
  {
   "cell_type": "code",
   "execution_count": 26,
   "outputs": [],
   "source": [
    "y = train_df[target_var]\n",
    "X = train_df.drop(target_var, axis=1)"
   ],
   "metadata": {
    "collapsed": false,
    "ExecuteTime": {
     "start_time": "2024-07-17T19:42:56.427008Z",
     "end_time": "2024-07-17T19:42:56.464215Z"
    }
   }
  },
  {
   "cell_type": "code",
   "execution_count": 27,
   "outputs": [],
   "source": [
    "X_train, X_val, y_train, y_val = train_test_split(X, y, test_size=.1, random_state=42)"
   ],
   "metadata": {
    "collapsed": false,
    "ExecuteTime": {
     "start_time": "2024-07-17T19:43:08.946113Z",
     "end_time": "2024-07-17T19:43:09.139548Z"
    }
   }
  },
  {
   "cell_type": "code",
   "execution_count": 67,
   "outputs": [],
   "source": [
    "model_params = {\n",
    "    'learning_rate': 0.1,\n",
    "    'max_depth': 7,\n",
    "    'iterations': 500, # на 1000 циклах модель переобучается\n",
    "    'loss_function': 'RMSE'\n",
    "}"
   ],
   "metadata": {
    "collapsed": false,
    "ExecuteTime": {
     "start_time": "2024-07-17T20:04:32.329502Z",
     "end_time": "2024-07-17T20:04:32.332008Z"
    }
   }
  },
  {
   "cell_type": "code",
   "execution_count": 68,
   "outputs": [],
   "source": [
    "train_pool = Pool(X_train, y_train, cat_features=cat_features)\n",
    "val_pool = Pool(X_val, y_val, cat_features=cat_features)"
   ],
   "metadata": {
    "collapsed": false,
    "ExecuteTime": {
     "start_time": "2024-07-17T20:04:32.922045Z",
     "end_time": "2024-07-17T20:04:33.332358Z"
    }
   }
  },
  {
   "cell_type": "code",
   "execution_count": 69,
   "outputs": [],
   "source": [
    "ctb_reg = CatBoostRegressor(**model_params)"
   ],
   "metadata": {
    "collapsed": false,
    "ExecuteTime": {
     "start_time": "2024-07-17T20:04:33.333095Z",
     "end_time": "2024-07-17T20:04:33.344157Z"
    }
   }
  },
  {
   "cell_type": "code",
   "execution_count": 70,
   "outputs": [
    {
     "name": "stdout",
     "output_type": "stream",
     "text": [
      "0:\tlearn: 50.8455354\ttest: 52.6643870\tbest: 52.6643870 (0)\ttotal: 118ms\tremaining: 59.1s\n",
      "1:\tlearn: 48.5235905\ttest: 50.1765482\tbest: 50.1765482 (1)\ttotal: 222ms\tremaining: 55.4s\n",
      "2:\tlearn: 46.4888601\ttest: 47.9971402\tbest: 47.9971402 (2)\ttotal: 353ms\tremaining: 58.5s\n",
      "3:\tlearn: 44.7604972\ttest: 46.1392553\tbest: 46.1392553 (3)\ttotal: 471ms\tremaining: 58.4s\n",
      "4:\tlearn: 43.3495764\ttest: 44.6940004\tbest: 44.6940004 (4)\ttotal: 582ms\tremaining: 57.6s\n",
      "5:\tlearn: 41.9925107\ttest: 43.1862706\tbest: 43.1862706 (5)\ttotal: 700ms\tremaining: 57.6s\n",
      "6:\tlearn: 40.8866512\ttest: 41.9788489\tbest: 41.9788489 (6)\ttotal: 806ms\tremaining: 56.7s\n",
      "7:\tlearn: 39.9710889\ttest: 40.9888350\tbest: 40.9888350 (7)\ttotal: 919ms\tremaining: 56.5s\n",
      "8:\tlearn: 39.1251137\ttest: 40.0303176\tbest: 40.0303176 (8)\ttotal: 1.03s\tremaining: 56.2s\n",
      "9:\tlearn: 38.4504598\ttest: 39.3056897\tbest: 39.3056897 (9)\ttotal: 1.2s\tremaining: 58.8s\n",
      "10:\tlearn: 37.7965764\ttest: 38.5607014\tbest: 38.5607014 (10)\ttotal: 1.4s\tremaining: 1m 2s\n",
      "11:\tlearn: 37.2991748\ttest: 37.9467657\tbest: 37.9467657 (11)\ttotal: 1.55s\tremaining: 1m 3s\n",
      "12:\tlearn: 36.8337167\ttest: 37.4178182\tbest: 37.4178182 (12)\ttotal: 1.73s\tremaining: 1m 4s\n",
      "13:\tlearn: 36.4483064\ttest: 37.0102249\tbest: 37.0102249 (13)\ttotal: 1.86s\tremaining: 1m 4s\n",
      "14:\tlearn: 36.1204608\ttest: 36.5990645\tbest: 36.5990645 (14)\ttotal: 1.98s\tremaining: 1m 3s\n",
      "15:\tlearn: 35.8122052\ttest: 36.2413760\tbest: 36.2413760 (15)\ttotal: 2.1s\tremaining: 1m 3s\n",
      "16:\tlearn: 35.5786159\ttest: 35.9228004\tbest: 35.9228004 (16)\ttotal: 2.21s\tremaining: 1m 2s\n",
      "17:\tlearn: 35.3515121\ttest: 35.6240226\tbest: 35.6240226 (17)\ttotal: 2.33s\tremaining: 1m 2s\n",
      "18:\tlearn: 35.1601849\ttest: 35.3974949\tbest: 35.3974949 (18)\ttotal: 2.44s\tremaining: 1m 1s\n",
      "19:\tlearn: 35.0054908\ttest: 35.2096246\tbest: 35.2096246 (19)\ttotal: 2.54s\tremaining: 1m 1s\n",
      "20:\tlearn: 34.8273869\ttest: 34.9956815\tbest: 34.9956815 (20)\ttotal: 2.64s\tremaining: 1m\n",
      "21:\tlearn: 34.6795757\ttest: 34.7958484\tbest: 34.7958484 (21)\ttotal: 2.76s\tremaining: 1m\n",
      "22:\tlearn: 34.5578977\ttest: 34.6623645\tbest: 34.6623645 (22)\ttotal: 2.89s\tremaining: 59.9s\n",
      "23:\tlearn: 34.4237248\ttest: 34.5478868\tbest: 34.5478868 (23)\ttotal: 3.03s\tremaining: 1m\n",
      "24:\tlearn: 34.3282482\ttest: 34.3758354\tbest: 34.3758354 (24)\ttotal: 3.15s\tremaining: 59.9s\n",
      "25:\tlearn: 34.2520469\ttest: 34.2894387\tbest: 34.2894387 (25)\ttotal: 3.25s\tremaining: 59.3s\n",
      "26:\tlearn: 34.1576885\ttest: 34.1910701\tbest: 34.1910701 (26)\ttotal: 3.37s\tremaining: 59.1s\n",
      "27:\tlearn: 34.0124304\ttest: 33.9728275\tbest: 33.9728275 (27)\ttotal: 3.49s\tremaining: 58.8s\n",
      "28:\tlearn: 33.8881160\ttest: 33.7997111\tbest: 33.7997111 (28)\ttotal: 3.61s\tremaining: 58.7s\n",
      "29:\tlearn: 33.8044287\ttest: 33.7232965\tbest: 33.7232965 (29)\ttotal: 3.73s\tremaining: 58.4s\n",
      "30:\tlearn: 33.7144431\ttest: 33.5766968\tbest: 33.5766968 (30)\ttotal: 3.83s\tremaining: 57.9s\n",
      "31:\tlearn: 33.6148504\ttest: 33.4672589\tbest: 33.4672589 (31)\ttotal: 3.95s\tremaining: 57.8s\n",
      "32:\tlearn: 33.5251769\ttest: 33.3885544\tbest: 33.3885544 (32)\ttotal: 4.07s\tremaining: 57.6s\n",
      "33:\tlearn: 33.4787646\ttest: 33.3510337\tbest: 33.3510337 (33)\ttotal: 4.18s\tremaining: 57.4s\n",
      "34:\tlearn: 33.3936447\ttest: 33.3248390\tbest: 33.3248390 (34)\ttotal: 4.29s\tremaining: 57s\n",
      "35:\tlearn: 33.3042866\ttest: 33.3023090\tbest: 33.3023090 (35)\ttotal: 4.41s\tremaining: 56.8s\n",
      "36:\tlearn: 33.2631615\ttest: 33.2470114\tbest: 33.2470114 (36)\ttotal: 4.52s\tremaining: 56.6s\n",
      "37:\tlearn: 33.1992647\ttest: 33.2166582\tbest: 33.2166582 (37)\ttotal: 4.63s\tremaining: 56.3s\n",
      "38:\tlearn: 33.1640319\ttest: 33.1914796\tbest: 33.1914796 (38)\ttotal: 4.77s\tremaining: 56.3s\n",
      "39:\tlearn: 33.1165804\ttest: 33.1163880\tbest: 33.1163880 (39)\ttotal: 4.92s\tremaining: 56.6s\n",
      "40:\tlearn: 33.0909020\ttest: 33.1054575\tbest: 33.1054575 (40)\ttotal: 5.07s\tremaining: 56.8s\n",
      "41:\tlearn: 33.0551624\ttest: 33.0360063\tbest: 33.0360063 (41)\ttotal: 5.17s\tremaining: 56.4s\n",
      "42:\tlearn: 32.9809906\ttest: 32.9248596\tbest: 32.9248596 (42)\ttotal: 5.3s\tremaining: 56.3s\n",
      "43:\tlearn: 32.9482890\ttest: 32.8886564\tbest: 32.8886564 (43)\ttotal: 5.41s\tremaining: 56.1s\n",
      "44:\tlearn: 32.9003391\ttest: 32.8410097\tbest: 32.8410097 (44)\ttotal: 5.52s\tremaining: 55.8s\n",
      "45:\tlearn: 32.8198616\ttest: 32.7851024\tbest: 32.7851024 (45)\ttotal: 5.64s\tremaining: 55.6s\n",
      "46:\tlearn: 32.7712480\ttest: 32.7568432\tbest: 32.7568432 (46)\ttotal: 5.8s\tremaining: 55.9s\n",
      "47:\tlearn: 32.7490803\ttest: 32.7587223\tbest: 32.7568432 (46)\ttotal: 5.94s\tremaining: 55.9s\n",
      "48:\tlearn: 32.6684855\ttest: 32.6882634\tbest: 32.6882634 (48)\ttotal: 6.07s\tremaining: 55.8s\n",
      "49:\tlearn: 32.6350357\ttest: 32.6698728\tbest: 32.6698728 (49)\ttotal: 6.18s\tremaining: 55.7s\n",
      "50:\tlearn: 32.5691376\ttest: 32.6187274\tbest: 32.6187274 (50)\ttotal: 6.33s\tremaining: 55.7s\n",
      "51:\tlearn: 32.5522580\ttest: 32.6077235\tbest: 32.6077235 (51)\ttotal: 6.45s\tremaining: 55.6s\n",
      "52:\tlearn: 32.4618073\ttest: 32.5810355\tbest: 32.5810355 (52)\ttotal: 6.57s\tremaining: 55.4s\n",
      "53:\tlearn: 32.4121865\ttest: 32.5144491\tbest: 32.5144491 (53)\ttotal: 6.69s\tremaining: 55.3s\n",
      "54:\tlearn: 32.3318321\ttest: 32.5154570\tbest: 32.5144491 (53)\ttotal: 6.82s\tremaining: 55.1s\n",
      "55:\tlearn: 32.2696070\ttest: 32.5331201\tbest: 32.5144491 (53)\ttotal: 6.93s\tremaining: 54.9s\n",
      "56:\tlearn: 32.2481655\ttest: 32.5313079\tbest: 32.5144491 (53)\ttotal: 7.04s\tremaining: 54.7s\n",
      "57:\tlearn: 32.1819382\ttest: 32.4732412\tbest: 32.4732412 (57)\ttotal: 7.18s\tremaining: 54.7s\n",
      "58:\tlearn: 32.1585533\ttest: 32.4535864\tbest: 32.4535864 (58)\ttotal: 7.29s\tremaining: 54.5s\n",
      "59:\tlearn: 32.1395431\ttest: 32.4389785\tbest: 32.4389785 (59)\ttotal: 7.45s\tremaining: 54.6s\n",
      "60:\tlearn: 32.1103048\ttest: 32.3910250\tbest: 32.3910250 (60)\ttotal: 7.59s\tremaining: 54.6s\n",
      "61:\tlearn: 32.0613417\ttest: 32.3739895\tbest: 32.3739895 (61)\ttotal: 7.77s\tremaining: 54.9s\n",
      "62:\tlearn: 32.0331761\ttest: 32.3412747\tbest: 32.3412747 (62)\ttotal: 7.91s\tremaining: 54.9s\n",
      "63:\tlearn: 32.0076230\ttest: 32.3246783\tbest: 32.3246783 (63)\ttotal: 8.04s\tremaining: 54.8s\n",
      "64:\tlearn: 31.9914520\ttest: 32.3135184\tbest: 32.3135184 (64)\ttotal: 8.16s\tremaining: 54.6s\n",
      "65:\tlearn: 31.9683203\ttest: 32.3121515\tbest: 32.3121515 (65)\ttotal: 8.27s\tremaining: 54.4s\n",
      "66:\tlearn: 31.9351729\ttest: 32.2919881\tbest: 32.2919881 (66)\ttotal: 8.4s\tremaining: 54.3s\n",
      "67:\tlearn: 31.8487003\ttest: 32.3293097\tbest: 32.2919881 (66)\ttotal: 8.52s\tremaining: 54.1s\n",
      "68:\tlearn: 31.8240251\ttest: 32.3076857\tbest: 32.2919881 (66)\ttotal: 8.64s\tremaining: 54s\n",
      "69:\tlearn: 31.8148511\ttest: 32.2991191\tbest: 32.2919881 (66)\ttotal: 8.76s\tremaining: 53.8s\n",
      "70:\tlearn: 31.8071213\ttest: 32.2971072\tbest: 32.2919881 (66)\ttotal: 8.89s\tremaining: 53.7s\n",
      "71:\tlearn: 31.7577062\ttest: 32.2807574\tbest: 32.2807574 (71)\ttotal: 9.01s\tremaining: 53.5s\n",
      "72:\tlearn: 31.7475846\ttest: 32.2742977\tbest: 32.2742977 (72)\ttotal: 9.15s\tremaining: 53.5s\n",
      "73:\tlearn: 31.7177731\ttest: 32.2639920\tbest: 32.2639920 (73)\ttotal: 9.25s\tremaining: 53.3s\n",
      "74:\tlearn: 31.6907394\ttest: 32.2546606\tbest: 32.2546606 (74)\ttotal: 9.37s\tremaining: 53.1s\n",
      "75:\tlearn: 31.6727818\ttest: 32.2508835\tbest: 32.2508835 (75)\ttotal: 9.53s\tremaining: 53.2s\n",
      "76:\tlearn: 31.6420426\ttest: 32.2772576\tbest: 32.2508835 (75)\ttotal: 9.68s\tremaining: 53.2s\n",
      "77:\tlearn: 31.6038223\ttest: 32.2330378\tbest: 32.2330378 (77)\ttotal: 9.8s\tremaining: 53s\n",
      "78:\tlearn: 31.5431901\ttest: 32.2079956\tbest: 32.2079956 (78)\ttotal: 9.91s\tremaining: 52.8s\n",
      "79:\tlearn: 31.5372953\ttest: 32.1862389\tbest: 32.1862389 (79)\ttotal: 10s\tremaining: 52.5s\n",
      "80:\tlearn: 31.5196363\ttest: 32.1694468\tbest: 32.1694468 (80)\ttotal: 10.2s\tremaining: 52.5s\n",
      "81:\tlearn: 31.5138792\ttest: 32.1665574\tbest: 32.1665574 (81)\ttotal: 10.3s\tremaining: 52.5s\n",
      "82:\tlearn: 31.4935578\ttest: 32.1707852\tbest: 32.1665574 (81)\ttotal: 10.4s\tremaining: 52.4s\n",
      "83:\tlearn: 31.4216938\ttest: 32.1130430\tbest: 32.1130430 (83)\ttotal: 10.6s\tremaining: 52.7s\n",
      "84:\tlearn: 31.4036626\ttest: 32.0911265\tbest: 32.0911265 (84)\ttotal: 10.8s\tremaining: 52.6s\n",
      "85:\tlearn: 31.3454272\ttest: 32.0944138\tbest: 32.0911265 (84)\ttotal: 10.9s\tremaining: 52.7s\n",
      "86:\tlearn: 31.3330626\ttest: 32.0726780\tbest: 32.0726780 (86)\ttotal: 11s\tremaining: 52.4s\n",
      "87:\tlearn: 31.3298051\ttest: 32.0703486\tbest: 32.0703486 (87)\ttotal: 11.2s\tremaining: 52.2s\n",
      "88:\tlearn: 31.3145630\ttest: 32.0727200\tbest: 32.0703486 (87)\ttotal: 11.3s\tremaining: 52.2s\n",
      "89:\tlearn: 31.3109658\ttest: 32.0727693\tbest: 32.0703486 (87)\ttotal: 11.4s\tremaining: 52s\n",
      "90:\tlearn: 31.2786843\ttest: 32.0612532\tbest: 32.0612532 (90)\ttotal: 11.5s\tremaining: 51.8s\n",
      "91:\tlearn: 31.2704306\ttest: 32.0597133\tbest: 32.0597133 (91)\ttotal: 11.7s\tremaining: 51.7s\n",
      "92:\tlearn: 31.2438640\ttest: 32.0902432\tbest: 32.0597133 (91)\ttotal: 11.8s\tremaining: 51.5s\n",
      "93:\tlearn: 31.2220981\ttest: 32.0836478\tbest: 32.0597133 (91)\ttotal: 11.9s\tremaining: 51.3s\n",
      "94:\tlearn: 31.1949385\ttest: 32.0601018\tbest: 32.0597133 (91)\ttotal: 12s\tremaining: 51.1s\n",
      "95:\tlearn: 31.1747616\ttest: 32.0923831\tbest: 32.0597133 (91)\ttotal: 12.1s\tremaining: 51s\n",
      "96:\tlearn: 31.1569253\ttest: 32.1197582\tbest: 32.0597133 (91)\ttotal: 12.2s\tremaining: 50.9s\n",
      "97:\tlearn: 31.1197660\ttest: 32.0783632\tbest: 32.0597133 (91)\ttotal: 12.4s\tremaining: 50.8s\n",
      "98:\tlearn: 31.1083209\ttest: 32.0762390\tbest: 32.0597133 (91)\ttotal: 12.5s\tremaining: 50.7s\n",
      "99:\tlearn: 31.0770224\ttest: 32.0451080\tbest: 32.0451080 (99)\ttotal: 12.6s\tremaining: 50.5s\n",
      "100:\tlearn: 31.0770104\ttest: 32.0450971\tbest: 32.0450971 (100)\ttotal: 12.7s\tremaining: 50.3s\n",
      "101:\tlearn: 31.0585194\ttest: 32.0396193\tbest: 32.0396193 (101)\ttotal: 12.9s\tremaining: 50.2s\n",
      "102:\tlearn: 31.0301772\ttest: 32.0633467\tbest: 32.0396193 (101)\ttotal: 13.1s\tremaining: 50.3s\n",
      "103:\tlearn: 31.0221498\ttest: 32.0632958\tbest: 32.0396193 (101)\ttotal: 13.2s\tremaining: 50.4s\n",
      "104:\tlearn: 30.9638842\ttest: 32.0456554\tbest: 32.0396193 (101)\ttotal: 13.4s\tremaining: 50.2s\n",
      "105:\tlearn: 30.9274108\ttest: 32.0590982\tbest: 32.0396193 (101)\ttotal: 13.6s\tremaining: 50.4s\n",
      "106:\tlearn: 30.9117843\ttest: 32.0526921\tbest: 32.0396193 (101)\ttotal: 13.8s\tremaining: 50.6s\n",
      "107:\tlearn: 30.8585506\ttest: 32.0542264\tbest: 32.0396193 (101)\ttotal: 13.9s\tremaining: 50.6s\n",
      "108:\tlearn: 30.8545993\ttest: 32.0489845\tbest: 32.0396193 (101)\ttotal: 14.1s\tremaining: 50.7s\n",
      "109:\tlearn: 30.8414590\ttest: 32.0467617\tbest: 32.0396193 (101)\ttotal: 14.4s\tremaining: 51.1s\n",
      "110:\tlearn: 30.8248432\ttest: 32.0093724\tbest: 32.0093724 (110)\ttotal: 14.5s\tremaining: 51s\n",
      "111:\tlearn: 30.8021540\ttest: 31.9995353\tbest: 31.9995353 (111)\ttotal: 14.7s\tremaining: 50.9s\n",
      "112:\tlearn: 30.7823881\ttest: 31.9933460\tbest: 31.9933460 (112)\ttotal: 14.8s\tremaining: 50.8s\n",
      "113:\tlearn: 30.7587077\ttest: 31.9844321\tbest: 31.9844321 (113)\ttotal: 15s\tremaining: 50.7s\n",
      "114:\tlearn: 30.7586786\ttest: 31.9843331\tbest: 31.9843331 (114)\ttotal: 15s\tremaining: 50.3s\n",
      "115:\tlearn: 30.7321319\ttest: 31.9624622\tbest: 31.9624622 (115)\ttotal: 15.1s\tremaining: 50.1s\n",
      "116:\tlearn: 30.7252583\ttest: 31.9581747\tbest: 31.9581747 (116)\ttotal: 15.2s\tremaining: 49.9s\n",
      "117:\tlearn: 30.7225375\ttest: 31.9601414\tbest: 31.9581747 (116)\ttotal: 15.4s\tremaining: 49.8s\n",
      "118:\tlearn: 30.6993363\ttest: 31.9431927\tbest: 31.9431927 (118)\ttotal: 15.5s\tremaining: 49.6s\n",
      "119:\tlearn: 30.6495790\ttest: 31.9196022\tbest: 31.9196022 (119)\ttotal: 15.6s\tremaining: 49.5s\n",
      "120:\tlearn: 30.6156654\ttest: 31.8641295\tbest: 31.8641295 (120)\ttotal: 15.8s\tremaining: 49.3s\n",
      "121:\tlearn: 30.6012766\ttest: 31.8650218\tbest: 31.8641295 (120)\ttotal: 15.9s\tremaining: 49.3s\n",
      "122:\tlearn: 30.5841123\ttest: 31.8281282\tbest: 31.8281282 (122)\ttotal: 16s\tremaining: 49.1s\n",
      "123:\tlearn: 30.5648324\ttest: 31.8194693\tbest: 31.8194693 (123)\ttotal: 16.1s\tremaining: 49s\n",
      "124:\tlearn: 30.5589170\ttest: 31.8142636\tbest: 31.8142636 (124)\ttotal: 16.3s\tremaining: 48.8s\n",
      "125:\tlearn: 30.5493278\ttest: 31.8095092\tbest: 31.8095092 (125)\ttotal: 16.4s\tremaining: 48.7s\n",
      "126:\tlearn: 30.5258777\ttest: 31.7816127\tbest: 31.7816127 (126)\ttotal: 16.5s\tremaining: 48.5s\n",
      "127:\tlearn: 30.5114608\ttest: 31.7756202\tbest: 31.7756202 (127)\ttotal: 16.7s\tremaining: 48.5s\n",
      "128:\tlearn: 30.5056274\ttest: 31.7711699\tbest: 31.7711699 (128)\ttotal: 16.8s\tremaining: 48.3s\n",
      "129:\tlearn: 30.5045035\ttest: 31.7711879\tbest: 31.7711699 (128)\ttotal: 16.9s\tremaining: 48.2s\n",
      "130:\tlearn: 30.4799027\ttest: 31.7609547\tbest: 31.7609547 (130)\ttotal: 17.1s\tremaining: 48.2s\n",
      "131:\tlearn: 30.4788376\ttest: 31.7604314\tbest: 31.7604314 (131)\ttotal: 17.2s\tremaining: 48s\n",
      "132:\tlearn: 30.4695032\ttest: 31.7496098\tbest: 31.7496098 (132)\ttotal: 17.4s\tremaining: 47.9s\n",
      "133:\tlearn: 30.4510194\ttest: 31.7360724\tbest: 31.7360724 (133)\ttotal: 17.5s\tremaining: 47.8s\n",
      "134:\tlearn: 30.4425007\ttest: 31.7308743\tbest: 31.7308743 (134)\ttotal: 17.7s\tremaining: 47.7s\n",
      "135:\tlearn: 30.4175122\ttest: 31.7140608\tbest: 31.7140608 (135)\ttotal: 17.8s\tremaining: 47.6s\n",
      "136:\tlearn: 30.3861826\ttest: 31.7067821\tbest: 31.7067821 (136)\ttotal: 17.9s\tremaining: 47.5s\n",
      "137:\tlearn: 30.3763242\ttest: 31.7017661\tbest: 31.7017661 (137)\ttotal: 18.1s\tremaining: 47.5s\n",
      "138:\tlearn: 30.3629140\ttest: 31.6991691\tbest: 31.6991691 (138)\ttotal: 18.2s\tremaining: 47.4s\n",
      "139:\tlearn: 30.3619276\ttest: 31.6988800\tbest: 31.6988800 (139)\ttotal: 18.4s\tremaining: 47.2s\n",
      "140:\tlearn: 30.3489777\ttest: 31.6954051\tbest: 31.6954051 (140)\ttotal: 18.5s\tremaining: 47.2s\n",
      "141:\tlearn: 30.3412899\ttest: 31.7039121\tbest: 31.6954051 (140)\ttotal: 18.7s\tremaining: 47.1s\n",
      "142:\tlearn: 30.3409912\ttest: 31.7039454\tbest: 31.6954051 (140)\ttotal: 18.8s\tremaining: 46.9s\n",
      "143:\tlearn: 30.3183341\ttest: 31.6873394\tbest: 31.6873394 (143)\ttotal: 18.9s\tremaining: 46.9s\n",
      "144:\tlearn: 30.3083436\ttest: 31.6839724\tbest: 31.6839724 (144)\ttotal: 19.2s\tremaining: 46.9s\n",
      "145:\tlearn: 30.2927550\ttest: 31.6843960\tbest: 31.6839724 (144)\ttotal: 19.3s\tremaining: 46.8s\n",
      "146:\tlearn: 30.2890377\ttest: 31.6843434\tbest: 31.6839724 (144)\ttotal: 19.5s\tremaining: 46.9s\n",
      "147:\tlearn: 30.2717379\ttest: 31.6628419\tbest: 31.6628419 (147)\ttotal: 19.7s\tremaining: 46.8s\n",
      "148:\tlearn: 30.2536843\ttest: 31.6420092\tbest: 31.6420092 (148)\ttotal: 19.8s\tremaining: 46.7s\n",
      "149:\tlearn: 30.2511293\ttest: 31.6423352\tbest: 31.6420092 (148)\ttotal: 19.9s\tremaining: 46.5s\n",
      "150:\tlearn: 30.2453963\ttest: 31.6469184\tbest: 31.6420092 (148)\ttotal: 20.1s\tremaining: 46.4s\n",
      "151:\tlearn: 30.2327661\ttest: 31.6304747\tbest: 31.6304747 (151)\ttotal: 20.2s\tremaining: 46.3s\n",
      "152:\tlearn: 30.2225285\ttest: 31.6291063\tbest: 31.6291063 (152)\ttotal: 20.4s\tremaining: 46.2s\n",
      "153:\tlearn: 30.2053750\ttest: 31.6077320\tbest: 31.6077320 (153)\ttotal: 20.5s\tremaining: 46s\n",
      "154:\tlearn: 30.2026605\ttest: 31.6062535\tbest: 31.6062535 (154)\ttotal: 20.6s\tremaining: 45.8s\n",
      "155:\tlearn: 30.1970347\ttest: 31.5987797\tbest: 31.5987797 (155)\ttotal: 20.7s\tremaining: 45.7s\n",
      "156:\tlearn: 30.1922952\ttest: 31.5845257\tbest: 31.5845257 (156)\ttotal: 20.9s\tremaining: 45.6s\n",
      "157:\tlearn: 30.1461084\ttest: 31.6141700\tbest: 31.5845257 (156)\ttotal: 21s\tremaining: 45.4s\n",
      "158:\tlearn: 30.1367479\ttest: 31.6092434\tbest: 31.5845257 (156)\ttotal: 21.2s\tremaining: 45.4s\n",
      "159:\tlearn: 30.1353905\ttest: 31.6095567\tbest: 31.5845257 (156)\ttotal: 21.3s\tremaining: 45.3s\n",
      "160:\tlearn: 30.1225052\ttest: 31.6143843\tbest: 31.5845257 (156)\ttotal: 21.5s\tremaining: 45.2s\n",
      "161:\tlearn: 30.1185078\ttest: 31.6079784\tbest: 31.5845257 (156)\ttotal: 21.6s\tremaining: 45s\n",
      "162:\tlearn: 30.1062792\ttest: 31.6002384\tbest: 31.5845257 (156)\ttotal: 21.7s\tremaining: 44.9s\n",
      "163:\tlearn: 30.0924856\ttest: 31.5988620\tbest: 31.5845257 (156)\ttotal: 21.9s\tremaining: 44.8s\n",
      "164:\tlearn: 30.0902080\ttest: 31.5975873\tbest: 31.5845257 (156)\ttotal: 22s\tremaining: 44.7s\n",
      "165:\tlearn: 30.0640596\ttest: 31.5844175\tbest: 31.5844175 (165)\ttotal: 22.1s\tremaining: 44.5s\n",
      "166:\tlearn: 30.0546575\ttest: 31.5852748\tbest: 31.5844175 (165)\ttotal: 22.3s\tremaining: 44.4s\n",
      "167:\tlearn: 30.0402137\ttest: 31.5824652\tbest: 31.5824652 (167)\ttotal: 22.4s\tremaining: 44.2s\n",
      "168:\tlearn: 30.0289682\ttest: 31.5764855\tbest: 31.5764855 (168)\ttotal: 22.5s\tremaining: 44s\n",
      "169:\tlearn: 29.9921019\ttest: 31.5605085\tbest: 31.5605085 (169)\ttotal: 22.6s\tremaining: 43.9s\n",
      "170:\tlearn: 29.9739002\ttest: 31.5682148\tbest: 31.5605085 (169)\ttotal: 22.8s\tremaining: 43.8s\n",
      "171:\tlearn: 29.9707114\ttest: 31.5683478\tbest: 31.5605085 (169)\ttotal: 22.9s\tremaining: 43.8s\n",
      "172:\tlearn: 29.9670197\ttest: 31.5637755\tbest: 31.5605085 (169)\ttotal: 23.1s\tremaining: 43.6s\n",
      "173:\tlearn: 29.9504622\ttest: 31.5584549\tbest: 31.5584549 (173)\ttotal: 23.2s\tremaining: 43.5s\n",
      "174:\tlearn: 29.9244085\ttest: 31.5627925\tbest: 31.5584549 (173)\ttotal: 23.4s\tremaining: 43.5s\n",
      "175:\tlearn: 29.9075260\ttest: 31.5647460\tbest: 31.5584549 (173)\ttotal: 23.6s\tremaining: 43.4s\n",
      "176:\tlearn: 29.8773972\ttest: 31.5384745\tbest: 31.5384745 (176)\ttotal: 23.8s\tremaining: 43.4s\n",
      "177:\tlearn: 29.8575381\ttest: 31.5531769\tbest: 31.5384745 (176)\ttotal: 24s\tremaining: 43.3s\n",
      "178:\tlearn: 29.8386249\ttest: 31.5464884\tbest: 31.5384745 (176)\ttotal: 24.1s\tremaining: 43.3s\n",
      "179:\tlearn: 29.7862327\ttest: 31.5473049\tbest: 31.5384745 (176)\ttotal: 24.4s\tremaining: 43.3s\n",
      "180:\tlearn: 29.7783069\ttest: 31.5437355\tbest: 31.5384745 (176)\ttotal: 24.5s\tremaining: 43.3s\n",
      "181:\tlearn: 29.7746323\ttest: 31.5486314\tbest: 31.5384745 (176)\ttotal: 24.7s\tremaining: 43.2s\n",
      "182:\tlearn: 29.7624421\ttest: 31.5392393\tbest: 31.5384745 (176)\ttotal: 24.9s\tremaining: 43.1s\n",
      "183:\tlearn: 29.7498566\ttest: 31.5364933\tbest: 31.5364933 (183)\ttotal: 25.1s\tremaining: 43.1s\n",
      "184:\tlearn: 29.7385368\ttest: 31.5326411\tbest: 31.5326411 (184)\ttotal: 25.2s\tremaining: 43s\n",
      "185:\tlearn: 29.6774694\ttest: 31.4646665\tbest: 31.4646665 (185)\ttotal: 25.4s\tremaining: 42.8s\n",
      "186:\tlearn: 29.6414811\ttest: 31.4586741\tbest: 31.4586741 (186)\ttotal: 25.6s\tremaining: 42.8s\n",
      "187:\tlearn: 29.6410326\ttest: 31.4586471\tbest: 31.4586471 (187)\ttotal: 25.8s\tremaining: 42.8s\n",
      "188:\tlearn: 29.6310079\ttest: 31.4577363\tbest: 31.4577363 (188)\ttotal: 26s\tremaining: 42.7s\n",
      "189:\tlearn: 29.6096037\ttest: 31.4252258\tbest: 31.4252258 (189)\ttotal: 26.2s\tremaining: 42.7s\n",
      "190:\tlearn: 29.6054099\ttest: 31.4254358\tbest: 31.4252258 (189)\ttotal: 26.4s\tremaining: 42.7s\n",
      "191:\tlearn: 29.5937324\ttest: 31.4288867\tbest: 31.4252258 (189)\ttotal: 26.5s\tremaining: 42.6s\n",
      "192:\tlearn: 29.5819479\ttest: 31.4475616\tbest: 31.4252258 (189)\ttotal: 26.7s\tremaining: 42.5s\n",
      "193:\tlearn: 29.5702277\ttest: 31.4433041\tbest: 31.4252258 (189)\ttotal: 26.9s\tremaining: 42.4s\n",
      "194:\tlearn: 29.5578527\ttest: 31.4462427\tbest: 31.4252258 (189)\ttotal: 27s\tremaining: 42.2s\n",
      "195:\tlearn: 29.5505311\ttest: 31.4405600\tbest: 31.4252258 (189)\ttotal: 27.2s\tremaining: 42.1s\n",
      "196:\tlearn: 29.5406188\ttest: 31.4313441\tbest: 31.4252258 (189)\ttotal: 27.3s\tremaining: 42s\n",
      "197:\tlearn: 29.5273231\ttest: 31.4242050\tbest: 31.4242050 (197)\ttotal: 27.4s\tremaining: 41.8s\n",
      "198:\tlearn: 29.5165743\ttest: 31.4101780\tbest: 31.4101780 (198)\ttotal: 27.6s\tremaining: 41.7s\n",
      "199:\tlearn: 29.4953475\ttest: 31.3878667\tbest: 31.3878667 (199)\ttotal: 27.7s\tremaining: 41.6s\n",
      "200:\tlearn: 29.4906355\ttest: 31.3879010\tbest: 31.3878667 (199)\ttotal: 27.9s\tremaining: 41.5s\n",
      "201:\tlearn: 29.4861391\ttest: 31.3838325\tbest: 31.3838325 (201)\ttotal: 28s\tremaining: 41.3s\n",
      "202:\tlearn: 29.4678483\ttest: 31.3874165\tbest: 31.3838325 (201)\ttotal: 28.2s\tremaining: 41.2s\n",
      "203:\tlearn: 29.4415857\ttest: 31.3663941\tbest: 31.3663941 (203)\ttotal: 28.3s\tremaining: 41.1s\n",
      "204:\tlearn: 29.4073292\ttest: 31.3458226\tbest: 31.3458226 (204)\ttotal: 28.4s\tremaining: 40.9s\n",
      "205:\tlearn: 29.4024047\ttest: 31.3469681\tbest: 31.3458226 (204)\ttotal: 28.6s\tremaining: 40.8s\n",
      "206:\tlearn: 29.3875310\ttest: 31.3395590\tbest: 31.3395590 (206)\ttotal: 28.8s\tremaining: 40.7s\n",
      "207:\tlearn: 29.3677105\ttest: 31.3315326\tbest: 31.3315326 (207)\ttotal: 29s\tremaining: 40.7s\n",
      "208:\tlearn: 29.3427366\ttest: 31.3193812\tbest: 31.3193812 (208)\ttotal: 29.1s\tremaining: 40.5s\n",
      "209:\tlearn: 29.3343069\ttest: 31.3423495\tbest: 31.3193812 (208)\ttotal: 29.3s\tremaining: 40.5s\n",
      "210:\tlearn: 29.3261784\ttest: 31.3405138\tbest: 31.3193812 (208)\ttotal: 29.5s\tremaining: 40.4s\n",
      "211:\tlearn: 29.3172023\ttest: 31.3285130\tbest: 31.3193812 (208)\ttotal: 29.6s\tremaining: 40.2s\n",
      "212:\tlearn: 29.3116897\ttest: 31.3241680\tbest: 31.3193812 (208)\ttotal: 29.8s\tremaining: 40.1s\n",
      "213:\tlearn: 29.2915717\ttest: 31.3314201\tbest: 31.3193812 (208)\ttotal: 29.9s\tremaining: 40s\n",
      "214:\tlearn: 29.2764201\ttest: 31.3239322\tbest: 31.3193812 (208)\ttotal: 30.1s\tremaining: 39.8s\n",
      "215:\tlearn: 29.2736867\ttest: 31.3202831\tbest: 31.3193812 (208)\ttotal: 30.2s\tremaining: 39.6s\n",
      "216:\tlearn: 29.2680070\ttest: 31.3146535\tbest: 31.3146535 (216)\ttotal: 30.3s\tremaining: 39.5s\n",
      "217:\tlearn: 29.2673632\ttest: 31.3148469\tbest: 31.3146535 (216)\ttotal: 30.4s\tremaining: 39.3s\n",
      "218:\tlearn: 29.2666432\ttest: 31.3167774\tbest: 31.3146535 (216)\ttotal: 30.5s\tremaining: 39.1s\n",
      "219:\tlearn: 29.2665697\ttest: 31.3167771\tbest: 31.3146535 (216)\ttotal: 30.5s\tremaining: 38.9s\n",
      "220:\tlearn: 29.2515259\ttest: 31.3048669\tbest: 31.3048669 (220)\ttotal: 30.6s\tremaining: 38.7s\n",
      "221:\tlearn: 29.2389685\ttest: 31.2984496\tbest: 31.2984496 (221)\ttotal: 30.7s\tremaining: 38.5s\n",
      "222:\tlearn: 29.2290753\ttest: 31.2783280\tbest: 31.2783280 (222)\ttotal: 30.9s\tremaining: 38.3s\n",
      "223:\tlearn: 29.2251278\ttest: 31.2787587\tbest: 31.2783280 (222)\ttotal: 31s\tremaining: 38.2s\n",
      "224:\tlearn: 29.2232462\ttest: 31.2790670\tbest: 31.2783280 (222)\ttotal: 31.1s\tremaining: 38s\n",
      "225:\tlearn: 29.2107886\ttest: 31.2886301\tbest: 31.2783280 (222)\ttotal: 31.2s\tremaining: 37.8s\n",
      "226:\tlearn: 29.2061353\ttest: 31.2946473\tbest: 31.2783280 (222)\ttotal: 31.4s\tremaining: 37.7s\n",
      "227:\tlearn: 29.1789332\ttest: 31.2792902\tbest: 31.2783280 (222)\ttotal: 31.5s\tremaining: 37.5s\n",
      "228:\tlearn: 29.1693345\ttest: 31.2787284\tbest: 31.2783280 (222)\ttotal: 31.6s\tremaining: 37.4s\n",
      "229:\tlearn: 29.1309919\ttest: 31.2850344\tbest: 31.2783280 (222)\ttotal: 31.8s\tremaining: 37.3s\n",
      "230:\tlearn: 29.1118925\ttest: 31.3029753\tbest: 31.2783280 (222)\ttotal: 31.9s\tremaining: 37.1s\n",
      "231:\tlearn: 29.1111758\ttest: 31.3030079\tbest: 31.2783280 (222)\ttotal: 32s\tremaining: 37s\n",
      "232:\tlearn: 29.0927079\ttest: 31.2886510\tbest: 31.2783280 (222)\ttotal: 32.1s\tremaining: 36.8s\n",
      "233:\tlearn: 29.0871359\ttest: 31.2789085\tbest: 31.2783280 (222)\ttotal: 32.2s\tremaining: 36.6s\n",
      "234:\tlearn: 29.0697509\ttest: 31.2816096\tbest: 31.2783280 (222)\ttotal: 32.3s\tremaining: 36.5s\n",
      "235:\tlearn: 29.0389365\ttest: 31.2568030\tbest: 31.2568030 (235)\ttotal: 32.4s\tremaining: 36.3s\n",
      "236:\tlearn: 29.0148811\ttest: 31.2355878\tbest: 31.2355878 (236)\ttotal: 32.6s\tremaining: 36.1s\n",
      "237:\tlearn: 28.9945005\ttest: 31.2249365\tbest: 31.2249365 (237)\ttotal: 32.7s\tremaining: 36s\n",
      "238:\tlearn: 28.9745954\ttest: 31.2111360\tbest: 31.2111360 (238)\ttotal: 32.8s\tremaining: 35.8s\n",
      "239:\tlearn: 28.9670110\ttest: 31.2066378\tbest: 31.2066378 (239)\ttotal: 32.9s\tremaining: 35.6s\n",
      "240:\tlearn: 28.9525670\ttest: 31.1996150\tbest: 31.1996150 (240)\ttotal: 33.1s\tremaining: 35.6s\n",
      "241:\tlearn: 28.9352201\ttest: 31.2044156\tbest: 31.1996150 (240)\ttotal: 33.2s\tremaining: 35.4s\n",
      "242:\tlearn: 28.9292938\ttest: 31.2108171\tbest: 31.1996150 (240)\ttotal: 33.3s\tremaining: 35.2s\n",
      "243:\tlearn: 28.9216083\ttest: 31.2100200\tbest: 31.1996150 (240)\ttotal: 33.4s\tremaining: 35.1s\n",
      "244:\tlearn: 28.9087162\ttest: 31.2082048\tbest: 31.1996150 (240)\ttotal: 33.5s\tremaining: 34.9s\n",
      "245:\tlearn: 28.8896037\ttest: 31.2061046\tbest: 31.1996150 (240)\ttotal: 33.6s\tremaining: 34.7s\n",
      "246:\tlearn: 28.8756745\ttest: 31.2004598\tbest: 31.1996150 (240)\ttotal: 33.7s\tremaining: 34.6s\n",
      "247:\tlearn: 28.8575700\ttest: 31.1680699\tbest: 31.1680699 (247)\ttotal: 33.9s\tremaining: 34.4s\n",
      "248:\tlearn: 28.8287865\ttest: 31.1492514\tbest: 31.1492514 (248)\ttotal: 34s\tremaining: 34.3s\n",
      "249:\tlearn: 28.8102049\ttest: 31.1423208\tbest: 31.1423208 (249)\ttotal: 34.1s\tremaining: 34.1s\n",
      "250:\tlearn: 28.7926518\ttest: 31.1278434\tbest: 31.1278434 (250)\ttotal: 34.2s\tremaining: 33.9s\n",
      "251:\tlearn: 28.7571431\ttest: 31.1101889\tbest: 31.1101889 (251)\ttotal: 34.4s\tremaining: 33.8s\n",
      "252:\tlearn: 28.7496453\ttest: 31.1050325\tbest: 31.1050325 (252)\ttotal: 34.5s\tremaining: 33.7s\n",
      "253:\tlearn: 28.7396459\ttest: 31.0909001\tbest: 31.0909001 (253)\ttotal: 34.6s\tremaining: 33.5s\n",
      "254:\tlearn: 28.7230161\ttest: 31.0851766\tbest: 31.0851766 (254)\ttotal: 34.7s\tremaining: 33.4s\n",
      "255:\tlearn: 28.7163411\ttest: 31.0827430\tbest: 31.0827430 (255)\ttotal: 34.8s\tremaining: 33.2s\n",
      "256:\tlearn: 28.7065877\ttest: 31.0769710\tbest: 31.0769710 (256)\ttotal: 34.9s\tremaining: 33s\n",
      "257:\tlearn: 28.7047770\ttest: 31.0730624\tbest: 31.0730624 (257)\ttotal: 35s\tremaining: 32.9s\n",
      "258:\tlearn: 28.6818605\ttest: 31.0606362\tbest: 31.0606362 (258)\ttotal: 35.2s\tremaining: 32.7s\n",
      "259:\tlearn: 28.6626607\ttest: 31.0679114\tbest: 31.0606362 (258)\ttotal: 35.3s\tremaining: 32.5s\n",
      "260:\tlearn: 28.6619788\ttest: 31.0684122\tbest: 31.0606362 (258)\ttotal: 35.4s\tremaining: 32.4s\n",
      "261:\tlearn: 28.6427842\ttest: 31.0459783\tbest: 31.0459783 (261)\ttotal: 35.5s\tremaining: 32.3s\n",
      "262:\tlearn: 28.6224719\ttest: 31.0351741\tbest: 31.0351741 (262)\ttotal: 35.6s\tremaining: 32.1s\n",
      "263:\tlearn: 28.6194513\ttest: 31.0346014\tbest: 31.0346014 (263)\ttotal: 35.7s\tremaining: 32s\n",
      "264:\tlearn: 28.6190542\ttest: 31.0343921\tbest: 31.0343921 (264)\ttotal: 35.8s\tremaining: 31.8s\n",
      "265:\tlearn: 28.6189209\ttest: 31.0344275\tbest: 31.0343921 (264)\ttotal: 35.9s\tremaining: 31.6s\n",
      "266:\tlearn: 28.6142643\ttest: 31.0337341\tbest: 31.0337341 (266)\ttotal: 36s\tremaining: 31.4s\n",
      "267:\tlearn: 28.5812356\ttest: 31.0383669\tbest: 31.0337341 (266)\ttotal: 36.1s\tremaining: 31.3s\n",
      "268:\tlearn: 28.5717754\ttest: 31.0278320\tbest: 31.0278320 (268)\ttotal: 36.3s\tremaining: 31.1s\n",
      "269:\tlearn: 28.5613748\ttest: 31.0158902\tbest: 31.0158902 (269)\ttotal: 36.4s\tremaining: 31s\n",
      "270:\tlearn: 28.5575301\ttest: 31.0133105\tbest: 31.0133105 (270)\ttotal: 36.5s\tremaining: 30.8s\n",
      "271:\tlearn: 28.5442122\ttest: 31.0083506\tbest: 31.0083506 (271)\ttotal: 36.6s\tremaining: 30.7s\n",
      "272:\tlearn: 28.5287814\ttest: 31.0114813\tbest: 31.0083506 (271)\ttotal: 36.7s\tremaining: 30.5s\n",
      "273:\tlearn: 28.5249310\ttest: 31.0155590\tbest: 31.0083506 (271)\ttotal: 36.8s\tremaining: 30.4s\n",
      "274:\tlearn: 28.5181575\ttest: 31.0091153\tbest: 31.0083506 (271)\ttotal: 36.9s\tremaining: 30.2s\n",
      "275:\tlearn: 28.4851471\ttest: 31.0225821\tbest: 31.0083506 (271)\ttotal: 37s\tremaining: 30.1s\n",
      "276:\tlearn: 28.4783870\ttest: 31.0168199\tbest: 31.0083506 (271)\ttotal: 37.2s\tremaining: 29.9s\n",
      "277:\tlearn: 28.4602146\ttest: 31.0101335\tbest: 31.0083506 (271)\ttotal: 37.3s\tremaining: 29.8s\n",
      "278:\tlearn: 28.4519199\ttest: 31.0022849\tbest: 31.0022849 (278)\ttotal: 37.4s\tremaining: 29.6s\n",
      "279:\tlearn: 28.4229684\ttest: 30.9820311\tbest: 30.9820311 (279)\ttotal: 37.5s\tremaining: 29.5s\n",
      "280:\tlearn: 28.4016370\ttest: 30.9871736\tbest: 30.9820311 (279)\ttotal: 37.6s\tremaining: 29.3s\n",
      "281:\tlearn: 28.3985914\ttest: 30.9802930\tbest: 30.9802930 (281)\ttotal: 37.7s\tremaining: 29.1s\n",
      "282:\tlearn: 28.3875512\ttest: 30.9713097\tbest: 30.9713097 (282)\ttotal: 37.8s\tremaining: 29s\n",
      "283:\tlearn: 28.3843417\ttest: 30.9711523\tbest: 30.9711523 (283)\ttotal: 38s\tremaining: 28.9s\n",
      "284:\tlearn: 28.3793110\ttest: 30.9709824\tbest: 30.9709824 (284)\ttotal: 38s\tremaining: 28.7s\n",
      "285:\tlearn: 28.3680110\ttest: 30.9596645\tbest: 30.9596645 (285)\ttotal: 38.2s\tremaining: 28.6s\n",
      "286:\tlearn: 28.3678866\ttest: 30.9596566\tbest: 30.9596566 (286)\ttotal: 38.3s\tremaining: 28.4s\n",
      "287:\tlearn: 28.3398502\ttest: 30.9468484\tbest: 30.9468484 (287)\ttotal: 38.4s\tremaining: 28.3s\n",
      "288:\tlearn: 28.3341483\ttest: 30.9428399\tbest: 30.9428399 (288)\ttotal: 38.5s\tremaining: 28.1s\n",
      "289:\tlearn: 28.3286543\ttest: 30.9396687\tbest: 30.9396687 (289)\ttotal: 38.6s\tremaining: 28s\n",
      "290:\tlearn: 28.3247928\ttest: 30.9391427\tbest: 30.9391427 (290)\ttotal: 38.8s\tremaining: 27.8s\n",
      "291:\tlearn: 28.3167064\ttest: 30.9371970\tbest: 30.9371970 (291)\ttotal: 38.9s\tremaining: 27.7s\n",
      "292:\tlearn: 28.3004087\ttest: 30.9352004\tbest: 30.9352004 (292)\ttotal: 39s\tremaining: 27.6s\n",
      "293:\tlearn: 28.2880632\ttest: 30.9327504\tbest: 30.9327504 (293)\ttotal: 39.1s\tremaining: 27.4s\n",
      "294:\tlearn: 28.2673350\ttest: 30.9480152\tbest: 30.9327504 (293)\ttotal: 39.3s\tremaining: 27.3s\n",
      "295:\tlearn: 28.2618672\ttest: 30.9430104\tbest: 30.9327504 (293)\ttotal: 39.6s\tremaining: 27.3s\n",
      "296:\tlearn: 28.2545686\ttest: 30.9425603\tbest: 30.9327504 (293)\ttotal: 39.7s\tremaining: 27.2s\n",
      "297:\tlearn: 28.2536120\ttest: 30.9425881\tbest: 30.9327504 (293)\ttotal: 39.9s\tremaining: 27.1s\n",
      "298:\tlearn: 28.2524955\ttest: 30.9419979\tbest: 30.9327504 (293)\ttotal: 40s\tremaining: 26.9s\n",
      "299:\tlearn: 28.2220279\ttest: 30.9318693\tbest: 30.9318693 (299)\ttotal: 40.1s\tremaining: 26.7s\n",
      "300:\tlearn: 28.2054033\ttest: 30.9168778\tbest: 30.9168778 (300)\ttotal: 40.2s\tremaining: 26.6s\n",
      "301:\tlearn: 28.2050188\ttest: 30.9169802\tbest: 30.9168778 (300)\ttotal: 40.3s\tremaining: 26.4s\n",
      "302:\tlearn: 28.2004353\ttest: 30.9170130\tbest: 30.9168778 (300)\ttotal: 40.4s\tremaining: 26.3s\n",
      "303:\tlearn: 28.1960830\ttest: 30.9161167\tbest: 30.9161167 (303)\ttotal: 40.5s\tremaining: 26.1s\n",
      "304:\tlearn: 28.1900150\ttest: 30.9273758\tbest: 30.9161167 (303)\ttotal: 40.7s\tremaining: 26s\n",
      "305:\tlearn: 28.1801965\ttest: 30.9405904\tbest: 30.9161167 (303)\ttotal: 40.8s\tremaining: 25.8s\n",
      "306:\tlearn: 28.1727524\ttest: 30.9308761\tbest: 30.9161167 (303)\ttotal: 40.9s\tremaining: 25.7s\n",
      "307:\tlearn: 28.1481975\ttest: 30.9281320\tbest: 30.9161167 (303)\ttotal: 41s\tremaining: 25.5s\n",
      "308:\tlearn: 28.1416973\ttest: 30.9278156\tbest: 30.9161167 (303)\ttotal: 41.1s\tremaining: 25.4s\n",
      "309:\tlearn: 28.1285241\ttest: 30.9315519\tbest: 30.9161167 (303)\ttotal: 41.2s\tremaining: 25.2s\n",
      "310:\tlearn: 28.1113243\ttest: 30.9186734\tbest: 30.9161167 (303)\ttotal: 41.3s\tremaining: 25.1s\n",
      "311:\tlearn: 28.1048767\ttest: 30.9183426\tbest: 30.9161167 (303)\ttotal: 41.4s\tremaining: 25s\n",
      "312:\tlearn: 28.0941082\ttest: 30.9122397\tbest: 30.9122397 (312)\ttotal: 41.5s\tremaining: 24.8s\n",
      "313:\tlearn: 28.0843031\ttest: 30.9091523\tbest: 30.9091523 (313)\ttotal: 41.6s\tremaining: 24.6s\n",
      "314:\tlearn: 28.0779399\ttest: 30.9097831\tbest: 30.9091523 (313)\ttotal: 41.7s\tremaining: 24.5s\n",
      "315:\tlearn: 28.0722343\ttest: 30.9110055\tbest: 30.9091523 (313)\ttotal: 41.9s\tremaining: 24.4s\n",
      "316:\tlearn: 28.0638076\ttest: 30.9082611\tbest: 30.9082611 (316)\ttotal: 42s\tremaining: 24.2s\n",
      "317:\tlearn: 28.0584389\ttest: 30.9069855\tbest: 30.9069855 (317)\ttotal: 42.1s\tremaining: 24.1s\n",
      "318:\tlearn: 28.0511262\ttest: 30.9155739\tbest: 30.9069855 (317)\ttotal: 42.2s\tremaining: 23.9s\n",
      "319:\tlearn: 28.0375821\ttest: 30.9170468\tbest: 30.9069855 (317)\ttotal: 42.3s\tremaining: 23.8s\n",
      "320:\tlearn: 28.0262844\ttest: 30.9106483\tbest: 30.9069855 (317)\ttotal: 42.5s\tremaining: 23.7s\n",
      "321:\tlearn: 28.0182985\ttest: 30.8987053\tbest: 30.8987053 (321)\ttotal: 42.6s\tremaining: 23.6s\n",
      "322:\tlearn: 27.9952742\ttest: 30.8941553\tbest: 30.8941553 (322)\ttotal: 42.7s\tremaining: 23.4s\n",
      "323:\tlearn: 27.9888524\ttest: 30.8974637\tbest: 30.8941553 (322)\ttotal: 42.8s\tremaining: 23.3s\n",
      "324:\tlearn: 27.9647677\ttest: 30.9187232\tbest: 30.8941553 (322)\ttotal: 43s\tremaining: 23.1s\n",
      "325:\tlearn: 27.9469466\ttest: 30.9275819\tbest: 30.8941553 (322)\ttotal: 43.1s\tremaining: 23s\n",
      "326:\tlearn: 27.9452510\ttest: 30.9274961\tbest: 30.8941553 (322)\ttotal: 43.2s\tremaining: 22.8s\n",
      "327:\tlearn: 27.9415152\ttest: 30.9253998\tbest: 30.8941553 (322)\ttotal: 43.3s\tremaining: 22.7s\n",
      "328:\tlearn: 27.9315899\ttest: 30.9216608\tbest: 30.8941553 (322)\ttotal: 43.4s\tremaining: 22.6s\n",
      "329:\tlearn: 27.9245862\ttest: 30.9196356\tbest: 30.8941553 (322)\ttotal: 43.5s\tremaining: 22.4s\n",
      "330:\tlearn: 27.9171048\ttest: 30.9139178\tbest: 30.8941553 (322)\ttotal: 43.6s\tremaining: 22.3s\n",
      "331:\tlearn: 27.9111387\ttest: 30.9104757\tbest: 30.8941553 (322)\ttotal: 43.7s\tremaining: 22.1s\n",
      "332:\tlearn: 27.9045168\ttest: 30.9038496\tbest: 30.8941553 (322)\ttotal: 43.9s\tremaining: 22s\n",
      "333:\tlearn: 27.8968612\ttest: 30.9043457\tbest: 30.8941553 (322)\ttotal: 44s\tremaining: 21.9s\n",
      "334:\tlearn: 27.8894166\ttest: 30.8960532\tbest: 30.8941553 (322)\ttotal: 44.1s\tremaining: 21.7s\n",
      "335:\tlearn: 27.8686019\ttest: 30.8946841\tbest: 30.8941553 (322)\ttotal: 44.2s\tremaining: 21.6s\n",
      "336:\tlearn: 27.8641219\ttest: 30.8906967\tbest: 30.8906967 (336)\ttotal: 44.3s\tremaining: 21.4s\n",
      "337:\tlearn: 27.8596890\ttest: 30.8910060\tbest: 30.8906967 (336)\ttotal: 44.4s\tremaining: 21.3s\n",
      "338:\tlearn: 27.8500963\ttest: 30.8943763\tbest: 30.8906967 (336)\ttotal: 44.6s\tremaining: 21.2s\n",
      "339:\tlearn: 27.8255904\ttest: 30.8791520\tbest: 30.8791520 (339)\ttotal: 44.7s\tremaining: 21s\n",
      "340:\tlearn: 27.8175750\ttest: 30.8822264\tbest: 30.8791520 (339)\ttotal: 44.8s\tremaining: 20.9s\n",
      "341:\tlearn: 27.8090475\ttest: 30.8788234\tbest: 30.8788234 (341)\ttotal: 44.9s\tremaining: 20.8s\n",
      "342:\tlearn: 27.7888594\ttest: 30.8906645\tbest: 30.8788234 (341)\ttotal: 45s\tremaining: 20.6s\n",
      "343:\tlearn: 27.7811589\ttest: 30.8849907\tbest: 30.8788234 (341)\ttotal: 45.2s\tremaining: 20.5s\n",
      "344:\tlearn: 27.7764879\ttest: 30.8849735\tbest: 30.8788234 (341)\ttotal: 45.4s\tremaining: 20.4s\n",
      "345:\tlearn: 27.7603404\ttest: 30.8833390\tbest: 30.8788234 (341)\ttotal: 45.5s\tremaining: 20.2s\n",
      "346:\tlearn: 27.7539953\ttest: 30.8806945\tbest: 30.8788234 (341)\ttotal: 45.6s\tremaining: 20.1s\n",
      "347:\tlearn: 27.7480401\ttest: 30.8874436\tbest: 30.8788234 (341)\ttotal: 45.7s\tremaining: 19.9s\n",
      "348:\tlearn: 27.7379453\ttest: 30.8942579\tbest: 30.8788234 (341)\ttotal: 45.8s\tremaining: 19.8s\n",
      "349:\tlearn: 27.7316924\ttest: 30.8927289\tbest: 30.8788234 (341)\ttotal: 45.9s\tremaining: 19.7s\n",
      "350:\tlearn: 27.7272359\ttest: 30.8709618\tbest: 30.8709618 (350)\ttotal: 46s\tremaining: 19.5s\n",
      "351:\tlearn: 27.7115730\ttest: 30.8674629\tbest: 30.8674629 (351)\ttotal: 46.1s\tremaining: 19.4s\n",
      "352:\tlearn: 27.6995688\ttest: 30.8752335\tbest: 30.8674629 (351)\ttotal: 46.3s\tremaining: 19.3s\n",
      "353:\tlearn: 27.6884743\ttest: 30.8746132\tbest: 30.8674629 (351)\ttotal: 46.4s\tremaining: 19.2s\n",
      "354:\tlearn: 27.6798197\ttest: 30.8570947\tbest: 30.8570947 (354)\ttotal: 46.6s\tremaining: 19s\n",
      "355:\tlearn: 27.6768464\ttest: 30.8563272\tbest: 30.8563272 (355)\ttotal: 46.7s\tremaining: 18.9s\n",
      "356:\tlearn: 27.6613499\ttest: 30.8481791\tbest: 30.8481791 (356)\ttotal: 46.9s\tremaining: 18.8s\n",
      "357:\tlearn: 27.6542413\ttest: 30.8478019\tbest: 30.8478019 (357)\ttotal: 47.1s\tremaining: 18.7s\n",
      "358:\tlearn: 27.6326346\ttest: 30.8391689\tbest: 30.8391689 (358)\ttotal: 47.2s\tremaining: 18.5s\n",
      "359:\tlearn: 27.6271767\ttest: 30.8426936\tbest: 30.8391689 (358)\ttotal: 47.3s\tremaining: 18.4s\n",
      "360:\tlearn: 27.6189298\ttest: 30.8452730\tbest: 30.8391689 (358)\ttotal: 47.4s\tremaining: 18.3s\n",
      "361:\tlearn: 27.6110684\ttest: 30.8428934\tbest: 30.8391689 (358)\ttotal: 47.6s\tremaining: 18.1s\n",
      "362:\tlearn: 27.5885066\ttest: 30.8405118\tbest: 30.8391689 (358)\ttotal: 47.7s\tremaining: 18s\n",
      "363:\tlearn: 27.5759649\ttest: 30.8336787\tbest: 30.8336787 (363)\ttotal: 47.9s\tremaining: 17.9s\n",
      "364:\tlearn: 27.5619404\ttest: 30.8285795\tbest: 30.8285795 (364)\ttotal: 48s\tremaining: 17.8s\n",
      "365:\tlearn: 27.5517263\ttest: 30.8168680\tbest: 30.8168680 (365)\ttotal: 48.2s\tremaining: 17.6s\n",
      "366:\tlearn: 27.5465375\ttest: 30.8145382\tbest: 30.8145382 (366)\ttotal: 48.3s\tremaining: 17.5s\n",
      "367:\tlearn: 27.5241669\ttest: 30.8015006\tbest: 30.8015006 (367)\ttotal: 48.4s\tremaining: 17.4s\n",
      "368:\tlearn: 27.5063166\ttest: 30.7972020\tbest: 30.7972020 (368)\ttotal: 48.6s\tremaining: 17.2s\n",
      "369:\tlearn: 27.4961240\ttest: 30.7951871\tbest: 30.7951871 (369)\ttotal: 48.7s\tremaining: 17.1s\n",
      "370:\tlearn: 27.4826703\ttest: 30.7769815\tbest: 30.7769815 (370)\ttotal: 48.8s\tremaining: 17s\n",
      "371:\tlearn: 27.4466238\ttest: 30.7478524\tbest: 30.7478524 (371)\ttotal: 48.9s\tremaining: 16.8s\n",
      "372:\tlearn: 27.4361090\ttest: 30.7383347\tbest: 30.7383347 (372)\ttotal: 49s\tremaining: 16.7s\n",
      "373:\tlearn: 27.4317763\ttest: 30.7360017\tbest: 30.7360017 (373)\ttotal: 49.1s\tremaining: 16.5s\n",
      "374:\tlearn: 27.4265483\ttest: 30.7300559\tbest: 30.7300559 (374)\ttotal: 49.2s\tremaining: 16.4s\n",
      "375:\tlearn: 27.4152942\ttest: 30.7301762\tbest: 30.7300559 (374)\ttotal: 49.3s\tremaining: 16.3s\n",
      "376:\tlearn: 27.3985458\ttest: 30.7356232\tbest: 30.7300559 (374)\ttotal: 49.4s\tremaining: 16.1s\n",
      "377:\tlearn: 27.3941205\ttest: 30.7234083\tbest: 30.7234083 (377)\ttotal: 49.6s\tremaining: 16s\n",
      "378:\tlearn: 27.3817565\ttest: 30.7213397\tbest: 30.7213397 (378)\ttotal: 49.7s\tremaining: 15.9s\n",
      "379:\tlearn: 27.3720785\ttest: 30.7288613\tbest: 30.7213397 (378)\ttotal: 49.9s\tremaining: 15.7s\n",
      "380:\tlearn: 27.3510801\ttest: 30.7357348\tbest: 30.7213397 (378)\ttotal: 50s\tremaining: 15.6s\n",
      "381:\tlearn: 27.3362226\ttest: 30.7312474\tbest: 30.7213397 (378)\ttotal: 50.1s\tremaining: 15.5s\n",
      "382:\tlearn: 27.3258653\ttest: 30.7145485\tbest: 30.7145485 (382)\ttotal: 50.2s\tremaining: 15.3s\n",
      "383:\tlearn: 27.2850245\ttest: 30.7058033\tbest: 30.7058033 (383)\ttotal: 50.3s\tremaining: 15.2s\n",
      "384:\tlearn: 27.2696551\ttest: 30.7243266\tbest: 30.7058033 (383)\ttotal: 50.4s\tremaining: 15.1s\n",
      "385:\tlearn: 27.2656275\ttest: 30.7233715\tbest: 30.7058033 (383)\ttotal: 50.5s\tremaining: 14.9s\n",
      "386:\tlearn: 27.2434338\ttest: 30.6971900\tbest: 30.6971900 (386)\ttotal: 50.6s\tremaining: 14.8s\n",
      "387:\tlearn: 27.2353177\ttest: 30.6952787\tbest: 30.6952787 (387)\ttotal: 50.7s\tremaining: 14.6s\n",
      "388:\tlearn: 27.2145892\ttest: 30.6979866\tbest: 30.6952787 (387)\ttotal: 50.8s\tremaining: 14.5s\n",
      "389:\tlearn: 27.1886695\ttest: 30.6881654\tbest: 30.6881654 (389)\ttotal: 51s\tremaining: 14.4s\n",
      "390:\tlearn: 27.1739063\ttest: 30.6832254\tbest: 30.6832254 (390)\ttotal: 51.1s\tremaining: 14.2s\n",
      "391:\tlearn: 27.1631879\ttest: 30.6765830\tbest: 30.6765830 (391)\ttotal: 51.2s\tremaining: 14.1s\n",
      "392:\tlearn: 27.1559486\ttest: 30.6702029\tbest: 30.6702029 (392)\ttotal: 51.3s\tremaining: 14s\n",
      "393:\tlearn: 27.1520097\ttest: 30.6719395\tbest: 30.6702029 (392)\ttotal: 51.4s\tremaining: 13.8s\n",
      "394:\tlearn: 27.1486366\ttest: 30.6628803\tbest: 30.6628803 (394)\ttotal: 51.5s\tremaining: 13.7s\n",
      "395:\tlearn: 27.1306142\ttest: 30.6711393\tbest: 30.6628803 (394)\ttotal: 51.6s\tremaining: 13.6s\n",
      "396:\tlearn: 27.1032323\ttest: 30.6587227\tbest: 30.6587227 (396)\ttotal: 51.7s\tremaining: 13.4s\n",
      "397:\tlearn: 27.0953868\ttest: 30.6483894\tbest: 30.6483894 (397)\ttotal: 51.8s\tremaining: 13.3s\n",
      "398:\tlearn: 27.0622706\ttest: 30.6486537\tbest: 30.6483894 (397)\ttotal: 51.9s\tremaining: 13.1s\n",
      "399:\tlearn: 27.0466542\ttest: 30.6409892\tbest: 30.6409892 (399)\ttotal: 52s\tremaining: 13s\n",
      "400:\tlearn: 27.0398921\ttest: 30.6346799\tbest: 30.6346799 (400)\ttotal: 52.1s\tremaining: 12.9s\n",
      "401:\tlearn: 27.0208984\ttest: 30.6417080\tbest: 30.6346799 (400)\ttotal: 52.2s\tremaining: 12.7s\n",
      "402:\tlearn: 27.0109405\ttest: 30.6637105\tbest: 30.6346799 (400)\ttotal: 52.4s\tremaining: 12.6s\n",
      "403:\tlearn: 27.0096674\ttest: 30.6627323\tbest: 30.6346799 (400)\ttotal: 52.5s\tremaining: 12.5s\n",
      "404:\tlearn: 27.0058463\ttest: 30.6619045\tbest: 30.6346799 (400)\ttotal: 52.6s\tremaining: 12.3s\n",
      "405:\tlearn: 27.0055119\ttest: 30.6619972\tbest: 30.6346799 (400)\ttotal: 52.7s\tremaining: 12.2s\n",
      "406:\tlearn: 26.9857230\ttest: 30.6470381\tbest: 30.6346799 (400)\ttotal: 52.8s\tremaining: 12.1s\n",
      "407:\tlearn: 26.9722765\ttest: 30.6679905\tbest: 30.6346799 (400)\ttotal: 52.9s\tremaining: 11.9s\n",
      "408:\tlearn: 26.9628538\ttest: 30.6624941\tbest: 30.6346799 (400)\ttotal: 53.1s\tremaining: 11.8s\n",
      "409:\tlearn: 26.9567662\ttest: 30.6669970\tbest: 30.6346799 (400)\ttotal: 53.2s\tremaining: 11.7s\n",
      "410:\tlearn: 26.9519377\ttest: 30.6578275\tbest: 30.6346799 (400)\ttotal: 53.3s\tremaining: 11.5s\n",
      "411:\tlearn: 26.9343834\ttest: 30.6585797\tbest: 30.6346799 (400)\ttotal: 53.5s\tremaining: 11.4s\n",
      "412:\tlearn: 26.9268086\ttest: 30.6556808\tbest: 30.6346799 (400)\ttotal: 53.6s\tremaining: 11.3s\n",
      "413:\tlearn: 26.9255615\ttest: 30.6555624\tbest: 30.6346799 (400)\ttotal: 53.7s\tremaining: 11.2s\n",
      "414:\tlearn: 26.9231744\ttest: 30.6585504\tbest: 30.6346799 (400)\ttotal: 53.8s\tremaining: 11s\n",
      "415:\tlearn: 26.9209167\ttest: 30.6572454\tbest: 30.6346799 (400)\ttotal: 53.9s\tremaining: 10.9s\n",
      "416:\tlearn: 26.9016222\ttest: 30.6662696\tbest: 30.6346799 (400)\ttotal: 54s\tremaining: 10.8s\n",
      "417:\tlearn: 26.8948281\ttest: 30.6572855\tbest: 30.6346799 (400)\ttotal: 54.1s\tremaining: 10.6s\n",
      "418:\tlearn: 26.8909425\ttest: 30.6528979\tbest: 30.6346799 (400)\ttotal: 54.2s\tremaining: 10.5s\n",
      "419:\tlearn: 26.8750966\ttest: 30.6641023\tbest: 30.6346799 (400)\ttotal: 54.3s\tremaining: 10.3s\n",
      "420:\tlearn: 26.8586514\ttest: 30.6653488\tbest: 30.6346799 (400)\ttotal: 54.4s\tremaining: 10.2s\n",
      "421:\tlearn: 26.8493263\ttest: 30.6662053\tbest: 30.6346799 (400)\ttotal: 54.5s\tremaining: 10.1s\n",
      "422:\tlearn: 26.8459949\ttest: 30.6665157\tbest: 30.6346799 (400)\ttotal: 54.7s\tremaining: 9.95s\n",
      "423:\tlearn: 26.8398949\ttest: 30.6664827\tbest: 30.6346799 (400)\ttotal: 54.8s\tremaining: 9.82s\n",
      "424:\tlearn: 26.8396076\ttest: 30.6662325\tbest: 30.6346799 (400)\ttotal: 54.9s\tremaining: 9.68s\n",
      "425:\tlearn: 26.8315470\ttest: 30.6653337\tbest: 30.6346799 (400)\ttotal: 55s\tremaining: 9.55s\n",
      "426:\tlearn: 26.8182890\ttest: 30.6725433\tbest: 30.6346799 (400)\ttotal: 55.1s\tremaining: 9.43s\n",
      "427:\tlearn: 26.8161249\ttest: 30.6716731\tbest: 30.6346799 (400)\ttotal: 55.3s\tremaining: 9.3s\n",
      "428:\tlearn: 26.7969725\ttest: 30.6581449\tbest: 30.6346799 (400)\ttotal: 55.4s\tremaining: 9.16s\n",
      "429:\tlearn: 26.7853281\ttest: 30.6516287\tbest: 30.6346799 (400)\ttotal: 55.5s\tremaining: 9.03s\n",
      "430:\tlearn: 26.7632649\ttest: 30.6401332\tbest: 30.6346799 (400)\ttotal: 55.6s\tremaining: 8.9s\n",
      "431:\tlearn: 26.7611389\ttest: 30.6429417\tbest: 30.6346799 (400)\ttotal: 55.7s\tremaining: 8.77s\n",
      "432:\tlearn: 26.7534649\ttest: 30.6363173\tbest: 30.6346799 (400)\ttotal: 55.8s\tremaining: 8.63s\n",
      "433:\tlearn: 26.7453113\ttest: 30.6300432\tbest: 30.6300432 (433)\ttotal: 55.9s\tremaining: 8.51s\n",
      "434:\tlearn: 26.7422300\ttest: 30.6308018\tbest: 30.6300432 (433)\ttotal: 56s\tremaining: 8.37s\n",
      "435:\tlearn: 26.7256407\ttest: 30.6247963\tbest: 30.6247963 (435)\ttotal: 56.1s\tremaining: 8.24s\n",
      "436:\tlearn: 26.7242058\ttest: 30.6251237\tbest: 30.6247963 (435)\ttotal: 56.2s\tremaining: 8.11s\n",
      "437:\tlearn: 26.7227847\ttest: 30.6257417\tbest: 30.6247963 (435)\ttotal: 56.4s\tremaining: 7.98s\n",
      "438:\tlearn: 26.7217718\ttest: 30.6252042\tbest: 30.6247963 (435)\ttotal: 56.6s\tremaining: 7.86s\n",
      "439:\tlearn: 26.7197386\ttest: 30.6239534\tbest: 30.6239534 (439)\ttotal: 56.7s\tremaining: 7.73s\n",
      "440:\tlearn: 26.7193053\ttest: 30.6238705\tbest: 30.6238705 (440)\ttotal: 56.8s\tremaining: 7.59s\n",
      "441:\tlearn: 26.7162422\ttest: 30.6187485\tbest: 30.6187485 (441)\ttotal: 56.9s\tremaining: 7.47s\n",
      "442:\tlearn: 26.7023077\ttest: 30.6222427\tbest: 30.6187485 (441)\ttotal: 57s\tremaining: 7.34s\n",
      "443:\tlearn: 26.7008701\ttest: 30.6221852\tbest: 30.6187485 (441)\ttotal: 57.1s\tremaining: 7.2s\n",
      "444:\tlearn: 26.6924408\ttest: 30.6137259\tbest: 30.6137259 (444)\ttotal: 57.3s\tremaining: 7.08s\n",
      "445:\tlearn: 26.6900107\ttest: 30.6123098\tbest: 30.6123098 (445)\ttotal: 57.4s\tremaining: 6.95s\n",
      "446:\tlearn: 26.6787148\ttest: 30.6191183\tbest: 30.6123098 (445)\ttotal: 57.5s\tremaining: 6.82s\n",
      "447:\tlearn: 26.6518577\ttest: 30.5857766\tbest: 30.5857766 (447)\ttotal: 57.6s\tremaining: 6.69s\n",
      "448:\tlearn: 26.6478099\ttest: 30.5853186\tbest: 30.5853186 (448)\ttotal: 57.7s\tremaining: 6.56s\n",
      "449:\tlearn: 26.6469495\ttest: 30.5852632\tbest: 30.5852632 (449)\ttotal: 57.8s\tremaining: 6.42s\n",
      "450:\tlearn: 26.6346569\ttest: 30.5958834\tbest: 30.5852632 (449)\ttotal: 57.9s\tremaining: 6.29s\n",
      "451:\tlearn: 26.6295647\ttest: 30.5934829\tbest: 30.5852632 (449)\ttotal: 58.1s\tremaining: 6.17s\n",
      "452:\tlearn: 26.6132528\ttest: 30.5821051\tbest: 30.5821051 (452)\ttotal: 58.2s\tremaining: 6.04s\n",
      "453:\tlearn: 26.6109353\ttest: 30.5827764\tbest: 30.5821051 (452)\ttotal: 58.3s\tremaining: 5.9s\n",
      "454:\tlearn: 26.6062107\ttest: 30.5787565\tbest: 30.5787565 (454)\ttotal: 58.4s\tremaining: 5.78s\n",
      "455:\tlearn: 26.5842577\ttest: 30.5765362\tbest: 30.5765362 (455)\ttotal: 58.6s\tremaining: 5.65s\n",
      "456:\tlearn: 26.5755877\ttest: 30.5745163\tbest: 30.5745163 (456)\ttotal: 58.7s\tremaining: 5.52s\n",
      "457:\tlearn: 26.5743655\ttest: 30.5741843\tbest: 30.5741843 (457)\ttotal: 58.8s\tremaining: 5.39s\n",
      "458:\tlearn: 26.5683876\ttest: 30.5696840\tbest: 30.5696840 (458)\ttotal: 58.9s\tremaining: 5.26s\n",
      "459:\tlearn: 26.5639235\ttest: 30.5660067\tbest: 30.5660067 (459)\ttotal: 59.1s\tremaining: 5.14s\n",
      "460:\tlearn: 26.5628419\ttest: 30.5659400\tbest: 30.5659400 (460)\ttotal: 59.2s\tremaining: 5.01s\n",
      "461:\tlearn: 26.5424623\ttest: 30.5729776\tbest: 30.5659400 (460)\ttotal: 59.3s\tremaining: 4.88s\n",
      "462:\tlearn: 26.5402181\ttest: 30.5752275\tbest: 30.5659400 (460)\ttotal: 59.4s\tremaining: 4.75s\n",
      "463:\tlearn: 26.5366632\ttest: 30.5743402\tbest: 30.5659400 (460)\ttotal: 59.5s\tremaining: 4.62s\n",
      "464:\tlearn: 26.5361491\ttest: 30.5743749\tbest: 30.5659400 (460)\ttotal: 59.6s\tremaining: 4.49s\n",
      "465:\tlearn: 26.5346165\ttest: 30.5735396\tbest: 30.5659400 (460)\ttotal: 59.7s\tremaining: 4.36s\n",
      "466:\tlearn: 26.5283731\ttest: 30.5720814\tbest: 30.5659400 (460)\ttotal: 59.8s\tremaining: 4.23s\n",
      "467:\tlearn: 26.5204747\ttest: 30.5711702\tbest: 30.5659400 (460)\ttotal: 59.9s\tremaining: 4.1s\n",
      "468:\tlearn: 26.5190518\ttest: 30.5711714\tbest: 30.5659400 (460)\ttotal: 1m\tremaining: 3.96s\n",
      "469:\tlearn: 26.5170413\ttest: 30.5713776\tbest: 30.5659400 (460)\ttotal: 1m\tremaining: 3.84s\n",
      "470:\tlearn: 26.5042071\ttest: 30.5881317\tbest: 30.5659400 (460)\ttotal: 1m\tremaining: 3.71s\n",
      "471:\tlearn: 26.4995839\ttest: 30.5867822\tbest: 30.5659400 (460)\ttotal: 1m\tremaining: 3.58s\n",
      "472:\tlearn: 26.4909314\ttest: 30.5834992\tbest: 30.5659400 (460)\ttotal: 1m\tremaining: 3.45s\n",
      "473:\tlearn: 26.4819224\ttest: 30.5814244\tbest: 30.5659400 (460)\ttotal: 1m\tremaining: 3.32s\n",
      "474:\tlearn: 26.4737889\ttest: 30.5799128\tbest: 30.5659400 (460)\ttotal: 1m\tremaining: 3.19s\n",
      "475:\tlearn: 26.4276451\ttest: 30.5997878\tbest: 30.5659400 (460)\ttotal: 1m\tremaining: 3.07s\n",
      "476:\tlearn: 26.4165979\ttest: 30.6089868\tbest: 30.5659400 (460)\ttotal: 1m\tremaining: 2.94s\n",
      "477:\tlearn: 26.4076014\ttest: 30.6019179\tbest: 30.5659400 (460)\ttotal: 1m 1s\tremaining: 2.81s\n",
      "478:\tlearn: 26.3971529\ttest: 30.5945787\tbest: 30.5659400 (460)\ttotal: 1m 1s\tremaining: 2.68s\n",
      "479:\tlearn: 26.3860520\ttest: 30.5939303\tbest: 30.5659400 (460)\ttotal: 1m 1s\tremaining: 2.56s\n",
      "480:\tlearn: 26.3788040\ttest: 30.5941273\tbest: 30.5659400 (460)\ttotal: 1m 1s\tremaining: 2.43s\n",
      "481:\tlearn: 26.3768840\ttest: 30.5940389\tbest: 30.5659400 (460)\ttotal: 1m 1s\tremaining: 2.3s\n",
      "482:\tlearn: 26.3714379\ttest: 30.5937114\tbest: 30.5659400 (460)\ttotal: 1m 1s\tremaining: 2.17s\n",
      "483:\tlearn: 26.3709940\ttest: 30.5938695\tbest: 30.5659400 (460)\ttotal: 1m 1s\tremaining: 2.04s\n",
      "484:\tlearn: 26.3649103\ttest: 30.5850841\tbest: 30.5659400 (460)\ttotal: 1m 1s\tremaining: 1.92s\n",
      "485:\tlearn: 26.3523637\ttest: 30.5991748\tbest: 30.5659400 (460)\ttotal: 1m 2s\tremaining: 1.79s\n",
      "486:\tlearn: 26.3423948\ttest: 30.5972553\tbest: 30.5659400 (460)\ttotal: 1m 2s\tremaining: 1.66s\n",
      "487:\tlearn: 26.3363708\ttest: 30.5945756\tbest: 30.5659400 (460)\ttotal: 1m 2s\tremaining: 1.53s\n",
      "488:\tlearn: 26.3259266\ttest: 30.5863725\tbest: 30.5659400 (460)\ttotal: 1m 2s\tremaining: 1.4s\n",
      "489:\tlearn: 26.3223913\ttest: 30.5819723\tbest: 30.5659400 (460)\ttotal: 1m 2s\tremaining: 1.28s\n",
      "490:\tlearn: 26.3132106\ttest: 30.5750471\tbest: 30.5659400 (460)\ttotal: 1m 2s\tremaining: 1.15s\n",
      "491:\tlearn: 26.3118407\ttest: 30.5762550\tbest: 30.5659400 (460)\ttotal: 1m 2s\tremaining: 1.02s\n",
      "492:\tlearn: 26.2996227\ttest: 30.5701689\tbest: 30.5659400 (460)\ttotal: 1m 2s\tremaining: 894ms\n",
      "493:\tlearn: 26.2740754\ttest: 30.5491067\tbest: 30.5491067 (493)\ttotal: 1m 3s\tremaining: 767ms\n",
      "494:\tlearn: 26.2733279\ttest: 30.5495303\tbest: 30.5491067 (493)\ttotal: 1m 3s\tremaining: 639ms\n",
      "495:\tlearn: 26.2625316\ttest: 30.5521379\tbest: 30.5491067 (493)\ttotal: 1m 3s\tremaining: 512ms\n",
      "496:\tlearn: 26.2516875\ttest: 30.5530916\tbest: 30.5491067 (493)\ttotal: 1m 3s\tremaining: 384ms\n",
      "497:\tlearn: 26.2468151\ttest: 30.5480725\tbest: 30.5480725 (497)\ttotal: 1m 3s\tremaining: 256ms\n",
      "498:\tlearn: 26.2419908\ttest: 30.5472747\tbest: 30.5472747 (498)\ttotal: 1m 3s\tremaining: 128ms\n",
      "499:\tlearn: 26.2395397\ttest: 30.5473425\tbest: 30.5472747 (498)\ttotal: 1m 3s\tremaining: 0us\n",
      "\n",
      "bestTest = 30.54727467\n",
      "bestIteration = 498\n",
      "\n",
      "Shrink model to first 499 iterations.\n"
     ]
    },
    {
     "data": {
      "text/plain": "<catboost.core.CatBoostRegressor at 0x7f8ac7ce2dc0>"
     },
     "execution_count": 70,
     "metadata": {},
     "output_type": "execute_result"
    }
   ],
   "source": [
    "ctb_reg.fit(train_pool, eval_set=val_pool, verbose=True, early_stopping_rounds=500)"
   ],
   "metadata": {
    "collapsed": false,
    "ExecuteTime": {
     "start_time": "2024-07-17T20:04:33.933493Z",
     "end_time": "2024-07-17T20:05:38.571984Z"
    }
   }
  },
  {
   "cell_type": "code",
   "execution_count": 71,
   "outputs": [],
   "source": [
    "y_pred = ctb_reg.predict(X_val)"
   ],
   "metadata": {
    "collapsed": false,
    "ExecuteTime": {
     "start_time": "2024-07-17T20:05:38.480662Z",
     "end_time": "2024-07-17T20:05:38.572137Z"
    }
   }
  },
  {
   "cell_type": "code",
   "execution_count": 72,
   "outputs": [
    {
     "name": "stdout",
     "output_type": "stream",
     "text": [
      "Mean Absolute Error (MAE): 12.606669590092327\n",
      "Mean Squared Error (MSE): 933.1359949516286\n",
      "Root Mean Squared Error (RMSE): 30.547274754904546\n",
      "R^2 Score: 0.6963646035899406\n"
     ]
    }
   ],
   "source": [
    "mae = mean_absolute_error(y_val, y_pred)\n",
    "mse = mean_squared_error(y_val, y_pred)\n",
    "rmse = np.sqrt(mse)\n",
    "r2 = r2_score(y_val, y_pred)\n",
    "\n",
    "print(f'Mean Absolute Error (MAE): {mae}')\n",
    "print(f'Mean Squared Error (MSE): {mse}')\n",
    "print(f'Root Mean Squared Error (RMSE): {rmse}')\n",
    "print(f'R^2 Score: {r2}')"
   ],
   "metadata": {
    "collapsed": false,
    "ExecuteTime": {
     "start_time": "2024-07-17T20:05:38.495819Z",
     "end_time": "2024-07-17T20:05:38.572330Z"
    }
   }
  },
  {
   "cell_type": "code",
   "execution_count": 91,
   "outputs": [],
   "source": [
    "residuals = y_val - y_pred"
   ],
   "metadata": {
    "collapsed": false,
    "ExecuteTime": {
     "start_time": "2024-07-17T20:15:32.894327Z",
     "end_time": "2024-07-17T20:15:32.907571Z"
    }
   }
  },
  {
   "cell_type": "code",
   "execution_count": 92,
   "outputs": [
    {
     "data": {
      "text/plain": "<Figure size 720x432 with 1 Axes>",
      "image/png": "[encoded data removed]"
     },
     "metadata": {},
     "output_type": "display_data"
    }
   ],
   "source": [
    "plt.figure(figsize=(10, 6))\n",
    "plt.scatter(y_pred, residuals, alpha=0.6)\n",
    "plt.axhline(y=0, color='r', linestyle='--')\n",
    "plt.xlabel('Предсказанные значения')\n",
    "plt.ylabel('Остатки')\n",
    "plt.title('График остатков')\n",
    "plt.show()"
   ],
   "metadata": {
    "collapsed": false,
    "ExecuteTime": {
     "start_time": "2024-07-17T20:15:42.087536Z",
     "end_time": "2024-07-17T20:15:42.289835Z"
    }
   }
  },
  {
   "cell_type": "code",
   "execution_count": 93,
   "outputs": [
    {
     "data": {
      "text/plain": "<Figure size 576x684 with 2 Axes>",
      "image/png": "[encoded data removed]"
     },
     "metadata": {},
     "output_type": "display_data"
    }
   ],
   "source": [
    "explainer = TreeExplainer(ctb_reg)\n",
    "shap_values = explainer.shap_values(X_val, y_val)\n",
    "shap.summary_plot(shap_values, X_val, X_val.columns)"
   ],
   "metadata": {
    "collapsed": false,
    "ExecuteTime": {
     "start_time": "2024-07-17T20:15:42.701660Z",
     "end_time": "2024-07-17T20:15:46.434484Z"
    }
   }
  },
  {
   "cell_type": "code",
   "execution_count": 94,
   "outputs": [
    {
     "data": {
      "text/plain": "                          col_name  feature_importance_vals\n16                      item_price                20.043361\n14                   item_category                 5.042612\n18              order_arrival_diff                 3.394339\n15           delivery_service_name                 3.333838\n19                order_stock_diff                 3.142827\n12                      brand_name                 2.345150\n21   delivery_service_arrival_diff                 1.967820\n13                         item_id                 1.959212\n1                   departure_city                 1.082999\n4                     arrival_city                 0.701859\n5                   arrival_region                 0.650968\n17                      order_hour                 0.632609\n2                 departure_region                 0.632092\n9                item_package_type                 0.491267\n20     stock_delivery_service_diff                 0.422971\n23             stock_departure_day                 0.381708\n7               client_device_type                 0.375764\n8                   client_browser                 0.371790\n3                  arrival_country                 0.368042\n24  delivery_service_departure_day                 0.363906\n25              client_arrival_day                 0.348468\n22                       order_day                 0.325792\n6                        item_type                 0.254104\n0                departure_country                 0.082860\n10                   client_is_app                 0.020573\n11        order_tracking_available                 0.000000",
      "text/html": "<div>\n<style scoped>\n    .dataframe tbody tr th:only-of-type {\n        vertical-align: middle;\n    }\n\n    .dataframe tbody tr th {\n        vertical-align: top;\n    }\n\n    .dataframe thead th {\n        text-align: right;\n    }\n</style>\n<table border=\"1\" class=\"dataframe\">\n  <thead>\n    <tr style=\"text-align: right;\">\n      <th></th>\n      <th>col_name</th>\n      <th>feature_importance_vals</th>\n    </tr>\n  </thead>\n  <tbody>\n    <tr>\n      <th>16</th>\n      <td>item_price</td>\n      <td>20.043361</td>\n    </tr>\n    <tr>\n      <th>14</th>\n      <td>item_category</td>\n      <td>5.042612</td>\n    </tr>\n    <tr>\n      <th>18</th>\n      <td>order_arrival_diff</td>\n      <td>3.394339</td>\n    </tr>\n    <tr>\n      <th>15</th>\n      <td>delivery_service_name</td>\n      <td>3.333838</td>\n    </tr>\n    <tr>\n      <th>19</th>\n      <td>order_stock_diff</td>\n      <td>3.142827</td>\n    </tr>\n    <tr>\n      <th>12</th>\n      <td>brand_name</td>\n      <td>2.345150</td>\n    </tr>\n    <tr>\n      <th>21</th>\n      <td>delivery_service_arrival_diff</td>\n      <td>1.967820</td>\n    </tr>\n    <tr>\n      <th>13</th>\n      <td>item_id</td>\n      <td>1.959212</td>\n    </tr>\n    <tr>\n      <th>1</th>\n      <td>departure_city</td>\n      <td>1.082999</td>\n    </tr>\n    <tr>\n      <th>4</th>\n      <td>arrival_city</td>\n      <td>0.701859</td>\n    </tr>\n    <tr>\n      <th>5</th>\n      <td>arrival_region</td>\n      <td>0.650968</td>\n    </tr>\n    <tr>\n      <th>17</th>\n      <td>order_hour</td>\n      <td>0.632609</td>\n    </tr>\n    <tr>\n      <th>2</th>\n      <td>departure_region</td>\n      <td>0.632092</td>\n    </tr>\n    <tr>\n      <th>9</th>\n      <td>item_package_type</td>\n      <td>0.491267</td>\n    </tr>\n    <tr>\n      <th>20</th>\n      <td>stock_delivery_service_diff</td>\n      <td>0.422971</td>\n    </tr>\n    <tr>\n      <th>23</th>\n      <td>stock_departure_day</td>\n      <td>0.381708</td>\n    </tr>\n    <tr>\n      <th>7</th>\n      <td>client_device_type</td>\n      <td>0.375764</td>\n    </tr>\n    <tr>\n      <th>8</th>\n      <td>client_browser</td>\n      <td>0.371790</td>\n    </tr>\n    <tr>\n      <th>3</th>\n      <td>arrival_country</td>\n      <td>0.368042</td>\n    </tr>\n    <tr>\n      <th>24</th>\n      <td>delivery_service_departure_day</td>\n      <td>0.363906</td>\n    </tr>\n    <tr>\n      <th>25</th>\n      <td>client_arrival_day</td>\n      <td>0.348468</td>\n    </tr>\n    <tr>\n      <th>22</th>\n      <td>order_day</td>\n      <td>0.325792</td>\n    </tr>\n    <tr>\n      <th>6</th>\n      <td>item_type</td>\n      <td>0.254104</td>\n    </tr>\n    <tr>\n      <th>0</th>\n      <td>departure_country</td>\n      <td>0.082860</td>\n    </tr>\n    <tr>\n      <th>10</th>\n      <td>client_is_app</td>\n      <td>0.020573</td>\n    </tr>\n    <tr>\n      <th>11</th>\n      <td>order_tracking_available</td>\n      <td>0.000000</td>\n    </tr>\n  </tbody>\n</table>\n</div>"
     },
     "execution_count": 94,
     "metadata": {},
     "output_type": "execute_result"
    }
   ],
   "source": [
    "feature_names = X_val.columns\n",
    "rf_resultX = pd.DataFrame(shap_values, columns = feature_names)\n",
    "vals = np.abs(rf_resultX.values).mean(0)\n",
    "shap_importance = pd.DataFrame(list(zip(feature_names, vals)), columns=['col_name','feature_importance_vals'])\n",
    "shap_importance.sort_values(by=['feature_importance_vals'], ascending=False, inplace=True)\n",
    "\n",
    "shap_importance"
   ],
   "metadata": {
    "collapsed": false,
    "ExecuteTime": {
     "start_time": "2024-07-17T20:15:46.442193Z",
     "end_time": "2024-07-17T20:15:46.483534Z"
    }
   }
  },
  {
   "cell_type": "code",
   "execution_count": 95,
   "outputs": [],
   "source": [
    "shap_importance = shap_importance.reset_index(drop=True)"
   ],
   "metadata": {
    "collapsed": false,
    "ExecuteTime": {
     "start_time": "2024-07-17T20:15:46.457869Z",
     "end_time": "2024-07-17T20:15:46.485192Z"
    }
   }
  },
  {
   "cell_type": "code",
   "execution_count": 114,
   "outputs": [],
   "source": [
    "to_drop = list(shap_importance.loc[11:, 'col_name'])"
   ],
   "metadata": {
    "collapsed": false,
    "ExecuteTime": {
     "start_time": "2024-07-17T20:20:10.616941Z",
     "end_time": "2024-07-17T20:20:10.621053Z"
    }
   }
  },
  {
   "cell_type": "code",
   "execution_count": 115,
   "outputs": [],
   "source": [
    "train_df_drop = train_df.drop(to_drop, axis=1)"
   ],
   "metadata": {
    "collapsed": false,
    "ExecuteTime": {
     "start_time": "2024-07-17T20:20:11.385007Z",
     "end_time": "2024-07-17T20:20:11.404758Z"
    }
   }
  },
  {
   "cell_type": "code",
   "execution_count": 116,
   "outputs": [],
   "source": [
    "cat_features = [i for i in cat_features if i not in to_drop]"
   ],
   "metadata": {
    "collapsed": false,
    "ExecuteTime": {
     "start_time": "2024-07-17T20:20:13.295577Z",
     "end_time": "2024-07-17T20:20:13.299999Z"
    }
   }
  },
  {
   "cell_type": "code",
   "execution_count": 117,
   "outputs": [],
   "source": [
    "train_df_drop[cat_features] = train_df_drop[cat_features].astype(str)\n",
    "train_df_drop[cat_features] = train_df_drop[cat_features].fillna('None')"
   ],
   "metadata": {
    "collapsed": false,
    "ExecuteTime": {
     "start_time": "2024-07-17T20:20:13.925429Z",
     "end_time": "2024-07-17T20:20:14.082854Z"
    }
   }
  },
  {
   "cell_type": "code",
   "execution_count": 118,
   "outputs": [],
   "source": [
    "y = train_df_drop[target_var]\n",
    "X = train_df_drop.drop(target_var, axis=1)"
   ],
   "metadata": {
    "collapsed": false,
    "ExecuteTime": {
     "start_time": "2024-07-17T20:20:14.375179Z",
     "end_time": "2024-07-17T20:20:14.385843Z"
    }
   }
  },
  {
   "cell_type": "code",
   "execution_count": 119,
   "outputs": [],
   "source": [
    "X_train, X_val, y_train, y_val = train_test_split(X, y, test_size=.1, random_state=42)"
   ],
   "metadata": {
    "collapsed": false,
    "ExecuteTime": {
     "start_time": "2024-07-17T20:20:14.902811Z",
     "end_time": "2024-07-17T20:20:14.949932Z"
    }
   }
  },
  {
   "cell_type": "code",
   "execution_count": 120,
   "outputs": [],
   "source": [
    "model_params = {\n",
    "    'learning_rate': 0.1,\n",
    "    'max_depth': 5,\n",
    "    'iterations': 500, # на 1000 циклах модель переобучается\n",
    "    'loss_function': 'RMSE'\n",
    "}"
   ],
   "metadata": {
    "collapsed": false,
    "ExecuteTime": {
     "start_time": "2024-07-17T20:20:16.005477Z",
     "end_time": "2024-07-17T20:20:16.009805Z"
    }
   }
  },
  {
   "cell_type": "code",
   "execution_count": 121,
   "outputs": [],
   "source": [
    "train_pool = Pool(X_train, y_train, cat_features=cat_features)\n",
    "val_pool = Pool(X_val, y_val, cat_features=cat_features)"
   ],
   "metadata": {
    "collapsed": false,
    "ExecuteTime": {
     "start_time": "2024-07-17T20:20:18.093906Z",
     "end_time": "2024-07-17T20:20:18.108456Z"
    }
   }
  },
  {
   "cell_type": "code",
   "execution_count": 122,
   "outputs": [],
   "source": [
    "ctb_reg = CatBoostRegressor(**model_params)"
   ],
   "metadata": {
    "collapsed": false,
    "ExecuteTime": {
     "start_time": "2024-07-17T20:20:18.900956Z",
     "end_time": "2024-07-17T20:20:18.923691Z"
    }
   }
  },
  {
   "cell_type": "code",
   "execution_count": 123,
   "outputs": [
    {
     "name": "stdout",
     "output_type": "stream",
     "text": [
      "0:\tlearn: 51.0325387\ttest: 52.8702742\tbest: 52.8702742 (0)\ttotal: 37.1ms\tremaining: 18.5s\n",
      "1:\tlearn: 48.8703031\ttest: 50.6168872\tbest: 50.6168872 (1)\ttotal: 71.4ms\tremaining: 17.8s\n",
      "2:\tlearn: 46.9890447\ttest: 48.6551303\tbest: 48.6551303 (2)\ttotal: 102ms\tremaining: 16.9s\n",
      "3:\tlearn: 45.3789934\ttest: 46.9524599\tbest: 46.9524599 (3)\ttotal: 134ms\tremaining: 16.7s\n",
      "4:\tlearn: 43.9901614\ttest: 45.4956849\tbest: 45.4956849 (4)\ttotal: 156ms\tremaining: 15.5s\n",
      "5:\tlearn: 42.7565439\ttest: 44.1176907\tbest: 44.1176907 (5)\ttotal: 183ms\tremaining: 15.1s\n",
      "6:\tlearn: 41.6811186\ttest: 42.8966958\tbest: 42.8966958 (6)\ttotal: 205ms\tremaining: 14.4s\n",
      "7:\tlearn: 40.7382015\ttest: 41.8622902\tbest: 41.8622902 (7)\ttotal: 233ms\tremaining: 14.4s\n",
      "8:\tlearn: 39.8944564\ttest: 40.8760424\tbest: 40.8760424 (8)\ttotal: 265ms\tremaining: 14.4s\n",
      "9:\tlearn: 39.1529754\ttest: 40.0578110\tbest: 40.0578110 (9)\ttotal: 295ms\tremaining: 14.5s\n",
      "10:\tlearn: 38.5589964\ttest: 39.4276076\tbest: 39.4276076 (10)\ttotal: 324ms\tremaining: 14.4s\n",
      "11:\tlearn: 38.0154842\ttest: 38.7729395\tbest: 38.7729395 (11)\ttotal: 363ms\tremaining: 14.8s\n",
      "12:\tlearn: 37.5452013\ttest: 38.2038846\tbest: 38.2038846 (12)\ttotal: 392ms\tremaining: 14.7s\n",
      "13:\tlearn: 37.1376386\ttest: 37.7177912\tbest: 37.7177912 (13)\ttotal: 429ms\tremaining: 14.9s\n",
      "14:\tlearn: 36.7756758\ttest: 37.2726073\tbest: 37.2726073 (14)\ttotal: 450ms\tremaining: 14.5s\n",
      "15:\tlearn: 36.4871588\ttest: 36.9054802\tbest: 36.9054802 (15)\ttotal: 480ms\tremaining: 14.5s\n",
      "16:\tlearn: 36.2298088\ttest: 36.5550476\tbest: 36.5550476 (16)\ttotal: 504ms\tremaining: 14.3s\n",
      "17:\tlearn: 36.0158582\ttest: 36.2811977\tbest: 36.2811977 (17)\ttotal: 533ms\tremaining: 14.3s\n",
      "18:\tlearn: 35.8176942\ttest: 36.0664211\tbest: 36.0664211 (18)\ttotal: 564ms\tremaining: 14.3s\n",
      "19:\tlearn: 35.6483787\ttest: 35.8420344\tbest: 35.8420344 (19)\ttotal: 594ms\tremaining: 14.3s\n",
      "20:\tlearn: 35.4716867\ttest: 35.5922506\tbest: 35.5922506 (20)\ttotal: 620ms\tremaining: 14.1s\n",
      "21:\tlearn: 35.3358924\ttest: 35.3988454\tbest: 35.3988454 (21)\ttotal: 647ms\tremaining: 14.1s\n",
      "22:\tlearn: 35.2032969\ttest: 35.2037677\tbest: 35.2037677 (22)\ttotal: 675ms\tremaining: 14s\n",
      "23:\tlearn: 35.0963020\ttest: 35.0648839\tbest: 35.0648839 (23)\ttotal: 706ms\tremaining: 14s\n",
      "24:\tlearn: 35.0007703\ttest: 34.9096242\tbest: 34.9096242 (24)\ttotal: 731ms\tremaining: 13.9s\n",
      "25:\tlearn: 34.9051213\ttest: 34.8395242\tbest: 34.8395242 (25)\ttotal: 765ms\tremaining: 13.9s\n",
      "26:\tlearn: 34.8297404\ttest: 34.7230206\tbest: 34.7230206 (26)\ttotal: 793ms\tremaining: 13.9s\n",
      "27:\tlearn: 34.7223114\ttest: 34.6330710\tbest: 34.6330710 (27)\ttotal: 821ms\tremaining: 13.8s\n",
      "28:\tlearn: 34.6388093\ttest: 34.5619155\tbest: 34.5619155 (28)\ttotal: 846ms\tremaining: 13.7s\n",
      "29:\tlearn: 34.5754920\ttest: 34.5121614\tbest: 34.5121614 (29)\ttotal: 880ms\tremaining: 13.8s\n",
      "30:\tlearn: 34.5184480\ttest: 34.4352313\tbest: 34.4352313 (30)\ttotal: 912ms\tremaining: 13.8s\n",
      "31:\tlearn: 34.4229817\ttest: 34.3190803\tbest: 34.3190803 (31)\ttotal: 942ms\tremaining: 13.8s\n",
      "32:\tlearn: 34.3086224\ttest: 34.1443018\tbest: 34.1443018 (32)\ttotal: 974ms\tremaining: 13.8s\n",
      "33:\tlearn: 34.2206651\ttest: 34.0547825\tbest: 34.0547825 (33)\ttotal: 1.01s\tremaining: 13.8s\n",
      "34:\tlearn: 34.1334602\ttest: 33.8950447\tbest: 33.8950447 (34)\ttotal: 1.03s\tremaining: 13.8s\n",
      "35:\tlearn: 34.0599368\ttest: 33.7804158\tbest: 33.7804158 (35)\ttotal: 1.05s\tremaining: 13.6s\n",
      "36:\tlearn: 34.0052406\ttest: 33.7432398\tbest: 33.7432398 (36)\ttotal: 1.07s\tremaining: 13.4s\n",
      "37:\tlearn: 33.9757137\ttest: 33.7001034\tbest: 33.7001034 (37)\ttotal: 1.1s\tremaining: 13.3s\n",
      "38:\tlearn: 33.9503006\ttest: 33.6653507\tbest: 33.6653507 (38)\ttotal: 1.12s\tremaining: 13.3s\n",
      "39:\tlearn: 33.9254155\ttest: 33.6422591\tbest: 33.6422591 (39)\ttotal: 1.14s\tremaining: 13.1s\n",
      "40:\tlearn: 33.8990054\ttest: 33.6135592\tbest: 33.6135592 (40)\ttotal: 1.17s\tremaining: 13.1s\n",
      "41:\tlearn: 33.8519034\ttest: 33.5489886\tbest: 33.5489886 (41)\ttotal: 1.21s\tremaining: 13.2s\n",
      "42:\tlearn: 33.8033019\ttest: 33.5219440\tbest: 33.5219440 (42)\ttotal: 1.23s\tremaining: 13.1s\n",
      "43:\tlearn: 33.7691614\ttest: 33.4197526\tbest: 33.4197526 (43)\ttotal: 1.25s\tremaining: 12.9s\n",
      "44:\tlearn: 33.7447483\ttest: 33.3880949\tbest: 33.3880949 (44)\ttotal: 1.27s\tremaining: 12.9s\n",
      "45:\tlearn: 33.6935377\ttest: 33.3388350\tbest: 33.3388350 (45)\ttotal: 1.31s\tremaining: 13s\n",
      "46:\tlearn: 33.6563641\ttest: 33.2463434\tbest: 33.2463434 (46)\ttotal: 1.42s\tremaining: 13.7s\n",
      "47:\tlearn: 33.6336779\ttest: 33.2290181\tbest: 33.2290181 (47)\ttotal: 1.45s\tremaining: 13.7s\n",
      "48:\tlearn: 33.6040420\ttest: 33.2114133\tbest: 33.2114133 (48)\ttotal: 1.48s\tremaining: 13.6s\n",
      "49:\tlearn: 33.5850875\ttest: 33.1824333\tbest: 33.1824333 (49)\ttotal: 1.5s\tremaining: 13.5s\n",
      "50:\tlearn: 33.5501467\ttest: 33.1575583\tbest: 33.1575583 (50)\ttotal: 1.52s\tremaining: 13.4s\n",
      "51:\tlearn: 33.5174668\ttest: 33.1533156\tbest: 33.1533156 (51)\ttotal: 1.55s\tremaining: 13.4s\n",
      "52:\tlearn: 33.4811203\ttest: 33.1290055\tbest: 33.1290055 (52)\ttotal: 1.58s\tremaining: 13.3s\n",
      "53:\tlearn: 33.4501884\ttest: 33.1275152\tbest: 33.1275152 (53)\ttotal: 1.61s\tremaining: 13.3s\n",
      "54:\tlearn: 33.4237107\ttest: 33.1153291\tbest: 33.1153291 (54)\ttotal: 1.64s\tremaining: 13.3s\n",
      "55:\tlearn: 33.4119224\ttest: 33.1066078\tbest: 33.1066078 (55)\ttotal: 1.66s\tremaining: 13.2s\n",
      "56:\tlearn: 33.3744697\ttest: 33.0849086\tbest: 33.0849086 (56)\ttotal: 1.68s\tremaining: 13.1s\n",
      "57:\tlearn: 33.3629664\ttest: 33.0775116\tbest: 33.0775116 (57)\ttotal: 1.71s\tremaining: 13s\n",
      "58:\tlearn: 33.3374612\ttest: 33.0605656\tbest: 33.0605656 (58)\ttotal: 1.74s\tremaining: 13s\n",
      "59:\tlearn: 33.3204193\ttest: 33.0176927\tbest: 33.0176927 (59)\ttotal: 1.76s\tremaining: 12.9s\n",
      "60:\tlearn: 33.2972278\ttest: 33.0114045\tbest: 33.0114045 (60)\ttotal: 1.77s\tremaining: 12.8s\n",
      "61:\tlearn: 33.2844235\ttest: 32.9986901\tbest: 32.9986901 (61)\ttotal: 1.8s\tremaining: 12.7s\n",
      "62:\tlearn: 33.2785895\ttest: 32.9917840\tbest: 32.9917840 (62)\ttotal: 1.83s\tremaining: 12.7s\n",
      "63:\tlearn: 33.2598434\ttest: 32.9702248\tbest: 32.9702248 (63)\ttotal: 1.85s\tremaining: 12.6s\n",
      "64:\tlearn: 33.2338191\ttest: 32.9406606\tbest: 32.9406606 (64)\ttotal: 1.88s\tremaining: 12.6s\n",
      "65:\tlearn: 33.2119306\ttest: 32.9295614\tbest: 32.9295614 (65)\ttotal: 1.91s\tremaining: 12.5s\n",
      "66:\tlearn: 33.1848737\ttest: 32.9213414\tbest: 32.9213414 (66)\ttotal: 1.94s\tremaining: 12.6s\n",
      "67:\tlearn: 33.1560083\ttest: 32.8837594\tbest: 32.8837594 (67)\ttotal: 1.97s\tremaining: 12.5s\n",
      "68:\tlearn: 33.1472536\ttest: 32.8806609\tbest: 32.8806609 (68)\ttotal: 1.99s\tremaining: 12.4s\n",
      "69:\tlearn: 33.1281682\ttest: 32.8746706\tbest: 32.8746706 (69)\ttotal: 2.02s\tremaining: 12.4s\n",
      "70:\tlearn: 33.1005863\ttest: 32.8734461\tbest: 32.8734461 (70)\ttotal: 2.04s\tremaining: 12.3s\n",
      "71:\tlearn: 33.0801783\ttest: 32.8515039\tbest: 32.8515039 (71)\ttotal: 2.06s\tremaining: 12.2s\n",
      "72:\tlearn: 33.0695581\ttest: 32.8269095\tbest: 32.8269095 (72)\ttotal: 2.09s\tremaining: 12.2s\n",
      "73:\tlearn: 33.0434803\ttest: 32.7796254\tbest: 32.7796254 (73)\ttotal: 2.12s\tremaining: 12.2s\n",
      "74:\tlearn: 33.0263511\ttest: 32.7730551\tbest: 32.7730551 (74)\ttotal: 2.15s\tremaining: 12.2s\n",
      "75:\tlearn: 33.0054179\ttest: 32.7814449\tbest: 32.7730551 (74)\ttotal: 2.18s\tremaining: 12.2s\n",
      "76:\tlearn: 32.9946952\ttest: 32.7672252\tbest: 32.7672252 (76)\ttotal: 2.22s\tremaining: 12.2s\n",
      "77:\tlearn: 32.9870716\ttest: 32.7614572\tbest: 32.7614572 (77)\ttotal: 2.24s\tremaining: 12.1s\n",
      "78:\tlearn: 32.9752625\ttest: 32.7610405\tbest: 32.7610405 (78)\ttotal: 2.26s\tremaining: 12.1s\n",
      "79:\tlearn: 32.9568801\ttest: 32.7893606\tbest: 32.7610405 (78)\ttotal: 2.29s\tremaining: 12s\n",
      "80:\tlearn: 32.9316641\ttest: 32.7874011\tbest: 32.7610405 (78)\ttotal: 2.32s\tremaining: 12s\n",
      "81:\tlearn: 32.9242024\ttest: 32.7851769\tbest: 32.7610405 (78)\ttotal: 2.35s\tremaining: 12s\n",
      "82:\tlearn: 32.8924708\ttest: 32.8228141\tbest: 32.7610405 (78)\ttotal: 2.37s\tremaining: 11.9s\n",
      "83:\tlearn: 32.8599401\ttest: 32.8314805\tbest: 32.7610405 (78)\ttotal: 2.4s\tremaining: 11.9s\n",
      "84:\tlearn: 32.8458856\ttest: 32.8201931\tbest: 32.7610405 (78)\ttotal: 2.43s\tremaining: 11.8s\n",
      "85:\tlearn: 32.8260588\ttest: 32.8055855\tbest: 32.7610405 (78)\ttotal: 2.45s\tremaining: 11.8s\n",
      "86:\tlearn: 32.8053917\ttest: 32.7801745\tbest: 32.7610405 (78)\ttotal: 2.48s\tremaining: 11.8s\n",
      "87:\tlearn: 32.8016918\ttest: 32.7724877\tbest: 32.7610405 (78)\ttotal: 2.51s\tremaining: 11.8s\n",
      "88:\tlearn: 32.7898739\ttest: 32.7507982\tbest: 32.7507982 (88)\ttotal: 2.54s\tremaining: 11.8s\n",
      "89:\tlearn: 32.7787111\ttest: 32.7238757\tbest: 32.7238757 (89)\ttotal: 2.57s\tremaining: 11.7s\n",
      "90:\tlearn: 32.7397778\ttest: 32.6935245\tbest: 32.6935245 (90)\ttotal: 2.6s\tremaining: 11.7s\n",
      "91:\tlearn: 32.6947381\ttest: 32.6713643\tbest: 32.6713643 (91)\ttotal: 2.63s\tremaining: 11.7s\n",
      "92:\tlearn: 32.6837334\ttest: 32.6456077\tbest: 32.6456077 (92)\ttotal: 2.65s\tremaining: 11.6s\n",
      "93:\tlearn: 32.6667072\ttest: 32.6424756\tbest: 32.6424756 (93)\ttotal: 2.68s\tremaining: 11.6s\n",
      "94:\tlearn: 32.6490925\ttest: 32.6273871\tbest: 32.6273871 (94)\ttotal: 2.69s\tremaining: 11.5s\n",
      "95:\tlearn: 32.6395211\ttest: 32.6163825\tbest: 32.6163825 (95)\ttotal: 2.72s\tremaining: 11.5s\n",
      "96:\tlearn: 32.6239076\ttest: 32.6036698\tbest: 32.6036698 (96)\ttotal: 2.74s\tremaining: 11.4s\n",
      "97:\tlearn: 32.6121952\ttest: 32.6021079\tbest: 32.6021079 (97)\ttotal: 2.76s\tremaining: 11.3s\n",
      "98:\tlearn: 32.5988036\ttest: 32.5786860\tbest: 32.5786860 (98)\ttotal: 2.79s\tremaining: 11.3s\n",
      "99:\tlearn: 32.5880773\ttest: 32.5615323\tbest: 32.5615323 (99)\ttotal: 2.81s\tremaining: 11.2s\n",
      "100:\tlearn: 32.5799021\ttest: 32.5426734\tbest: 32.5426734 (100)\ttotal: 2.83s\tremaining: 11.2s\n",
      "101:\tlearn: 32.5770478\ttest: 32.5396959\tbest: 32.5396959 (101)\ttotal: 2.86s\tremaining: 11.2s\n",
      "102:\tlearn: 32.5463487\ttest: 32.5247854\tbest: 32.5247854 (102)\ttotal: 2.89s\tremaining: 11.1s\n",
      "103:\tlearn: 32.5407687\ttest: 32.5222269\tbest: 32.5222269 (103)\ttotal: 2.91s\tremaining: 11.1s\n",
      "104:\tlearn: 32.5365049\ttest: 32.5218833\tbest: 32.5218833 (104)\ttotal: 2.94s\tremaining: 11.1s\n",
      "105:\tlearn: 32.5132029\ttest: 32.5155332\tbest: 32.5155332 (105)\ttotal: 2.97s\tremaining: 11s\n",
      "106:\tlearn: 32.5101511\ttest: 32.5135176\tbest: 32.5135176 (106)\ttotal: 2.99s\tremaining: 11s\n",
      "107:\tlearn: 32.5087627\ttest: 32.5135206\tbest: 32.5135176 (106)\ttotal: 3.01s\tremaining: 10.9s\n",
      "108:\tlearn: 32.4986424\ttest: 32.5087348\tbest: 32.5087348 (108)\ttotal: 3.03s\tremaining: 10.9s\n",
      "109:\tlearn: 32.4708394\ttest: 32.4855036\tbest: 32.4855036 (109)\ttotal: 3.06s\tremaining: 10.8s\n",
      "110:\tlearn: 32.4600837\ttest: 32.4601155\tbest: 32.4601155 (110)\ttotal: 3.09s\tremaining: 10.8s\n",
      "111:\tlearn: 32.4558016\ttest: 32.4545811\tbest: 32.4545811 (111)\ttotal: 3.11s\tremaining: 10.8s\n",
      "112:\tlearn: 32.4233710\ttest: 32.4349925\tbest: 32.4349925 (112)\ttotal: 3.14s\tremaining: 10.8s\n",
      "113:\tlearn: 32.4129327\ttest: 32.4190916\tbest: 32.4190916 (113)\ttotal: 3.16s\tremaining: 10.7s\n",
      "114:\tlearn: 32.3980893\ttest: 32.4025481\tbest: 32.4025481 (114)\ttotal: 3.19s\tremaining: 10.7s\n",
      "115:\tlearn: 32.3874942\ttest: 32.4000872\tbest: 32.4000872 (115)\ttotal: 3.22s\tremaining: 10.7s\n",
      "116:\tlearn: 32.3771223\ttest: 32.3932209\tbest: 32.3932209 (116)\ttotal: 3.25s\tremaining: 10.6s\n",
      "117:\tlearn: 32.3596946\ttest: 32.3471028\tbest: 32.3471028 (117)\ttotal: 3.28s\tremaining: 10.6s\n",
      "118:\tlearn: 32.3424653\ttest: 32.3307774\tbest: 32.3307774 (118)\ttotal: 3.3s\tremaining: 10.6s\n",
      "119:\tlearn: 32.3280734\ttest: 32.3269100\tbest: 32.3269100 (119)\ttotal: 3.32s\tremaining: 10.5s\n",
      "120:\tlearn: 32.3099350\ttest: 32.3160843\tbest: 32.3160843 (120)\ttotal: 3.35s\tremaining: 10.5s\n",
      "121:\tlearn: 32.3024017\ttest: 32.3083358\tbest: 32.3083358 (121)\ttotal: 3.38s\tremaining: 10.5s\n",
      "122:\tlearn: 32.2914298\ttest: 32.2974220\tbest: 32.2974220 (122)\ttotal: 3.42s\tremaining: 10.5s\n",
      "123:\tlearn: 32.2771114\ttest: 32.2788868\tbest: 32.2788868 (123)\ttotal: 3.44s\tremaining: 10.4s\n",
      "124:\tlearn: 32.2682106\ttest: 32.2730223\tbest: 32.2730223 (124)\ttotal: 3.47s\tremaining: 10.4s\n",
      "125:\tlearn: 32.2469732\ttest: 32.2570483\tbest: 32.2570483 (125)\ttotal: 3.5s\tremaining: 10.4s\n",
      "126:\tlearn: 32.2371285\ttest: 32.2496784\tbest: 32.2496784 (126)\ttotal: 3.52s\tremaining: 10.3s\n",
      "127:\tlearn: 32.2164966\ttest: 32.2254716\tbest: 32.2254716 (127)\ttotal: 3.54s\tremaining: 10.3s\n",
      "128:\tlearn: 32.2051644\ttest: 32.2372750\tbest: 32.2254716 (127)\ttotal: 3.56s\tremaining: 10.3s\n",
      "129:\tlearn: 32.1906046\ttest: 32.2206714\tbest: 32.2206714 (129)\ttotal: 3.6s\tremaining: 10.2s\n",
      "130:\tlearn: 32.1854193\ttest: 32.2159316\tbest: 32.2159316 (130)\ttotal: 3.63s\tremaining: 10.2s\n",
      "131:\tlearn: 32.1808836\ttest: 32.2099854\tbest: 32.2099854 (131)\ttotal: 3.65s\tremaining: 10.2s\n",
      "132:\tlearn: 32.1620554\ttest: 32.2170104\tbest: 32.2099854 (131)\ttotal: 3.68s\tremaining: 10.2s\n",
      "133:\tlearn: 32.1549015\ttest: 32.2165669\tbest: 32.2099854 (131)\ttotal: 3.71s\tremaining: 10.1s\n",
      "134:\tlearn: 32.1485490\ttest: 32.2156283\tbest: 32.2099854 (131)\ttotal: 3.73s\tremaining: 10.1s\n",
      "135:\tlearn: 32.1396727\ttest: 32.2091579\tbest: 32.2091579 (135)\ttotal: 3.76s\tremaining: 10.1s\n",
      "136:\tlearn: 32.1283823\ttest: 32.2085708\tbest: 32.2085708 (136)\ttotal: 3.79s\tremaining: 10s\n",
      "137:\tlearn: 32.1203524\ttest: 32.2026252\tbest: 32.2026252 (137)\ttotal: 3.81s\tremaining: 10s\n",
      "138:\tlearn: 32.1075427\ttest: 32.1861990\tbest: 32.1861990 (138)\ttotal: 3.85s\tremaining: 9.99s\n",
      "139:\tlearn: 32.0844414\ttest: 32.1749575\tbest: 32.1749575 (139)\ttotal: 3.88s\tremaining: 9.97s\n",
      "140:\tlearn: 32.0752171\ttest: 32.1761552\tbest: 32.1749575 (139)\ttotal: 3.9s\tremaining: 9.92s\n",
      "141:\tlearn: 32.0684462\ttest: 32.1709772\tbest: 32.1709772 (141)\ttotal: 3.92s\tremaining: 9.89s\n",
      "142:\tlearn: 32.0610349\ttest: 32.1657451\tbest: 32.1657451 (142)\ttotal: 3.94s\tremaining: 9.83s\n",
      "143:\tlearn: 32.0529473\ttest: 32.1560876\tbest: 32.1560876 (143)\ttotal: 3.96s\tremaining: 9.79s\n",
      "144:\tlearn: 32.0475643\ttest: 32.1786983\tbest: 32.1560876 (143)\ttotal: 3.98s\tremaining: 9.75s\n",
      "145:\tlearn: 32.0396836\ttest: 32.1793376\tbest: 32.1560876 (143)\ttotal: 4.01s\tremaining: 9.72s\n",
      "146:\tlearn: 32.0297504\ttest: 32.1723312\tbest: 32.1560876 (143)\ttotal: 4.03s\tremaining: 9.68s\n",
      "147:\tlearn: 32.0253318\ttest: 32.1753151\tbest: 32.1560876 (143)\ttotal: 4.06s\tremaining: 9.66s\n",
      "148:\tlearn: 32.0108879\ttest: 32.1609696\tbest: 32.1560876 (143)\ttotal: 4.08s\tremaining: 9.62s\n",
      "149:\tlearn: 31.9999928\ttest: 32.1554708\tbest: 32.1554708 (149)\ttotal: 4.11s\tremaining: 9.59s\n",
      "150:\tlearn: 31.9882712\ttest: 32.1403533\tbest: 32.1403533 (150)\ttotal: 4.14s\tremaining: 9.56s\n",
      "151:\tlearn: 31.9757465\ttest: 32.1336783\tbest: 32.1336783 (151)\ttotal: 4.16s\tremaining: 9.53s\n",
      "152:\tlearn: 31.9539667\ttest: 32.1091028\tbest: 32.1091028 (152)\ttotal: 4.19s\tremaining: 9.51s\n",
      "153:\tlearn: 31.9438361\ttest: 32.1039739\tbest: 32.1039739 (153)\ttotal: 4.21s\tremaining: 9.47s\n",
      "154:\tlearn: 31.9195975\ttest: 32.0946349\tbest: 32.0946349 (154)\ttotal: 4.24s\tremaining: 9.44s\n",
      "155:\tlearn: 31.9043276\ttest: 32.0881491\tbest: 32.0881491 (155)\ttotal: 4.27s\tremaining: 9.42s\n",
      "156:\tlearn: 31.9025995\ttest: 32.0852076\tbest: 32.0852076 (156)\ttotal: 4.3s\tremaining: 9.41s\n",
      "157:\tlearn: 31.9001755\ttest: 32.0821680\tbest: 32.0821680 (157)\ttotal: 4.33s\tremaining: 9.38s\n",
      "158:\tlearn: 31.8860548\ttest: 32.0865171\tbest: 32.0821680 (157)\ttotal: 4.37s\tremaining: 9.37s\n",
      "159:\tlearn: 31.8700962\ttest: 32.0542482\tbest: 32.0542482 (159)\ttotal: 4.39s\tremaining: 9.34s\n",
      "160:\tlearn: 31.8592238\ttest: 32.0382737\tbest: 32.0382737 (160)\ttotal: 4.42s\tremaining: 9.31s\n",
      "161:\tlearn: 31.8491940\ttest: 31.9907155\tbest: 31.9907155 (161)\ttotal: 4.45s\tremaining: 9.29s\n",
      "162:\tlearn: 31.8397425\ttest: 31.9893392\tbest: 31.9893392 (162)\ttotal: 4.47s\tremaining: 9.25s\n",
      "163:\tlearn: 31.8297279\ttest: 31.9748490\tbest: 31.9748490 (163)\ttotal: 4.5s\tremaining: 9.23s\n",
      "164:\tlearn: 31.8227038\ttest: 31.9750853\tbest: 31.9748490 (163)\ttotal: 4.52s\tremaining: 9.19s\n",
      "165:\tlearn: 31.7947796\ttest: 31.9851441\tbest: 31.9748490 (163)\ttotal: 4.55s\tremaining: 9.16s\n",
      "166:\tlearn: 31.7844067\ttest: 31.9846951\tbest: 31.9748490 (163)\ttotal: 4.58s\tremaining: 9.14s\n",
      "167:\tlearn: 31.7798171\ttest: 31.9804075\tbest: 31.9748490 (163)\ttotal: 4.61s\tremaining: 9.11s\n",
      "168:\tlearn: 31.7721186\ttest: 31.9450330\tbest: 31.9450330 (168)\ttotal: 4.64s\tremaining: 9.09s\n",
      "169:\tlearn: 31.7679178\ttest: 31.9644379\tbest: 31.9450330 (168)\ttotal: 4.67s\tremaining: 9.06s\n",
      "170:\tlearn: 31.7614154\ttest: 31.9474751\tbest: 31.9450330 (168)\ttotal: 4.7s\tremaining: 9.04s\n",
      "171:\tlearn: 31.7456805\ttest: 31.9650549\tbest: 31.9450330 (168)\ttotal: 4.73s\tremaining: 9.02s\n",
      "172:\tlearn: 31.7358732\ttest: 31.9623884\tbest: 31.9450330 (168)\ttotal: 4.75s\tremaining: 8.99s\n",
      "173:\tlearn: 31.7209860\ttest: 31.9503666\tbest: 31.9450330 (168)\ttotal: 4.79s\tremaining: 8.97s\n",
      "174:\tlearn: 31.7147862\ttest: 31.9443928\tbest: 31.9443928 (174)\ttotal: 4.81s\tremaining: 8.93s\n",
      "175:\tlearn: 31.7039218\ttest: 31.9273032\tbest: 31.9273032 (175)\ttotal: 4.84s\tremaining: 8.9s\n",
      "176:\tlearn: 31.7005066\ttest: 31.9267198\tbest: 31.9267198 (176)\ttotal: 4.86s\tremaining: 8.86s\n",
      "177:\tlearn: 31.6917835\ttest: 31.9258643\tbest: 31.9258643 (177)\ttotal: 4.98s\tremaining: 9.01s\n",
      "178:\tlearn: 31.6883318\ttest: 31.9210372\tbest: 31.9210372 (178)\ttotal: 5.01s\tremaining: 8.98s\n",
      "179:\tlearn: 31.6773902\ttest: 31.9198732\tbest: 31.9198732 (179)\ttotal: 5.02s\tremaining: 8.93s\n",
      "180:\tlearn: 31.6643834\ttest: 31.9056051\tbest: 31.9056051 (180)\ttotal: 5.05s\tremaining: 8.9s\n",
      "181:\tlearn: 31.6548075\ttest: 31.8980999\tbest: 31.8980999 (181)\ttotal: 5.08s\tremaining: 8.88s\n",
      "182:\tlearn: 31.6430465\ttest: 31.8752430\tbest: 31.8752430 (182)\ttotal: 5.11s\tremaining: 8.86s\n",
      "183:\tlearn: 31.6402568\ttest: 31.8748583\tbest: 31.8748583 (183)\ttotal: 5.13s\tremaining: 8.82s\n",
      "184:\tlearn: 31.6254105\ttest: 31.8687781\tbest: 31.8687781 (184)\ttotal: 5.17s\tremaining: 8.8s\n",
      "185:\tlearn: 31.6154931\ttest: 31.8625699\tbest: 31.8625699 (185)\ttotal: 5.2s\tremaining: 8.77s\n",
      "186:\tlearn: 31.6119798\ttest: 31.8596442\tbest: 31.8596442 (186)\ttotal: 5.21s\tremaining: 8.72s\n",
      "187:\tlearn: 31.6088929\ttest: 31.8522602\tbest: 31.8522602 (187)\ttotal: 5.23s\tremaining: 8.68s\n",
      "188:\tlearn: 31.5748173\ttest: 31.8236325\tbest: 31.8236325 (188)\ttotal: 5.26s\tremaining: 8.66s\n",
      "189:\tlearn: 31.5670800\ttest: 31.8253571\tbest: 31.8236325 (188)\ttotal: 5.29s\tremaining: 8.64s\n",
      "190:\tlearn: 31.5583853\ttest: 31.8202902\tbest: 31.8202902 (190)\ttotal: 5.33s\tremaining: 8.61s\n",
      "191:\tlearn: 31.5438841\ttest: 31.8111500\tbest: 31.8111500 (191)\ttotal: 5.36s\tremaining: 8.6s\n",
      "192:\tlearn: 31.5359561\ttest: 31.8125020\tbest: 31.8111500 (191)\ttotal: 5.39s\tremaining: 8.57s\n",
      "193:\tlearn: 31.5310130\ttest: 31.8081871\tbest: 31.8081871 (193)\ttotal: 5.41s\tremaining: 8.54s\n",
      "194:\tlearn: 31.5256677\ttest: 31.8045746\tbest: 31.8045746 (194)\ttotal: 5.44s\tremaining: 8.51s\n",
      "195:\tlearn: 31.5156759\ttest: 31.7959793\tbest: 31.7959793 (195)\ttotal: 5.46s\tremaining: 8.48s\n",
      "196:\tlearn: 31.5082437\ttest: 31.7853967\tbest: 31.7853967 (196)\ttotal: 5.5s\tremaining: 8.46s\n",
      "197:\tlearn: 31.5013546\ttest: 31.7833917\tbest: 31.7833917 (197)\ttotal: 5.53s\tremaining: 8.43s\n",
      "198:\tlearn: 31.4733790\ttest: 31.7988498\tbest: 31.7833917 (197)\ttotal: 5.56s\tremaining: 8.41s\n",
      "199:\tlearn: 31.4668370\ttest: 31.7827013\tbest: 31.7827013 (199)\ttotal: 5.59s\tremaining: 8.38s\n",
      "200:\tlearn: 31.4569661\ttest: 31.7804628\tbest: 31.7804628 (200)\ttotal: 5.63s\tremaining: 8.37s\n",
      "201:\tlearn: 31.4430148\ttest: 31.7816475\tbest: 31.7804628 (200)\ttotal: 5.72s\tremaining: 8.44s\n",
      "202:\tlearn: 31.4314250\ttest: 31.7632306\tbest: 31.7632306 (202)\ttotal: 5.77s\tremaining: 8.44s\n",
      "203:\tlearn: 31.4285448\ttest: 31.7631082\tbest: 31.7631082 (203)\ttotal: 5.81s\tremaining: 8.43s\n",
      "204:\tlearn: 31.4241354\ttest: 31.7634045\tbest: 31.7631082 (203)\ttotal: 5.84s\tremaining: 8.41s\n",
      "205:\tlearn: 31.4049348\ttest: 31.7567189\tbest: 31.7567189 (205)\ttotal: 5.87s\tremaining: 8.38s\n",
      "206:\tlearn: 31.3969242\ttest: 31.7556147\tbest: 31.7556147 (206)\ttotal: 5.9s\tremaining: 8.36s\n",
      "207:\tlearn: 31.3904397\ttest: 31.7411670\tbest: 31.7411670 (207)\ttotal: 5.93s\tremaining: 8.32s\n",
      "208:\tlearn: 31.3712461\ttest: 31.7541304\tbest: 31.7411670 (207)\ttotal: 5.96s\tremaining: 8.3s\n",
      "209:\tlearn: 31.3573533\ttest: 31.7430410\tbest: 31.7411670 (207)\ttotal: 5.99s\tremaining: 8.27s\n",
      "210:\tlearn: 31.3547949\ttest: 31.7402387\tbest: 31.7402387 (210)\ttotal: 6.01s\tremaining: 8.24s\n",
      "211:\tlearn: 31.3366493\ttest: 31.7316504\tbest: 31.7316504 (211)\ttotal: 6.04s\tremaining: 8.21s\n",
      "212:\tlearn: 31.3200136\ttest: 31.7218666\tbest: 31.7218666 (212)\ttotal: 6.07s\tremaining: 8.17s\n",
      "213:\tlearn: 31.3108651\ttest: 31.7033205\tbest: 31.7033205 (213)\ttotal: 6.09s\tremaining: 8.14s\n",
      "214:\tlearn: 31.3019047\ttest: 31.6938632\tbest: 31.6938632 (214)\ttotal: 6.12s\tremaining: 8.11s\n",
      "215:\tlearn: 31.2959430\ttest: 31.6797278\tbest: 31.6797278 (215)\ttotal: 6.15s\tremaining: 8.09s\n",
      "216:\tlearn: 31.2904817\ttest: 31.6780750\tbest: 31.6780750 (216)\ttotal: 6.17s\tremaining: 8.05s\n",
      "217:\tlearn: 31.2777766\ttest: 31.6738625\tbest: 31.6738625 (217)\ttotal: 6.2s\tremaining: 8.02s\n",
      "218:\tlearn: 31.2754450\ttest: 31.6698436\tbest: 31.6698436 (218)\ttotal: 6.23s\tremaining: 8s\n",
      "219:\tlearn: 31.2669889\ttest: 31.6668716\tbest: 31.6668716 (219)\ttotal: 6.26s\tremaining: 7.96s\n",
      "220:\tlearn: 31.2589515\ttest: 31.6568378\tbest: 31.6568378 (220)\ttotal: 6.29s\tremaining: 7.94s\n",
      "221:\tlearn: 31.2431033\ttest: 31.6494457\tbest: 31.6494457 (221)\ttotal: 6.31s\tremaining: 7.9s\n",
      "222:\tlearn: 31.2340696\ttest: 31.6497445\tbest: 31.6494457 (221)\ttotal: 6.33s\tremaining: 7.87s\n",
      "223:\tlearn: 31.2276520\ttest: 31.6471175\tbest: 31.6471175 (223)\ttotal: 6.35s\tremaining: 7.83s\n",
      "224:\tlearn: 31.2268941\ttest: 31.6460589\tbest: 31.6460589 (224)\ttotal: 6.46s\tremaining: 7.9s\n",
      "225:\tlearn: 31.2125428\ttest: 31.6387725\tbest: 31.6387725 (225)\ttotal: 6.49s\tremaining: 7.86s\n",
      "226:\tlearn: 31.2077431\ttest: 31.6415520\tbest: 31.6387725 (225)\ttotal: 6.51s\tremaining: 7.83s\n",
      "227:\tlearn: 31.2033186\ttest: 31.6419833\tbest: 31.6387725 (225)\ttotal: 6.54s\tremaining: 7.81s\n",
      "228:\tlearn: 31.1954151\ttest: 31.6349847\tbest: 31.6349847 (228)\ttotal: 6.57s\tremaining: 7.78s\n",
      "229:\tlearn: 31.1889635\ttest: 31.6304153\tbest: 31.6304153 (229)\ttotal: 6.61s\tremaining: 7.76s\n",
      "230:\tlearn: 31.1708759\ttest: 31.6229198\tbest: 31.6229198 (230)\ttotal: 6.64s\tremaining: 7.74s\n",
      "231:\tlearn: 31.1677689\ttest: 31.6194499\tbest: 31.6194499 (231)\ttotal: 6.68s\tremaining: 7.71s\n",
      "232:\tlearn: 31.1531528\ttest: 31.6272162\tbest: 31.6194499 (231)\ttotal: 6.71s\tremaining: 7.68s\n",
      "233:\tlearn: 31.1461247\ttest: 31.6263356\tbest: 31.6194499 (231)\ttotal: 6.73s\tremaining: 7.65s\n",
      "234:\tlearn: 31.1392412\ttest: 31.6203473\tbest: 31.6194499 (231)\ttotal: 6.76s\tremaining: 7.62s\n",
      "235:\tlearn: 31.1319083\ttest: 31.6073988\tbest: 31.6073988 (235)\ttotal: 6.78s\tremaining: 7.58s\n",
      "236:\tlearn: 31.1303128\ttest: 31.6080918\tbest: 31.6073988 (235)\ttotal: 6.81s\tremaining: 7.56s\n",
      "237:\tlearn: 31.1234298\ttest: 31.6053716\tbest: 31.6053716 (237)\ttotal: 6.84s\tremaining: 7.54s\n",
      "238:\tlearn: 31.1137226\ttest: 31.6165174\tbest: 31.6053716 (237)\ttotal: 6.88s\tremaining: 7.51s\n",
      "239:\tlearn: 31.1085038\ttest: 31.6196871\tbest: 31.6053716 (237)\ttotal: 6.9s\tremaining: 7.48s\n",
      "240:\tlearn: 31.0890877\ttest: 31.6323104\tbest: 31.6053716 (237)\ttotal: 6.93s\tremaining: 7.45s\n",
      "241:\tlearn: 31.0858762\ttest: 31.6266485\tbest: 31.6053716 (237)\ttotal: 6.96s\tremaining: 7.42s\n",
      "242:\tlearn: 31.0740888\ttest: 31.6193656\tbest: 31.6053716 (237)\ttotal: 6.99s\tremaining: 7.39s\n",
      "243:\tlearn: 31.0611707\ttest: 31.6126876\tbest: 31.6053716 (237)\ttotal: 7.02s\tremaining: 7.36s\n",
      "244:\tlearn: 31.0585472\ttest: 31.6088549\tbest: 31.6053716 (237)\ttotal: 7.04s\tremaining: 7.33s\n",
      "245:\tlearn: 31.0469564\ttest: 31.6070749\tbest: 31.6053716 (237)\ttotal: 7.07s\tremaining: 7.3s\n",
      "246:\tlearn: 31.0380505\ttest: 31.5754899\tbest: 31.5754899 (246)\ttotal: 7.1s\tremaining: 7.27s\n",
      "247:\tlearn: 31.0324008\ttest: 31.5739845\tbest: 31.5739845 (247)\ttotal: 7.13s\tremaining: 7.24s\n",
      "248:\tlearn: 31.0267175\ttest: 31.5708959\tbest: 31.5708959 (248)\ttotal: 7.14s\tremaining: 7.2s\n",
      "249:\tlearn: 31.0167008\ttest: 31.5755490\tbest: 31.5708959 (248)\ttotal: 7.17s\tremaining: 7.17s\n",
      "250:\tlearn: 31.0057401\ttest: 31.5673876\tbest: 31.5673876 (250)\ttotal: 7.2s\tremaining: 7.14s\n",
      "251:\tlearn: 31.0020564\ttest: 31.5641451\tbest: 31.5641451 (251)\ttotal: 7.22s\tremaining: 7.11s\n",
      "252:\tlearn: 30.9954044\ttest: 31.5564921\tbest: 31.5564921 (252)\ttotal: 7.25s\tremaining: 7.08s\n",
      "253:\tlearn: 30.9846138\ttest: 31.5485422\tbest: 31.5485422 (253)\ttotal: 7.28s\tremaining: 7.05s\n",
      "254:\tlearn: 30.9708122\ttest: 31.5213167\tbest: 31.5213167 (254)\ttotal: 7.31s\tremaining: 7.03s\n",
      "255:\tlearn: 30.9684360\ttest: 31.5181843\tbest: 31.5181843 (255)\ttotal: 7.34s\tremaining: 6.99s\n",
      "256:\tlearn: 30.9565212\ttest: 31.5277160\tbest: 31.5181843 (255)\ttotal: 7.36s\tremaining: 6.96s\n",
      "257:\tlearn: 30.9513144\ttest: 31.5247190\tbest: 31.5181843 (255)\ttotal: 7.39s\tremaining: 6.93s\n",
      "258:\tlearn: 30.9364410\ttest: 31.5203569\tbest: 31.5181843 (255)\ttotal: 7.42s\tremaining: 6.9s\n",
      "259:\tlearn: 30.9198118\ttest: 31.5230100\tbest: 31.5181843 (255)\ttotal: 7.45s\tremaining: 6.88s\n",
      "260:\tlearn: 30.9131049\ttest: 31.4856374\tbest: 31.4856374 (260)\ttotal: 7.49s\tremaining: 6.86s\n",
      "261:\tlearn: 30.9065872\ttest: 31.4837762\tbest: 31.4837762 (261)\ttotal: 7.53s\tremaining: 6.84s\n",
      "262:\tlearn: 30.8969748\ttest: 31.4810126\tbest: 31.4810126 (262)\ttotal: 7.57s\tremaining: 6.82s\n",
      "263:\tlearn: 30.8888539\ttest: 31.4713039\tbest: 31.4713039 (263)\ttotal: 7.6s\tremaining: 6.79s\n",
      "264:\tlearn: 30.8818147\ttest: 31.4805240\tbest: 31.4713039 (263)\ttotal: 7.63s\tremaining: 6.77s\n",
      "265:\tlearn: 30.8769408\ttest: 31.4743937\tbest: 31.4713039 (263)\ttotal: 7.65s\tremaining: 6.73s\n",
      "266:\tlearn: 30.8747508\ttest: 31.4734328\tbest: 31.4713039 (263)\ttotal: 7.68s\tremaining: 6.7s\n",
      "267:\tlearn: 30.8726124\ttest: 31.4709088\tbest: 31.4709088 (267)\ttotal: 7.71s\tremaining: 6.68s\n",
      "268:\tlearn: 30.8691602\ttest: 31.4696601\tbest: 31.4696601 (268)\ttotal: 7.75s\tremaining: 6.66s\n",
      "269:\tlearn: 30.8653727\ttest: 31.4615387\tbest: 31.4615387 (269)\ttotal: 7.77s\tremaining: 6.62s\n",
      "270:\tlearn: 30.8508909\ttest: 31.4627357\tbest: 31.4615387 (269)\ttotal: 7.79s\tremaining: 6.59s\n",
      "271:\tlearn: 30.8415971\ttest: 31.4507922\tbest: 31.4507922 (271)\ttotal: 7.83s\tremaining: 6.56s\n",
      "272:\tlearn: 30.8315180\ttest: 31.4391802\tbest: 31.4391802 (272)\ttotal: 7.85s\tremaining: 6.53s\n",
      "273:\tlearn: 30.8299586\ttest: 31.4381824\tbest: 31.4381824 (273)\ttotal: 7.88s\tremaining: 6.5s\n",
      "274:\tlearn: 30.8251960\ttest: 31.4349437\tbest: 31.4349437 (274)\ttotal: 7.91s\tremaining: 6.47s\n",
      "275:\tlearn: 30.8158771\ttest: 31.4316972\tbest: 31.4316972 (275)\ttotal: 7.95s\tremaining: 6.45s\n",
      "276:\tlearn: 30.8123270\ttest: 31.4347540\tbest: 31.4316972 (275)\ttotal: 7.98s\tremaining: 6.42s\n",
      "277:\tlearn: 30.8047094\ttest: 31.4299341\tbest: 31.4299341 (277)\ttotal: 8s\tremaining: 6.39s\n",
      "278:\tlearn: 30.7967978\ttest: 31.4241896\tbest: 31.4241896 (278)\ttotal: 8.03s\tremaining: 6.36s\n",
      "279:\tlearn: 30.7948862\ttest: 31.4343245\tbest: 31.4241896 (278)\ttotal: 8.05s\tremaining: 6.33s\n",
      "280:\tlearn: 30.7898543\ttest: 31.4326678\tbest: 31.4241896 (278)\ttotal: 8.08s\tremaining: 6.3s\n",
      "281:\tlearn: 30.7871702\ttest: 31.4346560\tbest: 31.4241896 (278)\ttotal: 8.11s\tremaining: 6.27s\n",
      "282:\tlearn: 30.7697277\ttest: 31.4326065\tbest: 31.4241896 (278)\ttotal: 8.15s\tremaining: 6.25s\n",
      "283:\tlearn: 30.7645931\ttest: 31.4243365\tbest: 31.4241896 (278)\ttotal: 8.18s\tremaining: 6.22s\n",
      "284:\tlearn: 30.7604994\ttest: 31.4230160\tbest: 31.4230160 (284)\ttotal: 8.19s\tremaining: 6.18s\n",
      "285:\tlearn: 30.7596373\ttest: 31.4227437\tbest: 31.4227437 (285)\ttotal: 8.22s\tremaining: 6.15s\n",
      "286:\tlearn: 30.7546470\ttest: 31.4196636\tbest: 31.4196636 (286)\ttotal: 8.26s\tremaining: 6.13s\n",
      "287:\tlearn: 30.7486092\ttest: 31.4143748\tbest: 31.4143748 (287)\ttotal: 8.29s\tremaining: 6.1s\n",
      "288:\tlearn: 30.7377360\ttest: 31.4030668\tbest: 31.4030668 (288)\ttotal: 8.32s\tremaining: 6.07s\n",
      "289:\tlearn: 30.7350410\ttest: 31.4016936\tbest: 31.4016936 (289)\ttotal: 8.35s\tremaining: 6.05s\n",
      "290:\tlearn: 30.7286533\ttest: 31.3998386\tbest: 31.3998386 (290)\ttotal: 8.38s\tremaining: 6.02s\n",
      "291:\tlearn: 30.7218091\ttest: 31.4004998\tbest: 31.3998386 (290)\ttotal: 8.42s\tremaining: 6s\n",
      "292:\tlearn: 30.7093728\ttest: 31.3940364\tbest: 31.3940364 (292)\ttotal: 8.45s\tremaining: 5.97s\n",
      "293:\tlearn: 30.6947825\ttest: 31.3780503\tbest: 31.3780503 (293)\ttotal: 8.48s\tremaining: 5.94s\n",
      "294:\tlearn: 30.6897364\ttest: 31.3765636\tbest: 31.3765636 (294)\ttotal: 8.51s\tremaining: 5.92s\n",
      "295:\tlearn: 30.6844698\ttest: 31.3713335\tbest: 31.3713335 (295)\ttotal: 8.55s\tremaining: 5.89s\n",
      "296:\tlearn: 30.6770307\ttest: 31.3744201\tbest: 31.3713335 (295)\ttotal: 8.58s\tremaining: 5.87s\n",
      "297:\tlearn: 30.6698023\ttest: 31.3702847\tbest: 31.3702847 (297)\ttotal: 8.61s\tremaining: 5.83s\n",
      "298:\tlearn: 30.6630421\ttest: 31.3562732\tbest: 31.3562732 (298)\ttotal: 8.64s\tremaining: 5.81s\n",
      "299:\tlearn: 30.6534774\ttest: 31.3495639\tbest: 31.3495639 (299)\ttotal: 8.67s\tremaining: 5.78s\n",
      "300:\tlearn: 30.6462521\ttest: 31.3439122\tbest: 31.3439122 (300)\ttotal: 8.7s\tremaining: 5.75s\n",
      "301:\tlearn: 30.6422964\ttest: 31.3451237\tbest: 31.3439122 (300)\ttotal: 8.73s\tremaining: 5.72s\n",
      "302:\tlearn: 30.6386162\ttest: 31.3456206\tbest: 31.3439122 (300)\ttotal: 8.77s\tremaining: 5.7s\n",
      "303:\tlearn: 30.6371488\ttest: 31.3400131\tbest: 31.3400131 (303)\ttotal: 8.8s\tremaining: 5.67s\n",
      "304:\tlearn: 30.6251375\ttest: 31.3391600\tbest: 31.3391600 (304)\ttotal: 8.82s\tremaining: 5.64s\n",
      "305:\tlearn: 30.6188462\ttest: 31.3434811\tbest: 31.3391600 (304)\ttotal: 8.85s\tremaining: 5.61s\n",
      "306:\tlearn: 30.6097151\ttest: 31.3449526\tbest: 31.3391600 (304)\ttotal: 8.87s\tremaining: 5.58s\n",
      "307:\tlearn: 30.6084812\ttest: 31.3447925\tbest: 31.3391600 (304)\ttotal: 8.89s\tremaining: 5.54s\n",
      "308:\tlearn: 30.6055945\ttest: 31.3422837\tbest: 31.3391600 (304)\ttotal: 8.93s\tremaining: 5.52s\n",
      "309:\tlearn: 30.6041920\ttest: 31.3506169\tbest: 31.3391600 (304)\ttotal: 8.95s\tremaining: 5.49s\n",
      "310:\tlearn: 30.6029273\ttest: 31.3511578\tbest: 31.3391600 (304)\ttotal: 8.98s\tremaining: 5.46s\n",
      "311:\tlearn: 30.5965881\ttest: 31.3473613\tbest: 31.3391600 (304)\ttotal: 9.01s\tremaining: 5.43s\n",
      "312:\tlearn: 30.5953555\ttest: 31.3424404\tbest: 31.3391600 (304)\ttotal: 9.03s\tremaining: 5.39s\n",
      "313:\tlearn: 30.5899244\ttest: 31.3366533\tbest: 31.3366533 (313)\ttotal: 9.06s\tremaining: 5.37s\n",
      "314:\tlearn: 30.5803100\ttest: 31.3273103\tbest: 31.3273103 (314)\ttotal: 9.09s\tremaining: 5.34s\n",
      "315:\tlearn: 30.5757204\ttest: 31.3224599\tbest: 31.3224599 (315)\ttotal: 9.12s\tremaining: 5.31s\n",
      "316:\tlearn: 30.5731528\ttest: 31.3237968\tbest: 31.3224599 (315)\ttotal: 9.15s\tremaining: 5.29s\n",
      "317:\tlearn: 30.5693833\ttest: 31.3162674\tbest: 31.3162674 (317)\ttotal: 9.19s\tremaining: 5.26s\n",
      "318:\tlearn: 30.5601967\ttest: 31.3067364\tbest: 31.3067364 (318)\ttotal: 9.22s\tremaining: 5.23s\n",
      "319:\tlearn: 30.5553388\ttest: 31.3052029\tbest: 31.3052029 (319)\ttotal: 9.26s\tremaining: 5.21s\n",
      "320:\tlearn: 30.5534271\ttest: 31.3040778\tbest: 31.3040778 (320)\ttotal: 9.29s\tremaining: 5.18s\n",
      "321:\tlearn: 30.5506731\ttest: 31.3022462\tbest: 31.3022462 (321)\ttotal: 9.33s\tremaining: 5.16s\n",
      "322:\tlearn: 30.5482552\ttest: 31.3001130\tbest: 31.3001130 (322)\ttotal: 9.36s\tremaining: 5.13s\n",
      "323:\tlearn: 30.5394599\ttest: 31.3051105\tbest: 31.3001130 (322)\ttotal: 9.39s\tremaining: 5.1s\n",
      "324:\tlearn: 30.5304274\ttest: 31.3014701\tbest: 31.3001130 (322)\ttotal: 9.42s\tremaining: 5.07s\n",
      "325:\tlearn: 30.5272878\ttest: 31.3024693\tbest: 31.3001130 (322)\ttotal: 9.46s\tremaining: 5.05s\n",
      "326:\tlearn: 30.5231071\ttest: 31.3004059\tbest: 31.3001130 (322)\ttotal: 9.49s\tremaining: 5.02s\n",
      "327:\tlearn: 30.5185685\ttest: 31.3016743\tbest: 31.3001130 (322)\ttotal: 9.52s\tremaining: 4.99s\n",
      "328:\tlearn: 30.5164734\ttest: 31.2981219\tbest: 31.2981219 (328)\ttotal: 9.54s\tremaining: 4.96s\n",
      "329:\tlearn: 30.5022104\ttest: 31.2970759\tbest: 31.2970759 (329)\ttotal: 9.57s\tremaining: 4.93s\n",
      "330:\tlearn: 30.4938294\ttest: 31.2918083\tbest: 31.2918083 (330)\ttotal: 9.6s\tremaining: 4.9s\n",
      "331:\tlearn: 30.4823124\ttest: 31.2918184\tbest: 31.2918083 (330)\ttotal: 9.63s\tremaining: 4.87s\n",
      "332:\tlearn: 30.4745879\ttest: 31.2883151\tbest: 31.2883151 (332)\ttotal: 9.66s\tremaining: 4.84s\n",
      "333:\tlearn: 30.4633447\ttest: 31.2674745\tbest: 31.2674745 (333)\ttotal: 9.69s\tremaining: 4.81s\n",
      "334:\tlearn: 30.4549332\ttest: 31.2660726\tbest: 31.2660726 (334)\ttotal: 9.71s\tremaining: 4.78s\n",
      "335:\tlearn: 30.4333153\ttest: 31.2616568\tbest: 31.2616568 (335)\ttotal: 9.74s\tremaining: 4.75s\n",
      "336:\tlearn: 30.4285057\ttest: 31.2590078\tbest: 31.2590078 (336)\ttotal: 9.77s\tremaining: 4.72s\n",
      "337:\tlearn: 30.4220304\ttest: 31.2342231\tbest: 31.2342231 (337)\ttotal: 9.8s\tremaining: 4.7s\n",
      "338:\tlearn: 30.4206493\ttest: 31.2328159\tbest: 31.2328159 (338)\ttotal: 9.82s\tremaining: 4.66s\n",
      "339:\tlearn: 30.4146504\ttest: 31.2345527\tbest: 31.2328159 (338)\ttotal: 9.85s\tremaining: 4.64s\n",
      "340:\tlearn: 30.4033709\ttest: 31.2436818\tbest: 31.2328159 (338)\ttotal: 9.88s\tremaining: 4.61s\n",
      "341:\tlearn: 30.3991268\ttest: 31.2440287\tbest: 31.2328159 (338)\ttotal: 9.91s\tremaining: 4.58s\n",
      "342:\tlearn: 30.3890047\ttest: 31.2465170\tbest: 31.2328159 (338)\ttotal: 9.95s\tremaining: 4.55s\n",
      "343:\tlearn: 30.3836032\ttest: 31.2448351\tbest: 31.2328159 (338)\ttotal: 9.98s\tremaining: 4.53s\n",
      "344:\tlearn: 30.3775211\ttest: 31.2425554\tbest: 31.2328159 (338)\ttotal: 10s\tremaining: 4.5s\n",
      "345:\tlearn: 30.3721386\ttest: 31.2415069\tbest: 31.2328159 (338)\ttotal: 10.1s\tremaining: 4.47s\n",
      "346:\tlearn: 30.3451888\ttest: 31.2102717\tbest: 31.2102717 (346)\ttotal: 10.1s\tremaining: 4.45s\n",
      "347:\tlearn: 30.3412386\ttest: 31.2083737\tbest: 31.2083737 (347)\ttotal: 10.1s\tremaining: 4.42s\n",
      "348:\tlearn: 30.3314200\ttest: 31.2152064\tbest: 31.2083737 (347)\ttotal: 10.2s\tremaining: 4.39s\n",
      "349:\tlearn: 30.3306172\ttest: 31.2150191\tbest: 31.2083737 (347)\ttotal: 10.2s\tremaining: 4.36s\n",
      "350:\tlearn: 30.3273764\ttest: 31.2125578\tbest: 31.2083737 (347)\ttotal: 10.2s\tremaining: 4.33s\n",
      "351:\tlearn: 30.3177191\ttest: 31.2134316\tbest: 31.2083737 (347)\ttotal: 10.2s\tremaining: 4.31s\n",
      "352:\tlearn: 30.3136370\ttest: 31.2084140\tbest: 31.2083737 (347)\ttotal: 10.3s\tremaining: 4.29s\n",
      "353:\tlearn: 30.3113778\ttest: 31.2116466\tbest: 31.2083737 (347)\ttotal: 10.3s\tremaining: 4.26s\n",
      "354:\tlearn: 30.3076160\ttest: 31.2120030\tbest: 31.2083737 (347)\ttotal: 10.4s\tremaining: 4.23s\n",
      "355:\tlearn: 30.3066378\ttest: 31.2105031\tbest: 31.2083737 (347)\ttotal: 10.4s\tremaining: 4.21s\n",
      "356:\tlearn: 30.3047173\ttest: 31.2073124\tbest: 31.2073124 (356)\ttotal: 10.4s\tremaining: 4.18s\n",
      "357:\tlearn: 30.3017728\ttest: 31.2076766\tbest: 31.2073124 (356)\ttotal: 10.5s\tremaining: 4.16s\n",
      "358:\tlearn: 30.2975637\ttest: 31.2014405\tbest: 31.2014405 (358)\ttotal: 10.5s\tremaining: 4.13s\n",
      "359:\tlearn: 30.2973367\ttest: 31.2009984\tbest: 31.2009984 (359)\ttotal: 10.6s\tremaining: 4.11s\n",
      "360:\tlearn: 30.2938157\ttest: 31.2024748\tbest: 31.2009984 (359)\ttotal: 10.6s\tremaining: 4.08s\n",
      "361:\tlearn: 30.2888814\ttest: 31.2021248\tbest: 31.2009984 (359)\ttotal: 10.6s\tremaining: 4.05s\n",
      "362:\tlearn: 30.2815580\ttest: 31.2020547\tbest: 31.2009984 (359)\ttotal: 10.7s\tremaining: 4.02s\n",
      "363:\tlearn: 30.2765131\ttest: 31.2106942\tbest: 31.2009984 (359)\ttotal: 10.7s\tremaining: 4s\n",
      "364:\tlearn: 30.2682751\ttest: 31.2113014\tbest: 31.2009984 (359)\ttotal: 10.7s\tremaining: 3.97s\n",
      "365:\tlearn: 30.2665346\ttest: 31.2065830\tbest: 31.2009984 (359)\ttotal: 10.8s\tremaining: 3.94s\n",
      "366:\tlearn: 30.2485046\ttest: 31.2108926\tbest: 31.2009984 (359)\ttotal: 10.8s\tremaining: 3.92s\n",
      "367:\tlearn: 30.2429194\ttest: 31.2076085\tbest: 31.2009984 (359)\ttotal: 10.8s\tremaining: 3.88s\n",
      "368:\tlearn: 30.2390931\ttest: 31.2071288\tbest: 31.2009984 (359)\ttotal: 10.9s\tremaining: 3.86s\n",
      "369:\tlearn: 30.2263657\ttest: 31.2060443\tbest: 31.2009984 (359)\ttotal: 10.9s\tremaining: 3.83s\n",
      "370:\tlearn: 30.2245650\ttest: 31.2051470\tbest: 31.2009984 (359)\ttotal: 10.9s\tremaining: 3.8s\n",
      "371:\tlearn: 30.2233453\ttest: 31.2043606\tbest: 31.2009984 (359)\ttotal: 11s\tremaining: 3.77s\n",
      "372:\tlearn: 30.2204637\ttest: 31.1949659\tbest: 31.1949659 (372)\ttotal: 11s\tremaining: 3.75s\n",
      "373:\tlearn: 30.2153392\ttest: 31.1948737\tbest: 31.1948737 (373)\ttotal: 11s\tremaining: 3.72s\n",
      "374:\tlearn: 30.2074049\ttest: 31.1937950\tbest: 31.1937950 (374)\ttotal: 11.1s\tremaining: 3.69s\n",
      "375:\tlearn: 30.2010678\ttest: 31.1847297\tbest: 31.1847297 (375)\ttotal: 11.1s\tremaining: 3.66s\n",
      "376:\tlearn: 30.1901917\ttest: 31.1852036\tbest: 31.1847297 (375)\ttotal: 11.1s\tremaining: 3.63s\n",
      "377:\tlearn: 30.1857394\ttest: 31.1855909\tbest: 31.1847297 (375)\ttotal: 11.2s\tremaining: 3.6s\n",
      "378:\tlearn: 30.1837376\ttest: 31.1881570\tbest: 31.1847297 (375)\ttotal: 11.2s\tremaining: 3.57s\n",
      "379:\tlearn: 30.1771470\ttest: 31.1866755\tbest: 31.1847297 (375)\ttotal: 11.2s\tremaining: 3.54s\n",
      "380:\tlearn: 30.1722070\ttest: 31.1807154\tbest: 31.1807154 (380)\ttotal: 11.2s\tremaining: 3.51s\n",
      "381:\tlearn: 30.1667673\ttest: 31.1734040\tbest: 31.1734040 (381)\ttotal: 11.3s\tremaining: 3.48s\n",
      "382:\tlearn: 30.1636436\ttest: 31.1773188\tbest: 31.1734040 (381)\ttotal: 11.3s\tremaining: 3.46s\n",
      "383:\tlearn: 30.1543605\ttest: 31.1724529\tbest: 31.1724529 (383)\ttotal: 11.3s\tremaining: 3.42s\n",
      "384:\tlearn: 30.1511122\ttest: 31.1802158\tbest: 31.1724529 (383)\ttotal: 11.4s\tremaining: 3.4s\n",
      "385:\tlearn: 30.1468032\ttest: 31.1736633\tbest: 31.1724529 (383)\ttotal: 11.4s\tremaining: 3.37s\n",
      "386:\tlearn: 30.1459446\ttest: 31.1724806\tbest: 31.1724529 (383)\ttotal: 11.4s\tremaining: 3.34s\n",
      "387:\tlearn: 30.1359803\ttest: 31.1570075\tbest: 31.1570075 (387)\ttotal: 11.5s\tremaining: 3.31s\n",
      "388:\tlearn: 30.1337781\ttest: 31.1565432\tbest: 31.1565432 (388)\ttotal: 11.5s\tremaining: 3.28s\n",
      "389:\tlearn: 30.1290025\ttest: 31.1589947\tbest: 31.1565432 (388)\ttotal: 11.5s\tremaining: 3.25s\n",
      "390:\tlearn: 30.1234178\ttest: 31.1550354\tbest: 31.1550354 (390)\ttotal: 11.6s\tremaining: 3.23s\n",
      "391:\tlearn: 30.1226974\ttest: 31.1549415\tbest: 31.1549415 (391)\ttotal: 11.6s\tremaining: 3.2s\n",
      "392:\tlearn: 30.1194867\ttest: 31.1563753\tbest: 31.1549415 (391)\ttotal: 11.6s\tremaining: 3.17s\n",
      "393:\tlearn: 30.1161055\ttest: 31.1529290\tbest: 31.1529290 (393)\ttotal: 11.7s\tremaining: 3.14s\n",
      "394:\tlearn: 30.1121182\ttest: 31.1527539\tbest: 31.1527539 (394)\ttotal: 11.7s\tremaining: 3.11s\n",
      "395:\tlearn: 30.1063415\ttest: 31.1565688\tbest: 31.1527539 (394)\ttotal: 11.7s\tremaining: 3.08s\n",
      "396:\tlearn: 30.1014944\ttest: 31.1603028\tbest: 31.1527539 (394)\ttotal: 11.8s\tremaining: 3.05s\n",
      "397:\tlearn: 30.1002996\ttest: 31.1589497\tbest: 31.1527539 (394)\ttotal: 11.8s\tremaining: 3.02s\n",
      "398:\tlearn: 30.0957504\ttest: 31.1548351\tbest: 31.1527539 (394)\ttotal: 11.8s\tremaining: 2.99s\n",
      "399:\tlearn: 30.0930291\ttest: 31.1541078\tbest: 31.1527539 (394)\ttotal: 11.9s\tremaining: 2.96s\n",
      "400:\tlearn: 30.0865032\ttest: 31.1546018\tbest: 31.1527539 (394)\ttotal: 11.9s\tremaining: 2.93s\n",
      "401:\tlearn: 30.0814156\ttest: 31.1206876\tbest: 31.1206876 (401)\ttotal: 11.9s\tremaining: 2.9s\n",
      "402:\tlearn: 30.0767375\ttest: 31.1193890\tbest: 31.1193890 (402)\ttotal: 11.9s\tremaining: 2.88s\n",
      "403:\tlearn: 30.0699612\ttest: 31.1189390\tbest: 31.1189390 (403)\ttotal: 12s\tremaining: 2.85s\n",
      "404:\tlearn: 30.0686380\ttest: 31.1196758\tbest: 31.1189390 (403)\ttotal: 12s\tremaining: 2.82s\n",
      "405:\tlearn: 30.0613804\ttest: 31.1254283\tbest: 31.1189390 (403)\ttotal: 12s\tremaining: 2.79s\n",
      "406:\tlearn: 30.0535677\ttest: 31.1256226\tbest: 31.1189390 (403)\ttotal: 12.1s\tremaining: 2.76s\n",
      "407:\tlearn: 30.0503678\ttest: 31.1261501\tbest: 31.1189390 (403)\ttotal: 12.1s\tremaining: 2.73s\n",
      "408:\tlearn: 30.0468757\ttest: 31.1238281\tbest: 31.1189390 (403)\ttotal: 12.1s\tremaining: 2.7s\n",
      "409:\tlearn: 30.0430696\ttest: 31.1267898\tbest: 31.1189390 (403)\ttotal: 12.2s\tremaining: 2.67s\n",
      "410:\tlearn: 30.0414897\ttest: 31.1240122\tbest: 31.1189390 (403)\ttotal: 12.2s\tremaining: 2.64s\n",
      "411:\tlearn: 30.0367580\ttest: 31.1343886\tbest: 31.1189390 (403)\ttotal: 12.2s\tremaining: 2.61s\n",
      "412:\tlearn: 30.0316717\ttest: 31.1278787\tbest: 31.1189390 (403)\ttotal: 12.3s\tremaining: 2.58s\n",
      "413:\tlearn: 30.0297521\ttest: 31.1261252\tbest: 31.1189390 (403)\ttotal: 12.3s\tremaining: 2.56s\n",
      "414:\tlearn: 30.0283493\ttest: 31.1256490\tbest: 31.1189390 (403)\ttotal: 12.3s\tremaining: 2.53s\n",
      "415:\tlearn: 30.0243414\ttest: 31.1221255\tbest: 31.1189390 (403)\ttotal: 12.4s\tremaining: 2.5s\n",
      "416:\tlearn: 30.0188730\ttest: 31.1222436\tbest: 31.1189390 (403)\ttotal: 12.4s\tremaining: 2.47s\n",
      "417:\tlearn: 30.0137345\ttest: 31.1182228\tbest: 31.1182228 (417)\ttotal: 12.4s\tremaining: 2.44s\n",
      "418:\tlearn: 30.0102745\ttest: 31.1130295\tbest: 31.1130295 (418)\ttotal: 12.5s\tremaining: 2.41s\n",
      "419:\tlearn: 30.0078315\ttest: 31.1148153\tbest: 31.1130295 (418)\ttotal: 12.5s\tremaining: 2.38s\n",
      "420:\tlearn: 30.0056224\ttest: 31.1125036\tbest: 31.1125036 (420)\ttotal: 12.6s\tremaining: 2.35s\n",
      "421:\tlearn: 30.0018148\ttest: 31.1109510\tbest: 31.1109510 (421)\ttotal: 12.6s\tremaining: 2.33s\n",
      "422:\tlearn: 30.0005217\ttest: 31.1098950\tbest: 31.1098950 (422)\ttotal: 12.6s\tremaining: 2.3s\n",
      "423:\tlearn: 29.9961135\ttest: 31.1058624\tbest: 31.1058624 (423)\ttotal: 12.7s\tremaining: 2.27s\n",
      "424:\tlearn: 29.9951286\ttest: 31.1047232\tbest: 31.1047232 (424)\ttotal: 12.7s\tremaining: 2.24s\n",
      "425:\tlearn: 29.9883039\ttest: 31.1034484\tbest: 31.1034484 (425)\ttotal: 12.7s\tremaining: 2.21s\n",
      "426:\tlearn: 29.9814624\ttest: 31.1215538\tbest: 31.1034484 (425)\ttotal: 12.8s\tremaining: 2.18s\n",
      "427:\tlearn: 29.9747850\ttest: 31.1193141\tbest: 31.1034484 (425)\ttotal: 12.8s\tremaining: 2.15s\n",
      "428:\tlearn: 29.9744952\ttest: 31.1191709\tbest: 31.1034484 (425)\ttotal: 12.8s\tremaining: 2.12s\n",
      "429:\tlearn: 29.9719927\ttest: 31.1212902\tbest: 31.1034484 (425)\ttotal: 12.8s\tremaining: 2.09s\n",
      "430:\tlearn: 29.9662290\ttest: 31.0985748\tbest: 31.0985748 (430)\ttotal: 12.9s\tremaining: 2.06s\n",
      "431:\tlearn: 29.9603438\ttest: 31.0914671\tbest: 31.0914671 (431)\ttotal: 12.9s\tremaining: 2.03s\n",
      "432:\tlearn: 29.9553863\ttest: 31.0903014\tbest: 31.0903014 (432)\ttotal: 12.9s\tremaining: 2s\n",
      "433:\tlearn: 29.9545129\ttest: 31.0904121\tbest: 31.0903014 (432)\ttotal: 13s\tremaining: 1.97s\n",
      "434:\tlearn: 29.9489937\ttest: 31.0949268\tbest: 31.0903014 (432)\ttotal: 13s\tremaining: 1.94s\n",
      "435:\tlearn: 29.9403756\ttest: 31.1010466\tbest: 31.0903014 (432)\ttotal: 13s\tremaining: 1.91s\n",
      "436:\tlearn: 29.9400363\ttest: 31.1004567\tbest: 31.0903014 (432)\ttotal: 13s\tremaining: 1.88s\n",
      "437:\tlearn: 29.9352249\ttest: 31.1017817\tbest: 31.0903014 (432)\ttotal: 13.1s\tremaining: 1.85s\n",
      "438:\tlearn: 29.9345593\ttest: 31.1015582\tbest: 31.0903014 (432)\ttotal: 13.1s\tremaining: 1.82s\n",
      "439:\tlearn: 29.9339988\ttest: 31.1013782\tbest: 31.0903014 (432)\ttotal: 13.1s\tremaining: 1.79s\n",
      "440:\tlearn: 29.9321510\ttest: 31.1033942\tbest: 31.0903014 (432)\ttotal: 13.2s\tremaining: 1.76s\n",
      "441:\tlearn: 29.9303218\ttest: 31.1019078\tbest: 31.0903014 (432)\ttotal: 13.2s\tremaining: 1.73s\n",
      "442:\tlearn: 29.9266209\ttest: 31.1005297\tbest: 31.0903014 (432)\ttotal: 13.2s\tremaining: 1.7s\n",
      "443:\tlearn: 29.9236583\ttest: 31.1016268\tbest: 31.0903014 (432)\ttotal: 13.2s\tremaining: 1.67s\n",
      "444:\tlearn: 29.9212696\ttest: 31.1017809\tbest: 31.0903014 (432)\ttotal: 13.3s\tremaining: 1.64s\n",
      "445:\tlearn: 29.9208005\ttest: 31.1016378\tbest: 31.0903014 (432)\ttotal: 13.3s\tremaining: 1.61s\n",
      "446:\tlearn: 29.9204039\ttest: 31.1015227\tbest: 31.0903014 (432)\ttotal: 13.3s\tremaining: 1.58s\n",
      "447:\tlearn: 29.9141840\ttest: 31.1022572\tbest: 31.0903014 (432)\ttotal: 13.3s\tremaining: 1.55s\n",
      "448:\tlearn: 29.9139008\ttest: 31.1022814\tbest: 31.0903014 (432)\ttotal: 13.4s\tremaining: 1.52s\n",
      "449:\tlearn: 29.9135957\ttest: 31.1022029\tbest: 31.0903014 (432)\ttotal: 13.4s\tremaining: 1.49s\n",
      "450:\tlearn: 29.9125899\ttest: 31.1010725\tbest: 31.0903014 (432)\ttotal: 13.4s\tremaining: 1.46s\n",
      "451:\tlearn: 29.9096320\ttest: 31.0998504\tbest: 31.0903014 (432)\ttotal: 13.4s\tremaining: 1.43s\n",
      "452:\tlearn: 29.8916276\ttest: 31.0979015\tbest: 31.0903014 (432)\ttotal: 13.5s\tremaining: 1.4s\n",
      "453:\tlearn: 29.8814775\ttest: 31.0979711\tbest: 31.0903014 (432)\ttotal: 13.5s\tremaining: 1.36s\n",
      "454:\tlearn: 29.8597151\ttest: 31.0891547\tbest: 31.0891547 (454)\ttotal: 13.5s\tremaining: 1.33s\n",
      "455:\tlearn: 29.8570679\ttest: 31.0882840\tbest: 31.0882840 (455)\ttotal: 13.5s\tremaining: 1.31s\n",
      "456:\tlearn: 29.8317150\ttest: 31.0893395\tbest: 31.0882840 (455)\ttotal: 13.6s\tremaining: 1.27s\n",
      "457:\tlearn: 29.8230552\ttest: 31.0800686\tbest: 31.0800686 (457)\ttotal: 13.6s\tremaining: 1.25s\n",
      "458:\tlearn: 29.8167502\ttest: 31.0832859\tbest: 31.0800686 (457)\ttotal: 13.6s\tremaining: 1.22s\n",
      "459:\tlearn: 29.8165445\ttest: 31.0833363\tbest: 31.0800686 (457)\ttotal: 13.6s\tremaining: 1.18s\n",
      "460:\tlearn: 29.8130069\ttest: 31.0840216\tbest: 31.0800686 (457)\ttotal: 13.7s\tremaining: 1.16s\n",
      "461:\tlearn: 29.8027790\ttest: 31.0751330\tbest: 31.0751330 (461)\ttotal: 13.7s\tremaining: 1.13s\n",
      "462:\tlearn: 29.8000264\ttest: 31.0764541\tbest: 31.0751330 (461)\ttotal: 13.7s\tremaining: 1.1s\n",
      "463:\tlearn: 29.7948449\ttest: 31.0782077\tbest: 31.0751330 (461)\ttotal: 13.8s\tremaining: 1.07s\n",
      "464:\tlearn: 29.7940322\ttest: 31.0777298\tbest: 31.0751330 (461)\ttotal: 13.8s\tremaining: 1.04s\n",
      "465:\tlearn: 29.7914933\ttest: 31.0784888\tbest: 31.0751330 (461)\ttotal: 13.8s\tremaining: 1.01s\n",
      "466:\tlearn: 29.7868603\ttest: 31.0756276\tbest: 31.0751330 (461)\ttotal: 13.9s\tremaining: 979ms\n",
      "467:\tlearn: 29.7808135\ttest: 31.0820202\tbest: 31.0751330 (461)\ttotal: 13.9s\tremaining: 949ms\n",
      "468:\tlearn: 29.7766213\ttest: 31.0772416\tbest: 31.0751330 (461)\ttotal: 13.9s\tremaining: 920ms\n",
      "469:\tlearn: 29.7734890\ttest: 31.0753240\tbest: 31.0751330 (461)\ttotal: 13.9s\tremaining: 890ms\n",
      "470:\tlearn: 29.7699347\ttest: 31.0765673\tbest: 31.0751330 (461)\ttotal: 14s\tremaining: 861ms\n",
      "471:\tlearn: 29.7692265\ttest: 31.0757903\tbest: 31.0751330 (461)\ttotal: 14s\tremaining: 831ms\n",
      "472:\tlearn: 29.7659372\ttest: 31.0696921\tbest: 31.0696921 (472)\ttotal: 14s\tremaining: 802ms\n",
      "473:\tlearn: 29.7630597\ttest: 31.0667847\tbest: 31.0667847 (473)\ttotal: 14.1s\tremaining: 772ms\n",
      "474:\tlearn: 29.7624294\ttest: 31.0655047\tbest: 31.0655047 (474)\ttotal: 14.1s\tremaining: 743ms\n",
      "475:\tlearn: 29.7622204\ttest: 31.0651298\tbest: 31.0651298 (475)\ttotal: 14.1s\tremaining: 713ms\n",
      "476:\tlearn: 29.7578029\ttest: 31.0701321\tbest: 31.0651298 (475)\ttotal: 14.2s\tremaining: 683ms\n",
      "477:\tlearn: 29.7556835\ttest: 31.0561993\tbest: 31.0561993 (477)\ttotal: 14.2s\tremaining: 654ms\n",
      "478:\tlearn: 29.7533867\ttest: 31.0561509\tbest: 31.0561509 (478)\ttotal: 14.2s\tremaining: 624ms\n",
      "479:\tlearn: 29.7351729\ttest: 31.0504173\tbest: 31.0504173 (479)\ttotal: 14.3s\tremaining: 595ms\n",
      "480:\tlearn: 29.7313842\ttest: 31.0564252\tbest: 31.0504173 (479)\ttotal: 14.3s\tremaining: 565ms\n",
      "481:\tlearn: 29.7312066\ttest: 31.0564779\tbest: 31.0504173 (479)\ttotal: 14.3s\tremaining: 535ms\n",
      "482:\tlearn: 29.7178779\ttest: 31.0509548\tbest: 31.0504173 (479)\ttotal: 14.4s\tremaining: 505ms\n",
      "483:\tlearn: 29.7118001\ttest: 31.0503923\tbest: 31.0503923 (483)\ttotal: 14.4s\tremaining: 476ms\n",
      "484:\tlearn: 29.6888252\ttest: 31.0660393\tbest: 31.0503923 (483)\ttotal: 14.4s\tremaining: 446ms\n",
      "485:\tlearn: 29.6814807\ttest: 31.0647780\tbest: 31.0503923 (483)\ttotal: 14.4s\tremaining: 416ms\n",
      "486:\tlearn: 29.6786174\ttest: 31.0640980\tbest: 31.0503923 (483)\ttotal: 14.5s\tremaining: 386ms\n",
      "487:\tlearn: 29.6780052\ttest: 31.0635016\tbest: 31.0503923 (483)\ttotal: 14.5s\tremaining: 356ms\n",
      "488:\tlearn: 29.6706305\ttest: 31.0635358\tbest: 31.0503923 (483)\ttotal: 14.5s\tremaining: 327ms\n",
      "489:\tlearn: 29.6680735\ttest: 31.0451272\tbest: 31.0451272 (489)\ttotal: 14.5s\tremaining: 297ms\n",
      "490:\tlearn: 29.6606599\ttest: 31.0453320\tbest: 31.0451272 (489)\ttotal: 14.6s\tremaining: 267ms\n",
      "491:\tlearn: 29.6577943\ttest: 31.0467107\tbest: 31.0451272 (489)\ttotal: 14.6s\tremaining: 238ms\n",
      "492:\tlearn: 29.6507252\ttest: 31.0395686\tbest: 31.0395686 (492)\ttotal: 14.6s\tremaining: 208ms\n",
      "493:\tlearn: 29.6448973\ttest: 31.0344536\tbest: 31.0344536 (493)\ttotal: 14.7s\tremaining: 178ms\n",
      "494:\tlearn: 29.6425460\ttest: 31.0352449\tbest: 31.0344536 (493)\ttotal: 14.7s\tremaining: 148ms\n",
      "495:\tlearn: 29.6414307\ttest: 31.0350803\tbest: 31.0344536 (493)\ttotal: 14.7s\tremaining: 119ms\n",
      "496:\tlearn: 29.6311042\ttest: 31.0543268\tbest: 31.0344536 (493)\ttotal: 14.8s\tremaining: 89ms\n",
      "497:\tlearn: 29.6282917\ttest: 31.0578217\tbest: 31.0344536 (493)\ttotal: 14.8s\tremaining: 59.4ms\n",
      "498:\tlearn: 29.6225420\ttest: 31.0557673\tbest: 31.0344536 (493)\ttotal: 14.8s\tremaining: 29.7ms\n",
      "499:\tlearn: 29.6206159\ttest: 31.0562712\tbest: 31.0344536 (493)\ttotal: 14.9s\tremaining: 0us\n",
      "\n",
      "bestTest = 31.03445359\n",
      "bestIteration = 493\n",
      "\n",
      "Shrink model to first 494 iterations.\n"
     ]
    },
    {
     "data": {
      "text/plain": "<catboost.core.CatBoostRegressor at 0x7f8ac65db940>"
     },
     "execution_count": 123,
     "metadata": {},
     "output_type": "execute_result"
    }
   ],
   "source": [
    "ctb_reg.fit(train_pool, eval_set=val_pool, verbose=True, early_stopping_rounds=500)"
   ],
   "metadata": {
    "collapsed": false,
    "ExecuteTime": {
     "start_time": "2024-07-17T20:20:20.741241Z",
     "end_time": "2024-07-17T20:20:35.930766Z"
    }
   }
  },
  {
   "cell_type": "code",
   "execution_count": 124,
   "outputs": [],
   "source": [
    "y_pred = ctb_reg.predict(X_val)"
   ],
   "metadata": {
    "collapsed": false,
    "ExecuteTime": {
     "start_time": "2024-07-17T20:20:40.013019Z",
     "end_time": "2024-07-17T20:20:40.033420Z"
    }
   }
  },
  {
   "cell_type": "code",
   "execution_count": 125,
   "outputs": [
    {
     "name": "stdout",
     "output_type": "stream",
     "text": [
      "Mean Absolute Error (MAE): 12.944141110875094\n",
      "Mean Squared Error (MSE): 963.13731344087\n",
      "Root Mean Squared Error (RMSE): 31.034453651399602\n",
      "R^2 Score: 0.6866024014226375\n"
     ]
    }
   ],
   "source": [
    "mae = mean_absolute_error(y_val, y_pred)\n",
    "mse = mean_squared_error(y_val, y_pred)\n",
    "rmse = np.sqrt(mse)\n",
    "r2 = r2_score(y_val, y_pred)\n",
    "\n",
    "print(f'Mean Absolute Error (MAE): {mae}')\n",
    "print(f'Mean Squared Error (MSE): {mse}')\n",
    "print(f'Root Mean Squared Error (RMSE): {rmse}')\n",
    "print(f'R^2 Score: {r2}')"
   ],
   "metadata": {
    "collapsed": false,
    "ExecuteTime": {
     "start_time": "2024-07-17T20:20:40.730963Z",
     "end_time": "2024-07-17T20:20:40.744501Z"
    }
   }
  },
  {
   "cell_type": "markdown",
   "source": [
    "### Cross val"
   ],
   "metadata": {
    "collapsed": false
   }
  },
  {
   "cell_type": "code",
   "execution_count": 128,
   "outputs": [
    {
     "name": "stdout",
     "output_type": "stream",
     "text": [
      "13.167516455518449 969.2121035215732 31.13217151953222 0.6636808972764991\n",
      "13.384154106791856 1071.1162240845058 32.727912003128246 0.6192137776655724\n",
      "12.804321771902963 927.1063760069384 30.448421568398885 0.6630592238266534\n",
      "12.984363756251966 953.5746267803304 30.88000367196109 0.6523991455062579\n",
      "13.531072350746534 1271.6942673928804 35.660822584355515 0.6183832333027597\n",
      "12.724355216538308 995.5619578966002 31.55252696530977 0.6331403382441112\n",
      "13.440814774153385 1169.4316955619042 34.19695447787572 0.6308650319321292\n",
      "13.123538946836899 1018.5233875135906 31.914313207612516 0.6370705377025951\n",
      "12.893435749877748 1005.0443919139084 31.702435110160046 0.6583632661809964\n",
      "12.71913745874753 849.7990227758771 29.151312539504584 0.6842361647489184\n"
     ]
    }
   ],
   "source": [
    "cv_result = pd.DataFrame(columns=['MAE', 'MSE', 'RMSE', 'R^2'])\n",
    "kf = KFold(n_splits=10, shuffle=False)\n",
    "kf.get_n_splits(X, y)\n",
    "\n",
    "for fold, (train_idx, val_idx) in enumerate(kf.split(X, y)):\n",
    "    X_train, y_train = X.iloc[train_idx], y[train_idx]\n",
    "    X_val, y_val = X.iloc[val_idx], y[val_idx]\n",
    "\n",
    "    train_pool = Pool(X_train, y_train, cat_features=cat_features)\n",
    "    val_pool = Pool(X_val, y_val, cat_features=cat_features)\n",
    "\n",
    "    ctb_reg = CatBoostRegressor(**model_params)\n",
    "    ctb_reg.fit(train_pool, eval_set=val_pool, verbose=False)\n",
    "\n",
    "    y_pred = ctb_reg.predict(X_val)\n",
    "\n",
    "    mae = mean_absolute_error(y_val, y_pred)\n",
    "    mse = mean_squared_error(y_val, y_pred)\n",
    "    rmse = np.sqrt(mse)\n",
    "    r2 = r2_score(y_val, y_pred)\n",
    "\n",
    "    cv_result.loc[len(cv_result)] = [mae, mse, rmse, r2]\n",
    "    print(mae, mse, rmse, r2)"
   ],
   "metadata": {
    "collapsed": false,
    "ExecuteTime": {
     "start_time": "2024-07-17T20:29:44.633894Z",
     "end_time": "2024-07-17T20:33:06.436263Z"
    }
   }
  },
  {
   "cell_type": "code",
   "execution_count": 129,
   "outputs": [
    {
     "data": {
      "text/plain": "MAE       13.077271\nMSE     1023.106405\nRMSE      31.936687\nR^2        0.646041\ndtype: float64"
     },
     "execution_count": 129,
     "metadata": {},
     "output_type": "execute_result"
    }
   ],
   "source": [
    "cv_result.mean()"
   ],
   "metadata": {
    "collapsed": false,
    "ExecuteTime": {
     "start_time": "2024-07-17T20:33:06.452477Z",
     "end_time": "2024-07-17T20:33:06.477567Z"
    }
   }
  },
  {
   "cell_type": "code",
   "execution_count": 130,
   "outputs": [],
   "source": [
    "ctb_reg.save_model('./model/best_model')"
   ],
   "metadata": {
    "collapsed": false,
    "ExecuteTime": {
     "start_time": "2024-07-17T20:36:54.791989Z",
     "end_time": "2024-07-17T20:36:54.823354Z"
    }
   }
  },
  {
   "cell_type": "code",
   "execution_count": null,
   "outputs": [],
   "source": [],
   "metadata": {
    "collapsed": false
   }
  }
 ],
 "metadata": {
  "kernelspec": {
   "display_name": "Python 3",
   "language": "python",
   "name": "python3"
  },
  "language_info": {
   "codemirror_mode": {
    "name": "ipython",
    "version": 2
   },
   "file_extension": ".py",
   "mimetype": "text/x-python",
   "name": "python",
   "nbconvert_exporter": "python",
   "pygments_lexer": "ipython2",
   "version": "2.7.6"
  }
 },
 "nbformat": 4,
 "nbformat_minor": 0
}
